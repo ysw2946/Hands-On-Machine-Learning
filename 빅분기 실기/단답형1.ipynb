{
 "cells": [
  {
   "cell_type": "markdown",
   "metadata": {},
   "source": [
    "#### 기업의 합리적인 의사결정을방해하는 요소로서 문제의 표현 방식에 따라 동일한 사건이나 상황임에도 불구하고 개인의 판단이나 선택이 달라질 수 있는 현상\n",
    "\n",
    "+ 프레이밍 효과"
   ]
  },
  {
   "cell_type": "markdown",
   "metadata": {},
   "source": [
    "#### 인공신경망에서 가중치 매개변수의 기울기를 미분으로 진행하면 시간 소모가 크다. 이를 개선하여 오차를 출력층에서 입력층으로 전달하고, 연쇄법칙을 활용하여 역전파를 통해 가중치와 편향을 갱신하는 것은?\n",
    "\n",
    "+ 오차역전파"
   ]
  },
  {
   "cell_type": "markdown",
   "metadata": {},
   "source": [
    "#### 코호넨에 의해 제시된 비지도 신경망으로, 고차원의 데이터를 이해하기 쉬운 저차원의 뉴런으로 정렬하여 지도의 형태로 형상화한 군집분석방법은?\n",
    "\n",
    "+ SOM(self-organizing Maps) 자기 조직화 지도"
   ]
  },
  {
   "cell_type": "markdown",
   "metadata": {},
   "source": [
    "#### 향상도,신뢰도,지지도\n",
    "pa = 400/1200 = 1/3\n",
    "pb = 800/1200 = 2/3\n",
    "pab = 300/1200 = 1/4\n",
    "\n",
    "지지도는 pab = 1/4\n",
    "신뢰도는 pab/pa = 3/4\n",
    "향상도는 pab/(pa*pb) = 9/8"
   ]
  },
  {
   "cell_type": "markdown",
   "metadata": {},
   "source": [
    "#### 사용자가 다차원으로 이루어진 정보에 직접 접근하여 대화식으로 정보를 분석하고 의사결정에 활용하는 시스템은 무엇인가?\n",
    "\n",
    "+ OLAP\n",
    "\n",
    "+ SCM : 기업이 외부 공급업체 또는 제휴업체와 통합된 정보시스템으로 연계하여 시간과 비용을 최적화시키기 위한것\n",
    "+ CRM : 기업의 내부 데이터로써 소비자들을 자신의 고객으로 만들고, 이를 장기간 유지하고자 내부 정보를 분석하고 저장하는데 사용하는 정보시스템"
   ]
  },
  {
   "cell_type": "markdown",
   "metadata": {},
   "source": [
    "#### 텍스트 마이닝의 전처리 과정에서 어형이 변형된 단어로부터 접사등을 제거하고 그 단어의 원형 또는 어간을 분리해 내는 것은?\n",
    "\n",
    "+ 스테밍"
   ]
  },
  {
   "cell_type": "markdown",
   "metadata": {},
   "source": [
    "#### 군집 내의 오차 제곱합에 기초하여 군집을 수행하는 방법으로 군집의 병합으로 인한 오차 제곱 합의 증가량이 최소가 되는방향으로 군집을 형성하는 군집 간 거리측정 방법은 무엇인가?\n",
    "\n",
    "+ 와드연결법"
   ]
  },
  {
   "cell_type": "markdown",
   "metadata": {},
   "source": [
    "#### 데이터베이스에서 자료의 구조 자료의 표현 방법, 자료 간의 관계를 형식 언어로 정의한 구조는?\n",
    "\n",
    "+ 스키마"
   ]
  },
  {
   "cell_type": "markdown",
   "metadata": {},
   "source": [
    "#### 실제로 입력되진 않았지만, 입력되었다고 잘못 판단된 값은?\n",
    "\n",
    "+ 노이즈"
   ]
  },
  {
   "cell_type": "markdown",
   "metadata": {},
   "source": [
    "#### 데이터 지식격영의 암묵지와 형식지의 작용 4가지를 쓰시오.\n",
    "\n",
    "+ 암묵지 : 공통화, 내면화\n",
    "+ 형식지 : 표출화, 연결화"
   ]
  },
  {
   "cell_type": "markdown",
   "metadata": {},
   "source": [
    "#### 빅데이터 업무 프로세스 세가지를 쓰시오\n",
    "\n",
    "+ 빅데이터 도입, 빅데이터 구축, 빅데이터 운영"
   ]
  },
  {
   "cell_type": "markdown",
   "metadata": {},
   "source": [
    "#### 빅데이터 조직 구조 유형 세가지를 쓰시오.\n",
    "\n",
    "+ 집중 구조 : 전사 분석 업무를 별도의 분석 전담 조직에서 담당\n",
    "+ 기능 구조 : 일반적인 형태로 별도 분석조직이 없고 해당 부서에서 분석 수행\n",
    "+ 분산 구조 : 분석조직 인력들을 현업 부서로 직접 배치해 분석 업무를 수행"
   ]
  },
  {
   "cell_type": "markdown",
   "metadata": {},
   "source": [
    "#### 다수의 사용자들에게 가상화된 컴퓨터의 시스템 리소스를 요구하는 즉시 서비스로 제공하는 컴퓨팅 기술은?\n",
    "\n",
    "+ 클라우드 컴퓨팅"
   ]
  },
  {
   "cell_type": "markdown",
   "metadata": {},
   "source": [
    "#### 경영 목적을 지속적이고 효과적으로 달성하기 위한 가장 성공적인 해결책이나 문제해결방법을 가리키는 것은?\n",
    "\n",
    "+ 베스트 프렉티스(Best Practice)"
   ]
  },
  {
   "cell_type": "markdown",
   "metadata": {},
   "source": [
    "#### 목표 성취를 위해 필요한 요소를 뜻하는 용어로, 기업 경쟁력 향상을 위한 핵심 내부 역량이며, 목표 달성을 위해 반드시 수행해야 하는 필수 요소는?\n",
    "\n",
    "+ CSF(핵심 성공 요인)"
   ]
  },
  {
   "cell_type": "markdown",
   "metadata": {},
   "source": [
    "#### 조직의 성과 목표 달성을 위하여 회사의 비전이나 전략에 따라 재무,고객,내부 프로세스, 학습&성장 관점으로 목표를 설정하여 관리하는 것은?\n",
    "\n",
    "+ BSC(균형 성과표)"
   ]
  },
  {
   "cell_type": "markdown",
   "metadata": {},
   "source": [
    "#### URL에 존재하는 HTML에 접근하여 해당 내용을 추출하고, 문서에 포함된 하이퍼링크를 통해 재귀적으로 다른 문서에 접근하여 콘텐츠 수집을 반복하는 기술은?\n",
    "\n",
    "+ 크롤러"
   ]
  },
  {
   "cell_type": "markdown",
   "metadata": {},
   "source": [
    "#### 기업에서 운영하는 서로 다른 기종의 애플리케이션 및 시스템을 통합하는 솔루션은?\n",
    "\n",
    "+ EAI"
   ]
  },
  {
   "cell_type": "markdown",
   "metadata": {},
   "source": [
    "#### 중요 정보를 하나의 그래픽으로 표현해서 보는 사람들이 쉽게 정보를 이해 할 수 있도록 만드는 시각화 방법은?\n",
    "\n",
    "+ 인포 그래픽"
   ]
  },
  {
   "cell_type": "markdown",
   "metadata": {},
   "source": [
    "#### 사용자의 의사 결정에 도움을 주기 위하여, 기간 시스템의 데이터베이스에 축적된 데이터를 공통 형식으로 변환해서 관리하는 데이터베이스는?\n",
    "\n",
    "+ 데이터 웨어하우스"
   ]
  },
  {
   "cell_type": "markdown",
   "metadata": {},
   "source": [
    "#### 인간에 대한 관찰과 공감을 바탕으로 다양한 대안을 찾는 확산적 사고와 주어진 상황에 대한 최선의 방법을 찾는 수렴적 사고의 반복을 통해 혁신적 결과를 도출하는 창의적 문제 해결 방법은?\n",
    "\n",
    "+ 디자인사고"
   ]
  },
  {
   "cell_type": "markdown",
   "metadata": {},
   "source": [
    "#### 분석방법론 세가지\n",
    "\n",
    "+ KDD : Fayyad가 프로파일링 기술을 기반으로 통계적 패턴이나 지식을 찾기 위해 체계적으로 정리한 방법론\n",
    "+ CRISP-DM : 비지니스 이해를 바탕으로 데이터 분석 목적의 6단계로 진행되는 방법론\n",
    "+ SEMMA : 분석 솔루션 업체 SAS사가 주도한 통계 중심의 5단계 방법론"
   ]
  },
  {
   "cell_type": "markdown",
   "metadata": {},
   "source": [
    "#### 부품 제공업자로부터 생산자, 배포자, 고객에 이르는 물류의 흐름을 하나의 가치사슬 과넞ㅁ에서 파악하고 필요한 정보가 원활히 흐르도록 지원하는 시스템은?\n",
    "\n",
    "+ SCM(supply chain management)"
   ]
  },
  {
   "cell_type": "markdown",
   "metadata": {},
   "source": [
    "#### 커넥터를 사용하여 관계형 데이터베이스와 하둡 간 데이터 전송기능을 제공하는 기술은?\n",
    "\n",
    "+ 스쿱"
   ]
  },
  {
   "cell_type": "markdown",
   "metadata": {},
   "source": [
    "#### 입출력 장치를 매개로 디지털 시스템과 사람이 주고 받는 일련의 의사소통 과정은?\n",
    "\n",
    "+ 인터렉션"
   ]
  },
  {
   "cell_type": "markdown",
   "metadata": {},
   "source": [
    "#### TCP/IP 프로토콜을 기반으로 서버, 클라이언트 사이에서 파일 송수신을 하기 위한 프로토콜은?\n",
    "\n",
    "+ FTP"
   ]
  },
  {
   "cell_type": "markdown",
   "metadata": {},
   "source": [
    "#### 대규모로 저장된 데이터 안에서 체계적이고, 자동적으로 통계적 규칙이나, 패턴을 찾아내는 기법은?\n",
    "\n",
    "+ 데이터 마이닝"
   ]
  },
  {
   "cell_type": "markdown",
   "metadata": {},
   "source": [
    "#### 비정형 데이터 수집 방식 및 기술 5가지는?\n",
    "\n",
    "+ 크롤링 : 인터넷상에서 제공되는 다양한 웹 사이트로부터 웹문서 및 콘텐츠 수집 기술\n",
    "+ RSS : 웹사이트에 게시된 새로운 글을 공유하기 위해 __XML__ 기반으로 정보를 배포하는 프로토콜을 활용하여 데이터를 수집\n",
    "+ Open API : 응용 프로그램을 통해 **실시간으로 데이터를 수신**할 수 있도록 공개된 API를 이용하여 데이터를 수집하는 기술\n",
    "+ scrapy : 웹 사이트를 크롤링하여 구조화된 데이터를 수집하는 파이썬 기반의 애플리케이션 프레임워크\n",
    "+ 아파치 카프카 : **대용량 실시간 로그 처리**를 위해 기존 메시징 시스템과 유사하게 레코드 스트림을 발행,구독하는 방식의 분산 스트리밍 플랫폼 기술"
   ]
  },
  {
   "cell_type": "markdown",
   "metadata": {},
   "source": [
    "#### 단순확률 대치법의 한가지로 무응답을 현재 진행 중인 연구에서 비슷한 성향을 가진 응답자의 자료로 대체하는 방법은?\n",
    "\n",
    "+ 핫덱대체\n",
    "\n",
    "+ 콜드덱 대체 : 핫덱과 비슷하나 대체할 자료를 현재 진행중인 연구가 아닌 외부 출처 또는 이전의 비슷한 연구에서 가져오는 방법"
   ]
  },
  {
   "cell_type": "markdown",
   "metadata": {},
   "source": [
    "#### 변수상에서 발생한 결측값이 다른 변수 상관은 있지만, 그 변수의 결과는 관계가 없는 경우인 결측값은?\n",
    "\n",
    "+ 무작위 결측"
   ]
  },
  {
   "cell_type": "markdown",
   "metadata": {},
   "source": [
    "#### 프로젝트 목표달성을 위해 책임/산출물 중심으로 실행작업을 분할한 계층구조 체계 및 범위 관리 도구는?\n",
    "\n",
    "+ WBS(work breakdown structure) 작업분해체계"
   ]
  },
  {
   "cell_type": "markdown",
   "metadata": {},
   "source": [
    "#### 최소 지지도보다 큰 집합만을 대상으로 높은 지지도를 갖는 품목 집합을 찾는 연관규칙을 찾는 대표적인 방법은?\n",
    "\n",
    "+ apriori"
   ]
  },
  {
   "cell_type": "markdown",
   "metadata": {},
   "source": [
    "#### \n",
    "\n",
    "+"
   ]
  }
 ],
 "metadata": {
  "kernelspec": {
   "display_name": "Python 3",
   "language": "python",
   "name": "python3"
  },
  "language_info": {
   "codemirror_mode": {
    "name": "ipython",
    "version": 3
   },
   "file_extension": ".py",
   "mimetype": "text/x-python",
   "name": "python",
   "nbconvert_exporter": "python",
   "pygments_lexer": "ipython3",
   "version": "3.8.5"
  },
  "toc": {
   "base_numbering": 1,
   "nav_menu": {},
   "number_sections": true,
   "sideBar": true,
   "skip_h1_title": false,
   "title_cell": "Table of Contents",
   "title_sidebar": "Contents",
   "toc_cell": false,
   "toc_position": {},
   "toc_section_display": true,
   "toc_window_display": false
  }
 },
 "nbformat": 4,
 "nbformat_minor": 4
}
