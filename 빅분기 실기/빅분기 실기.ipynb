{
 "cells": [
  {
   "cell_type": "code",
   "execution_count": 1,
   "metadata": {
    "ExecuteTime": {
     "end_time": "2021-06-18T19:31:15.552614Z",
     "start_time": "2021-06-18T19:31:11.320607Z"
    }
   },
   "outputs": [],
   "source": [
    "import numpy as np\n",
    "import pandas as pd\n",
    "import matplotlib.pyplot as plt\n",
    "import seaborn as sns\n",
    "from matplotlib import font_manager, rc\n",
    "rc('font', family='HCR Dotum')\n",
    "\n",
    "pd.options.display.float_format = '{:.3f}'.format"
   ]
  },
  {
   "cell_type": "code",
   "execution_count": 2,
   "metadata": {
    "ExecuteTime": {
     "end_time": "2021-06-18T19:31:15.568410Z",
     "start_time": "2021-06-18T19:31:15.556142Z"
    }
   },
   "outputs": [],
   "source": [
    "# 데이터 불러오기\n",
    "def csv(file_name):\n",
    "    return pd.read_csv('빅분기 실기/'+ file_name +\".csv\", encoding='cp949')"
   ]
  },
  {
   "cell_type": "markdown",
   "metadata": {},
   "source": [
    "## mtcars min-max 0.5이상"
   ]
  },
  {
   "cell_type": "code",
   "execution_count": 13,
   "metadata": {
    "ExecuteTime": {
     "end_time": "2021-06-11T10:52:13.903602Z",
     "start_time": "2021-06-11T10:52:13.813697Z"
    },
    "scrolled": false
   },
   "outputs": [
    {
     "data": {
      "text/html": [
       "<div>\n",
       "<style scoped>\n",
       "    .dataframe tbody tr th:only-of-type {\n",
       "        vertical-align: middle;\n",
       "    }\n",
       "\n",
       "    .dataframe tbody tr th {\n",
       "        vertical-align: top;\n",
       "    }\n",
       "\n",
       "    .dataframe thead th {\n",
       "        text-align: right;\n",
       "    }\n",
       "</style>\n",
       "<table border=\"1\" class=\"dataframe\">\n",
       "  <thead>\n",
       "    <tr style=\"text-align: right;\">\n",
       "      <th></th>\n",
       "      <th>Unnamed: 0</th>\n",
       "      <th>mpg</th>\n",
       "      <th>cyl</th>\n",
       "      <th>disp</th>\n",
       "      <th>hp</th>\n",
       "      <th>drat</th>\n",
       "      <th>wt</th>\n",
       "      <th>qsec</th>\n",
       "      <th>vs</th>\n",
       "      <th>am</th>\n",
       "      <th>gear</th>\n",
       "      <th>carb</th>\n",
       "    </tr>\n",
       "  </thead>\n",
       "  <tbody>\n",
       "    <tr>\n",
       "      <th>0</th>\n",
       "      <td>Mazda RX4</td>\n",
       "      <td>21.000</td>\n",
       "      <td>6</td>\n",
       "      <td>160.000</td>\n",
       "      <td>110</td>\n",
       "      <td>3.900</td>\n",
       "      <td>2.620</td>\n",
       "      <td>16.460</td>\n",
       "      <td>0</td>\n",
       "      <td>1</td>\n",
       "      <td>4</td>\n",
       "      <td>4</td>\n",
       "    </tr>\n",
       "    <tr>\n",
       "      <th>1</th>\n",
       "      <td>Mazda RX4 Wag</td>\n",
       "      <td>21.000</td>\n",
       "      <td>6</td>\n",
       "      <td>160.000</td>\n",
       "      <td>110</td>\n",
       "      <td>3.900</td>\n",
       "      <td>2.875</td>\n",
       "      <td>17.020</td>\n",
       "      <td>0</td>\n",
       "      <td>1</td>\n",
       "      <td>4</td>\n",
       "      <td>4</td>\n",
       "    </tr>\n",
       "    <tr>\n",
       "      <th>2</th>\n",
       "      <td>Datsun 710</td>\n",
       "      <td>22.800</td>\n",
       "      <td>4</td>\n",
       "      <td>108.000</td>\n",
       "      <td>93</td>\n",
       "      <td>3.850</td>\n",
       "      <td>2.320</td>\n",
       "      <td>18.610</td>\n",
       "      <td>1</td>\n",
       "      <td>1</td>\n",
       "      <td>4</td>\n",
       "      <td>1</td>\n",
       "    </tr>\n",
       "    <tr>\n",
       "      <th>3</th>\n",
       "      <td>Hornet 4 Drive</td>\n",
       "      <td>21.400</td>\n",
       "      <td>6</td>\n",
       "      <td>258.000</td>\n",
       "      <td>110</td>\n",
       "      <td>3.080</td>\n",
       "      <td>3.215</td>\n",
       "      <td>19.440</td>\n",
       "      <td>1</td>\n",
       "      <td>0</td>\n",
       "      <td>3</td>\n",
       "      <td>1</td>\n",
       "    </tr>\n",
       "    <tr>\n",
       "      <th>4</th>\n",
       "      <td>Hornet Sportabout</td>\n",
       "      <td>18.700</td>\n",
       "      <td>8</td>\n",
       "      <td>360.000</td>\n",
       "      <td>175</td>\n",
       "      <td>3.150</td>\n",
       "      <td>3.440</td>\n",
       "      <td>17.020</td>\n",
       "      <td>0</td>\n",
       "      <td>0</td>\n",
       "      <td>3</td>\n",
       "      <td>2</td>\n",
       "    </tr>\n",
       "  </tbody>\n",
       "</table>\n",
       "</div>"
      ],
      "text/plain": [
       "          Unnamed: 0    mpg  cyl    disp   hp  drat    wt   qsec  vs  am  \\\n",
       "0          Mazda RX4 21.000    6 160.000  110 3.900 2.620 16.460   0   1   \n",
       "1      Mazda RX4 Wag 21.000    6 160.000  110 3.900 2.875 17.020   0   1   \n",
       "2         Datsun 710 22.800    4 108.000   93 3.850 2.320 18.610   1   1   \n",
       "3     Hornet 4 Drive 21.400    6 258.000  110 3.080 3.215 19.440   1   0   \n",
       "4  Hornet Sportabout 18.700    8 360.000  175 3.150 3.440 17.020   0   0   \n",
       "\n",
       "   gear  carb  \n",
       "0     4     4  \n",
       "1     4     4  \n",
       "2     4     1  \n",
       "3     3     1  \n",
       "4     3     2  "
      ]
     },
     "execution_count": 13,
     "metadata": {},
     "output_type": "execute_result"
    }
   ],
   "source": [
    "csv(\"mtcars\").head()"
   ]
  },
  {
   "cell_type": "code",
   "execution_count": 14,
   "metadata": {
    "ExecuteTime": {
     "end_time": "2021-06-11T10:52:14.336750Z",
     "start_time": "2021-06-11T10:52:14.318045Z"
    }
   },
   "outputs": [],
   "source": [
    "# 데이터 불러오기 2\n",
    "mtcars = pd.read_csv(\"빅분기 실기/mtcars.csv\", encoding=\"cp949\")"
   ]
  },
  {
   "cell_type": "code",
   "execution_count": 15,
   "metadata": {
    "ExecuteTime": {
     "end_time": "2021-06-11T10:52:14.848127Z",
     "start_time": "2021-06-11T10:52:14.825185Z"
    }
   },
   "outputs": [
    {
     "data": {
      "text/plain": [
       "Unnamed: 0     object\n",
       "mpg           float64\n",
       "cyl             int64\n",
       "disp          float64\n",
       "hp              int64\n",
       "drat          float64\n",
       "wt            float64\n",
       "qsec          float64\n",
       "vs              int64\n",
       "am              int64\n",
       "gear            int64\n",
       "carb            int64\n",
       "dtype: object"
      ]
     },
     "execution_count": 15,
     "metadata": {},
     "output_type": "execute_result"
    }
   ],
   "source": [
    "mtcars.dtypes"
   ]
  },
  {
   "cell_type": "code",
   "execution_count": 16,
   "metadata": {
    "ExecuteTime": {
     "end_time": "2021-06-11T10:52:15.317950Z",
     "start_time": "2021-06-11T10:52:15.285861Z"
    }
   },
   "outputs": [
    {
     "data": {
      "text/plain": [
       "14.5"
      ]
     },
     "execution_count": 16,
     "metadata": {},
     "output_type": "execute_result"
    }
   ],
   "source": [
    "np.min(mtcars[\"qsec\"])"
   ]
  },
  {
   "cell_type": "code",
   "execution_count": 17,
   "metadata": {
    "ExecuteTime": {
     "end_time": "2021-06-11T10:52:15.927174Z",
     "start_time": "2021-06-11T10:52:15.836133Z"
    },
    "scrolled": true
   },
   "outputs": [
    {
     "data": {
      "text/plain": [
       "0    0.233\n",
       "1    0.300\n",
       "2    0.489\n",
       "3    0.588\n",
       "4    0.300\n",
       "5    0.681\n",
       "6    0.160\n",
       "7    0.655\n",
       "8    1.000\n",
       "9    0.452\n",
       "10   0.524\n",
       "11   0.345\n",
       "12   0.369\n",
       "13   0.417\n",
       "14   0.414\n",
       "15   0.395\n",
       "16   0.348\n",
       "17   0.592\n",
       "18   0.479\n",
       "19   0.643\n",
       "20   0.656\n",
       "21   0.282\n",
       "22   0.333\n",
       "23   0.108\n",
       "24   0.304\n",
       "25   0.524\n",
       "26   0.262\n",
       "27   0.286\n",
       "28   0.000\n",
       "29   0.119\n",
       "30   0.012\n",
       "31   0.488\n",
       "Name: qsec, dtype: float64"
      ]
     },
     "execution_count": 17,
     "metadata": {},
     "output_type": "execute_result"
    }
   ],
   "source": [
    "scale_mtcars = (mtcars[\"qsec\"] - mtcars[\"qsec\"].min())/(mtcars[\"qsec\"].max() - mtcars[\"qsec\"].min()) \n",
    "scale_mtcars"
   ]
  },
  {
   "cell_type": "code",
   "execution_count": 18,
   "metadata": {
    "ExecuteTime": {
     "end_time": "2021-06-11T10:52:16.550508Z",
     "start_time": "2021-06-11T10:52:16.522071Z"
    }
   },
   "outputs": [
    {
     "data": {
      "text/plain": [
       "9"
      ]
     },
     "execution_count": 18,
     "metadata": {},
     "output_type": "execute_result"
    }
   ],
   "source": [
    "len(scale_mtcars[(scale_mtcars > 0.5)])"
   ]
  },
  {
   "cell_type": "markdown",
   "metadata": {},
   "source": [
    "## 백화점 변수로 성별 예측"
   ]
  },
  {
   "cell_type": "code",
   "execution_count": 288,
   "metadata": {
    "ExecuteTime": {
     "end_time": "2021-06-16T11:48:08.636444Z",
     "start_time": "2021-06-16T11:48:08.609445Z"
    }
   },
   "outputs": [],
   "source": [
    "X_train, X_test, y_train = csv('X_train'), csv('X_test'), csv('y_train')"
   ]
  },
  {
   "cell_type": "code",
   "execution_count": 289,
   "metadata": {
    "ExecuteTime": {
     "end_time": "2021-06-16T11:48:08.823648Z",
     "start_time": "2021-06-16T11:48:08.794597Z"
    }
   },
   "outputs": [
    {
     "data": {
      "text/html": [
       "<div>\n",
       "<style scoped>\n",
       "    .dataframe tbody tr th:only-of-type {\n",
       "        vertical-align: middle;\n",
       "    }\n",
       "\n",
       "    .dataframe tbody tr th {\n",
       "        vertical-align: top;\n",
       "    }\n",
       "\n",
       "    .dataframe thead th {\n",
       "        text-align: right;\n",
       "    }\n",
       "</style>\n",
       "<table border=\"1\" class=\"dataframe\">\n",
       "  <thead>\n",
       "    <tr style=\"text-align: right;\">\n",
       "      <th></th>\n",
       "      <th>cust_id</th>\n",
       "      <th>총구매액</th>\n",
       "      <th>최대구매액</th>\n",
       "      <th>환불금액</th>\n",
       "      <th>주구매상품</th>\n",
       "      <th>주구매지점</th>\n",
       "      <th>내점일수</th>\n",
       "      <th>내점당구매건수</th>\n",
       "      <th>주말방문비율</th>\n",
       "      <th>구매주기</th>\n",
       "    </tr>\n",
       "  </thead>\n",
       "  <tbody>\n",
       "    <tr>\n",
       "      <th>0</th>\n",
       "      <td>0</td>\n",
       "      <td>68282840</td>\n",
       "      <td>11264000</td>\n",
       "      <td>6860000.000</td>\n",
       "      <td>기타</td>\n",
       "      <td>강남점</td>\n",
       "      <td>19</td>\n",
       "      <td>3.895</td>\n",
       "      <td>0.527</td>\n",
       "      <td>17</td>\n",
       "    </tr>\n",
       "    <tr>\n",
       "      <th>1</th>\n",
       "      <td>1</td>\n",
       "      <td>2136000</td>\n",
       "      <td>2136000</td>\n",
       "      <td>300000.000</td>\n",
       "      <td>스포츠</td>\n",
       "      <td>잠실점</td>\n",
       "      <td>2</td>\n",
       "      <td>1.500</td>\n",
       "      <td>0.000</td>\n",
       "      <td>1</td>\n",
       "    </tr>\n",
       "    <tr>\n",
       "      <th>2</th>\n",
       "      <td>2</td>\n",
       "      <td>3197000</td>\n",
       "      <td>1639000</td>\n",
       "      <td>nan</td>\n",
       "      <td>남성 캐주얼</td>\n",
       "      <td>관악점</td>\n",
       "      <td>2</td>\n",
       "      <td>2.000</td>\n",
       "      <td>0.000</td>\n",
       "      <td>1</td>\n",
       "    </tr>\n",
       "    <tr>\n",
       "      <th>3</th>\n",
       "      <td>3</td>\n",
       "      <td>16077620</td>\n",
       "      <td>4935000</td>\n",
       "      <td>nan</td>\n",
       "      <td>기타</td>\n",
       "      <td>광주점</td>\n",
       "      <td>18</td>\n",
       "      <td>2.444</td>\n",
       "      <td>0.318</td>\n",
       "      <td>16</td>\n",
       "    </tr>\n",
       "    <tr>\n",
       "      <th>4</th>\n",
       "      <td>4</td>\n",
       "      <td>29050000</td>\n",
       "      <td>24000000</td>\n",
       "      <td>nan</td>\n",
       "      <td>보석</td>\n",
       "      <td>본  점</td>\n",
       "      <td>2</td>\n",
       "      <td>1.500</td>\n",
       "      <td>0.000</td>\n",
       "      <td>85</td>\n",
       "    </tr>\n",
       "  </tbody>\n",
       "</table>\n",
       "</div>"
      ],
      "text/plain": [
       "   cust_id      총구매액     최대구매액        환불금액   주구매상품 주구매지점  내점일수  내점당구매건수  \\\n",
       "0        0  68282840  11264000 6860000.000      기타   강남점    19    3.895   \n",
       "1        1   2136000   2136000  300000.000     스포츠   잠실점     2    1.500   \n",
       "2        2   3197000   1639000         nan  남성 캐주얼   관악점     2    2.000   \n",
       "3        3  16077620   4935000         nan      기타   광주점    18    2.444   \n",
       "4        4  29050000  24000000         nan      보석  본  점     2    1.500   \n",
       "\n",
       "   주말방문비율  구매주기  \n",
       "0   0.527    17  \n",
       "1   0.000     1  \n",
       "2   0.000     1  \n",
       "3   0.318    16  \n",
       "4   0.000    85  "
      ]
     },
     "execution_count": 289,
     "metadata": {},
     "output_type": "execute_result"
    }
   ],
   "source": [
    "X_train.head()"
   ]
  },
  {
   "cell_type": "code",
   "execution_count": 290,
   "metadata": {
    "ExecuteTime": {
     "end_time": "2021-06-16T11:48:08.963940Z",
     "start_time": "2021-06-16T11:48:08.943764Z"
    }
   },
   "outputs": [
    {
     "data": {
      "text/plain": [
       "0       3500\n",
       "1       3501\n",
       "2       3502\n",
       "3       3503\n",
       "4       3504\n",
       "        ... \n",
       "2477    5977\n",
       "2478    5978\n",
       "2479    5979\n",
       "2480    5980\n",
       "2481    5981\n",
       "Name: cust_id, Length: 2482, dtype: int64"
      ]
     },
     "execution_count": 290,
     "metadata": {},
     "output_type": "execute_result"
    }
   ],
   "source": [
    "X_test[\"cust_id\"]"
   ]
  },
  {
   "cell_type": "code",
   "execution_count": 291,
   "metadata": {
    "ExecuteTime": {
     "end_time": "2021-06-16T11:48:09.119431Z",
     "start_time": "2021-06-16T11:48:09.097423Z"
    }
   },
   "outputs": [
    {
     "name": "stdout",
     "output_type": "stream",
     "text": [
      "4.168699369405858\n"
     ]
    },
    {
     "data": {
      "text/plain": [
       "28.094718641554262"
      ]
     },
     "execution_count": 291,
     "metadata": {},
     "output_type": "execute_result"
    }
   ],
   "source": [
    "from scipy.stats import skew\n",
    "from scipy.stats import kurtosis\n",
    "print(skew(X_train[\"총구매액\"]))\n",
    "kurtosis(X_train[\"총구매액\"])"
   ]
  },
  {
   "cell_type": "code",
   "execution_count": 292,
   "metadata": {
    "ExecuteTime": {
     "end_time": "2021-06-16T11:48:09.259387Z",
     "start_time": "2021-06-16T11:48:09.235389Z"
    }
   },
   "outputs": [
    {
     "data": {
      "text/html": [
       "<div>\n",
       "<style scoped>\n",
       "    .dataframe tbody tr th:only-of-type {\n",
       "        vertical-align: middle;\n",
       "    }\n",
       "\n",
       "    .dataframe tbody tr th {\n",
       "        vertical-align: top;\n",
       "    }\n",
       "\n",
       "    .dataframe thead th {\n",
       "        text-align: right;\n",
       "    }\n",
       "</style>\n",
       "<table border=\"1\" class=\"dataframe\">\n",
       "  <thead>\n",
       "    <tr style=\"text-align: right;\">\n",
       "      <th></th>\n",
       "      <th>cust_id</th>\n",
       "      <th>총구매액</th>\n",
       "      <th>최대구매액</th>\n",
       "      <th>환불금액</th>\n",
       "      <th>주구매상품</th>\n",
       "      <th>주구매지점</th>\n",
       "      <th>내점일수</th>\n",
       "      <th>내점당구매건수</th>\n",
       "      <th>주말방문비율</th>\n",
       "      <th>구매주기</th>\n",
       "    </tr>\n",
       "  </thead>\n",
       "  <tbody>\n",
       "    <tr>\n",
       "      <th>0</th>\n",
       "      <td>3500</td>\n",
       "      <td>70900400</td>\n",
       "      <td>22000000</td>\n",
       "      <td>4050000.000</td>\n",
       "      <td>골프</td>\n",
       "      <td>부산본점</td>\n",
       "      <td>13</td>\n",
       "      <td>1.462</td>\n",
       "      <td>0.789</td>\n",
       "      <td>26</td>\n",
       "    </tr>\n",
       "    <tr>\n",
       "      <th>1</th>\n",
       "      <td>3501</td>\n",
       "      <td>310533100</td>\n",
       "      <td>38558000</td>\n",
       "      <td>48034700.000</td>\n",
       "      <td>농산물</td>\n",
       "      <td>잠실점</td>\n",
       "      <td>90</td>\n",
       "      <td>2.433</td>\n",
       "      <td>0.370</td>\n",
       "      <td>3</td>\n",
       "    </tr>\n",
       "    <tr>\n",
       "      <th>2</th>\n",
       "      <td>3502</td>\n",
       "      <td>305264140</td>\n",
       "      <td>14825000</td>\n",
       "      <td>30521000.000</td>\n",
       "      <td>가공식품</td>\n",
       "      <td>본  점</td>\n",
       "      <td>101</td>\n",
       "      <td>14.624</td>\n",
       "      <td>0.083</td>\n",
       "      <td>3</td>\n",
       "    </tr>\n",
       "    <tr>\n",
       "      <th>3</th>\n",
       "      <td>3503</td>\n",
       "      <td>7594080</td>\n",
       "      <td>5225000</td>\n",
       "      <td>nan</td>\n",
       "      <td>주방용품</td>\n",
       "      <td>부산본점</td>\n",
       "      <td>5</td>\n",
       "      <td>2.000</td>\n",
       "      <td>0.000</td>\n",
       "      <td>47</td>\n",
       "    </tr>\n",
       "    <tr>\n",
       "      <th>4</th>\n",
       "      <td>3504</td>\n",
       "      <td>1795790</td>\n",
       "      <td>1411200</td>\n",
       "      <td>nan</td>\n",
       "      <td>수산품</td>\n",
       "      <td>청량리점</td>\n",
       "      <td>3</td>\n",
       "      <td>2.667</td>\n",
       "      <td>0.125</td>\n",
       "      <td>8</td>\n",
       "    </tr>\n",
       "  </tbody>\n",
       "</table>\n",
       "</div>"
      ],
      "text/plain": [
       "   cust_id       총구매액     최대구매액         환불금액 주구매상품 주구매지점  내점일수  내점당구매건수  \\\n",
       "0     3500   70900400  22000000  4050000.000    골프  부산본점    13    1.462   \n",
       "1     3501  310533100  38558000 48034700.000   농산물   잠실점    90    2.433   \n",
       "2     3502  305264140  14825000 30521000.000  가공식품  본  점   101   14.624   \n",
       "3     3503    7594080   5225000          nan  주방용품  부산본점     5    2.000   \n",
       "4     3504    1795790   1411200          nan   수산품  청량리점     3    2.667   \n",
       "\n",
       "   주말방문비율  구매주기  \n",
       "0   0.789    26  \n",
       "1   0.370     3  \n",
       "2   0.083     3  \n",
       "3   0.000    47  \n",
       "4   0.125     8  "
      ]
     },
     "execution_count": 292,
     "metadata": {},
     "output_type": "execute_result"
    }
   ],
   "source": [
    "X_test.head()"
   ]
  },
  {
   "cell_type": "code",
   "execution_count": 293,
   "metadata": {
    "ExecuteTime": {
     "end_time": "2021-06-16T11:48:09.384616Z",
     "start_time": "2021-06-16T11:48:09.367572Z"
    }
   },
   "outputs": [
    {
     "data": {
      "text/html": [
       "<div>\n",
       "<style scoped>\n",
       "    .dataframe tbody tr th:only-of-type {\n",
       "        vertical-align: middle;\n",
       "    }\n",
       "\n",
       "    .dataframe tbody tr th {\n",
       "        vertical-align: top;\n",
       "    }\n",
       "\n",
       "    .dataframe thead th {\n",
       "        text-align: right;\n",
       "    }\n",
       "</style>\n",
       "<table border=\"1\" class=\"dataframe\">\n",
       "  <thead>\n",
       "    <tr style=\"text-align: right;\">\n",
       "      <th></th>\n",
       "      <th>cust_id</th>\n",
       "      <th>gender</th>\n",
       "    </tr>\n",
       "  </thead>\n",
       "  <tbody>\n",
       "    <tr>\n",
       "      <th>0</th>\n",
       "      <td>0</td>\n",
       "      <td>0</td>\n",
       "    </tr>\n",
       "    <tr>\n",
       "      <th>1</th>\n",
       "      <td>1</td>\n",
       "      <td>0</td>\n",
       "    </tr>\n",
       "    <tr>\n",
       "      <th>2</th>\n",
       "      <td>2</td>\n",
       "      <td>1</td>\n",
       "    </tr>\n",
       "    <tr>\n",
       "      <th>3</th>\n",
       "      <td>3</td>\n",
       "      <td>1</td>\n",
       "    </tr>\n",
       "    <tr>\n",
       "      <th>4</th>\n",
       "      <td>4</td>\n",
       "      <td>0</td>\n",
       "    </tr>\n",
       "  </tbody>\n",
       "</table>\n",
       "</div>"
      ],
      "text/plain": [
       "   cust_id  gender\n",
       "0        0       0\n",
       "1        1       0\n",
       "2        2       1\n",
       "3        3       1\n",
       "4        4       0"
      ]
     },
     "execution_count": 293,
     "metadata": {},
     "output_type": "execute_result"
    }
   ],
   "source": [
    "y_train.head()"
   ]
  },
  {
   "cell_type": "code",
   "execution_count": 294,
   "metadata": {
    "ExecuteTime": {
     "end_time": "2021-06-16T11:48:09.525042Z",
     "start_time": "2021-06-16T11:48:09.502673Z"
    }
   },
   "outputs": [
    {
     "data": {
      "text/plain": [
       "count         3500.000\n",
       "mean      91919251.797\n",
       "std      163506530.314\n",
       "min      -52421520.000\n",
       "25%        4747050.000\n",
       "50%       28222700.000\n",
       "75%      106507930.000\n",
       "max     2323180070.000\n",
       "Name: 총구매액, dtype: float64"
      ]
     },
     "execution_count": 294,
     "metadata": {},
     "output_type": "execute_result"
    }
   ],
   "source": [
    "X_train[\"총구매액\"].describe()"
   ]
  },
  {
   "cell_type": "code",
   "execution_count": null,
   "metadata": {},
   "outputs": [],
   "source": []
  },
  {
   "cell_type": "code",
   "execution_count": 295,
   "metadata": {
    "ExecuteTime": {
     "end_time": "2021-06-16T11:48:09.817022Z",
     "start_time": "2021-06-16T11:48:09.790945Z"
    }
   },
   "outputs": [
    {
     "data": {
      "text/html": [
       "<div>\n",
       "<style scoped>\n",
       "    .dataframe tbody tr th:only-of-type {\n",
       "        vertical-align: middle;\n",
       "    }\n",
       "\n",
       "    .dataframe tbody tr th {\n",
       "        vertical-align: top;\n",
       "    }\n",
       "\n",
       "    .dataframe thead th {\n",
       "        text-align: right;\n",
       "    }\n",
       "</style>\n",
       "<table border=\"1\" class=\"dataframe\">\n",
       "  <thead>\n",
       "    <tr style=\"text-align: right;\">\n",
       "      <th></th>\n",
       "      <th>cust_id</th>\n",
       "      <th>총구매액</th>\n",
       "      <th>최대구매액</th>\n",
       "      <th>환불금액</th>\n",
       "      <th>주구매상품</th>\n",
       "      <th>주구매지점</th>\n",
       "      <th>내점일수</th>\n",
       "      <th>내점당구매건수</th>\n",
       "      <th>주말방문비율</th>\n",
       "      <th>구매주기</th>\n",
       "    </tr>\n",
       "  </thead>\n",
       "  <tbody>\n",
       "    <tr>\n",
       "      <th>0</th>\n",
       "      <td>0</td>\n",
       "      <td>68282840</td>\n",
       "      <td>11264000</td>\n",
       "      <td>6860000.000</td>\n",
       "      <td>기타</td>\n",
       "      <td>강남점</td>\n",
       "      <td>19</td>\n",
       "      <td>3.895</td>\n",
       "      <td>0.527</td>\n",
       "      <td>17</td>\n",
       "    </tr>\n",
       "    <tr>\n",
       "      <th>1</th>\n",
       "      <td>1</td>\n",
       "      <td>2136000</td>\n",
       "      <td>2136000</td>\n",
       "      <td>300000.000</td>\n",
       "      <td>스포츠</td>\n",
       "      <td>잠실점</td>\n",
       "      <td>2</td>\n",
       "      <td>1.500</td>\n",
       "      <td>0.000</td>\n",
       "      <td>1</td>\n",
       "    </tr>\n",
       "    <tr>\n",
       "      <th>2</th>\n",
       "      <td>2</td>\n",
       "      <td>3197000</td>\n",
       "      <td>1639000</td>\n",
       "      <td>nan</td>\n",
       "      <td>남성 캐주얼</td>\n",
       "      <td>관악점</td>\n",
       "      <td>2</td>\n",
       "      <td>2.000</td>\n",
       "      <td>0.000</td>\n",
       "      <td>1</td>\n",
       "    </tr>\n",
       "    <tr>\n",
       "      <th>3</th>\n",
       "      <td>3</td>\n",
       "      <td>16077620</td>\n",
       "      <td>4935000</td>\n",
       "      <td>nan</td>\n",
       "      <td>기타</td>\n",
       "      <td>광주점</td>\n",
       "      <td>18</td>\n",
       "      <td>2.444</td>\n",
       "      <td>0.318</td>\n",
       "      <td>16</td>\n",
       "    </tr>\n",
       "    <tr>\n",
       "      <th>4</th>\n",
       "      <td>4</td>\n",
       "      <td>29050000</td>\n",
       "      <td>24000000</td>\n",
       "      <td>nan</td>\n",
       "      <td>보석</td>\n",
       "      <td>본  점</td>\n",
       "      <td>2</td>\n",
       "      <td>1.500</td>\n",
       "      <td>0.000</td>\n",
       "      <td>85</td>\n",
       "    </tr>\n",
       "    <tr>\n",
       "      <th>...</th>\n",
       "      <td>...</td>\n",
       "      <td>...</td>\n",
       "      <td>...</td>\n",
       "      <td>...</td>\n",
       "      <td>...</td>\n",
       "      <td>...</td>\n",
       "      <td>...</td>\n",
       "      <td>...</td>\n",
       "      <td>...</td>\n",
       "      <td>...</td>\n",
       "    </tr>\n",
       "    <tr>\n",
       "      <th>2477</th>\n",
       "      <td>5977</td>\n",
       "      <td>82581500</td>\n",
       "      <td>23976000</td>\n",
       "      <td>nan</td>\n",
       "      <td>골프</td>\n",
       "      <td>부산본점</td>\n",
       "      <td>8</td>\n",
       "      <td>1.750</td>\n",
       "      <td>0.643</td>\n",
       "      <td>40</td>\n",
       "    </tr>\n",
       "    <tr>\n",
       "      <th>2478</th>\n",
       "      <td>5978</td>\n",
       "      <td>480000</td>\n",
       "      <td>480000</td>\n",
       "      <td>nan</td>\n",
       "      <td>섬유잡화</td>\n",
       "      <td>광주점</td>\n",
       "      <td>1</td>\n",
       "      <td>1.000</td>\n",
       "      <td>0.000</td>\n",
       "      <td>0</td>\n",
       "    </tr>\n",
       "    <tr>\n",
       "      <th>2479</th>\n",
       "      <td>5979</td>\n",
       "      <td>260003790</td>\n",
       "      <td>25750000</td>\n",
       "      <td>nan</td>\n",
       "      <td>남성 캐주얼</td>\n",
       "      <td>본  점</td>\n",
       "      <td>19</td>\n",
       "      <td>3.737</td>\n",
       "      <td>0.915</td>\n",
       "      <td>18</td>\n",
       "    </tr>\n",
       "    <tr>\n",
       "      <th>2480</th>\n",
       "      <td>5980</td>\n",
       "      <td>88991520</td>\n",
       "      <td>18120000</td>\n",
       "      <td>nan</td>\n",
       "      <td>육류</td>\n",
       "      <td>본  점</td>\n",
       "      <td>5</td>\n",
       "      <td>3.600</td>\n",
       "      <td>0.444</td>\n",
       "      <td>60</td>\n",
       "    </tr>\n",
       "    <tr>\n",
       "      <th>2481</th>\n",
       "      <td>5981</td>\n",
       "      <td>623700</td>\n",
       "      <td>209000</td>\n",
       "      <td>nan</td>\n",
       "      <td>가공식품</td>\n",
       "      <td>영등포점</td>\n",
       "      <td>2</td>\n",
       "      <td>5.000</td>\n",
       "      <td>0.000</td>\n",
       "      <td>31</td>\n",
       "    </tr>\n",
       "  </tbody>\n",
       "</table>\n",
       "<p>5982 rows × 10 columns</p>\n",
       "</div>"
      ],
      "text/plain": [
       "      cust_id       총구매액     최대구매액        환불금액   주구매상품 주구매지점  내점일수  내점당구매건수  \\\n",
       "0           0   68282840  11264000 6860000.000      기타   강남점    19    3.895   \n",
       "1           1    2136000   2136000  300000.000     스포츠   잠실점     2    1.500   \n",
       "2           2    3197000   1639000         nan  남성 캐주얼   관악점     2    2.000   \n",
       "3           3   16077620   4935000         nan      기타   광주점    18    2.444   \n",
       "4           4   29050000  24000000         nan      보석  본  점     2    1.500   \n",
       "...       ...        ...       ...         ...     ...   ...   ...      ...   \n",
       "2477     5977   82581500  23976000         nan      골프  부산본점     8    1.750   \n",
       "2478     5978     480000    480000         nan    섬유잡화   광주점     1    1.000   \n",
       "2479     5979  260003790  25750000         nan  남성 캐주얼  본  점    19    3.737   \n",
       "2480     5980   88991520  18120000         nan      육류  본  점     5    3.600   \n",
       "2481     5981     623700    209000         nan    가공식품  영등포점     2    5.000   \n",
       "\n",
       "      주말방문비율  구매주기  \n",
       "0      0.527    17  \n",
       "1      0.000     1  \n",
       "2      0.000     1  \n",
       "3      0.318    16  \n",
       "4      0.000    85  \n",
       "...      ...   ...  \n",
       "2477   0.643    40  \n",
       "2478   0.000     0  \n",
       "2479   0.915    18  \n",
       "2480   0.444    60  \n",
       "2481   0.000    31  \n",
       "\n",
       "[5982 rows x 10 columns]"
      ]
     },
     "execution_count": 295,
     "metadata": {},
     "output_type": "execute_result"
    }
   ],
   "source": [
    "# 데이터 병합\n",
    "X = pd.concat([X_train, X_test])\n",
    "X"
   ]
  },
  {
   "cell_type": "markdown",
   "metadata": {},
   "source": [
    "### 결측치 처리"
   ]
  },
  {
   "cell_type": "code",
   "execution_count": 296,
   "metadata": {
    "ExecuteTime": {
     "end_time": "2021-06-16T11:48:10.138591Z",
     "start_time": "2021-06-16T11:48:10.113491Z"
    },
    "scrolled": true
   },
   "outputs": [
    {
     "name": "stdout",
     "output_type": "stream",
     "text": [
      "<class 'pandas.core.frame.DataFrame'>\n",
      "Int64Index: 5982 entries, 0 to 2481\n",
      "Data columns (total 10 columns):\n",
      " #   Column   Non-Null Count  Dtype  \n",
      "---  ------   --------------  -----  \n",
      " 0   cust_id  5982 non-null   int64  \n",
      " 1   총구매액     5982 non-null   int64  \n",
      " 2   최대구매액    5982 non-null   int64  \n",
      " 3   환불금액     2076 non-null   float64\n",
      " 4   주구매상품    5982 non-null   object \n",
      " 5   주구매지점    5982 non-null   object \n",
      " 6   내점일수     5982 non-null   int64  \n",
      " 7   내점당구매건수  5982 non-null   float64\n",
      " 8   주말방문비율   5982 non-null   float64\n",
      " 9   구매주기     5982 non-null   int64  \n",
      "dtypes: float64(3), int64(5), object(2)\n",
      "memory usage: 514.1+ KB\n"
     ]
    }
   ],
   "source": [
    "# 결측값 확인\n",
    "X.info()"
   ]
  },
  {
   "cell_type": "code",
   "execution_count": 297,
   "metadata": {
    "ExecuteTime": {
     "end_time": "2021-06-16T11:48:10.652335Z",
     "start_time": "2021-06-16T11:48:10.633337Z"
    }
   },
   "outputs": [],
   "source": [
    "# 결측값 대치\n",
    "X = X.fillna(0)"
   ]
  },
  {
   "cell_type": "code",
   "execution_count": 298,
   "metadata": {
    "ExecuteTime": {
     "end_time": "2021-06-16T11:48:11.115354Z",
     "start_time": "2021-06-16T11:48:11.082194Z"
    },
    "scrolled": true
   },
   "outputs": [],
   "source": [
    "new_X = pd.get_dummies(X, drop_first=True)"
   ]
  },
  {
   "cell_type": "code",
   "execution_count": 299,
   "metadata": {
    "ExecuteTime": {
     "end_time": "2021-06-16T11:48:11.285295Z",
     "start_time": "2021-06-16T11:48:11.274308Z"
    }
   },
   "outputs": [
    {
     "data": {
      "text/plain": [
       "2"
      ]
     },
     "execution_count": 299,
     "metadata": {},
     "output_type": "execute_result"
    }
   ],
   "source": [
    "new_X['주구매상품_소형가전'][:3500].sum()"
   ]
  },
  {
   "cell_type": "code",
   "execution_count": 300,
   "metadata": {
    "ExecuteTime": {
     "end_time": "2021-06-16T11:48:11.595985Z",
     "start_time": "2021-06-16T11:48:11.565911Z"
    },
    "scrolled": true
   },
   "outputs": [
    {
     "data": {
      "text/html": [
       "<div>\n",
       "<style scoped>\n",
       "    .dataframe tbody tr th:only-of-type {\n",
       "        vertical-align: middle;\n",
       "    }\n",
       "\n",
       "    .dataframe tbody tr th {\n",
       "        vertical-align: top;\n",
       "    }\n",
       "\n",
       "    .dataframe thead th {\n",
       "        text-align: right;\n",
       "    }\n",
       "</style>\n",
       "<table border=\"1\" class=\"dataframe\">\n",
       "  <thead>\n",
       "    <tr style=\"text-align: right;\">\n",
       "      <th></th>\n",
       "      <th>cust_id</th>\n",
       "      <th>총구매액</th>\n",
       "      <th>최대구매액</th>\n",
       "      <th>환불금액</th>\n",
       "      <th>내점일수</th>\n",
       "      <th>내점당구매건수</th>\n",
       "      <th>주말방문비율</th>\n",
       "      <th>구매주기</th>\n",
       "      <th>주구매상품_가구</th>\n",
       "      <th>주구매상품_건강식품</th>\n",
       "      <th>...</th>\n",
       "      <th>주구매지점_울산점</th>\n",
       "      <th>주구매지점_인천점</th>\n",
       "      <th>주구매지점_일산점</th>\n",
       "      <th>주구매지점_잠실점</th>\n",
       "      <th>주구매지점_전주점</th>\n",
       "      <th>주구매지점_창원점</th>\n",
       "      <th>주구매지점_청량리점</th>\n",
       "      <th>주구매지점_포항점</th>\n",
       "      <th>cust_id</th>\n",
       "      <th>gender</th>\n",
       "    </tr>\n",
       "  </thead>\n",
       "  <tbody>\n",
       "    <tr>\n",
       "      <th>0</th>\n",
       "      <td>0</td>\n",
       "      <td>68282840</td>\n",
       "      <td>11264000</td>\n",
       "      <td>6860000.000</td>\n",
       "      <td>19</td>\n",
       "      <td>3.895</td>\n",
       "      <td>0.527</td>\n",
       "      <td>17</td>\n",
       "      <td>0</td>\n",
       "      <td>0</td>\n",
       "      <td>...</td>\n",
       "      <td>0</td>\n",
       "      <td>0</td>\n",
       "      <td>0</td>\n",
       "      <td>0</td>\n",
       "      <td>0</td>\n",
       "      <td>0</td>\n",
       "      <td>0</td>\n",
       "      <td>0</td>\n",
       "      <td>0</td>\n",
       "      <td>0</td>\n",
       "    </tr>\n",
       "    <tr>\n",
       "      <th>1</th>\n",
       "      <td>1</td>\n",
       "      <td>2136000</td>\n",
       "      <td>2136000</td>\n",
       "      <td>300000.000</td>\n",
       "      <td>2</td>\n",
       "      <td>1.500</td>\n",
       "      <td>0.000</td>\n",
       "      <td>1</td>\n",
       "      <td>0</td>\n",
       "      <td>0</td>\n",
       "      <td>...</td>\n",
       "      <td>0</td>\n",
       "      <td>0</td>\n",
       "      <td>0</td>\n",
       "      <td>1</td>\n",
       "      <td>0</td>\n",
       "      <td>0</td>\n",
       "      <td>0</td>\n",
       "      <td>0</td>\n",
       "      <td>1</td>\n",
       "      <td>0</td>\n",
       "    </tr>\n",
       "    <tr>\n",
       "      <th>2</th>\n",
       "      <td>2</td>\n",
       "      <td>3197000</td>\n",
       "      <td>1639000</td>\n",
       "      <td>0.000</td>\n",
       "      <td>2</td>\n",
       "      <td>2.000</td>\n",
       "      <td>0.000</td>\n",
       "      <td>1</td>\n",
       "      <td>0</td>\n",
       "      <td>0</td>\n",
       "      <td>...</td>\n",
       "      <td>0</td>\n",
       "      <td>0</td>\n",
       "      <td>0</td>\n",
       "      <td>0</td>\n",
       "      <td>0</td>\n",
       "      <td>0</td>\n",
       "      <td>0</td>\n",
       "      <td>0</td>\n",
       "      <td>2</td>\n",
       "      <td>1</td>\n",
       "    </tr>\n",
       "    <tr>\n",
       "      <th>3</th>\n",
       "      <td>3</td>\n",
       "      <td>16077620</td>\n",
       "      <td>4935000</td>\n",
       "      <td>0.000</td>\n",
       "      <td>18</td>\n",
       "      <td>2.444</td>\n",
       "      <td>0.318</td>\n",
       "      <td>16</td>\n",
       "      <td>0</td>\n",
       "      <td>0</td>\n",
       "      <td>...</td>\n",
       "      <td>0</td>\n",
       "      <td>0</td>\n",
       "      <td>0</td>\n",
       "      <td>0</td>\n",
       "      <td>0</td>\n",
       "      <td>0</td>\n",
       "      <td>0</td>\n",
       "      <td>0</td>\n",
       "      <td>3</td>\n",
       "      <td>1</td>\n",
       "    </tr>\n",
       "    <tr>\n",
       "      <th>4</th>\n",
       "      <td>4</td>\n",
       "      <td>29050000</td>\n",
       "      <td>24000000</td>\n",
       "      <td>0.000</td>\n",
       "      <td>2</td>\n",
       "      <td>1.500</td>\n",
       "      <td>0.000</td>\n",
       "      <td>85</td>\n",
       "      <td>0</td>\n",
       "      <td>0</td>\n",
       "      <td>...</td>\n",
       "      <td>0</td>\n",
       "      <td>0</td>\n",
       "      <td>0</td>\n",
       "      <td>0</td>\n",
       "      <td>0</td>\n",
       "      <td>0</td>\n",
       "      <td>0</td>\n",
       "      <td>0</td>\n",
       "      <td>4</td>\n",
       "      <td>0</td>\n",
       "    </tr>\n",
       "  </tbody>\n",
       "</table>\n",
       "<p>5 rows × 74 columns</p>\n",
       "</div>"
      ],
      "text/plain": [
       "   cust_id      총구매액     최대구매액        환불금액  내점일수  내점당구매건수  주말방문비율  구매주기  \\\n",
       "0        0  68282840  11264000 6860000.000    19    3.895   0.527    17   \n",
       "1        1   2136000   2136000  300000.000     2    1.500   0.000     1   \n",
       "2        2   3197000   1639000       0.000     2    2.000   0.000     1   \n",
       "3        3  16077620   4935000       0.000    18    2.444   0.318    16   \n",
       "4        4  29050000  24000000       0.000     2    1.500   0.000    85   \n",
       "\n",
       "   주구매상품_가구  주구매상품_건강식품  ...  주구매지점_울산점  주구매지점_인천점  주구매지점_일산점  주구매지점_잠실점  \\\n",
       "0         0           0  ...          0          0          0          0   \n",
       "1         0           0  ...          0          0          0          1   \n",
       "2         0           0  ...          0          0          0          0   \n",
       "3         0           0  ...          0          0          0          0   \n",
       "4         0           0  ...          0          0          0          0   \n",
       "\n",
       "   주구매지점_전주점  주구매지점_창원점  주구매지점_청량리점  주구매지점_포항점  cust_id  gender  \n",
       "0          0          0           0          0        0       0  \n",
       "1          0          0           0          0        1       0  \n",
       "2          0          0           0          0        2       1  \n",
       "3          0          0           0          0        3       1  \n",
       "4          0          0           0          0        4       0  \n",
       "\n",
       "[5 rows x 74 columns]"
      ]
     },
     "execution_count": 300,
     "metadata": {},
     "output_type": "execute_result"
    }
   ],
   "source": [
    "# X_train, y_train 병합\n",
    "nX_train = pd.concat([new_X[:3500],y_train],axis=1, join=\"inner\")\n",
    "nX_train.head()"
   ]
  },
  {
   "cell_type": "code",
   "execution_count": 301,
   "metadata": {
    "ExecuteTime": {
     "end_time": "2021-06-16T11:48:13.775478Z",
     "start_time": "2021-06-16T11:48:13.749424Z"
    },
    "scrolled": true
   },
   "outputs": [],
   "source": [
    "# 중복열 제거\n",
    "nX_train = nX_train.drop(nX_train.iloc[:,[-2]],axis=1)"
   ]
  },
  {
   "cell_type": "markdown",
   "metadata": {},
   "source": [
    "### 상관관계"
   ]
  },
  {
   "cell_type": "code",
   "execution_count": 41,
   "metadata": {
    "ExecuteTime": {
     "end_time": "2021-06-11T10:54:30.963628Z",
     "start_time": "2021-06-11T10:54:30.850242Z"
    },
    "scrolled": true
   },
   "outputs": [],
   "source": [
    "# 상관관계 행렬\n",
    "X_corr_mat = nX_train.corr()"
   ]
  },
  {
   "cell_type": "code",
   "execution_count": 42,
   "metadata": {
    "ExecuteTime": {
     "end_time": "2021-06-11T10:54:31.571068Z",
     "start_time": "2021-06-11T10:54:31.553095Z"
    }
   },
   "outputs": [
    {
     "data": {
      "text/plain": [
       "array([0.15014078, 0.11432318, 0.11432665, 0.15499959, 0.0439171 ,\n",
       "       0.07359806, 0.04145046, 0.01370322, 0.03755364, 0.05135002,\n",
       "       0.03683192, 0.00584151, 0.1011172 , 0.00612126, 0.07260411,\n",
       "       0.07072768, 0.01225303, 0.12292294, 0.01245066, 0.00495681,\n",
       "       0.01599393, 0.00257997, 0.01228021, 0.04702463, 0.04939759,\n",
       "       0.00612126, 0.01001659, 0.04266818, 0.08904037, 0.03126419,\n",
       "       0.00577137, 0.03080374, 0.0137432 , 0.02128795, 0.01348919,\n",
       "       0.02665308, 0.05360376, 0.05649309, 0.01219619, 0.00770836,\n",
       "       0.01683629, 0.02625705, 0.01065514, 0.00447248, 0.01757607,\n",
       "       0.01717057, 0.02197561, 0.06983162, 0.00882558, 0.01042063,\n",
       "       0.02176347, 0.03126419, 0.0055615 , 0.00714913, 0.01720984,\n",
       "       0.0371232 , 0.02339568, 0.02065416, 0.01774752, 0.0131229 ,\n",
       "       0.01060839, 0.02665308, 0.01953054, 0.01060839, 0.01934087,\n",
       "       0.01135684, 0.01590045, 0.04872589, 0.0087989 , 0.01777016,\n",
       "       0.0014332 , 1.        ])"
      ]
     },
     "execution_count": 42,
     "metadata": {},
     "output_type": "execute_result"
    }
   ],
   "source": [
    "# 절대값\n",
    "abs(X_corr_mat[\"gender\"].values)"
   ]
  },
  {
   "cell_type": "code",
   "execution_count": 121,
   "metadata": {
    "ExecuteTime": {
     "end_time": "2021-06-11T11:20:44.650595Z",
     "start_time": "2021-06-11T11:20:44.623578Z"
    }
   },
   "outputs": [
    {
     "data": {
      "text/plain": [
       "gender   0.111\n",
       "dtype: float64"
      ]
     },
     "execution_count": 121,
     "metadata": {},
     "output_type": "execute_result"
    }
   ],
   "source": [
    "X_cor = pd.DataFrame((X_corr_mat[\"gender\"].sort_values(ascending=False)))\n",
    "X_cor[X_cor.index.str.startswith(\"주구매지점\")].sum()\n"
   ]
  },
  {
   "cell_type": "code",
   "execution_count": 45,
   "metadata": {
    "ExecuteTime": {
     "end_time": "2021-06-11T10:54:45.804698Z",
     "start_time": "2021-06-11T10:54:45.785744Z"
    }
   },
   "outputs": [],
   "source": [
    "X_cor_abs = abs(X_corr_mat[\"gender\"]).sort_values(ascending=False)"
   ]
  },
  {
   "cell_type": "code",
   "execution_count": 49,
   "metadata": {
    "ExecuteTime": {
     "end_time": "2021-06-11T10:54:57.488465Z",
     "start_time": "2021-06-11T10:54:57.473125Z"
    },
    "scrolled": true
   },
   "outputs": [],
   "source": [
    "df_cor = pd.DataFrame(X_cor_abs)\n",
    "df_cor2 = pd.DataFrame(X_cor)"
   ]
  },
  {
   "cell_type": "code",
   "execution_count": 34,
   "metadata": {
    "ExecuteTime": {
     "end_time": "2021-06-11T10:52:37.029210Z",
     "start_time": "2021-06-11T10:52:36.208653Z"
    }
   },
   "outputs": [
    {
     "data": {
      "text/plain": [
       "<BarContainer object of 19 artists>"
      ]
     },
     "execution_count": 34,
     "metadata": {},
     "output_type": "execute_result"
    },
    {
     "data": {
      "image/png": "[encoded data removed]",
      "text/plain": [
       "<Figure size 2160x720 with 1 Axes>"
      ]
     },
     "metadata": {
      "needs_background": "light"
     },
     "output_type": "display_data"
    }
   ],
   "source": [
    "# 양의 상관관계\n",
    "plt.figure(figsize=(30, 10))\n",
    "plt.xticks(rotation=30)\n",
    "plt.bar(df_cor2.index[1:20],df_cor2[\"gender\"][1:20])"
   ]
  },
  {
   "cell_type": "code",
   "execution_count": 35,
   "metadata": {
    "ExecuteTime": {
     "end_time": "2021-06-11T10:52:38.751205Z",
     "start_time": "2021-06-11T10:52:38.264789Z"
    }
   },
   "outputs": [
    {
     "data": {
      "text/plain": [
       "<BarContainer object of 12 artists>"
      ]
     },
     "execution_count": 35,
     "metadata": {},
     "output_type": "execute_result"
    },
    {
     "data": {
      "image/png": "[encoded data removed]",
      "text/plain": [
       "<Figure size 1800x720 with 1 Axes>"
      ]
     },
     "metadata": {
      "needs_background": "light"
     },
     "output_type": "display_data"
    }
   ],
   "source": [
    "# 음의 상관관계\n",
    "plt.figure(figsize=(25, 10))\n",
    "plt.bar(df_cor2.index[60:],df_cor2[\"gender\"][60:])"
   ]
  },
  {
   "cell_type": "code",
   "execution_count": 80,
   "metadata": {
    "ExecuteTime": {
     "end_time": "2021-06-11T11:09:28.758528Z",
     "start_time": "2021-06-11T11:09:28.093139Z"
    }
   },
   "outputs": [
    {
     "data": {
      "text/plain": [
       "<BarContainer object of 19 artists>"
      ]
     },
     "execution_count": 80,
     "metadata": {},
     "output_type": "execute_result"
    },
    {
     "data": {
      "image/png": "[encoded data removed]",
      "text/plain": [
       "<Figure size 1800x720 with 1 Axes>"
      ]
     },
     "metadata": {
      "needs_background": "light"
     },
     "output_type": "display_data"
    }
   ],
   "source": [
    "# 높은 상관관계\n",
    "plt.figure(figsize=(25, 10))\n",
    "plt.xticks(rotation=30)\n",
    "plt.bar(df_cor.index[1:20],df_cor[\"gender\"][1:20])"
   ]
  },
  {
   "cell_type": "code",
   "execution_count": 37,
   "metadata": {
    "ExecuteTime": {
     "end_time": "2021-06-11T10:52:40.057503Z",
     "start_time": "2021-06-11T10:52:39.542657Z"
    }
   },
   "outputs": [
    {
     "data": {
      "text/plain": [
       "<BarContainer object of 12 artists>"
      ]
     },
     "execution_count": 37,
     "metadata": {},
     "output_type": "execute_result"
    },
    {
     "data": {
      "image/png": "[encoded data removed]",
      "text/plain": [
       "<Figure size 1800x720 with 1 Axes>"
      ]
     },
     "metadata": {
      "needs_background": "light"
     },
     "output_type": "display_data"
    }
   ],
   "source": [
    "# 낮은 상관관계\n",
    "plt.figure(figsize=(25, 10))\n",
    "plt.bar(df_cor.index[60:],df_cor[\"gender\"][60:])"
   ]
  },
  {
   "cell_type": "code",
   "execution_count": 38,
   "metadata": {
    "ExecuteTime": {
     "end_time": "2021-06-11T10:52:42.175323Z",
     "start_time": "2021-06-11T10:52:40.061433Z"
    }
   },
   "outputs": [
    {
     "data": {
      "text/plain": [
       "<AxesSubplot:>"
      ]
     },
     "execution_count": 38,
     "metadata": {},
     "output_type": "execute_result"
    },
    {
     "data": {
      "image/png": "[encoded data removed]",
      "text/plain": [
       "<Figure size 720x360 with 2 Axes>"
      ]
     },
     "metadata": {
      "needs_background": "light"
     },
     "output_type": "display_data"
    }
   ],
   "source": [
    "# 변수별 상관관계\n",
    "plt.figure(figsize=(10,5))\n",
    "sns.heatmap(data = X_train.corr(), annot = True,\n",
    "            fmt = '.2f', linewidths=.5, cmap=\"Blues\")"
   ]
  },
  {
   "cell_type": "code",
   "execution_count": 302,
   "metadata": {
    "ExecuteTime": {
     "end_time": "2021-06-16T11:48:18.094193Z",
     "start_time": "2021-06-16T11:48:18.056410Z"
    }
   },
   "outputs": [
    {
     "data": {
      "text/html": [
       "<div>\n",
       "<style scoped>\n",
       "    .dataframe tbody tr th:only-of-type {\n",
       "        vertical-align: middle;\n",
       "    }\n",
       "\n",
       "    .dataframe tbody tr th {\n",
       "        vertical-align: top;\n",
       "    }\n",
       "\n",
       "    .dataframe thead th {\n",
       "        text-align: right;\n",
       "    }\n",
       "</style>\n",
       "<table border=\"1\" class=\"dataframe\">\n",
       "  <thead>\n",
       "    <tr style=\"text-align: right;\">\n",
       "      <th></th>\n",
       "      <th>총구매액</th>\n",
       "      <th>최대구매액</th>\n",
       "      <th>환불금액</th>\n",
       "      <th>내점일수</th>\n",
       "      <th>내점당구매건수</th>\n",
       "      <th>주말방문비율</th>\n",
       "      <th>구매주기</th>\n",
       "      <th>주구매상품_가구</th>\n",
       "      <th>주구매상품_건강식품</th>\n",
       "      <th>주구매상품_골프</th>\n",
       "      <th>...</th>\n",
       "      <th>주구매지점_안양점</th>\n",
       "      <th>주구매지점_영등포점</th>\n",
       "      <th>주구매지점_울산점</th>\n",
       "      <th>주구매지점_인천점</th>\n",
       "      <th>주구매지점_일산점</th>\n",
       "      <th>주구매지점_잠실점</th>\n",
       "      <th>주구매지점_전주점</th>\n",
       "      <th>주구매지점_창원점</th>\n",
       "      <th>주구매지점_청량리점</th>\n",
       "      <th>주구매지점_포항점</th>\n",
       "    </tr>\n",
       "  </thead>\n",
       "  <tbody>\n",
       "    <tr>\n",
       "      <th>0</th>\n",
       "      <td>68282840</td>\n",
       "      <td>11264000</td>\n",
       "      <td>6860000.000</td>\n",
       "      <td>19</td>\n",
       "      <td>3.895</td>\n",
       "      <td>0.527</td>\n",
       "      <td>17</td>\n",
       "      <td>0</td>\n",
       "      <td>0</td>\n",
       "      <td>0</td>\n",
       "      <td>...</td>\n",
       "      <td>0</td>\n",
       "      <td>0</td>\n",
       "      <td>0</td>\n",
       "      <td>0</td>\n",
       "      <td>0</td>\n",
       "      <td>0</td>\n",
       "      <td>0</td>\n",
       "      <td>0</td>\n",
       "      <td>0</td>\n",
       "      <td>0</td>\n",
       "    </tr>\n",
       "    <tr>\n",
       "      <th>1</th>\n",
       "      <td>2136000</td>\n",
       "      <td>2136000</td>\n",
       "      <td>300000.000</td>\n",
       "      <td>2</td>\n",
       "      <td>1.500</td>\n",
       "      <td>0.000</td>\n",
       "      <td>1</td>\n",
       "      <td>0</td>\n",
       "      <td>0</td>\n",
       "      <td>0</td>\n",
       "      <td>...</td>\n",
       "      <td>0</td>\n",
       "      <td>0</td>\n",
       "      <td>0</td>\n",
       "      <td>0</td>\n",
       "      <td>0</td>\n",
       "      <td>1</td>\n",
       "      <td>0</td>\n",
       "      <td>0</td>\n",
       "      <td>0</td>\n",
       "      <td>0</td>\n",
       "    </tr>\n",
       "    <tr>\n",
       "      <th>2</th>\n",
       "      <td>3197000</td>\n",
       "      <td>1639000</td>\n",
       "      <td>0.000</td>\n",
       "      <td>2</td>\n",
       "      <td>2.000</td>\n",
       "      <td>0.000</td>\n",
       "      <td>1</td>\n",
       "      <td>0</td>\n",
       "      <td>0</td>\n",
       "      <td>0</td>\n",
       "      <td>...</td>\n",
       "      <td>0</td>\n",
       "      <td>0</td>\n",
       "      <td>0</td>\n",
       "      <td>0</td>\n",
       "      <td>0</td>\n",
       "      <td>0</td>\n",
       "      <td>0</td>\n",
       "      <td>0</td>\n",
       "      <td>0</td>\n",
       "      <td>0</td>\n",
       "    </tr>\n",
       "    <tr>\n",
       "      <th>3</th>\n",
       "      <td>16077620</td>\n",
       "      <td>4935000</td>\n",
       "      <td>0.000</td>\n",
       "      <td>18</td>\n",
       "      <td>2.444</td>\n",
       "      <td>0.318</td>\n",
       "      <td>16</td>\n",
       "      <td>0</td>\n",
       "      <td>0</td>\n",
       "      <td>0</td>\n",
       "      <td>...</td>\n",
       "      <td>0</td>\n",
       "      <td>0</td>\n",
       "      <td>0</td>\n",
       "      <td>0</td>\n",
       "      <td>0</td>\n",
       "      <td>0</td>\n",
       "      <td>0</td>\n",
       "      <td>0</td>\n",
       "      <td>0</td>\n",
       "      <td>0</td>\n",
       "    </tr>\n",
       "    <tr>\n",
       "      <th>4</th>\n",
       "      <td>29050000</td>\n",
       "      <td>24000000</td>\n",
       "      <td>0.000</td>\n",
       "      <td>2</td>\n",
       "      <td>1.500</td>\n",
       "      <td>0.000</td>\n",
       "      <td>85</td>\n",
       "      <td>0</td>\n",
       "      <td>0</td>\n",
       "      <td>0</td>\n",
       "      <td>...</td>\n",
       "      <td>0</td>\n",
       "      <td>0</td>\n",
       "      <td>0</td>\n",
       "      <td>0</td>\n",
       "      <td>0</td>\n",
       "      <td>0</td>\n",
       "      <td>0</td>\n",
       "      <td>0</td>\n",
       "      <td>0</td>\n",
       "      <td>0</td>\n",
       "    </tr>\n",
       "    <tr>\n",
       "      <th>...</th>\n",
       "      <td>...</td>\n",
       "      <td>...</td>\n",
       "      <td>...</td>\n",
       "      <td>...</td>\n",
       "      <td>...</td>\n",
       "      <td>...</td>\n",
       "      <td>...</td>\n",
       "      <td>...</td>\n",
       "      <td>...</td>\n",
       "      <td>...</td>\n",
       "      <td>...</td>\n",
       "      <td>...</td>\n",
       "      <td>...</td>\n",
       "      <td>...</td>\n",
       "      <td>...</td>\n",
       "      <td>...</td>\n",
       "      <td>...</td>\n",
       "      <td>...</td>\n",
       "      <td>...</td>\n",
       "      <td>...</td>\n",
       "      <td>...</td>\n",
       "    </tr>\n",
       "    <tr>\n",
       "      <th>2477</th>\n",
       "      <td>82581500</td>\n",
       "      <td>23976000</td>\n",
       "      <td>0.000</td>\n",
       "      <td>8</td>\n",
       "      <td>1.750</td>\n",
       "      <td>0.643</td>\n",
       "      <td>40</td>\n",
       "      <td>0</td>\n",
       "      <td>0</td>\n",
       "      <td>1</td>\n",
       "      <td>...</td>\n",
       "      <td>0</td>\n",
       "      <td>0</td>\n",
       "      <td>0</td>\n",
       "      <td>0</td>\n",
       "      <td>0</td>\n",
       "      <td>0</td>\n",
       "      <td>0</td>\n",
       "      <td>0</td>\n",
       "      <td>0</td>\n",
       "      <td>0</td>\n",
       "    </tr>\n",
       "    <tr>\n",
       "      <th>2478</th>\n",
       "      <td>480000</td>\n",
       "      <td>480000</td>\n",
       "      <td>0.000</td>\n",
       "      <td>1</td>\n",
       "      <td>1.000</td>\n",
       "      <td>0.000</td>\n",
       "      <td>0</td>\n",
       "      <td>0</td>\n",
       "      <td>0</td>\n",
       "      <td>0</td>\n",
       "      <td>...</td>\n",
       "      <td>0</td>\n",
       "      <td>0</td>\n",
       "      <td>0</td>\n",
       "      <td>0</td>\n",
       "      <td>0</td>\n",
       "      <td>0</td>\n",
       "      <td>0</td>\n",
       "      <td>0</td>\n",
       "      <td>0</td>\n",
       "      <td>0</td>\n",
       "    </tr>\n",
       "    <tr>\n",
       "      <th>2479</th>\n",
       "      <td>260003790</td>\n",
       "      <td>25750000</td>\n",
       "      <td>0.000</td>\n",
       "      <td>19</td>\n",
       "      <td>3.737</td>\n",
       "      <td>0.915</td>\n",
       "      <td>18</td>\n",
       "      <td>0</td>\n",
       "      <td>0</td>\n",
       "      <td>0</td>\n",
       "      <td>...</td>\n",
       "      <td>0</td>\n",
       "      <td>0</td>\n",
       "      <td>0</td>\n",
       "      <td>0</td>\n",
       "      <td>0</td>\n",
       "      <td>0</td>\n",
       "      <td>0</td>\n",
       "      <td>0</td>\n",
       "      <td>0</td>\n",
       "      <td>0</td>\n",
       "    </tr>\n",
       "    <tr>\n",
       "      <th>2480</th>\n",
       "      <td>88991520</td>\n",
       "      <td>18120000</td>\n",
       "      <td>0.000</td>\n",
       "      <td>5</td>\n",
       "      <td>3.600</td>\n",
       "      <td>0.444</td>\n",
       "      <td>60</td>\n",
       "      <td>0</td>\n",
       "      <td>0</td>\n",
       "      <td>0</td>\n",
       "      <td>...</td>\n",
       "      <td>0</td>\n",
       "      <td>0</td>\n",
       "      <td>0</td>\n",
       "      <td>0</td>\n",
       "      <td>0</td>\n",
       "      <td>0</td>\n",
       "      <td>0</td>\n",
       "      <td>0</td>\n",
       "      <td>0</td>\n",
       "      <td>0</td>\n",
       "    </tr>\n",
       "    <tr>\n",
       "      <th>2481</th>\n",
       "      <td>623700</td>\n",
       "      <td>209000</td>\n",
       "      <td>0.000</td>\n",
       "      <td>2</td>\n",
       "      <td>5.000</td>\n",
       "      <td>0.000</td>\n",
       "      <td>31</td>\n",
       "      <td>0</td>\n",
       "      <td>0</td>\n",
       "      <td>0</td>\n",
       "      <td>...</td>\n",
       "      <td>0</td>\n",
       "      <td>1</td>\n",
       "      <td>0</td>\n",
       "      <td>0</td>\n",
       "      <td>0</td>\n",
       "      <td>0</td>\n",
       "      <td>0</td>\n",
       "      <td>0</td>\n",
       "      <td>0</td>\n",
       "      <td>0</td>\n",
       "    </tr>\n",
       "  </tbody>\n",
       "</table>\n",
       "<p>5982 rows × 71 columns</p>\n",
       "</div>"
      ],
      "text/plain": [
       "           총구매액     최대구매액        환불금액  내점일수  내점당구매건수  주말방문비율  구매주기  주구매상품_가구  \\\n",
       "0      68282840  11264000 6860000.000    19    3.895   0.527    17         0   \n",
       "1       2136000   2136000  300000.000     2    1.500   0.000     1         0   \n",
       "2       3197000   1639000       0.000     2    2.000   0.000     1         0   \n",
       "3      16077620   4935000       0.000    18    2.444   0.318    16         0   \n",
       "4      29050000  24000000       0.000     2    1.500   0.000    85         0   \n",
       "...         ...       ...         ...   ...      ...     ...   ...       ...   \n",
       "2477   82581500  23976000       0.000     8    1.750   0.643    40         0   \n",
       "2478     480000    480000       0.000     1    1.000   0.000     0         0   \n",
       "2479  260003790  25750000       0.000    19    3.737   0.915    18         0   \n",
       "2480   88991520  18120000       0.000     5    3.600   0.444    60         0   \n",
       "2481     623700    209000       0.000     2    5.000   0.000    31         0   \n",
       "\n",
       "      주구매상품_건강식품  주구매상품_골프  ...  주구매지점_안양점  주구매지점_영등포점  주구매지점_울산점  주구매지점_인천점  \\\n",
       "0              0         0  ...          0           0          0          0   \n",
       "1              0         0  ...          0           0          0          0   \n",
       "2              0         0  ...          0           0          0          0   \n",
       "3              0         0  ...          0           0          0          0   \n",
       "4              0         0  ...          0           0          0          0   \n",
       "...          ...       ...  ...        ...         ...        ...        ...   \n",
       "2477           0         1  ...          0           0          0          0   \n",
       "2478           0         0  ...          0           0          0          0   \n",
       "2479           0         0  ...          0           0          0          0   \n",
       "2480           0         0  ...          0           0          0          0   \n",
       "2481           0         0  ...          0           1          0          0   \n",
       "\n",
       "      주구매지점_일산점  주구매지점_잠실점  주구매지점_전주점  주구매지점_창원점  주구매지점_청량리점  주구매지점_포항점  \n",
       "0             0          0          0          0           0          0  \n",
       "1             0          1          0          0           0          0  \n",
       "2             0          0          0          0           0          0  \n",
       "3             0          0          0          0           0          0  \n",
       "4             0          0          0          0           0          0  \n",
       "...         ...        ...        ...        ...         ...        ...  \n",
       "2477          0          0          0          0           0          0  \n",
       "2478          0          0          0          0           0          0  \n",
       "2479          0          0          0          0           0          0  \n",
       "2480          0          0          0          0           0          0  \n",
       "2481          0          0          0          0           0          0  \n",
       "\n",
       "[5982 rows x 71 columns]"
      ]
     },
     "execution_count": 302,
     "metadata": {},
     "output_type": "execute_result"
    }
   ],
   "source": [
    "new_X = new_X.drop(\"cust_id\",axis=1)\n",
    "new_X"
   ]
  },
  {
   "cell_type": "markdown",
   "metadata": {},
   "source": [
    "### test"
   ]
  },
  {
   "cell_type": "code",
   "execution_count": 303,
   "metadata": {
    "ExecuteTime": {
     "end_time": "2021-06-16T11:48:22.070603Z",
     "start_time": "2021-06-16T11:48:22.052476Z"
    }
   },
   "outputs": [],
   "source": [
    "# train test 분리\n",
    "from sklearn.model_selection import train_test_split\n",
    "\n",
    "sX_train, sX_test, sy_train, sy_test = train_test_split(new_X[:3500], y_train[\"gender\"], test_size=0.25 , random_state=42, stratify=y_train[\"gender\"])"
   ]
  },
  {
   "cell_type": "code",
   "execution_count": 135,
   "metadata": {
    "ExecuteTime": {
     "end_time": "2021-06-16T09:21:26.596759Z",
     "start_time": "2021-06-16T09:21:26.586614Z"
    },
    "scrolled": true
   },
   "outputs": [],
   "source": [
    "# train test 분리\n",
    "from sklearn.model_selection import train_test_split\n",
    "\n",
    "sX_train, sX_test = train_test_split(new_X[:3500], test_size=0.25 , random_state=42)\n",
    "sy_train, sy_test = train_test_split(y_train[\"gender\"], test_size=0.25, random_state=42)"
   ]
  },
  {
   "cell_type": "code",
   "execution_count": 304,
   "metadata": {
    "ExecuteTime": {
     "end_time": "2021-06-16T11:48:25.752559Z",
     "start_time": "2021-06-16T11:48:25.743308Z"
    }
   },
   "outputs": [],
   "source": [
    "from sklearn.preprocessing import StandardScaler\n",
    "from sklearn.preprocessing import MinMaxScaler\n",
    "\n",
    "scaler = StandardScaler()\n",
    "mm_scaler = MinMaxScaler()"
   ]
  },
  {
   "cell_type": "code",
   "execution_count": 305,
   "metadata": {
    "ExecuteTime": {
     "end_time": "2021-06-16T11:48:26.373330Z",
     "start_time": "2021-06-16T11:48:26.334283Z"
    }
   },
   "outputs": [],
   "source": [
    "a = pd.DataFrame(scaler.fit_transform(sX_train.iloc[:,:7]), columns=sX_train.columns[:7],\n",
    "                 index=sX_train.index)\n",
    "st_train = pd.concat([a,sX_train.iloc[:,7:]],axis=1)\n",
    "b = pd.DataFrame(scaler.transform(sX_test.iloc[:,:7]), columns=sX_test.columns[:7],\n",
    "                 index=sX_test.index)\n",
    "st_test = pd.concat([b,sX_test.iloc[:,7:]],axis=1)\n",
    "c = pd.DataFrame(mm_scaler.fit_transform(sX_train.iloc[:,:7]), columns=sX_train.columns[:7],\n",
    "                 index=sX_train.index)\n",
    "mm_train = pd.concat([a,sX_train.iloc[:,7:]],axis=1)\n",
    "d = pd.DataFrame(mm_scaler.transform(sX_test.iloc[:,:7]), columns=sX_test.columns[:7],\n",
    "                 index=sX_test.index)\n",
    "mm_test = pd.concat([b,sX_test.iloc[:,7:]],axis=1)"
   ]
  },
  {
   "cell_type": "markdown",
   "metadata": {},
   "source": [
    "### 로지스틱"
   ]
  },
  {
   "cell_type": "code",
   "execution_count": 306,
   "metadata": {
    "ExecuteTime": {
     "end_time": "2021-06-16T11:48:28.433404Z",
     "start_time": "2021-06-16T11:48:28.361432Z"
    },
    "scrolled": true
   },
   "outputs": [
    {
     "name": "stdout",
     "output_type": "stream",
     "text": [
      "0.6383758085885745\n"
     ]
    }
   ],
   "source": [
    "from sklearn.linear_model import LogisticRegression\n",
    "from sklearn.metrics import roc_auc_score\n",
    "\n",
    "# standard\n",
    "log_reg = LogisticRegression(solver=\"lbfgs\", random_state=42)\n",
    "log_reg.fit(st_train,sy_train)\n",
    "log_y_pred = log_reg.predict_proba(st_test)\n",
    "log_score = roc_auc_score(sy_test,log_y_pred[:,1])\n",
    "print(log_score)"
   ]
  },
  {
   "cell_type": "code",
   "execution_count": 307,
   "metadata": {
    "ExecuteTime": {
     "end_time": "2021-06-16T11:48:29.684198Z",
     "start_time": "2021-06-16T11:48:29.349900Z"
    }
   },
   "outputs": [
    {
     "data": {
      "text/plain": [
       "0.5757874344500484"
      ]
     },
     "execution_count": 307,
     "metadata": {},
     "output_type": "execute_result"
    }
   ],
   "source": [
    "from sklearn.neighbors import KNeighborsClassifier\n",
    "\n",
    "kn_clf = KNeighborsClassifier(n_neighbors=2000)\n",
    "kn_clf.fit(st_train,sy_train)\n",
    "y_pred = kn_clf.predict_proba(st_test)\n",
    "roc_auc_score(sy_test,y_pred[:,1])"
   ]
  },
  {
   "cell_type": "code",
   "execution_count": 308,
   "metadata": {
    "ExecuteTime": {
     "end_time": "2021-06-16T11:48:29.761177Z",
     "start_time": "2021-06-16T11:48:29.686199Z"
    }
   },
   "outputs": [
    {
     "name": "stdout",
     "output_type": "stream",
     "text": [
      "0.6383758085885745\n"
     ]
    }
   ],
   "source": [
    "# minmax\n",
    "log_reg = LogisticRegression(solver=\"lbfgs\", random_state=42)\n",
    "log_reg.fit(mm_train,sy_train)\n",
    "log_y_pred = log_reg.predict_proba(mm_test)\n",
    "log_score = roc_auc_score(sy_test,log_y_pred[:,1])\n",
    "print(log_score)"
   ]
  },
  {
   "cell_type": "markdown",
   "metadata": {
    "ExecuteTime": {
     "end_time": "2021-06-05T07:39:09.019255Z",
     "start_time": "2021-06-05T07:39:08.993342Z"
    }
   },
   "source": [
    "### 랜덤포레스트"
   ]
  },
  {
   "cell_type": "code",
   "execution_count": 309,
   "metadata": {
    "ExecuteTime": {
     "end_time": "2021-06-16T11:48:47.796793Z",
     "start_time": "2021-06-16T11:48:32.878718Z"
    },
    "scrolled": true
   },
   "outputs": [
    {
     "data": {
      "text/plain": [
       "GridSearchCV(cv=2, estimator=RandomForestClassifier(n_jobs=-1, random_state=42),\n",
       "             n_jobs=-1,\n",
       "             param_grid={'max_depth': [6, 8, 10, 12],\n",
       "                         'min_samples_leaf': [8, 12, 18],\n",
       "                         'min_samples_split': [8, 10, 12, 20],\n",
       "                         'n_estimators': [100]})"
      ]
     },
     "execution_count": 309,
     "metadata": {},
     "output_type": "execute_result"
    }
   ],
   "source": [
    "from sklearn.model_selection import GridSearchCV\n",
    "from sklearn.ensemble import RandomForestClassifier\n",
    "\n",
    "params ={\n",
    "    'n_estimators':[100],\n",
    "    'max_depth':[6,8,10,12],\n",
    "    'min_samples_leaf':[8,12,18],\n",
    "    'min_samples_split':[8,10,12,20]\n",
    "}\n",
    "\n",
    "\n",
    "rf = RandomForestClassifier(random_state=42, n_jobs=-1)\n",
    "grid_cv = GridSearchCV(rf, param_grid=params, cv=2, n_jobs=-1)\n",
    "grid_cv.fit(st_train,sy_train)"
   ]
  },
  {
   "cell_type": "code",
   "execution_count": 310,
   "metadata": {
    "ExecuteTime": {
     "end_time": "2021-06-16T11:50:04.495223Z",
     "start_time": "2021-06-16T11:50:04.475883Z"
    }
   },
   "outputs": [
    {
     "data": {
      "text/plain": [
       "{'max_depth': 8,\n",
       " 'min_samples_leaf': 8,\n",
       " 'min_samples_split': 8,\n",
       " 'n_estimators': 100}"
      ]
     },
     "execution_count": 310,
     "metadata": {},
     "output_type": "execute_result"
    }
   ],
   "source": [
    "grid_cv.best_params_"
   ]
  },
  {
   "cell_type": "code",
   "execution_count": 240,
   "metadata": {
    "ExecuteTime": {
     "end_time": "2021-06-16T09:43:11.197978Z",
     "start_time": "2021-06-16T09:43:11.176405Z"
    }
   },
   "outputs": [
    {
     "data": {
      "text/plain": [
       "0.6514272147195957"
      ]
     },
     "execution_count": 240,
     "metadata": {},
     "output_type": "execute_result"
    }
   ],
   "source": [
    "grid_cv.best_score_"
   ]
  },
  {
   "cell_type": "code",
   "execution_count": 241,
   "metadata": {
    "ExecuteTime": {
     "end_time": "2021-06-16T09:43:13.452725Z",
     "start_time": "2021-06-16T09:43:13.163274Z"
    }
   },
   "outputs": [
    {
     "name": "stdout",
     "output_type": "stream",
     "text": [
      "0.6478116614894731\n"
     ]
    }
   ],
   "source": [
    "rnd_clf = RandomForestClassifier(n_estimators=100, max_depth = 8, min_samples_leaf=8,\n",
    "                                min_samples_split=8,random_state=42)\n",
    "rnd_clf.fit(st_train,sy_train)\n",
    "rnd_y_pred = rnd_clf.predict_proba(st_test)\n",
    "rnd_scores = roc_auc_score(sy_test, rnd_y_pred[:,1])\n",
    "print(rnd_scores)"
   ]
  },
  {
   "cell_type": "code",
   "execution_count": 341,
   "metadata": {
    "ExecuteTime": {
     "end_time": "2021-06-12T11:08:58.400103Z",
     "start_time": "2021-06-12T11:08:58.379817Z"
    },
    "scrolled": true
   },
   "outputs": [
    {
     "data": {
      "text/plain": [
       "['BaseCrossValidator',\n",
       " 'GridSearchCV',\n",
       " 'GroupKFold',\n",
       " 'GroupShuffleSplit',\n",
       " 'KFold']"
      ]
     },
     "execution_count": 341,
     "metadata": {},
     "output_type": "execute_result"
    }
   ],
   "source": [
    "import sklearn.model_selection\n",
    "dir(sklearn.model_selection)[:5]"
   ]
  },
  {
   "cell_type": "markdown",
   "metadata": {},
   "source": [
    "### 변수 중요도에 따른 축소"
   ]
  },
  {
   "cell_type": "code",
   "execution_count": 165,
   "metadata": {
    "ExecuteTime": {
     "end_time": "2021-06-16T09:27:45.188005Z",
     "start_time": "2021-06-16T09:27:45.175882Z"
    }
   },
   "outputs": [],
   "source": [
    "colname = new_X.columns"
   ]
  },
  {
   "cell_type": "code",
   "execution_count": 170,
   "metadata": {
    "ExecuteTime": {
     "end_time": "2021-06-16T09:29:02.064041Z",
     "start_time": "2021-06-16T09:29:01.778886Z"
    }
   },
   "outputs": [
    {
     "data": {
      "text/plain": [
       "RandomForestClassifier(max_depth=8, min_samples_leaf=8, min_samples_split=8,\n",
       "                       random_state=42)"
      ]
     },
     "execution_count": 170,
     "metadata": {},
     "output_type": "execute_result"
    }
   ],
   "source": [
    "rnd_clf = RandomForestClassifier(n_estimators=100, max_depth = 8, min_samples_leaf=8,\n",
    "                                min_samples_split=8,random_state=42)\n",
    "rnd_clf.fit(st_train,sy_train)"
   ]
  },
  {
   "cell_type": "code",
   "execution_count": 171,
   "metadata": {
    "ExecuteTime": {
     "end_time": "2021-06-16T09:29:03.044004Z",
     "start_time": "2021-06-16T09:29:03.007443Z"
    }
   },
   "outputs": [
    {
     "data": {
      "text/plain": [
       "array([1.37409998e-01, 1.16652290e-01, 1.26055045e-01, 1.46862947e-01,\n",
       "       6.43637142e-02, 1.07709252e-01, 9.09974013e-02, 0.00000000e+00,\n",
       "       5.73157844e-04, 5.35875751e-03, 1.60125965e-03, 5.19563658e-03,\n",
       "       1.84211224e-02, 0.00000000e+00, 9.91016662e-03, 1.07755062e-02,\n",
       "       0.00000000e+00, 3.24182391e-02, 0.00000000e+00, 2.43564938e-03,\n",
       "       1.85134827e-03, 0.00000000e+00, 0.00000000e+00, 2.03907557e-03,\n",
       "       1.60616303e-03, 0.00000000e+00, 2.01959900e-03, 9.01634426e-03,\n",
       "       2.15864175e-02, 0.00000000e+00, 2.88805338e-04, 0.00000000e+00,\n",
       "       0.00000000e+00, 9.85465823e-04, 1.90118364e-03, 7.12300028e-04,\n",
       "       0.00000000e+00, 1.38751926e-03, 3.84114190e-04, 7.16256455e-04,\n",
       "       3.16590807e-04, 0.00000000e+00, 2.85955848e-03, 0.00000000e+00,\n",
       "       0.00000000e+00, 1.15135277e-04, 1.84945321e-03, 2.03167579e-02,\n",
       "       1.81933994e-04, 4.89111395e-03, 2.63440085e-03, 0.00000000e+00,\n",
       "       7.52977457e-04, 7.69045191e-04, 1.25853455e-03, 1.58365393e-02,\n",
       "       5.61222577e-03, 8.70404411e-04, 5.52085060e-03, 0.00000000e+00,\n",
       "       0.00000000e+00, 9.38073113e-04, 3.59906407e-03, 0.00000000e+00,\n",
       "       4.82871160e-04, 3.35020707e-03, 4.89224704e-03, 0.00000000e+00,\n",
       "       0.00000000e+00, 1.71728025e-03, 0.00000000e+00])"
      ]
     },
     "execution_count": 171,
     "metadata": {},
     "output_type": "execute_result"
    }
   ],
   "source": [
    "rnd_clf.feature_importances_"
   ]
  },
  {
   "cell_type": "code",
   "execution_count": 181,
   "metadata": {
    "ExecuteTime": {
     "end_time": "2021-06-16T09:30:26.586117Z",
     "start_time": "2021-06-16T09:30:26.557517Z"
    }
   },
   "outputs": [
    {
     "data": {
      "text/html": [
       "<div>\n",
       "<style scoped>\n",
       "    .dataframe tbody tr th:only-of-type {\n",
       "        vertical-align: middle;\n",
       "    }\n",
       "\n",
       "    .dataframe tbody tr th {\n",
       "        vertical-align: top;\n",
       "    }\n",
       "\n",
       "    .dataframe thead th {\n",
       "        text-align: right;\n",
       "    }\n",
       "</style>\n",
       "<table border=\"1\" class=\"dataframe\">\n",
       "  <thead>\n",
       "    <tr style=\"text-align: right;\">\n",
       "      <th></th>\n",
       "      <th>importance</th>\n",
       "    </tr>\n",
       "  </thead>\n",
       "  <tbody>\n",
       "    <tr>\n",
       "      <th>주구매상품_가구</th>\n",
       "      <td>0.000</td>\n",
       "    </tr>\n",
       "    <tr>\n",
       "      <th>주구매상품_남성 트랜디</th>\n",
       "      <td>0.000</td>\n",
       "    </tr>\n",
       "    <tr>\n",
       "      <th>주구매상품_대형가전</th>\n",
       "      <td>0.000</td>\n",
       "    </tr>\n",
       "    <tr>\n",
       "      <th>주구매상품_란제리/내의</th>\n",
       "      <td>0.000</td>\n",
       "    </tr>\n",
       "    <tr>\n",
       "      <th>주구매상품_보석</th>\n",
       "      <td>0.000</td>\n",
       "    </tr>\n",
       "    <tr>\n",
       "      <th>주구매상품_생활잡화</th>\n",
       "      <td>0.000</td>\n",
       "    </tr>\n",
       "    <tr>\n",
       "      <th>주구매상품_소형가전</th>\n",
       "      <td>0.000</td>\n",
       "    </tr>\n",
       "    <tr>\n",
       "      <th>주구매상품_식기</th>\n",
       "      <td>0.000</td>\n",
       "    </tr>\n",
       "    <tr>\n",
       "      <th>주구매상품_악기</th>\n",
       "      <td>0.000</td>\n",
       "    </tr>\n",
       "    <tr>\n",
       "      <th>주구매상품_액세서리</th>\n",
       "      <td>0.000</td>\n",
       "    </tr>\n",
       "    <tr>\n",
       "      <th>주구매상품_주류</th>\n",
       "      <td>0.000</td>\n",
       "    </tr>\n",
       "    <tr>\n",
       "      <th>주구매상품_침구/수예</th>\n",
       "      <td>0.000</td>\n",
       "    </tr>\n",
       "    <tr>\n",
       "      <th>주구매상품_커리어</th>\n",
       "      <td>0.000</td>\n",
       "    </tr>\n",
       "    <tr>\n",
       "      <th>주구매상품_통신/컴퓨터</th>\n",
       "      <td>0.000</td>\n",
       "    </tr>\n",
       "    <tr>\n",
       "      <th>주구매지점_대구점</th>\n",
       "      <td>0.000</td>\n",
       "    </tr>\n",
       "    <tr>\n",
       "      <th>주구매지점_상인점</th>\n",
       "      <td>0.000</td>\n",
       "    </tr>\n",
       "    <tr>\n",
       "      <th>주구매지점_센텀시티점</th>\n",
       "      <td>0.000</td>\n",
       "    </tr>\n",
       "    <tr>\n",
       "      <th>주구매지점_울산점</th>\n",
       "      <td>0.000</td>\n",
       "    </tr>\n",
       "    <tr>\n",
       "      <th>주구매지점_전주점</th>\n",
       "      <td>0.000</td>\n",
       "    </tr>\n",
       "    <tr>\n",
       "      <th>주구매지점_창원점</th>\n",
       "      <td>0.000</td>\n",
       "    </tr>\n",
       "    <tr>\n",
       "      <th>주구매지점_포항점</th>\n",
       "      <td>0.000</td>\n",
       "    </tr>\n",
       "  </tbody>\n",
       "</table>\n",
       "</div>"
      ],
      "text/plain": [
       "              importance\n",
       "주구매상품_가구           0.000\n",
       "주구매상품_남성 트랜디       0.000\n",
       "주구매상품_대형가전         0.000\n",
       "주구매상품_란제리/내의       0.000\n",
       "주구매상품_보석           0.000\n",
       "주구매상품_생활잡화         0.000\n",
       "주구매상품_소형가전         0.000\n",
       "주구매상품_식기           0.000\n",
       "주구매상품_악기           0.000\n",
       "주구매상품_액세서리         0.000\n",
       "주구매상품_주류           0.000\n",
       "주구매상품_침구/수예        0.000\n",
       "주구매상품_커리어          0.000\n",
       "주구매상품_통신/컴퓨터       0.000\n",
       "주구매지점_대구점          0.000\n",
       "주구매지점_상인점          0.000\n",
       "주구매지점_센텀시티점        0.000\n",
       "주구매지점_울산점          0.000\n",
       "주구매지점_전주점          0.000\n",
       "주구매지점_창원점          0.000\n",
       "주구매지점_포항점          0.000"
      ]
     },
     "execution_count": 181,
     "metadata": {},
     "output_type": "execute_result"
    }
   ],
   "source": [
    "imp = rnd_clf.feature_importances_\n",
    "df_imp = pd.DataFrame(imp,index=colname, columns=[\"importance\"])\n",
    "df_imp[df_imp[\"importance\"] == 0]"
   ]
  },
  {
   "cell_type": "code",
   "execution_count": 182,
   "metadata": {
    "ExecuteTime": {
     "end_time": "2021-06-16T09:30:46.476606Z",
     "start_time": "2021-06-16T09:30:46.457496Z"
    }
   },
   "outputs": [],
   "source": [
    "dind = df_imp[df_imp.importance == 0].index"
   ]
  },
  {
   "cell_type": "code",
   "execution_count": 184,
   "metadata": {
    "ExecuteTime": {
     "end_time": "2021-06-16T09:31:00.891280Z",
     "start_time": "2021-06-16T09:31:00.872345Z"
    }
   },
   "outputs": [],
   "source": [
    "nnew_X = new_X.drop(dind,axis=1)"
   ]
  },
  {
   "cell_type": "code",
   "execution_count": 203,
   "metadata": {
    "ExecuteTime": {
     "end_time": "2021-06-16T09:35:27.262158Z",
     "start_time": "2021-06-16T09:35:27.218158Z"
    }
   },
   "outputs": [],
   "source": [
    "# train test 분리\n",
    "from sklearn.model_selection import train_test_split\n",
    "\n",
    "sX_train, sX_test, sy_train, sy_test = train_test_split(nnew_X[:3500], y_train[\"gender\"], test_size=0.25 , random_state=42, stratify=y_train[\"gender\"])\n",
    "\n",
    "from sklearn.preprocessing import StandardScaler\n",
    "from sklearn.preprocessing import MinMaxScaler\n",
    "\n",
    "scaler = StandardScaler()\n",
    "mm_scaler = MinMaxScaler()\n",
    "\n",
    "a = pd.DataFrame(scaler.fit_transform(sX_train.iloc[:,:7]), columns=sX_train.columns[:7],\n",
    "                 index=sX_train.index)\n",
    "st_train = pd.concat([a,sX_train.iloc[:,7:]],axis=1)\n",
    "b = pd.DataFrame(scaler.transform(sX_test.iloc[:,:7]), columns=sX_test.columns[:7],\n",
    "                 index=sX_test.index)\n",
    "st_test = pd.concat([b,sX_test.iloc[:,7:]],axis=1)\n",
    "c = pd.DataFrame(mm_scaler.fit_transform(sX_train.iloc[:,:7]), columns=sX_train.columns[:7],\n",
    "                 index=sX_train.index)\n",
    "mm_train = pd.concat([a,sX_train.iloc[:,7:]],axis=1)\n",
    "d = pd.DataFrame(mm_scaler.transform(sX_test.iloc[:,:7]), columns=sX_test.columns[:7],\n",
    "                 index=sX_test.index)\n",
    "mm_test = pd.concat([b,sX_test.iloc[:,7:]],axis=1)"
   ]
  },
  {
   "cell_type": "code",
   "execution_count": 198,
   "metadata": {
    "ExecuteTime": {
     "end_time": "2021-06-16T09:34:42.635361Z",
     "start_time": "2021-06-16T09:34:31.205072Z"
    }
   },
   "outputs": [
    {
     "data": {
      "text/plain": [
       "GridSearchCV(cv=2, estimator=RandomForestClassifier(n_jobs=-1, random_state=42),\n",
       "             n_jobs=-1,\n",
       "             param_grid={'max_depth': [6, 8, 10, 12],\n",
       "                         'min_samples_leaf': [8, 10, 12, 14],\n",
       "                         'min_samples_split': [8, 10, 12, 14],\n",
       "                         'n_estimators': [100]})"
      ]
     },
     "execution_count": 198,
     "metadata": {},
     "output_type": "execute_result"
    }
   ],
   "source": [
    "params ={\n",
    "    'n_estimators':[100],\n",
    "    'max_depth':[6,8,10,12],\n",
    "    'min_samples_leaf':[8,10,12,14],\n",
    "    'min_samples_split':[8,10,12,14]\n",
    "}\n",
    "\n",
    "\n",
    "rf = RandomForestClassifier(random_state=42, n_jobs=-1)\n",
    "grid_cv = GridSearchCV(rf, param_grid=params, cv=2, n_jobs=-1)\n",
    "grid_cv.fit(st_train,sy_train)"
   ]
  },
  {
   "cell_type": "code",
   "execution_count": 199,
   "metadata": {
    "ExecuteTime": {
     "end_time": "2021-06-16T09:34:43.892759Z",
     "start_time": "2021-06-16T09:34:43.878697Z"
    }
   },
   "outputs": [
    {
     "data": {
      "text/plain": [
       "{'max_depth': 8,\n",
       " 'min_samples_leaf': 12,\n",
       " 'min_samples_split': 8,\n",
       " 'n_estimators': 100}"
      ]
     },
     "execution_count": 199,
     "metadata": {},
     "output_type": "execute_result"
    }
   ],
   "source": [
    "grid_cv.best_params_"
   ]
  },
  {
   "cell_type": "code",
   "execution_count": 200,
   "metadata": {
    "ExecuteTime": {
     "end_time": "2021-06-16T09:34:51.646396Z",
     "start_time": "2021-06-16T09:34:51.362661Z"
    }
   },
   "outputs": [
    {
     "name": "stdout",
     "output_type": "stream",
     "text": [
      "0.6965850174882193\n"
     ]
    }
   ],
   "source": [
    "rnd_clf = RandomForestClassifier(n_estimators=100, max_depth =8, min_samples_leaf=12,\n",
    "                                 min_samples_split=8,random_state=42)\n",
    "rnd_clf.fit(st_train,sy_train)\n",
    "rnd_y_pred = rnd_clf.predict_proba(st_test)\n",
    "rnd_scores = roc_auc_score(sy_test, rnd_y_pred[:,1])\n",
    "print(rnd_scores)"
   ]
  },
  {
   "cell_type": "code",
   "execution_count": 201,
   "metadata": {
    "ExecuteTime": {
     "end_time": "2021-06-16T09:34:53.608372Z",
     "start_time": "2021-06-16T09:34:53.592359Z"
    }
   },
   "outputs": [],
   "source": [
    "def plot_roc_curve(fpr,tpr,label=None):\n",
    "    plt.plot(fpr,tpr,linewidth=2,label=label)\n",
    "    plt.plot([0,1],[0,1], 'k--')"
   ]
  },
  {
   "cell_type": "code",
   "execution_count": 202,
   "metadata": {
    "ExecuteTime": {
     "end_time": "2021-06-16T09:34:54.074043Z",
     "start_time": "2021-06-16T09:34:53.898675Z"
    }
   },
   "outputs": [
    {
     "data": {
      "image/png": "[encoded data removed]",
      "text/plain": [
       "<Figure size 432x288 with 1 Axes>"
      ]
     },
     "metadata": {
      "needs_background": "light"
     },
     "output_type": "display_data"
    }
   ],
   "source": [
    "from sklearn.metrics import roc_curve\n",
    "\n",
    "fpr,tpr,thresholds = roc_curve(sy_test,rnd_y_pred[:,1])\n",
    "plot_roc_curve(fpr,tpr,\"랜덤 포레스트\")\n",
    "plt.show()"
   ]
  },
  {
   "cell_type": "markdown",
   "metadata": {},
   "source": [
    "### PCA로 변수 축소"
   ]
  },
  {
   "cell_type": "code",
   "execution_count": 204,
   "metadata": {
    "ExecuteTime": {
     "end_time": "2021-06-16T09:35:45.544819Z",
     "start_time": "2021-06-16T09:35:45.504649Z"
    }
   },
   "outputs": [],
   "source": [
    "# train test 분리\n",
    "from sklearn.model_selection import train_test_split\n",
    "\n",
    "sX_train, sX_test, sy_train, sy_test = train_test_split(new_X[:3500], y_train[\"gender\"], test_size=0.25 , random_state=42, stratify=y_train[\"gender\"])\n",
    "\n",
    "from sklearn.preprocessing import StandardScaler\n",
    "from sklearn.preprocessing import MinMaxScaler\n",
    "\n",
    "scaler = StandardScaler()\n",
    "mm_scaler = MinMaxScaler()\n",
    "\n",
    "a = pd.DataFrame(scaler.fit_transform(sX_train.iloc[:,:7]), columns=sX_train.columns[:7],\n",
    "                 index=sX_train.index)\n",
    "st_train = pd.concat([a,sX_train.iloc[:,7:]],axis=1)\n",
    "b = pd.DataFrame(scaler.transform(sX_test.iloc[:,:7]), columns=sX_test.columns[:7],\n",
    "                 index=sX_test.index)\n",
    "st_test = pd.concat([b,sX_test.iloc[:,7:]],axis=1)\n",
    "c = pd.DataFrame(mm_scaler.fit_transform(sX_train.iloc[:,:7]), columns=sX_train.columns[:7],\n",
    "                 index=sX_train.index)\n",
    "mm_train = pd.concat([a,sX_train.iloc[:,7:]],axis=1)\n",
    "d = pd.DataFrame(mm_scaler.transform(sX_test.iloc[:,:7]), columns=sX_test.columns[:7],\n",
    "                 index=sX_test.index)\n",
    "mm_test = pd.concat([b,sX_test.iloc[:,7:]],axis=1)"
   ]
  },
  {
   "cell_type": "code",
   "execution_count": 228,
   "metadata": {
    "ExecuteTime": {
     "end_time": "2021-06-16T09:41:49.793030Z",
     "start_time": "2021-06-16T09:41:49.716469Z"
    }
   },
   "outputs": [
    {
     "data": {
      "text/plain": [
       "0.9873638985041826"
      ]
     },
     "execution_count": 228,
     "metadata": {},
     "output_type": "execute_result"
    }
   ],
   "source": [
    "from sklearn.decomposition import PCA\n",
    "\n",
    "pca = PCA(n_components=40)\n",
    "X_reduced = pca.fit_transform(st_train)\n",
    "X_reduced_test = pca.transform(st_test)\n",
    "X_recovered = pca.inverse_transform(X_reduced)\n",
    "pca.explained_variance_ratio_.sum()"
   ]
  },
  {
   "cell_type": "code",
   "execution_count": 229,
   "metadata": {
    "ExecuteTime": {
     "end_time": "2021-06-16T09:41:58.762181Z",
     "start_time": "2021-06-16T09:41:49.924703Z"
    }
   },
   "outputs": [
    {
     "data": {
      "text/plain": [
       "GridSearchCV(cv=2, estimator=RandomForestClassifier(n_jobs=-1, random_state=42),\n",
       "             n_jobs=-1,\n",
       "             param_grid={'max_depth': [6, 8, 10, 12],\n",
       "                         'min_samples_leaf': [8, 12, 18],\n",
       "                         'min_samples_split': [8, 16, 20],\n",
       "                         'n_estimators': [100]})"
      ]
     },
     "execution_count": 229,
     "metadata": {},
     "output_type": "execute_result"
    }
   ],
   "source": [
    "from sklearn.model_selection import GridSearchCV\n",
    "from sklearn.ensemble import RandomForestClassifier\n",
    "\n",
    "params ={\n",
    "    'n_estimators':[100],\n",
    "    'max_depth':[6,8,10,12],\n",
    "    'min_samples_leaf':[8,12,18],\n",
    "    'min_samples_split':[8,16,20]\n",
    "}\n",
    "\n",
    "rf = RandomForestClassifier(random_state=42, n_jobs=-1)\n",
    "grid_cv = GridSearchCV(rf, param_grid=params, cv=2, n_jobs=-1)\n",
    "grid_cv.fit(X_reduced,sy_train)"
   ]
  },
  {
   "cell_type": "code",
   "execution_count": 230,
   "metadata": {
    "ExecuteTime": {
     "end_time": "2021-06-16T09:41:59.515980Z",
     "start_time": "2021-06-16T09:41:59.497981Z"
    }
   },
   "outputs": [
    {
     "data": {
      "text/plain": [
       "RandomForestClassifier(max_depth=6, min_samples_leaf=8, min_samples_split=20,\n",
       "                       n_jobs=-1, random_state=42)"
      ]
     },
     "execution_count": 230,
     "metadata": {},
     "output_type": "execute_result"
    }
   ],
   "source": [
    "grid_cv.best_estimator_"
   ]
  },
  {
   "cell_type": "code",
   "execution_count": 231,
   "metadata": {
    "ExecuteTime": {
     "end_time": "2021-06-16T09:42:08.767905Z",
     "start_time": "2021-06-16T09:42:08.078303Z"
    }
   },
   "outputs": [
    {
     "name": "stdout",
     "output_type": "stream",
     "text": [
      "0.6459161405969917\n"
     ]
    }
   ],
   "source": [
    "rnd_clf = RandomForestClassifier(n_estimators=100, max_depth = 6, min_samples_leaf=8,\n",
    "                                 min_samples_split=20,random_state=42)\n",
    "rnd_clf.fit(X_reduced,sy_train)\n",
    "rnd_y_pred = rnd_clf.predict_proba(X_reduced_test)\n",
    "rnd_scores = roc_auc_score(sy_test, rnd_y_pred[:,1])\n",
    "print(rnd_scores)\n"
   ]
  },
  {
   "cell_type": "markdown",
   "metadata": {},
   "source": [
    "### 혼동행렬"
   ]
  },
  {
   "cell_type": "code",
   "execution_count": 252,
   "metadata": {
    "ExecuteTime": {
     "end_time": "2021-06-06T09:43:14.451853Z",
     "start_time": "2021-06-06T09:43:14.359510Z"
    }
   },
   "outputs": [
    {
     "name": "stdout",
     "output_type": "stream",
     "text": [
      "[[1600  157]\n",
      " [ 722  321]]\n"
     ]
    },
    {
     "data": {
      "text/plain": [
       "0.3077660594439118"
      ]
     },
     "execution_count": 252,
     "metadata": {},
     "output_type": "execute_result"
    }
   ],
   "source": [
    "from sklearn.metrics import confusion_matrix\n",
    "from sklearn.metrics import recall_score\n",
    "\n",
    "print(confusion_matrix(sy_train, rnd_clf.predict(st_train)))\n",
    "recall_score(sy_train, rnd_clf.predict(st_train))"
   ]
  },
  {
   "cell_type": "code",
   "execution_count": 254,
   "metadata": {
    "ExecuteTime": {
     "end_time": "2021-06-06T09:45:02.120678Z",
     "start_time": "2021-06-06T09:45:02.101622Z"
    }
   },
   "outputs": [
    {
     "data": {
      "text/plain": [
       "0.910643141718839"
      ]
     },
     "execution_count": 254,
     "metadata": {},
     "output_type": "execute_result"
    }
   ],
   "source": [
    "1600/(1600+157)"
   ]
  },
  {
   "cell_type": "code",
   "execution_count": 238,
   "metadata": {
    "ExecuteTime": {
     "end_time": "2021-06-06T09:37:08.093163Z",
     "start_time": "2021-06-06T09:37:07.503834Z"
    }
   },
   "outputs": [
    {
     "name": "stdout",
     "output_type": "stream",
     "text": [
      "0.6913511936931139\n",
      "0.69131687984147\n"
     ]
    }
   ],
   "source": [
    "rnd_clf = RandomForestClassifier(n_estimators=100, max_depth =8, min_samples_leaf=12,\n",
    "                                 min_samples_split=8,random_state=42)\n",
    "rnd_clf.fit(st_train,sy_train)\n",
    "rnd_y_pred = rnd_clf.predict_proba(st_test)\n",
    "rnd_scores = roc_auc_score(sy_test, rnd_y_pred[:,1])\n",
    "print(rnd_scores)\n",
    "\n",
    "rnd_clf = RandomForestClassifier(n_estimators=100, max_depth =8, min_samples_leaf=12,\n",
    "                                 min_samples_split=8,random_state=42)\n",
    "rnd_clf.fit(mm_train,sy_train)\n",
    "rnd_y_pred = rnd_clf.predict_proba(mm_test)\n",
    "rnd_scores = roc_auc_score(sy_test, rnd_y_pred[:,1])\n",
    "print(rnd_scores)"
   ]
  },
  {
   "cell_type": "markdown",
   "metadata": {},
   "source": [
    "### 서포트 벡터"
   ]
  },
  {
   "cell_type": "code",
   "execution_count": 242,
   "metadata": {
    "ExecuteTime": {
     "end_time": "2021-06-16T09:43:24.559363Z",
     "start_time": "2021-06-16T09:43:22.536355Z"
    },
    "scrolled": true
   },
   "outputs": [
    {
     "data": {
      "text/plain": [
       "GridSearchCV(cv=2, estimator=SVC(kernel='linear', random_state=42), n_jobs=1,\n",
       "             param_grid={'C': [0.01, 0.1, 5, 7, 9]})"
      ]
     },
     "execution_count": 242,
     "metadata": {},
     "output_type": "execute_result"
    }
   ],
   "source": [
    "from sklearn.model_selection import GridSearchCV\n",
    "from sklearn.svm import SVC\n",
    "\n",
    "params ={\n",
    "    'C':[0.01,0.1,5,7,9]\n",
    "}\n",
    "\n",
    "svc = SVC(kernel=\"linear\",random_state=42)\n",
    "grid_cv = GridSearchCV(svc, param_grid=params, cv=2, n_jobs=1)\n",
    "grid_cv.fit(st_train,sy_train)"
   ]
  },
  {
   "cell_type": "code",
   "execution_count": 28,
   "metadata": {
    "ExecuteTime": {
     "end_time": "2021-06-14T11:26:47.614286Z",
     "start_time": "2021-06-14T11:26:21.447252Z"
    }
   },
   "outputs": [
    {
     "data": {
      "text/plain": [
       "GridSearchCV(cv=2, estimator=SVC(random_state=42), n_jobs=1,\n",
       "             param_grid={'C': [1, 5, 10, 20], 'gamma': [0.01, 0.1, 1, 5]})"
      ]
     },
     "execution_count": 28,
     "metadata": {},
     "output_type": "execute_result"
    }
   ],
   "source": [
    "from sklearn.model_selection import GridSearchCV\n",
    "from sklearn.svm import SVC\n",
    "\n",
    "params ={\n",
    "    'C':[1,5,10,20],\n",
    "    'gamma' : [0.01,0.1,1,5]\n",
    "}\n",
    "\n",
    "svc = SVC(kernel=\"rbf\",random_state=42)\n",
    "grid_cv = GridSearchCV(svc, param_grid=params, cv=2, n_jobs=1)\n",
    "grid_cv.fit(st_train,sy_train)"
   ]
  },
  {
   "cell_type": "code",
   "execution_count": 243,
   "metadata": {
    "ExecuteTime": {
     "end_time": "2021-06-16T09:43:26.387580Z",
     "start_time": "2021-06-16T09:43:26.363184Z"
    }
   },
   "outputs": [
    {
     "data": {
      "text/plain": [
       "{'C': 0.1}"
      ]
     },
     "execution_count": 243,
     "metadata": {},
     "output_type": "execute_result"
    }
   ],
   "source": [
    "grid_cv.best_params_"
   ]
  },
  {
   "cell_type": "code",
   "execution_count": 244,
   "metadata": {
    "ExecuteTime": {
     "end_time": "2021-06-16T09:43:29.354477Z",
     "start_time": "2021-06-16T09:43:29.328864Z"
    }
   },
   "outputs": [
    {
     "data": {
      "text/plain": [
       "0.6323816246540226"
      ]
     },
     "execution_count": 244,
     "metadata": {},
     "output_type": "execute_result"
    }
   ],
   "source": [
    "grid_cv.best_score_"
   ]
  },
  {
   "cell_type": "code",
   "execution_count": 245,
   "metadata": {
    "ExecuteTime": {
     "end_time": "2021-06-16T09:43:31.812006Z",
     "start_time": "2021-06-16T09:43:30.296154Z"
    }
   },
   "outputs": [
    {
     "data": {
      "text/plain": [
       "0.6110313192380061"
      ]
     },
     "execution_count": 245,
     "metadata": {},
     "output_type": "execute_result"
    }
   ],
   "source": [
    "svc_clf = SVC(kernel=\"linear\", C=0.1,probability=True)\n",
    "svc_clf.fit(st_train,sy_train)\n",
    "svc_y_pred = svc_clf.predict_proba(st_test)\n",
    "roc_auc_score(sy_test, svc_y_pred[:,1])"
   ]
  },
  {
   "cell_type": "code",
   "execution_count": 32,
   "metadata": {
    "ExecuteTime": {
     "end_time": "2021-06-14T11:27:31.682515Z",
     "start_time": "2021-06-14T11:27:25.238999Z"
    }
   },
   "outputs": [
    {
     "data": {
      "text/plain": [
       "0.6455379125168352"
      ]
     },
     "execution_count": 32,
     "metadata": {},
     "output_type": "execute_result"
    }
   ],
   "source": [
    "svc_clf = SVC(kernel=\"rbf\",C=5,gamma=0.01,probability=True,random_state = 42)\n",
    "svc_clf.fit(st_train,sy_train)\n",
    "svc_y_pred = svc_clf.predict_proba(st_test)\n",
    "svc_score = roc_auc_score(sy_test,svc_y_pred[:,1])\n",
    "svc_score"
   ]
  },
  {
   "cell_type": "code",
   "execution_count": 120,
   "metadata": {
    "ExecuteTime": {
     "end_time": "2021-06-14T13:04:14.427430Z",
     "start_time": "2021-06-14T13:04:09.146845Z"
    }
   },
   "outputs": [
    {
     "data": {
      "text/plain": [
       "0.6720539413747845"
      ]
     },
     "execution_count": 120,
     "metadata": {},
     "output_type": "execute_result"
    }
   ],
   "source": [
    "svc_clf = SVC(kernel=\"rbf\",C=20,gamma=0.01,probability=True,random_state = 42)\n",
    "svc_clf.fit(mm_train,sy_train)\n",
    "svc_y_pred = svc_clf.predict_proba(mm_test)\n",
    "svc_score = roc_auc_score(sy_test,svc_y_pred[:,1])\n",
    "svc_score"
   ]
  },
  {
   "cell_type": "code",
   "execution_count": 25,
   "metadata": {
    "ExecuteTime": {
     "end_time": "2021-06-15T08:42:00.823990Z",
     "start_time": "2021-06-15T08:42:00.170227Z"
    }
   },
   "outputs": [
    {
     "name": "stdout",
     "output_type": "stream",
     "text": [
      "[17:42:00] WARNING: C:/Users/Administrator/workspace/xgboost-win64_release_1.4.0/src/learner.cc:1095: Starting in XGBoost 1.3.0, the default evaluation metric used with the objective 'binary:logistic' was changed from 'error' to 'logloss'. Explicitly set eval_metric if you'd like to restore the old behavior.\n",
      "[0]\tvalidation_0-logloss:0.66218\n",
      "[1]\tvalidation_0-logloss:0.64435\n",
      "[2]\tvalidation_0-logloss:0.63575\n",
      "[3]\tvalidation_0-logloss:0.62547\n",
      "[4]\tvalidation_0-logloss:0.61895\n",
      "[5]\tvalidation_0-logloss:0.61916\n",
      "[6]\tvalidation_0-logloss:0.61743\n",
      "[7]\tvalidation_0-logloss:0.61358\n",
      "[8]\tvalidation_0-logloss:0.61284\n",
      "[9]\tvalidation_0-logloss:0.61084\n",
      "[10]\tvalidation_0-logloss:0.61095\n",
      "[11]\tvalidation_0-logloss:0.61084\n",
      "[12]\tvalidation_0-logloss:0.61498\n",
      "[13]\tvalidation_0-logloss:0.61665\n",
      "[14]\tvalidation_0-logloss:0.61676\n",
      "[15]\tvalidation_0-logloss:0.61680\n",
      "[16]\tvalidation_0-logloss:0.61735\n",
      "[17]\tvalidation_0-logloss:0.61739\n",
      "[18]\tvalidation_0-logloss:0.61709\n",
      "[19]\tvalidation_0-logloss:0.61808\n",
      "[20]\tvalidation_0-logloss:0.61829\n",
      "[21]\tvalidation_0-logloss:0.61627\n",
      "[22]\tvalidation_0-logloss:0.61663\n",
      "[23]\tvalidation_0-logloss:0.61657\n",
      "[24]\tvalidation_0-logloss:0.61703\n",
      "[25]\tvalidation_0-logloss:0.61808\n",
      "[26]\tvalidation_0-logloss:0.61672\n",
      "[27]\tvalidation_0-logloss:0.61946\n",
      "[28]\tvalidation_0-logloss:0.61891\n",
      "[29]\tvalidation_0-logloss:0.62075\n",
      "[30]\tvalidation_0-logloss:0.62330\n",
      "[31]\tvalidation_0-logloss:0.62626\n",
      "[32]\tvalidation_0-logloss:0.62613\n",
      "[33]\tvalidation_0-logloss:0.62821\n",
      "[34]\tvalidation_0-logloss:0.63095\n",
      "[35]\tvalidation_0-logloss:0.63260\n",
      "[36]\tvalidation_0-logloss:0.63457\n",
      "[37]\tvalidation_0-logloss:0.63736\n",
      "[38]\tvalidation_0-logloss:0.63794\n",
      "[39]\tvalidation_0-logloss:0.63937\n",
      "[40]\tvalidation_0-logloss:0.64131\n",
      "[41]\tvalidation_0-logloss:0.64363\n",
      "[42]\tvalidation_0-logloss:0.64442\n",
      "[43]\tvalidation_0-logloss:0.64442\n",
      "[44]\tvalidation_0-logloss:0.64512\n",
      "[45]\tvalidation_0-logloss:0.64626\n",
      "[46]\tvalidation_0-logloss:0.64651\n",
      "[47]\tvalidation_0-logloss:0.64819\n",
      "[48]\tvalidation_0-logloss:0.64807\n",
      "[49]\tvalidation_0-logloss:0.65003\n",
      "[50]\tvalidation_0-logloss:0.65137\n",
      "[51]\tvalidation_0-logloss:0.65231\n",
      "[52]\tvalidation_0-logloss:0.65229\n",
      "[53]\tvalidation_0-logloss:0.65266\n",
      "[54]\tvalidation_0-logloss:0.65373\n",
      "[55]\tvalidation_0-logloss:0.65687\n",
      "[56]\tvalidation_0-logloss:0.65809\n",
      "[57]\tvalidation_0-logloss:0.65822\n",
      "[58]\tvalidation_0-logloss:0.65964\n",
      "[59]\tvalidation_0-logloss:0.66089\n",
      "[60]\tvalidation_0-logloss:0.66001\n",
      "[61]\tvalidation_0-logloss:0.66116\n",
      "[62]\tvalidation_0-logloss:0.66160\n",
      "[63]\tvalidation_0-logloss:0.66246\n",
      "[64]\tvalidation_0-logloss:0.66128\n",
      "[65]\tvalidation_0-logloss:0.66317\n",
      "[66]\tvalidation_0-logloss:0.66443\n",
      "[67]\tvalidation_0-logloss:0.66449\n",
      "[68]\tvalidation_0-logloss:0.66339\n",
      "[69]\tvalidation_0-logloss:0.66373\n",
      "[70]\tvalidation_0-logloss:0.66484\n",
      "[71]\tvalidation_0-logloss:0.66579\n",
      "[72]\tvalidation_0-logloss:0.66775\n",
      "[73]\tvalidation_0-logloss:0.66941\n",
      "[74]\tvalidation_0-logloss:0.67199\n",
      "[75]\tvalidation_0-logloss:0.67018\n",
      "[76]\tvalidation_0-logloss:0.67188\n",
      "[77]\tvalidation_0-logloss:0.67385\n",
      "[78]\tvalidation_0-logloss:0.67348\n",
      "[79]\tvalidation_0-logloss:0.67295\n",
      "[80]\tvalidation_0-logloss:0.67390\n",
      "[81]\tvalidation_0-logloss:0.67653\n",
      "[82]\tvalidation_0-logloss:0.67608\n",
      "[83]\tvalidation_0-logloss:0.67715\n",
      "[84]\tvalidation_0-logloss:0.67700\n",
      "[85]\tvalidation_0-logloss:0.67831\n",
      "[86]\tvalidation_0-logloss:0.67877\n",
      "[87]\tvalidation_0-logloss:0.68143\n",
      "[88]\tvalidation_0-logloss:0.68289\n",
      "[89]\tvalidation_0-logloss:0.68381\n",
      "[90]\tvalidation_0-logloss:0.68309\n",
      "[91]\tvalidation_0-logloss:0.68393\n",
      "[92]\tvalidation_0-logloss:0.68479\n",
      "[93]\tvalidation_0-logloss:0.68716\n",
      "[94]\tvalidation_0-logloss:0.68946\n",
      "[95]\tvalidation_0-logloss:0.68954\n",
      "[96]\tvalidation_0-logloss:0.68939\n",
      "[97]\tvalidation_0-logloss:0.69162\n",
      "[98]\tvalidation_0-logloss:0.69337\n",
      "[99]\tvalidation_0-logloss:0.69468\n"
     ]
    },
    {
     "data": {
      "text/plain": [
       "0.6487482708593407"
      ]
     },
     "execution_count": 25,
     "metadata": {},
     "output_type": "execute_result"
    }
   ],
   "source": [
    "import xgboost\n",
    "\n",
    "xgb_clf = xgboost.XGBClassifier()\n",
    "xgb_clf.fit(st_train,sy_train,eval_set=[(st_test,sy_test)])\n",
    "y_pred = xgb_clf.predict_proba(st_test)\n",
    "score = roc_auc_score(sy_test, y_pred[:,1])\n",
    "score"
   ]
  },
  {
   "cell_type": "markdown",
   "metadata": {},
   "source": [
    "### 보팅"
   ]
  },
  {
   "cell_type": "code",
   "execution_count": 246,
   "metadata": {
    "ExecuteTime": {
     "end_time": "2021-06-16T09:43:40.862872Z",
     "start_time": "2021-06-16T09:43:39.013280Z"
    }
   },
   "outputs": [],
   "source": [
    "from sklearn.ensemble import VotingClassifier\n",
    "\n",
    "log_reg = LogisticRegression(solver=\"lbfgs\", random_state=42)\n",
    "rnd_clf = RandomForestClassifier(n_estimators=100, max_depth =8, min_samples_leaf=8,\n",
    "                                min_samples_split=8,random_state=42)\n",
    "svc_clf = SVC(kernel=\"linear\", C=0.1,probability=True)\n",
    "\n",
    "vot_clf = VotingClassifier(estimators=[('lr',log_reg),('rf',rnd_clf),\n",
    "                                       ('sv',svc_clf)],\n",
    "                          voting='soft')\n",
    "vot_clf.fit(st_train,sy_train)\n",
    "pred = vot_clf.predict_proba(st_test)"
   ]
  },
  {
   "cell_type": "code",
   "execution_count": 247,
   "metadata": {
    "ExecuteTime": {
     "end_time": "2021-06-16T09:43:40.878871Z",
     "start_time": "2021-06-16T09:43:40.864607Z"
    }
   },
   "outputs": [
    {
     "data": {
      "text/plain": [
       "0.651697340147188"
      ]
     },
     "execution_count": 247,
     "metadata": {},
     "output_type": "execute_result"
    }
   ],
   "source": [
    "from sklearn.metrics import roc_auc_score\n",
    "scores = roc_auc_score(sy_test,pred[:,1])\n",
    "scores"
   ]
  },
  {
   "cell_type": "code",
   "execution_count": null,
   "metadata": {},
   "outputs": [],
   "source": []
  },
  {
   "cell_type": "markdown",
   "metadata": {},
   "source": [
    "### 데이터 csv 저장"
   ]
  },
  {
   "cell_type": "code",
   "execution_count": 281,
   "metadata": {
    "ExecuteTime": {
     "end_time": "2021-06-16T11:47:59.968809Z",
     "start_time": "2021-06-16T11:47:59.958812Z"
    }
   },
   "outputs": [],
   "source": [
    "cust_id = X[\"cust_id\"][3500:]\n",
    "cust_id = pd.DataFrame(cust_id)"
   ]
  },
  {
   "cell_type": "code",
   "execution_count": 282,
   "metadata": {
    "ExecuteTime": {
     "end_time": "2021-06-16T11:48:00.185804Z",
     "start_time": "2021-06-16T11:48:00.154864Z"
    },
    "scrolled": true
   },
   "outputs": [
    {
     "data": {
      "text/plain": [
       "(2482, 72)"
      ]
     },
     "execution_count": 282,
     "metadata": {},
     "output_type": "execute_result"
    }
   ],
   "source": [
    "man = pd.DataFrame(scaler.transform(new_X[3500:].iloc[:,:7]))\n",
    "man = pd.concat([man,new_X[3500:].iloc[:,7:]],axis=1)\n",
    "man.shape"
   ]
  },
  {
   "cell_type": "code",
   "execution_count": 283,
   "metadata": {
    "ExecuteTime": {
     "end_time": "2021-06-16T11:48:00.390452Z",
     "start_time": "2021-06-16T11:48:00.350756Z"
    },
    "scrolled": true
   },
   "outputs": [
    {
     "ename": "ValueError",
     "evalue": "X has 72 features per sample; expecting 71",
     "output_type": "error",
     "traceback": [
      "\u001b[1;31m---------------------------------------------------------------------------\u001b[0m",
      "\u001b[1;31mValueError\u001b[0m                                Traceback (most recent call last)",
      "\u001b[1;32m<ipython-input-283-f71828167609>\u001b[0m in \u001b[0;36m<module>\u001b[1;34m\u001b[0m\n\u001b[1;32m----> 1\u001b[1;33m \u001b[0mman_proba\u001b[0m \u001b[1;33m=\u001b[0m \u001b[0mvot_clf\u001b[0m\u001b[1;33m.\u001b[0m\u001b[0mpredict_proba\u001b[0m\u001b[1;33m(\u001b[0m\u001b[0mman\u001b[0m\u001b[1;33m)\u001b[0m\u001b[1;33m\u001b[0m\u001b[1;33m\u001b[0m\u001b[0m\n\u001b[0m\u001b[0;32m      2\u001b[0m \u001b[0mgender\u001b[0m \u001b[1;33m=\u001b[0m \u001b[0mman_proba\u001b[0m\u001b[1;33m[\u001b[0m\u001b[1;33m:\u001b[0m\u001b[1;33m,\u001b[0m\u001b[1;36m1\u001b[0m\u001b[1;33m]\u001b[0m\u001b[1;33m.\u001b[0m\u001b[0mround\u001b[0m\u001b[1;33m(\u001b[0m\u001b[1;36m3\u001b[0m\u001b[1;33m)\u001b[0m\u001b[1;33m\u001b[0m\u001b[1;33m\u001b[0m\u001b[0m\n",
      "\u001b[1;32m~\\anaconda3\\lib\\site-packages\\sklearn\\ensemble\\_voting.py\u001b[0m in \u001b[0;36m_predict_proba\u001b[1;34m(self, X)\u001b[0m\n\u001b[0;32m    327\u001b[0m         \u001b[1;34m\"\"\"Predict class probabilities for X in 'soft' voting.\"\"\"\u001b[0m\u001b[1;33m\u001b[0m\u001b[1;33m\u001b[0m\u001b[0m\n\u001b[0;32m    328\u001b[0m         \u001b[0mcheck_is_fitted\u001b[0m\u001b[1;33m(\u001b[0m\u001b[0mself\u001b[0m\u001b[1;33m)\u001b[0m\u001b[1;33m\u001b[0m\u001b[1;33m\u001b[0m\u001b[0m\n\u001b[1;32m--> 329\u001b[1;33m         avg = np.average(self._collect_probas(X), axis=0,\n\u001b[0m\u001b[0;32m    330\u001b[0m                          weights=self._weights_not_none)\n\u001b[0;32m    331\u001b[0m         \u001b[1;32mreturn\u001b[0m \u001b[0mavg\u001b[0m\u001b[1;33m\u001b[0m\u001b[1;33m\u001b[0m\u001b[0m\n",
      "\u001b[1;32m~\\anaconda3\\lib\\site-packages\\sklearn\\ensemble\\_voting.py\u001b[0m in \u001b[0;36m_collect_probas\u001b[1;34m(self, X)\u001b[0m\n\u001b[0;32m    322\u001b[0m     \u001b[1;32mdef\u001b[0m \u001b[0m_collect_probas\u001b[0m\u001b[1;33m(\u001b[0m\u001b[0mself\u001b[0m\u001b[1;33m,\u001b[0m \u001b[0mX\u001b[0m\u001b[1;33m)\u001b[0m\u001b[1;33m:\u001b[0m\u001b[1;33m\u001b[0m\u001b[1;33m\u001b[0m\u001b[0m\n\u001b[0;32m    323\u001b[0m         \u001b[1;34m\"\"\"Collect results from clf.predict calls.\"\"\"\u001b[0m\u001b[1;33m\u001b[0m\u001b[1;33m\u001b[0m\u001b[0m\n\u001b[1;32m--> 324\u001b[1;33m         \u001b[1;32mreturn\u001b[0m \u001b[0mnp\u001b[0m\u001b[1;33m.\u001b[0m\u001b[0masarray\u001b[0m\u001b[1;33m(\u001b[0m\u001b[1;33m[\u001b[0m\u001b[0mclf\u001b[0m\u001b[1;33m.\u001b[0m\u001b[0mpredict_proba\u001b[0m\u001b[1;33m(\u001b[0m\u001b[0mX\u001b[0m\u001b[1;33m)\u001b[0m \u001b[1;32mfor\u001b[0m \u001b[0mclf\u001b[0m \u001b[1;32min\u001b[0m \u001b[0mself\u001b[0m\u001b[1;33m.\u001b[0m\u001b[0mestimators_\u001b[0m\u001b[1;33m]\u001b[0m\u001b[1;33m)\u001b[0m\u001b[1;33m\u001b[0m\u001b[1;33m\u001b[0m\u001b[0m\n\u001b[0m\u001b[0;32m    325\u001b[0m \u001b[1;33m\u001b[0m\u001b[0m\n\u001b[0;32m    326\u001b[0m     \u001b[1;32mdef\u001b[0m \u001b[0m_predict_proba\u001b[0m\u001b[1;33m(\u001b[0m\u001b[0mself\u001b[0m\u001b[1;33m,\u001b[0m \u001b[0mX\u001b[0m\u001b[1;33m)\u001b[0m\u001b[1;33m:\u001b[0m\u001b[1;33m\u001b[0m\u001b[1;33m\u001b[0m\u001b[0m\n",
      "\u001b[1;32m~\\anaconda3\\lib\\site-packages\\sklearn\\ensemble\\_voting.py\u001b[0m in \u001b[0;36m<listcomp>\u001b[1;34m(.0)\u001b[0m\n\u001b[0;32m    322\u001b[0m     \u001b[1;32mdef\u001b[0m \u001b[0m_collect_probas\u001b[0m\u001b[1;33m(\u001b[0m\u001b[0mself\u001b[0m\u001b[1;33m,\u001b[0m \u001b[0mX\u001b[0m\u001b[1;33m)\u001b[0m\u001b[1;33m:\u001b[0m\u001b[1;33m\u001b[0m\u001b[1;33m\u001b[0m\u001b[0m\n\u001b[0;32m    323\u001b[0m         \u001b[1;34m\"\"\"Collect results from clf.predict calls.\"\"\"\u001b[0m\u001b[1;33m\u001b[0m\u001b[1;33m\u001b[0m\u001b[0m\n\u001b[1;32m--> 324\u001b[1;33m         \u001b[1;32mreturn\u001b[0m \u001b[0mnp\u001b[0m\u001b[1;33m.\u001b[0m\u001b[0masarray\u001b[0m\u001b[1;33m(\u001b[0m\u001b[1;33m[\u001b[0m\u001b[0mclf\u001b[0m\u001b[1;33m.\u001b[0m\u001b[0mpredict_proba\u001b[0m\u001b[1;33m(\u001b[0m\u001b[0mX\u001b[0m\u001b[1;33m)\u001b[0m \u001b[1;32mfor\u001b[0m \u001b[0mclf\u001b[0m \u001b[1;32min\u001b[0m \u001b[0mself\u001b[0m\u001b[1;33m.\u001b[0m\u001b[0mestimators_\u001b[0m\u001b[1;33m]\u001b[0m\u001b[1;33m)\u001b[0m\u001b[1;33m\u001b[0m\u001b[1;33m\u001b[0m\u001b[0m\n\u001b[0m\u001b[0;32m    325\u001b[0m \u001b[1;33m\u001b[0m\u001b[0m\n\u001b[0;32m    326\u001b[0m     \u001b[1;32mdef\u001b[0m \u001b[0m_predict_proba\u001b[0m\u001b[1;33m(\u001b[0m\u001b[0mself\u001b[0m\u001b[1;33m,\u001b[0m \u001b[0mX\u001b[0m\u001b[1;33m)\u001b[0m\u001b[1;33m:\u001b[0m\u001b[1;33m\u001b[0m\u001b[1;33m\u001b[0m\u001b[0m\n",
      "\u001b[1;32m~\\anaconda3\\lib\\site-packages\\sklearn\\linear_model\\_logistic.py\u001b[0m in \u001b[0;36mpredict_proba\u001b[1;34m(self, X)\u001b[0m\n\u001b[0;32m   1467\u001b[0m                                                 self.solver == 'liblinear')))\n\u001b[0;32m   1468\u001b[0m         \u001b[1;32mif\u001b[0m \u001b[0movr\u001b[0m\u001b[1;33m:\u001b[0m\u001b[1;33m\u001b[0m\u001b[1;33m\u001b[0m\u001b[0m\n\u001b[1;32m-> 1469\u001b[1;33m             \u001b[1;32mreturn\u001b[0m \u001b[0msuper\u001b[0m\u001b[1;33m(\u001b[0m\u001b[1;33m)\u001b[0m\u001b[1;33m.\u001b[0m\u001b[0m_predict_proba_lr\u001b[0m\u001b[1;33m(\u001b[0m\u001b[0mX\u001b[0m\u001b[1;33m)\u001b[0m\u001b[1;33m\u001b[0m\u001b[1;33m\u001b[0m\u001b[0m\n\u001b[0m\u001b[0;32m   1470\u001b[0m         \u001b[1;32melse\u001b[0m\u001b[1;33m:\u001b[0m\u001b[1;33m\u001b[0m\u001b[1;33m\u001b[0m\u001b[0m\n\u001b[0;32m   1471\u001b[0m             \u001b[0mdecision\u001b[0m \u001b[1;33m=\u001b[0m \u001b[0mself\u001b[0m\u001b[1;33m.\u001b[0m\u001b[0mdecision_function\u001b[0m\u001b[1;33m(\u001b[0m\u001b[0mX\u001b[0m\u001b[1;33m)\u001b[0m\u001b[1;33m\u001b[0m\u001b[1;33m\u001b[0m\u001b[0m\n",
      "\u001b[1;32m~\\anaconda3\\lib\\site-packages\\sklearn\\linear_model\\_base.py\u001b[0m in \u001b[0;36m_predict_proba_lr\u001b[1;34m(self, X)\u001b[0m\n\u001b[0;32m    321\u001b[0m         \u001b[0mmulticlass\u001b[0m \u001b[1;32mis\u001b[0m \u001b[0mhandled\u001b[0m \u001b[0mby\u001b[0m \u001b[0mnormalizing\u001b[0m \u001b[0mthat\u001b[0m \u001b[0mover\u001b[0m \u001b[0mall\u001b[0m \u001b[0mclasses\u001b[0m\u001b[1;33m.\u001b[0m\u001b[1;33m\u001b[0m\u001b[1;33m\u001b[0m\u001b[0m\n\u001b[0;32m    322\u001b[0m         \"\"\"\n\u001b[1;32m--> 323\u001b[1;33m         \u001b[0mprob\u001b[0m \u001b[1;33m=\u001b[0m \u001b[0mself\u001b[0m\u001b[1;33m.\u001b[0m\u001b[0mdecision_function\u001b[0m\u001b[1;33m(\u001b[0m\u001b[0mX\u001b[0m\u001b[1;33m)\u001b[0m\u001b[1;33m\u001b[0m\u001b[1;33m\u001b[0m\u001b[0m\n\u001b[0m\u001b[0;32m    324\u001b[0m         \u001b[0mexpit\u001b[0m\u001b[1;33m(\u001b[0m\u001b[0mprob\u001b[0m\u001b[1;33m,\u001b[0m \u001b[0mout\u001b[0m\u001b[1;33m=\u001b[0m\u001b[0mprob\u001b[0m\u001b[1;33m)\u001b[0m\u001b[1;33m\u001b[0m\u001b[1;33m\u001b[0m\u001b[0m\n\u001b[0;32m    325\u001b[0m         \u001b[1;32mif\u001b[0m \u001b[0mprob\u001b[0m\u001b[1;33m.\u001b[0m\u001b[0mndim\u001b[0m \u001b[1;33m==\u001b[0m \u001b[1;36m1\u001b[0m\u001b[1;33m:\u001b[0m\u001b[1;33m\u001b[0m\u001b[1;33m\u001b[0m\u001b[0m\n",
      "\u001b[1;32m~\\anaconda3\\lib\\site-packages\\sklearn\\linear_model\\_base.py\u001b[0m in \u001b[0;36mdecision_function\u001b[1;34m(self, X)\u001b[0m\n\u001b[0;32m    286\u001b[0m         \u001b[0mn_features\u001b[0m \u001b[1;33m=\u001b[0m \u001b[0mself\u001b[0m\u001b[1;33m.\u001b[0m\u001b[0mcoef_\u001b[0m\u001b[1;33m.\u001b[0m\u001b[0mshape\u001b[0m\u001b[1;33m[\u001b[0m\u001b[1;36m1\u001b[0m\u001b[1;33m]\u001b[0m\u001b[1;33m\u001b[0m\u001b[1;33m\u001b[0m\u001b[0m\n\u001b[0;32m    287\u001b[0m         \u001b[1;32mif\u001b[0m \u001b[0mX\u001b[0m\u001b[1;33m.\u001b[0m\u001b[0mshape\u001b[0m\u001b[1;33m[\u001b[0m\u001b[1;36m1\u001b[0m\u001b[1;33m]\u001b[0m \u001b[1;33m!=\u001b[0m \u001b[0mn_features\u001b[0m\u001b[1;33m:\u001b[0m\u001b[1;33m\u001b[0m\u001b[1;33m\u001b[0m\u001b[0m\n\u001b[1;32m--> 288\u001b[1;33m             raise ValueError(\"X has %d features per sample; expecting %d\"\n\u001b[0m\u001b[0;32m    289\u001b[0m                              % (X.shape[1], n_features))\n\u001b[0;32m    290\u001b[0m \u001b[1;33m\u001b[0m\u001b[0m\n",
      "\u001b[1;31mValueError\u001b[0m: X has 72 features per sample; expecting 71"
     ]
    }
   ],
   "source": [
    "man_proba = vot_clf.predict_proba(man)\n",
    "gender = man_proba[:,1].round(3)"
   ]
  },
  {
   "cell_type": "code",
   "execution_count": 284,
   "metadata": {
    "ExecuteTime": {
     "end_time": "2021-06-16T11:48:00.546051Z",
     "start_time": "2021-06-16T11:48:00.541014Z"
    }
   },
   "outputs": [],
   "source": [
    "result = pd.DataFrame(gender)"
   ]
  },
  {
   "cell_type": "code",
   "execution_count": 285,
   "metadata": {
    "ExecuteTime": {
     "end_time": "2021-06-16T11:48:00.765134Z",
     "start_time": "2021-06-16T11:48:00.740073Z"
    }
   },
   "outputs": [
    {
     "data": {
      "text/html": [
       "<div>\n",
       "<style scoped>\n",
       "    .dataframe tbody tr th:only-of-type {\n",
       "        vertical-align: middle;\n",
       "    }\n",
       "\n",
       "    .dataframe tbody tr th {\n",
       "        vertical-align: top;\n",
       "    }\n",
       "\n",
       "    .dataframe thead th {\n",
       "        text-align: right;\n",
       "    }\n",
       "</style>\n",
       "<table border=\"1\" class=\"dataframe\">\n",
       "  <thead>\n",
       "    <tr style=\"text-align: right;\">\n",
       "      <th></th>\n",
       "      <th>custid</th>\n",
       "      <th>gender</th>\n",
       "    </tr>\n",
       "  </thead>\n",
       "  <tbody>\n",
       "    <tr>\n",
       "      <th>0</th>\n",
       "      <td>3500</td>\n",
       "      <td>0.463</td>\n",
       "    </tr>\n",
       "    <tr>\n",
       "      <th>1</th>\n",
       "      <td>3501</td>\n",
       "      <td>0.226</td>\n",
       "    </tr>\n",
       "    <tr>\n",
       "      <th>2</th>\n",
       "      <td>3502</td>\n",
       "      <td>0.244</td>\n",
       "    </tr>\n",
       "    <tr>\n",
       "      <th>3</th>\n",
       "      <td>3503</td>\n",
       "      <td>0.349</td>\n",
       "    </tr>\n",
       "    <tr>\n",
       "      <th>4</th>\n",
       "      <td>3504</td>\n",
       "      <td>0.413</td>\n",
       "    </tr>\n",
       "  </tbody>\n",
       "</table>\n",
       "</div>"
      ],
      "text/plain": [
       "   custid  gender\n",
       "0    3500   0.463\n",
       "1    3501   0.226\n",
       "2    3502   0.244\n",
       "3    3503   0.349\n",
       "4    3504   0.413"
      ]
     },
     "execution_count": 285,
     "metadata": {},
     "output_type": "execute_result"
    }
   ],
   "source": [
    "df = pd.concat([cust_id, result], ignore_index=True,axis=1)\n",
    "df = df.rename(columns = {0 : \"custid\", 1: \"gender\"})\n",
    "df.head()"
   ]
  },
  {
   "cell_type": "code",
   "execution_count": 258,
   "metadata": {
    "ExecuteTime": {
     "end_time": "2021-06-16T09:46:52.122202Z",
     "start_time": "2021-06-16T09:46:52.088110Z"
    }
   },
   "outputs": [],
   "source": [
    "df.to_csv(\"수험번호.csv\",index=False)"
   ]
  },
  {
   "cell_type": "code",
   "execution_count": 280,
   "metadata": {
    "ExecuteTime": {
     "end_time": "2021-06-16T11:47:36.277828Z",
     "start_time": "2021-06-16T11:47:34.036340Z"
    }
   },
   "outputs": [
    {
     "name": "stdout",
     "output_type": "stream",
     "text": [
      "<class 'pandas.core.frame.DataFrame'>\n",
      "Int64Index: 5982 entries, 0 to 2481\n",
      "Data columns (total 10 columns):\n",
      " #   Column   Non-Null Count  Dtype  \n",
      "---  ------   --------------  -----  \n",
      " 0   cust_id  5982 non-null   int64  \n",
      " 1   총구매액     5982 non-null   int64  \n",
      " 2   최대구매액    5982 non-null   int64  \n",
      " 3   환불금액     5982 non-null   float64\n",
      " 4   주구매상품    5982 non-null   object \n",
      " 5   주구매지점    5982 non-null   object \n",
      " 6   내점일수     5982 non-null   int64  \n",
      " 7   내점당구매건수  5982 non-null   float64\n",
      " 8   주말방문비율   5982 non-null   float64\n",
      " 9   구매주기     5982 non-null   int64  \n",
      "dtypes: float64(3), int64(5), object(2)\n",
      "memory usage: 514.1+ KB\n",
      "       총구매액     최대구매액        환불금액  내점일수  내점당구매건수  주말방문비율  구매주기  주구매상품_가구  \\\n",
      "0  68282840  11264000 6860000.000    19    3.895   0.527    17         0   \n",
      "1   2136000   2136000  300000.000     2    1.500   0.000     1         0   \n",
      "2   3197000   1639000       0.000     2    2.000   0.000     1         0   \n",
      "\n",
      "   주구매상품_건강식품  주구매상품_골프  ...  주구매지점_안양점  주구매지점_영등포점  주구매지점_울산점  주구매지점_인천점  \\\n",
      "0           0         0  ...          0           0          0          0   \n",
      "1           0         0  ...          0           0          0          0   \n",
      "2           0         0  ...          0           0          0          0   \n",
      "\n",
      "   주구매지점_일산점  주구매지점_잠실점  주구매지점_전주점  주구매지점_창원점  주구매지점_청량리점  주구매지점_포항점  \n",
      "0          0          0          0          0           0          0  \n",
      "1          0          1          0          0           0          0  \n",
      "2          0          0          0          0           0          0  \n",
      "\n",
      "[3 rows x 71 columns]\n",
      "0.6492868833294364\n",
      "(2482, 1)\n"
     ]
    },
    {
     "data": {
      "text/html": [
       "<div>\n",
       "<style scoped>\n",
       "    .dataframe tbody tr th:only-of-type {\n",
       "        vertical-align: middle;\n",
       "    }\n",
       "\n",
       "    .dataframe tbody tr th {\n",
       "        vertical-align: top;\n",
       "    }\n",
       "\n",
       "    .dataframe thead th {\n",
       "        text-align: right;\n",
       "    }\n",
       "</style>\n",
       "<table border=\"1\" class=\"dataframe\">\n",
       "  <thead>\n",
       "    <tr style=\"text-align: right;\">\n",
       "      <th></th>\n",
       "      <th>cust_id</th>\n",
       "      <th>gender</th>\n",
       "    </tr>\n",
       "  </thead>\n",
       "  <tbody>\n",
       "    <tr>\n",
       "      <th>0</th>\n",
       "      <td>3500</td>\n",
       "      <td>0.473</td>\n",
       "    </tr>\n",
       "    <tr>\n",
       "      <th>1</th>\n",
       "      <td>3501</td>\n",
       "      <td>0.222</td>\n",
       "    </tr>\n",
       "    <tr>\n",
       "      <th>2</th>\n",
       "      <td>3502</td>\n",
       "      <td>0.237</td>\n",
       "    </tr>\n",
       "    <tr>\n",
       "      <th>3</th>\n",
       "      <td>3503</td>\n",
       "      <td>0.352</td>\n",
       "    </tr>\n",
       "    <tr>\n",
       "      <th>4</th>\n",
       "      <td>3504</td>\n",
       "      <td>0.411</td>\n",
       "    </tr>\n",
       "    <tr>\n",
       "      <th>...</th>\n",
       "      <td>...</td>\n",
       "      <td>...</td>\n",
       "    </tr>\n",
       "    <tr>\n",
       "      <th>2477</th>\n",
       "      <td>5977</td>\n",
       "      <td>0.480</td>\n",
       "    </tr>\n",
       "    <tr>\n",
       "      <th>2478</th>\n",
       "      <td>5978</td>\n",
       "      <td>0.498</td>\n",
       "    </tr>\n",
       "    <tr>\n",
       "      <th>2479</th>\n",
       "      <td>5979</td>\n",
       "      <td>0.718</td>\n",
       "    </tr>\n",
       "    <tr>\n",
       "      <th>2480</th>\n",
       "      <td>5980</td>\n",
       "      <td>0.424</td>\n",
       "    </tr>\n",
       "    <tr>\n",
       "      <th>2481</th>\n",
       "      <td>5981</td>\n",
       "      <td>0.413</td>\n",
       "    </tr>\n",
       "  </tbody>\n",
       "</table>\n",
       "<p>2482 rows × 2 columns</p>\n",
       "</div>"
      ],
      "text/plain": [
       "      cust_id  gender\n",
       "0        3500   0.473\n",
       "1        3501   0.222\n",
       "2        3502   0.237\n",
       "3        3503   0.352\n",
       "4        3504   0.411\n",
       "...       ...     ...\n",
       "2477     5977   0.480\n",
       "2478     5978   0.498\n",
       "2479     5979   0.718\n",
       "2480     5980   0.424\n",
       "2481     5981   0.413\n",
       "\n",
       "[2482 rows x 2 columns]"
      ]
     },
     "execution_count": 280,
     "metadata": {},
     "output_type": "execute_result"
    }
   ],
   "source": []
  },
  {
   "cell_type": "code",
   "execution_count": 3,
   "metadata": {
    "ExecuteTime": {
     "end_time": "2021-06-18T19:32:14.605928Z",
     "start_time": "2021-06-18T19:31:59.285108Z"
    },
    "scrolled": true
   },
   "outputs": [
    {
     "name": "stdout",
     "output_type": "stream",
     "text": [
      "Index(['cust_id', '총구매액', '최대구매액', '환불금액', '주구매상품', '주구매지점', '내점일수', '내점당구매건수',\n",
      "       '주말방문비율', '구매주기'],\n",
      "      dtype='object')\n",
      "(3500, 10)\n",
      "(5982, 71)\n",
      "(2800, 71) (700, 71) (2800,) (700,)\n",
      "0.6627367724982816\n",
      "[0.6197022561362904, 0.6792336271328014, 0.693320340030105, 0.7279019585664441, 0.6871959271615236]\n"
     ]
    }
   ],
   "source": [
    "import pandas as pd\n",
    "import numpy as np\n",
    "\n",
    "def csv(filename):\n",
    "\treturn pd.read_csv(\"빅분기 실기/\"+filename+'.csv', encoding='cp949')\n",
    "\n",
    "train_X,test_X,train_y = csv('X_train'),csv('X_test'),csv('y_train')\n",
    "\n",
    "X = pd.concat([train_X,test_X])\n",
    "\n",
    "X = X.fillna(0)\n",
    "print(X.columns)\n",
    "X[\"총구매액\"] = X[\"총구매액\"].map(lambda x: 0 if x < 0 else x)\n",
    "X[\"최대구매액\"] = X[\"최대구매액\"].map(lambda x: 0 if x < 0 else x)\n",
    "\n",
    "print(train_X.shape)\n",
    "\n",
    "from sklearn.preprocessing import MinMaxScaler\n",
    "#from sklearn.preprocessing import StandardScaler\n",
    "scaler = MinMaxScaler()\n",
    "#scaler = StandardScaler()\n",
    "scale_columns = [\"총구매액\",\"최대구매액\",\"환불금액\",\"내점일수\",\"내점당구매건수\",\"주말방문비율\",\"구매주기\"]\n",
    "X[scale_columns] = scaler.fit_transform(X[scale_columns])\n",
    "\n",
    "new_train_X = pd.get_dummies(X,drop_first=True)\n",
    "\n",
    "new_train_X = new_train_X.drop(\"cust_id\",axis=1)\n",
    "\n",
    "print(new_train_X.shape)\n",
    "\n",
    "from sklearn.model_selection import train_test_split\n",
    "X_train,X_test,y_train,y_test = train_test_split(new_train_X[:3500],train_y[\"gender\"],test_size=0.2,\n",
    "\t\t\t\t\t\t\t\t\t\t\t\t\t\t\t\t\t\t\t\t\t\t\t\t random_state=42,stratify=train_y[\"gender\"])\n",
    "print(X_train.shape,X_test.shape,y_train.shape,y_test.shape)\n",
    "\n",
    "from sklearn.ensemble import RandomForestClassifier\n",
    "# from skelarn.ensemble import RandomForestRegressor\n",
    "from sklearn.model_selection import GridSearchCV\n",
    "# params = {\n",
    "# \t'n_estimators' : [100],\n",
    "# \t'max_depth' : [4,6,8,10],\n",
    "# \t'min_samples_leaf' : [4,6,8,10],\n",
    "# \t'min_samples_split' : [2,4,6]\n",
    "# }\n",
    "# rnd_clf = RandomForestClassifier(random_state=42)\n",
    "# grid_cv = GridSearchCV(rnd_clf, param_grid=params, cv=3, n_jobs=-1)\n",
    "# grid_cv.fit(X_train,y_train)\n",
    "# print(grid_cv.best_params_)\n",
    "\n",
    "rf = RandomForestClassifier(n_estimators=100,max_depth=10,min_samples_leaf=4,min_samples_split=2,random_state=42)\n",
    "# rf.fit(X_train,y_train)\n",
    "# rf_pred = rf.predict_proba(X_test)\n",
    "\n",
    "from sklearn.metrics import roc_auc_score\n",
    "from sklearn.metrics import accuracy_score\n",
    "from sklearn.metrics import recall_score\n",
    "# rf_score = roc_auc_score(y_test,rf_pred[:,1])\n",
    "\n",
    "# print(rf_score)\n",
    "\n",
    "# import xgboost\n",
    "# xgb_clf = xgboost.XGBClassifier(random_state=42)\n",
    "# xgb_clf.fit(X_train,y_train)\n",
    "# xgb_pred = xgb_clf.predict_proba(X_test)\n",
    "# score = roc_auc_score(y_test,xgb_pred[:,1])\n",
    "# print(score)\n",
    "\n",
    "from sklearn.svm import SVC\n",
    "# svc_clf = SVC(kernel=\"linear\",random_state=42,probability=True)\n",
    "# params = {\n",
    "# \t'C' : [0.01,0.1,1]\n",
    "# }\n",
    "# grid_cv = GridSearchCV(svc_clf,param_grid=params,cv=3,n_jobs=-1)\n",
    "# grid_cv.fit(X_train,y_train)\n",
    "# print(grid_cv.best_params_)\n",
    "\n",
    "\n",
    "svc_clf = SVC(kernel=\"linear\",C=0.01,random_state=42,probability=True)\n",
    "# svc_clf.fit(X_train,y_train)\n",
    "# svc_pred = svc_clf.predict_proba(X_test)\n",
    "# score = roc_auc_score(y_test,svc_pred[:,1])\n",
    "# print(score)\n",
    "\n",
    "from sklearn.linear_model import LogisticRegression\n",
    "ln_clf = LogisticRegression()\n",
    "# # ln_clf.fit(X_train,y_train)\n",
    "# # ln_pred = ln_clf.predict_proba(X_test)\n",
    "# # score = roc_auc_score(y_test,ln_pred[:,1])\n",
    "# # print(score)\n",
    "\n",
    "from sklearn.ensemble import VotingClassifier\n",
    "\n",
    "vot_clf = VotingClassifier(estimators=[('lr',ln_clf),('rf',rf),('svc',svc_clf)], voting='soft')\n",
    "vot_clf.fit(X_train,y_train)\n",
    "vot_pred = vot_clf.predict_proba(X_test)\n",
    "score = roc_auc_score(y_test, vot_pred[:,1])\n",
    "print(score)\n",
    "\n",
    "from sklearn.model_selection import StratifiedKFold\n",
    "stf = StratifiedKFold(n_splits=5,shuffle=True)\n",
    "KFscore = []\n",
    "KFpred = []\n",
    "clf_list = []\n",
    "\n",
    "for tr_index,te_index in stf.split(new_train_X[:3500],train_y[\"gender\"]):\n",
    "    new_X_train,new_X_test = new_train_X.iloc[tr_index,:] , new_train_X.iloc[te_index,:]\n",
    "    new_y_train,new_y_test = train_y[\"gender\"][tr_index], train_y[\"gender\"][te_index]\n",
    "    clf = vot_clf\n",
    "    clf.fit(new_X_train,new_y_train)\n",
    "    pred = vot_clf.predict_proba(new_X_test)\n",
    "    score = roc_auc_score(new_y_test,pred[:,1])\n",
    "    KFpred.append(pred[:,1])\n",
    "    KFscore.append(score)\n",
    "    clf_list.append(clf)\n",
    "    \n",
    "print(KFscore)\n",
    "\n",
    "# # pred = vot_clf.predict_proba(new_train_X[3500:])\n",
    "pred_list = []\n",
    "for model in clf_list:\n",
    "    pred = model.predict_proba(new_train_X[3500:])[:,1]\n",
    "    pred_list.append(pred)\n",
    "# result = pd.DataFrame()\n",
    "# result[\"cust_id\"] = test_X[\"cust_id\"]\n",
    "# result[\"gender\"] = pred\n",
    "# print(result)"
   ]
  },
  {
   "cell_type": "code",
   "execution_count": 5,
   "metadata": {
    "ExecuteTime": {
     "end_time": "2021-06-18T19:32:26.807971Z",
     "start_time": "2021-06-18T19:32:26.793974Z"
    }
   },
   "outputs": [
    {
     "data": {
      "text/plain": [
       "array([0, 1], dtype=int64)"
      ]
     },
     "execution_count": 5,
     "metadata": {},
     "output_type": "execute_result"
    }
   ],
   "source": [
    "vot_clf.classes_"
   ]
  },
  {
   "cell_type": "code",
   "execution_count": null,
   "metadata": {},
   "outputs": [],
   "source": []
  }
 ],
 "metadata": {
  "kernelspec": {
   "display_name": "Python 3",
   "language": "python",
   "name": "python3"
  },
  "language_info": {
   "codemirror_mode": {
    "name": "ipython",
    "version": 3
   },
   "file_extension": ".py",
   "mimetype": "text/x-python",
   "name": "python",
   "nbconvert_exporter": "python",
   "pygments_lexer": "ipython3",
   "version": "3.8.5"
  },
  "toc": {
   "base_numbering": 1,
   "nav_menu": {},
   "number_sections": true,
   "sideBar": true,
   "skip_h1_title": false,
   "title_cell": "Table of Contents",
   "title_sidebar": "Contents",
   "toc_cell": false,
   "toc_position": {
    "height": "calc(100% - 180px)",
    "left": "10px",
    "top": "150px",
    "width": "341.333px"
   },
   "toc_section_display": true,
   "toc_window_display": false
  }
 },
 "nbformat": 4,
 "nbformat_minor": 4
}
