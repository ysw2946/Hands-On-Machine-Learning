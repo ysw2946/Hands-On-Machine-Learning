{
 "cells": [
  {
   "cell_type": "markdown",
   "metadata": {},
   "source": [
    "### 서울시 모기 발생상황 지표 예측\n",
    "- 2016년~ 2019년까지의 일별 모기지수 데이터를 온도,강수량 데이터를 통해 예측해본다.\n"
   ]
  },
  {
   "cell_type": "markdown",
   "metadata": {
    "ExecuteTime": {
     "end_time": "2021-07-23T01:53:31.252088Z",
     "start_time": "2021-07-23T01:53:31.233089Z"
    }
   },
   "source": [
    "데이터 출처\n",
    "- https://data.kma.go.kr/stcs/grnd/grndTaList.do?pgmNo=70 (기상청)\n",
    "- https://data.seoul.go.kr/dataList/16/literacyView.do (서울공공데이터포털)"
   ]
  },
  {
   "cell_type": "code",
   "execution_count": 4,
   "metadata": {
    "ExecuteTime": {
     "end_time": "2021-07-23T01:50:39.900486Z",
     "start_time": "2021-07-23T01:50:39.860121Z"
    }
   },
   "outputs": [],
   "source": [
    "# 데이터 불러오기\n",
    "import pandas as pd\n",
    "train_x =pd.read_csv('mosquitodata/train_x.csv',encoding='euc-kr')\n",
    "train_y =pd.read_csv('mosquitodata/train_y.csv',encoding='euc-kr')\n",
    "test_x =pd.read_csv('mosquitodata/test_x.csv',encoding='euc-kr')\n",
    "sub    =pd.read_csv('mosquitodata/sub.csv')"
   ]
  },
  {
   "cell_type": "code",
   "execution_count": 5,
   "metadata": {
    "ExecuteTime": {
     "end_time": "2021-07-23T01:50:41.439297Z",
     "start_time": "2021-07-23T01:50:41.398204Z"
    }
   },
   "outputs": [
    {
     "data": {
      "text/html": [
       "<div>\n",
       "<style scoped>\n",
       "    .dataframe tbody tr th:only-of-type {\n",
       "        vertical-align: middle;\n",
       "    }\n",
       "\n",
       "    .dataframe tbody tr th {\n",
       "        vertical-align: top;\n",
       "    }\n",
       "\n",
       "    .dataframe thead th {\n",
       "        text-align: right;\n",
       "    }\n",
       "</style>\n",
       "<table border=\"1\" class=\"dataframe\">\n",
       "  <thead>\n",
       "    <tr style=\"text-align: right;\">\n",
       "      <th></th>\n",
       "      <th>date</th>\n",
       "      <th>강수량(mm)</th>\n",
       "      <th>평균기온(℃)</th>\n",
       "      <th>최저기온(℃)</th>\n",
       "      <th>최고기온(℃)</th>\n",
       "    </tr>\n",
       "  </thead>\n",
       "  <tbody>\n",
       "    <tr>\n",
       "      <th>0</th>\n",
       "      <td>2019-12-31</td>\n",
       "      <td>0.0</td>\n",
       "      <td>-7.9</td>\n",
       "      <td>-10.9</td>\n",
       "      <td>-4.5</td>\n",
       "    </tr>\n",
       "    <tr>\n",
       "      <th>1</th>\n",
       "      <td>2019-12-30</td>\n",
       "      <td>0.4</td>\n",
       "      <td>2.7</td>\n",
       "      <td>-5.7</td>\n",
       "      <td>6.8</td>\n",
       "    </tr>\n",
       "    <tr>\n",
       "      <th>2</th>\n",
       "      <td>2019-12-29</td>\n",
       "      <td>1.4</td>\n",
       "      <td>3.8</td>\n",
       "      <td>1.1</td>\n",
       "      <td>6.2</td>\n",
       "    </tr>\n",
       "    <tr>\n",
       "      <th>3</th>\n",
       "      <td>2019-12-27</td>\n",
       "      <td>0.0</td>\n",
       "      <td>-1.7</td>\n",
       "      <td>-4.6</td>\n",
       "      <td>2.6</td>\n",
       "    </tr>\n",
       "    <tr>\n",
       "      <th>4</th>\n",
       "      <td>2019-12-25</td>\n",
       "      <td>0.0</td>\n",
       "      <td>2.0</td>\n",
       "      <td>-2.7</td>\n",
       "      <td>6.6</td>\n",
       "    </tr>\n",
       "    <tr>\n",
       "      <th>...</th>\n",
       "      <td>...</td>\n",
       "      <td>...</td>\n",
       "      <td>...</td>\n",
       "      <td>...</td>\n",
       "      <td>...</td>\n",
       "    </tr>\n",
       "    <tr>\n",
       "      <th>295</th>\n",
       "      <td>2019-12-14</td>\n",
       "      <td>0.0</td>\n",
       "      <td>2.7</td>\n",
       "      <td>-0.1</td>\n",
       "      <td>6.4</td>\n",
       "    </tr>\n",
       "    <tr>\n",
       "      <th>296</th>\n",
       "      <td>2019-12-19</td>\n",
       "      <td>0.0</td>\n",
       "      <td>-0.8</td>\n",
       "      <td>-4.5</td>\n",
       "      <td>3.1</td>\n",
       "    </tr>\n",
       "    <tr>\n",
       "      <th>297</th>\n",
       "      <td>2019-12-23</td>\n",
       "      <td>2.9</td>\n",
       "      <td>3.4</td>\n",
       "      <td>0.3</td>\n",
       "      <td>5.2</td>\n",
       "    </tr>\n",
       "    <tr>\n",
       "      <th>298</th>\n",
       "      <td>2019-12-26</td>\n",
       "      <td>0.3</td>\n",
       "      <td>2.0</td>\n",
       "      <td>-2.4</td>\n",
       "      <td>4.1</td>\n",
       "    </tr>\n",
       "    <tr>\n",
       "      <th>299</th>\n",
       "      <td>2019-12-28</td>\n",
       "      <td>0.0</td>\n",
       "      <td>1.1</td>\n",
       "      <td>-3.6</td>\n",
       "      <td>6.1</td>\n",
       "    </tr>\n",
       "  </tbody>\n",
       "</table>\n",
       "<p>1316 rows × 5 columns</p>\n",
       "</div>"
      ],
      "text/plain": [
       "           date  강수량(mm)  평균기온(℃)  최저기온(℃)  최고기온(℃)\n",
       "0    2019-12-31      0.0     -7.9    -10.9     -4.5\n",
       "1    2019-12-30      0.4      2.7     -5.7      6.8\n",
       "2    2019-12-29      1.4      3.8      1.1      6.2\n",
       "3    2019-12-27      0.0     -1.7     -4.6      2.6\n",
       "4    2019-12-25      0.0      2.0     -2.7      6.6\n",
       "..          ...      ...      ...      ...      ...\n",
       "295  2019-12-14      0.0      2.7     -0.1      6.4\n",
       "296  2019-12-19      0.0     -0.8     -4.5      3.1\n",
       "297  2019-12-23      2.9      3.4      0.3      5.2\n",
       "298  2019-12-26      0.3      2.0     -2.4      4.1\n",
       "299  2019-12-28      0.0      1.1     -3.6      6.1\n",
       "\n",
       "[1316 rows x 5 columns]"
      ]
     },
     "execution_count": 5,
     "metadata": {},
     "output_type": "execute_result"
    }
   ],
   "source": [
    "# train과 test 합쳐서 전처리\n",
    "X = pd.concat([train_x,test_x])\n",
    "X"
   ]
  },
  {
   "cell_type": "code",
   "execution_count": 65,
   "metadata": {
    "ExecuteTime": {
     "end_time": "2021-07-06T09:14:39.652092Z",
     "start_time": "2021-07-06T09:14:39.640090Z"
    }
   },
   "outputs": [],
   "source": [
    "# 전처리 함수 생성\n",
    "# date를 datetime형식으로 변환후 년도, 월, 일, 주 생성\n",
    "def preprocessing(df):\n",
    "    df[\"date\"] = pd.to_datetime(df[\"date\"])\n",
    "    df[\"year\"] = df['date'].dt.year\n",
    "    df[\"month\"] = df['date'].dt.month\n",
    "    df[\"day\"] = df['date'].dt.day\n",
    "    df[\"weekday\"] = df['date'].dt.weekday\n",
    "    return df"
   ]
  },
  {
   "cell_type": "code",
   "execution_count": 66,
   "metadata": {
    "ExecuteTime": {
     "end_time": "2021-07-06T09:14:39.667096Z",
     "start_time": "2021-07-06T09:14:39.654150Z"
    }
   },
   "outputs": [],
   "source": [
    "X = preprocessing(X)"
   ]
  },
  {
   "cell_type": "code",
   "execution_count": 67,
   "metadata": {
    "ExecuteTime": {
     "end_time": "2021-07-06T09:14:39.699154Z",
     "start_time": "2021-07-06T09:14:39.683098Z"
    }
   },
   "outputs": [
    {
     "data": {
      "text/html": [
       "<div>\n",
       "<style scoped>\n",
       "    .dataframe tbody tr th:only-of-type {\n",
       "        vertical-align: middle;\n",
       "    }\n",
       "\n",
       "    .dataframe tbody tr th {\n",
       "        vertical-align: top;\n",
       "    }\n",
       "\n",
       "    .dataframe thead th {\n",
       "        text-align: right;\n",
       "    }\n",
       "</style>\n",
       "<table border=\"1\" class=\"dataframe\">\n",
       "  <thead>\n",
       "    <tr style=\"text-align: right;\">\n",
       "      <th></th>\n",
       "      <th>강수량(mm)</th>\n",
       "      <th>평균기온(℃)</th>\n",
       "      <th>최저기온(℃)</th>\n",
       "      <th>최고기온(℃)</th>\n",
       "      <th>year</th>\n",
       "      <th>month</th>\n",
       "      <th>day</th>\n",
       "      <th>weekday</th>\n",
       "    </tr>\n",
       "  </thead>\n",
       "  <tbody>\n",
       "    <tr>\n",
       "      <th>0</th>\n",
       "      <td>0.0</td>\n",
       "      <td>-7.9</td>\n",
       "      <td>-10.9</td>\n",
       "      <td>-4.5</td>\n",
       "      <td>2019</td>\n",
       "      <td>12</td>\n",
       "      <td>31</td>\n",
       "      <td>1</td>\n",
       "    </tr>\n",
       "    <tr>\n",
       "      <th>1</th>\n",
       "      <td>0.4</td>\n",
       "      <td>2.7</td>\n",
       "      <td>-5.7</td>\n",
       "      <td>6.8</td>\n",
       "      <td>2019</td>\n",
       "      <td>12</td>\n",
       "      <td>30</td>\n",
       "      <td>0</td>\n",
       "    </tr>\n",
       "    <tr>\n",
       "      <th>2</th>\n",
       "      <td>1.4</td>\n",
       "      <td>3.8</td>\n",
       "      <td>1.1</td>\n",
       "      <td>6.2</td>\n",
       "      <td>2019</td>\n",
       "      <td>12</td>\n",
       "      <td>29</td>\n",
       "      <td>6</td>\n",
       "    </tr>\n",
       "  </tbody>\n",
       "</table>\n",
       "</div>"
      ],
      "text/plain": [
       "   강수량(mm)  평균기온(℃)  최저기온(℃)  최고기온(℃)  year  month  day  weekday\n",
       "0      0.0     -7.9    -10.9     -4.5  2019     12   31        1\n",
       "1      0.4      2.7     -5.7      6.8  2019     12   30        0\n",
       "2      1.4      3.8      1.1      6.2  2019     12   29        6"
      ]
     },
     "execution_count": 67,
     "metadata": {},
     "output_type": "execute_result"
    }
   ],
   "source": [
    "# 기존의 date 컬럼 삭제\n",
    "new_X = X.drop('date',axis=1)\n",
    "new_X.head(3)"
   ]
  },
  {
   "cell_type": "code",
   "execution_count": 68,
   "metadata": {
    "ExecuteTime": {
     "end_time": "2021-07-06T09:14:39.903574Z",
     "start_time": "2021-07-06T09:14:39.868563Z"
    }
   },
   "outputs": [
    {
     "data": {
      "text/html": [
       "<div>\n",
       "<style scoped>\n",
       "    .dataframe tbody tr th:only-of-type {\n",
       "        vertical-align: middle;\n",
       "    }\n",
       "\n",
       "    .dataframe tbody tr th {\n",
       "        vertical-align: top;\n",
       "    }\n",
       "\n",
       "    .dataframe thead th {\n",
       "        text-align: right;\n",
       "    }\n",
       "</style>\n",
       "<table border=\"1\" class=\"dataframe\">\n",
       "  <thead>\n",
       "    <tr style=\"text-align: right;\">\n",
       "      <th></th>\n",
       "      <th>강수량(mm)</th>\n",
       "      <th>평균기온(℃)</th>\n",
       "      <th>최저기온(℃)</th>\n",
       "      <th>최고기온(℃)</th>\n",
       "      <th>year</th>\n",
       "      <th>month</th>\n",
       "      <th>day</th>\n",
       "      <th>weekday</th>\n",
       "      <th>mosquito_ratio</th>\n",
       "    </tr>\n",
       "  </thead>\n",
       "  <tbody>\n",
       "    <tr>\n",
       "      <th>0</th>\n",
       "      <td>0.0</td>\n",
       "      <td>-7.9</td>\n",
       "      <td>-10.9</td>\n",
       "      <td>-4.5</td>\n",
       "      <td>2019</td>\n",
       "      <td>12</td>\n",
       "      <td>31</td>\n",
       "      <td>1</td>\n",
       "      <td>5.5</td>\n",
       "    </tr>\n",
       "    <tr>\n",
       "      <th>1</th>\n",
       "      <td>0.4</td>\n",
       "      <td>2.7</td>\n",
       "      <td>-5.7</td>\n",
       "      <td>6.8</td>\n",
       "      <td>2019</td>\n",
       "      <td>12</td>\n",
       "      <td>30</td>\n",
       "      <td>0</td>\n",
       "      <td>5.5</td>\n",
       "    </tr>\n",
       "    <tr>\n",
       "      <th>2</th>\n",
       "      <td>1.4</td>\n",
       "      <td>3.8</td>\n",
       "      <td>1.1</td>\n",
       "      <td>6.2</td>\n",
       "      <td>2019</td>\n",
       "      <td>12</td>\n",
       "      <td>29</td>\n",
       "      <td>6</td>\n",
       "      <td>5.5</td>\n",
       "    </tr>\n",
       "    <tr>\n",
       "      <th>3</th>\n",
       "      <td>0.0</td>\n",
       "      <td>-1.7</td>\n",
       "      <td>-4.6</td>\n",
       "      <td>2.6</td>\n",
       "      <td>2019</td>\n",
       "      <td>12</td>\n",
       "      <td>27</td>\n",
       "      <td>4</td>\n",
       "      <td>5.5</td>\n",
       "    </tr>\n",
       "    <tr>\n",
       "      <th>4</th>\n",
       "      <td>0.0</td>\n",
       "      <td>2.0</td>\n",
       "      <td>-2.7</td>\n",
       "      <td>6.6</td>\n",
       "      <td>2019</td>\n",
       "      <td>12</td>\n",
       "      <td>25</td>\n",
       "      <td>2</td>\n",
       "      <td>5.5</td>\n",
       "    </tr>\n",
       "    <tr>\n",
       "      <th>...</th>\n",
       "      <td>...</td>\n",
       "      <td>...</td>\n",
       "      <td>...</td>\n",
       "      <td>...</td>\n",
       "      <td>...</td>\n",
       "      <td>...</td>\n",
       "      <td>...</td>\n",
       "      <td>...</td>\n",
       "      <td>...</td>\n",
       "    </tr>\n",
       "    <tr>\n",
       "      <th>1011</th>\n",
       "      <td>9.5</td>\n",
       "      <td>16.3</td>\n",
       "      <td>13.0</td>\n",
       "      <td>18.6</td>\n",
       "      <td>2016</td>\n",
       "      <td>5</td>\n",
       "      <td>6</td>\n",
       "      <td>4</td>\n",
       "      <td>248.5</td>\n",
       "    </tr>\n",
       "    <tr>\n",
       "      <th>1012</th>\n",
       "      <td>7.5</td>\n",
       "      <td>18.9</td>\n",
       "      <td>10.2</td>\n",
       "      <td>26.9</td>\n",
       "      <td>2016</td>\n",
       "      <td>5</td>\n",
       "      <td>5</td>\n",
       "      <td>3</td>\n",
       "      <td>243.8</td>\n",
       "    </tr>\n",
       "    <tr>\n",
       "      <th>1013</th>\n",
       "      <td>0.0</td>\n",
       "      <td>15.7</td>\n",
       "      <td>10.2</td>\n",
       "      <td>20.6</td>\n",
       "      <td>2016</td>\n",
       "      <td>5</td>\n",
       "      <td>4</td>\n",
       "      <td>2</td>\n",
       "      <td>256.2</td>\n",
       "    </tr>\n",
       "    <tr>\n",
       "      <th>1014</th>\n",
       "      <td>27.0</td>\n",
       "      <td>12.9</td>\n",
       "      <td>8.9</td>\n",
       "      <td>17.6</td>\n",
       "      <td>2016</td>\n",
       "      <td>5</td>\n",
       "      <td>3</td>\n",
       "      <td>1</td>\n",
       "      <td>304.0</td>\n",
       "    </tr>\n",
       "    <tr>\n",
       "      <th>1015</th>\n",
       "      <td>16.5</td>\n",
       "      <td>21.1</td>\n",
       "      <td>16.5</td>\n",
       "      <td>28.4</td>\n",
       "      <td>2016</td>\n",
       "      <td>5</td>\n",
       "      <td>2</td>\n",
       "      <td>0</td>\n",
       "      <td>273.5</td>\n",
       "    </tr>\n",
       "  </tbody>\n",
       "</table>\n",
       "<p>1016 rows × 9 columns</p>\n",
       "</div>"
      ],
      "text/plain": [
       "      강수량(mm)  평균기온(℃)  최저기온(℃)  최고기온(℃)  year  month  day  weekday  \\\n",
       "0         0.0     -7.9    -10.9     -4.5  2019     12   31        1   \n",
       "1         0.4      2.7     -5.7      6.8  2019     12   30        0   \n",
       "2         1.4      3.8      1.1      6.2  2019     12   29        6   \n",
       "3         0.0     -1.7     -4.6      2.6  2019     12   27        4   \n",
       "4         0.0      2.0     -2.7      6.6  2019     12   25        2   \n",
       "...       ...      ...      ...      ...   ...    ...  ...      ...   \n",
       "1011      9.5     16.3     13.0     18.6  2016      5    6        4   \n",
       "1012      7.5     18.9     10.2     26.9  2016      5    5        3   \n",
       "1013      0.0     15.7     10.2     20.6  2016      5    4        2   \n",
       "1014     27.0     12.9      8.9     17.6  2016      5    3        1   \n",
       "1015     16.5     21.1     16.5     28.4  2016      5    2        0   \n",
       "\n",
       "      mosquito_ratio  \n",
       "0                5.5  \n",
       "1                5.5  \n",
       "2                5.5  \n",
       "3                5.5  \n",
       "4                5.5  \n",
       "...              ...  \n",
       "1011           248.5  \n",
       "1012           243.8  \n",
       "1013           256.2  \n",
       "1014           304.0  \n",
       "1015           273.5  \n",
       "\n",
       "[1016 rows x 9 columns]"
      ]
     },
     "execution_count": 68,
     "metadata": {},
     "output_type": "execute_result"
    }
   ],
   "source": [
    "# train_x와 train_y 조인\n",
    "new_XX = pd.concat([new_X[:1016],train_y['mosquito_ratio']],axis=1,join=\"inner\")\n",
    "new_XX"
   ]
  },
  {
   "cell_type": "code",
   "execution_count": 69,
   "metadata": {
    "ExecuteTime": {
     "end_time": "2021-07-06T09:14:40.167737Z",
     "start_time": "2021-07-06T09:14:40.138426Z"
    }
   },
   "outputs": [
    {
     "data": {
      "text/plain": [
       "month\n",
       "1       4.097059\n",
       "2       4.123188\n",
       "3       6.185526\n",
       "4      24.975758\n",
       "5     262.114286\n",
       "6     617.132222\n",
       "7     778.635052\n",
       "8     291.417021\n",
       "9     536.848864\n",
       "10    224.647500\n",
       "11      7.953086\n",
       "12      4.846078\n",
       "Name: mosquito_ratio, dtype: float64"
      ]
     },
     "execution_count": 69,
     "metadata": {},
     "output_type": "execute_result"
    }
   ],
   "source": [
    "# 월별 모기 분포\n",
    "new_XX[['month','mosquito_ratio']].groupby(['month']).mosquito_ratio.agg('mean')"
   ]
  },
  {
   "cell_type": "code",
   "execution_count": 70,
   "metadata": {
    "ExecuteTime": {
     "end_time": "2021-07-06T09:14:40.765995Z",
     "start_time": "2021-07-06T09:14:40.748001Z"
    }
   },
   "outputs": [],
   "source": [
    "# 월별 모기 수에 따른 라벨 인코딩\n",
    "weather = {\n",
    "    1 : '0',\n",
    "    2 : '0',\n",
    "    3 : '0',\n",
    "    4 : '1',\n",
    "    5 : '1',\n",
    "    6 : '2',\n",
    "    7 : '2',\n",
    "    8 : '1',\n",
    "    9 : '2',\n",
    "    10 : '1',\n",
    "    11 : '0',\n",
    "    12 : '0',\n",
    "}"
   ]
  },
  {
   "cell_type": "code",
   "execution_count": 71,
   "metadata": {
    "ExecuteTime": {
     "end_time": "2021-07-06T09:14:41.590222Z",
     "start_time": "2021-07-06T09:14:41.578883Z"
    }
   },
   "outputs": [],
   "source": [
    "new_X['weather'] = new_X[\"month\"].map(weather)"
   ]
  },
  {
   "cell_type": "code",
   "execution_count": 73,
   "metadata": {
    "ExecuteTime": {
     "end_time": "2021-07-06T09:14:45.195089Z",
     "start_time": "2021-07-06T09:14:45.160673Z"
    }
   },
   "outputs": [
    {
     "data": {
      "text/html": [
       "<div>\n",
       "<style scoped>\n",
       "    .dataframe tbody tr th:only-of-type {\n",
       "        vertical-align: middle;\n",
       "    }\n",
       "\n",
       "    .dataframe tbody tr th {\n",
       "        vertical-align: top;\n",
       "    }\n",
       "\n",
       "    .dataframe thead th {\n",
       "        text-align: right;\n",
       "    }\n",
       "</style>\n",
       "<table border=\"1\" class=\"dataframe\">\n",
       "  <thead>\n",
       "    <tr style=\"text-align: right;\">\n",
       "      <th></th>\n",
       "      <th>강수량(mm)</th>\n",
       "      <th>평균기온(℃)</th>\n",
       "      <th>최저기온(℃)</th>\n",
       "      <th>최고기온(℃)</th>\n",
       "      <th>year</th>\n",
       "      <th>month</th>\n",
       "      <th>day</th>\n",
       "      <th>weekday</th>\n",
       "      <th>weather_1</th>\n",
       "      <th>weather_2</th>\n",
       "    </tr>\n",
       "  </thead>\n",
       "  <tbody>\n",
       "    <tr>\n",
       "      <th>0</th>\n",
       "      <td>0.0</td>\n",
       "      <td>-7.9</td>\n",
       "      <td>-10.9</td>\n",
       "      <td>-4.5</td>\n",
       "      <td>2019</td>\n",
       "      <td>12</td>\n",
       "      <td>31</td>\n",
       "      <td>1</td>\n",
       "      <td>0</td>\n",
       "      <td>0</td>\n",
       "    </tr>\n",
       "    <tr>\n",
       "      <th>1</th>\n",
       "      <td>0.4</td>\n",
       "      <td>2.7</td>\n",
       "      <td>-5.7</td>\n",
       "      <td>6.8</td>\n",
       "      <td>2019</td>\n",
       "      <td>12</td>\n",
       "      <td>30</td>\n",
       "      <td>0</td>\n",
       "      <td>0</td>\n",
       "      <td>0</td>\n",
       "    </tr>\n",
       "    <tr>\n",
       "      <th>2</th>\n",
       "      <td>1.4</td>\n",
       "      <td>3.8</td>\n",
       "      <td>1.1</td>\n",
       "      <td>6.2</td>\n",
       "      <td>2019</td>\n",
       "      <td>12</td>\n",
       "      <td>29</td>\n",
       "      <td>6</td>\n",
       "      <td>0</td>\n",
       "      <td>0</td>\n",
       "    </tr>\n",
       "    <tr>\n",
       "      <th>3</th>\n",
       "      <td>0.0</td>\n",
       "      <td>-1.7</td>\n",
       "      <td>-4.6</td>\n",
       "      <td>2.6</td>\n",
       "      <td>2019</td>\n",
       "      <td>12</td>\n",
       "      <td>27</td>\n",
       "      <td>4</td>\n",
       "      <td>0</td>\n",
       "      <td>0</td>\n",
       "    </tr>\n",
       "    <tr>\n",
       "      <th>4</th>\n",
       "      <td>0.0</td>\n",
       "      <td>2.0</td>\n",
       "      <td>-2.7</td>\n",
       "      <td>6.6</td>\n",
       "      <td>2019</td>\n",
       "      <td>12</td>\n",
       "      <td>25</td>\n",
       "      <td>2</td>\n",
       "      <td>0</td>\n",
       "      <td>0</td>\n",
       "    </tr>\n",
       "    <tr>\n",
       "      <th>...</th>\n",
       "      <td>...</td>\n",
       "      <td>...</td>\n",
       "      <td>...</td>\n",
       "      <td>...</td>\n",
       "      <td>...</td>\n",
       "      <td>...</td>\n",
       "      <td>...</td>\n",
       "      <td>...</td>\n",
       "      <td>...</td>\n",
       "      <td>...</td>\n",
       "    </tr>\n",
       "    <tr>\n",
       "      <th>295</th>\n",
       "      <td>0.0</td>\n",
       "      <td>2.7</td>\n",
       "      <td>-0.1</td>\n",
       "      <td>6.4</td>\n",
       "      <td>2019</td>\n",
       "      <td>12</td>\n",
       "      <td>14</td>\n",
       "      <td>5</td>\n",
       "      <td>0</td>\n",
       "      <td>0</td>\n",
       "    </tr>\n",
       "    <tr>\n",
       "      <th>296</th>\n",
       "      <td>0.0</td>\n",
       "      <td>-0.8</td>\n",
       "      <td>-4.5</td>\n",
       "      <td>3.1</td>\n",
       "      <td>2019</td>\n",
       "      <td>12</td>\n",
       "      <td>19</td>\n",
       "      <td>3</td>\n",
       "      <td>0</td>\n",
       "      <td>0</td>\n",
       "    </tr>\n",
       "    <tr>\n",
       "      <th>297</th>\n",
       "      <td>2.9</td>\n",
       "      <td>3.4</td>\n",
       "      <td>0.3</td>\n",
       "      <td>5.2</td>\n",
       "      <td>2019</td>\n",
       "      <td>12</td>\n",
       "      <td>23</td>\n",
       "      <td>0</td>\n",
       "      <td>0</td>\n",
       "      <td>0</td>\n",
       "    </tr>\n",
       "    <tr>\n",
       "      <th>298</th>\n",
       "      <td>0.3</td>\n",
       "      <td>2.0</td>\n",
       "      <td>-2.4</td>\n",
       "      <td>4.1</td>\n",
       "      <td>2019</td>\n",
       "      <td>12</td>\n",
       "      <td>26</td>\n",
       "      <td>3</td>\n",
       "      <td>0</td>\n",
       "      <td>0</td>\n",
       "    </tr>\n",
       "    <tr>\n",
       "      <th>299</th>\n",
       "      <td>0.0</td>\n",
       "      <td>1.1</td>\n",
       "      <td>-3.6</td>\n",
       "      <td>6.1</td>\n",
       "      <td>2019</td>\n",
       "      <td>12</td>\n",
       "      <td>28</td>\n",
       "      <td>5</td>\n",
       "      <td>0</td>\n",
       "      <td>0</td>\n",
       "    </tr>\n",
       "  </tbody>\n",
       "</table>\n",
       "<p>1316 rows × 10 columns</p>\n",
       "</div>"
      ],
      "text/plain": [
       "     강수량(mm)  평균기온(℃)  최저기온(℃)  최고기온(℃)  year  month  day  weekday  weather_1  \\\n",
       "0        0.0     -7.9    -10.9     -4.5  2019     12   31        1          0   \n",
       "1        0.4      2.7     -5.7      6.8  2019     12   30        0          0   \n",
       "2        1.4      3.8      1.1      6.2  2019     12   29        6          0   \n",
       "3        0.0     -1.7     -4.6      2.6  2019     12   27        4          0   \n",
       "4        0.0      2.0     -2.7      6.6  2019     12   25        2          0   \n",
       "..       ...      ...      ...      ...   ...    ...  ...      ...        ...   \n",
       "295      0.0      2.7     -0.1      6.4  2019     12   14        5          0   \n",
       "296      0.0     -0.8     -4.5      3.1  2019     12   19        3          0   \n",
       "297      2.9      3.4      0.3      5.2  2019     12   23        0          0   \n",
       "298      0.3      2.0     -2.4      4.1  2019     12   26        3          0   \n",
       "299      0.0      1.1     -3.6      6.1  2019     12   28        5          0   \n",
       "\n",
       "     weather_2  \n",
       "0            0  \n",
       "1            0  \n",
       "2            0  \n",
       "3            0  \n",
       "4            0  \n",
       "..         ...  \n",
       "295          0  \n",
       "296          0  \n",
       "297          0  \n",
       "298          0  \n",
       "299          0  \n",
       "\n",
       "[1316 rows x 10 columns]"
      ]
     },
     "execution_count": 73,
     "metadata": {},
     "output_type": "execute_result"
    }
   ],
   "source": [
    "new_X = pd.get_dummies(new_X,drop_first=True)\n",
    "new_X"
   ]
  },
  {
   "cell_type": "code",
   "execution_count": 74,
   "metadata": {
    "ExecuteTime": {
     "end_time": "2021-07-06T09:14:47.103077Z",
     "start_time": "2021-07-06T09:14:47.088140Z"
    }
   },
   "outputs": [],
   "source": [
    "# train, test 분리\n",
    "from sklearn.model_selection import train_test_split\n",
    "\n",
    "X_train, X_test, y_train,y_test = train_test_split(new_X[:1016],train_y[\"mosquito_ratio\"],test_size=0.3,\n",
    "                                                                      random_state=42)"
   ]
  },
  {
   "cell_type": "code",
   "execution_count": 75,
   "metadata": {
    "ExecuteTime": {
     "end_time": "2021-07-06T09:14:47.524358Z",
     "start_time": "2021-07-06T09:14:47.494968Z"
    }
   },
   "outputs": [],
   "source": [
    "# min-max 표준화\n",
    "from sklearn.preprocessing import MinMaxScaler\n",
    "scaler = MinMaxScaler()\n",
    "\n",
    "train_scaled = scaler.fit_transform(X_train)\n",
    "test_scaled = scaler.transform(X_test)\n",
    "ttest_scaled = scaler.transform(new_X[1016:])"
   ]
  },
  {
   "cell_type": "code",
   "execution_count": 76,
   "metadata": {
    "ExecuteTime": {
     "end_time": "2021-07-06T09:14:48.282593Z",
     "start_time": "2021-07-06T09:14:48.034490Z"
    },
    "scrolled": true
   },
   "outputs": [],
   "source": [
    "# 기본 랜덤포레스트 모델 적합\n",
    "from sklearn.ensemble import RandomForestRegressor\n",
    "\n",
    "rf = RandomForestRegressor(random_state=42)\n",
    "rf.fit(train_scaled,y_train)\n",
    "y_pred = rf.predict(test_scaled)"
   ]
  },
  {
   "cell_type": "code",
   "execution_count": 77,
   "metadata": {
    "ExecuteTime": {
     "end_time": "2021-07-06T09:14:48.596733Z",
     "start_time": "2021-07-06T09:14:48.578743Z"
    }
   },
   "outputs": [
    {
     "data": {
      "text/plain": [
       "0.9203678649210191"
      ]
     },
     "execution_count": 77,
     "metadata": {},
     "output_type": "execute_result"
    }
   ],
   "source": [
    "# r2_score를 통한 검증\n",
    "from sklearn.metrics import r2_score\n",
    "\n",
    "score = r2_score(y_test,y_pred)\n",
    "score"
   ]
  },
  {
   "cell_type": "code",
   "execution_count": 78,
   "metadata": {
    "ExecuteTime": {
     "end_time": "2021-07-06T09:14:49.268702Z",
     "start_time": "2021-07-06T09:14:49.228367Z"
    }
   },
   "outputs": [],
   "source": [
    "rf_pred = rf.predict(ttest_scaled)"
   ]
  },
  {
   "cell_type": "code",
   "execution_count": 79,
   "metadata": {
    "ExecuteTime": {
     "end_time": "2021-07-06T09:14:49.674639Z",
     "start_time": "2021-07-06T09:14:49.655580Z"
    },
    "scrolled": true
   },
   "outputs": [],
   "source": [
    "sub['mosquito_ratio'] = rf_pred\n",
    "sub.to_csv('submission.csv',index=False)"
   ]
  },
  {
   "cell_type": "code",
   "execution_count": 80,
   "metadata": {
    "ExecuteTime": {
     "end_time": "2021-07-06T09:14:50.603327Z",
     "start_time": "2021-07-06T09:14:50.279786Z"
    }
   },
   "outputs": [
    {
     "name": "stdout",
     "output_type": "stream",
     "text": [
      "submission mse score :  0.905619519028415\n"
     ]
    }
   ],
   "source": [
    "# mse를 통한 최종 테스트 결과 비교\n",
    "def FinalMseScore():\n",
    "    import pandas as pd\n",
    "    y_true = pd.read_csv(\"https://raw.githubusercontent.com/Datamanim/mosquito/main/result.csv\")\n",
    "    sub = pd.read_csv('./submission.csv')\n",
    "    pred = sub.iloc[:,-1].values\n",
    "    from sklearn.metrics import r2_score\n",
    "    mse = r2_score(y_true['mosquito_ratio'],pred)    \n",
    "    print('submission mse score : ',mse)\n",
    "    return mse\n",
    "\n",
    "final_mse = FinalMseScore()"
   ]
  },
  {
   "cell_type": "code",
   "execution_count": 22,
   "metadata": {
    "ExecuteTime": {
     "end_time": "2021-07-06T08:16:50.553909Z",
     "start_time": "2021-07-06T08:16:48.254046Z"
    }
   },
   "outputs": [],
   "source": [
    "# 기본 xgboost모델 적합\n",
    "import xgboost\n",
    "xgb_reg = xgboost.XGBRFRegressor(random_state=42)\n",
    "xgb_reg.fit(train_scaled,y_train)\n",
    "y_pred = xgb_reg.predict(test_scaled)"
   ]
  },
  {
   "cell_type": "code",
   "execution_count": 23,
   "metadata": {
    "ExecuteTime": {
     "end_time": "2021-07-06T08:16:52.267229Z",
     "start_time": "2021-07-06T08:16:52.257216Z"
    }
   },
   "outputs": [
    {
     "data": {
      "text/plain": [
       "0.9116651709041649"
      ]
     },
     "execution_count": 23,
     "metadata": {},
     "output_type": "execute_result"
    }
   ],
   "source": [
    "score = r2_score(y_test,y_pred)\n",
    "score"
   ]
  },
  {
   "cell_type": "code",
   "execution_count": 24,
   "metadata": {
    "ExecuteTime": {
     "end_time": "2021-07-06T08:16:53.329846Z",
     "start_time": "2021-07-06T08:16:53.320058Z"
    },
    "scrolled": true
   },
   "outputs": [],
   "source": [
    "xgb_pred = xgb_reg.predict(ttest_scaled)"
   ]
  },
  {
   "cell_type": "code",
   "execution_count": 25,
   "metadata": {
    "ExecuteTime": {
     "end_time": "2021-07-06T08:16:54.126373Z",
     "start_time": "2021-07-06T08:16:54.100246Z"
    }
   },
   "outputs": [],
   "source": [
    "sub['mosquito_ratio'] = xgb_pred\n",
    "sub.to_csv('submission.csv',index=False)"
   ]
  },
  {
   "cell_type": "code",
   "execution_count": 26,
   "metadata": {
    "ExecuteTime": {
     "end_time": "2021-07-06T08:16:54.666607Z",
     "start_time": "2021-07-06T08:16:54.468528Z"
    }
   },
   "outputs": [
    {
     "name": "stdout",
     "output_type": "stream",
     "text": [
      "submission mse score :  0.901446372725677\n"
     ]
    }
   ],
   "source": [
    "# xgboost 최종 테스트 비교\n",
    "def FinalMseScore():\n",
    "    import pandas as pd\n",
    "    y_true = pd.read_csv(\"mosquitodata/result.csv\")\n",
    "    sub = pd.read_csv('./submission.csv')\n",
    "    pred = sub.iloc[:,-1].values\n",
    "    from sklearn.metrics import r2_score\n",
    "    mse = r2_score(y_true['mosquito_ratio'],pred)    \n",
    "    print('submission mse score : ',mse)\n",
    "    return mse\n",
    "\n",
    "final_mse = FinalMseScore()"
   ]
  },
  {
   "cell_type": "code",
   "execution_count": null,
   "metadata": {},
   "outputs": [],
   "source": []
  }
 ],
 "metadata": {
  "kernelspec": {
   "display_name": "Python 3",
   "language": "python",
   "name": "python3"
  },
  "language_info": {
   "codemirror_mode": {
    "name": "ipython",
    "version": 3
   },
   "file_extension": ".py",
   "mimetype": "text/x-python",
   "name": "python",
   "nbconvert_exporter": "python",
   "pygments_lexer": "ipython3",
   "version": "3.8.5"
  },
  "toc": {
   "base_numbering": 1,
   "nav_menu": {},
   "number_sections": true,
   "sideBar": true,
   "skip_h1_title": false,
   "title_cell": "Table of Contents",
   "title_sidebar": "Contents",
   "toc_cell": false,
   "toc_position": {},
   "toc_section_display": true,
   "toc_window_display": false
  }
 },
 "nbformat": 4,
 "nbformat_minor": 4
}
