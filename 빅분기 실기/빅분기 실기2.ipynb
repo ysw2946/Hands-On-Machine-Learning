{
 "cells": [
  {
   "cell_type": "code",
   "execution_count": 1,
   "metadata": {
    "ExecuteTime": {
     "end_time": "2021-06-14T07:21:04.919855Z",
     "start_time": "2021-06-14T07:21:00.282322Z"
    }
   },
   "outputs": [],
   "source": [
    "import pandas as pd\n",
    "import numpy as np\n",
    "import matplotlib.pyplot as plt\n",
    "import seaborn as sns"
   ]
  },
  {
   "cell_type": "code",
   "execution_count": 2,
   "metadata": {
    "ExecuteTime": {
     "end_time": "2021-06-14T07:21:04.966227Z",
     "start_time": "2021-06-14T07:21:04.921848Z"
    }
   },
   "outputs": [],
   "source": [
    "X_train = pd.read_csv(\"빅분기 실기/X_train.csv\",encoding=\"cp949\")\n",
    "X_test = pd.read_csv(\"빅분기 실기/X_test.csv\",encoding=\"cp949\")\n",
    "y_train = pd.read_csv(\"빅분기 실기/y_train.csv\",encoding=\"cp949\")"
   ]
  },
  {
   "cell_type": "code",
   "execution_count": 11,
   "metadata": {
    "ExecuteTime": {
     "end_time": "2021-06-14T07:46:06.171158Z",
     "start_time": "2021-06-14T07:46:06.138221Z"
    }
   },
   "outputs": [
    {
     "data": {
      "text/html": [
       "<div>\n",
       "<style scoped>\n",
       "    .dataframe tbody tr th:only-of-type {\n",
       "        vertical-align: middle;\n",
       "    }\n",
       "\n",
       "    .dataframe tbody tr th {\n",
       "        vertical-align: top;\n",
       "    }\n",
       "\n",
       "    .dataframe thead th {\n",
       "        text-align: right;\n",
       "    }\n",
       "</style>\n",
       "<table border=\"1\" class=\"dataframe\">\n",
       "  <thead>\n",
       "    <tr style=\"text-align: right;\">\n",
       "      <th></th>\n",
       "      <th>주구매상품</th>\n",
       "    </tr>\n",
       "  </thead>\n",
       "  <tbody>\n",
       "    <tr>\n",
       "      <th>0</th>\n",
       "      <td>기타</td>\n",
       "    </tr>\n",
       "    <tr>\n",
       "      <th>1</th>\n",
       "      <td>스포츠</td>\n",
       "    </tr>\n",
       "    <tr>\n",
       "      <th>2</th>\n",
       "      <td>남성 캐주얼</td>\n",
       "    </tr>\n",
       "    <tr>\n",
       "      <th>3</th>\n",
       "      <td>기타</td>\n",
       "    </tr>\n",
       "    <tr>\n",
       "      <th>4</th>\n",
       "      <td>보석</td>\n",
       "    </tr>\n",
       "    <tr>\n",
       "      <th>...</th>\n",
       "      <td>...</td>\n",
       "    </tr>\n",
       "    <tr>\n",
       "      <th>3495</th>\n",
       "      <td>골프</td>\n",
       "    </tr>\n",
       "    <tr>\n",
       "      <th>3496</th>\n",
       "      <td>시티웨어</td>\n",
       "    </tr>\n",
       "    <tr>\n",
       "      <th>3497</th>\n",
       "      <td>주방용품</td>\n",
       "    </tr>\n",
       "    <tr>\n",
       "      <th>3498</th>\n",
       "      <td>화장품</td>\n",
       "    </tr>\n",
       "    <tr>\n",
       "      <th>3499</th>\n",
       "      <td>기타</td>\n",
       "    </tr>\n",
       "  </tbody>\n",
       "</table>\n",
       "<p>3500 rows × 1 columns</p>\n",
       "</div>"
      ],
      "text/plain": [
       "       주구매상품\n",
       "0         기타\n",
       "1        스포츠\n",
       "2     남성 캐주얼\n",
       "3         기타\n",
       "4         보석\n",
       "...      ...\n",
       "3495      골프\n",
       "3496    시티웨어\n",
       "3497    주방용품\n",
       "3498     화장품\n",
       "3499      기타\n",
       "\n",
       "[3500 rows x 1 columns]"
      ]
     },
     "execution_count": 11,
     "metadata": {},
     "output_type": "execute_result"
    }
   ],
   "source": [
    "X_train[[\"주구매상품\"]]"
   ]
  },
  {
   "cell_type": "code",
   "execution_count": 97,
   "metadata": {
    "ExecuteTime": {
     "end_time": "2021-06-11T11:07:15.316071Z",
     "start_time": "2021-06-11T11:07:15.278228Z"
    }
   },
   "outputs": [
    {
     "data": {
      "text/plain": [
       "2       1\n",
       "12      1\n",
       "122     0\n",
       "195     1\n",
       "201     0\n",
       "       ..\n",
       "3316    1\n",
       "3348    1\n",
       "3405    0\n",
       "3468    1\n",
       "3477    1\n",
       "Name: gender, Length: 79, dtype: int64"
      ]
     },
     "execution_count": 97,
     "metadata": {},
     "output_type": "execute_result"
    }
   ],
   "source": [
    "XY = pd.concat([X_train,y_train],axis=1)\n",
    "XY[XY[\"주구매상품\"].str.startswith(\"남성\")].gender"
   ]
  },
  {
   "cell_type": "code",
   "execution_count": 98,
   "metadata": {
    "ExecuteTime": {
     "end_time": "2021-06-11T11:07:21.142598Z",
     "start_time": "2021-06-11T11:07:21.120335Z"
    }
   },
   "outputs": [
    {
     "data": {
      "text/plain": [
       "0.7721518987341772"
      ]
     },
     "execution_count": 98,
     "metadata": {},
     "output_type": "execute_result"
    }
   ],
   "source": [
    "61/79"
   ]
  },
  {
   "cell_type": "code",
   "execution_count": 8,
   "metadata": {
    "ExecuteTime": {
     "end_time": "2021-06-11T09:52:50.956729Z",
     "start_time": "2021-06-11T09:52:50.923250Z"
    }
   },
   "outputs": [
    {
     "data": {
      "text/html": [
       "<div>\n",
       "<style scoped>\n",
       "    .dataframe tbody tr th:only-of-type {\n",
       "        vertical-align: middle;\n",
       "    }\n",
       "\n",
       "    .dataframe tbody tr th {\n",
       "        vertical-align: top;\n",
       "    }\n",
       "\n",
       "    .dataframe thead th {\n",
       "        text-align: right;\n",
       "    }\n",
       "</style>\n",
       "<table border=\"1\" class=\"dataframe\">\n",
       "  <thead>\n",
       "    <tr style=\"text-align: right;\">\n",
       "      <th></th>\n",
       "      <th>cust_id</th>\n",
       "      <th>총구매액</th>\n",
       "      <th>최대구매액</th>\n",
       "      <th>환불금액</th>\n",
       "      <th>주구매상품</th>\n",
       "      <th>주구매지점</th>\n",
       "      <th>내점일수</th>\n",
       "      <th>내점당구매건수</th>\n",
       "      <th>주말방문비율</th>\n",
       "      <th>구매주기</th>\n",
       "    </tr>\n",
       "  </thead>\n",
       "  <tbody>\n",
       "    <tr>\n",
       "      <th>0</th>\n",
       "      <td>0</td>\n",
       "      <td>68282840</td>\n",
       "      <td>11264000</td>\n",
       "      <td>6860000.0</td>\n",
       "      <td>기타</td>\n",
       "      <td>강남점</td>\n",
       "      <td>19</td>\n",
       "      <td>3.894737</td>\n",
       "      <td>0.527027</td>\n",
       "      <td>17</td>\n",
       "    </tr>\n",
       "    <tr>\n",
       "      <th>1</th>\n",
       "      <td>1</td>\n",
       "      <td>2136000</td>\n",
       "      <td>2136000</td>\n",
       "      <td>300000.0</td>\n",
       "      <td>스포츠</td>\n",
       "      <td>잠실점</td>\n",
       "      <td>2</td>\n",
       "      <td>1.500000</td>\n",
       "      <td>0.000000</td>\n",
       "      <td>1</td>\n",
       "    </tr>\n",
       "    <tr>\n",
       "      <th>2</th>\n",
       "      <td>2</td>\n",
       "      <td>3197000</td>\n",
       "      <td>1639000</td>\n",
       "      <td>NaN</td>\n",
       "      <td>남성 캐주얼</td>\n",
       "      <td>관악점</td>\n",
       "      <td>2</td>\n",
       "      <td>2.000000</td>\n",
       "      <td>0.000000</td>\n",
       "      <td>1</td>\n",
       "    </tr>\n",
       "    <tr>\n",
       "      <th>3</th>\n",
       "      <td>3</td>\n",
       "      <td>16077620</td>\n",
       "      <td>4935000</td>\n",
       "      <td>NaN</td>\n",
       "      <td>기타</td>\n",
       "      <td>광주점</td>\n",
       "      <td>18</td>\n",
       "      <td>2.444444</td>\n",
       "      <td>0.318182</td>\n",
       "      <td>16</td>\n",
       "    </tr>\n",
       "    <tr>\n",
       "      <th>4</th>\n",
       "      <td>4</td>\n",
       "      <td>29050000</td>\n",
       "      <td>24000000</td>\n",
       "      <td>NaN</td>\n",
       "      <td>보석</td>\n",
       "      <td>본  점</td>\n",
       "      <td>2</td>\n",
       "      <td>1.500000</td>\n",
       "      <td>0.000000</td>\n",
       "      <td>85</td>\n",
       "    </tr>\n",
       "  </tbody>\n",
       "</table>\n",
       "</div>"
      ],
      "text/plain": [
       "   cust_id      총구매액     최대구매액       환불금액   주구매상품 주구매지점  내점일수   내점당구매건수  \\\n",
       "0        0  68282840  11264000  6860000.0      기타   강남점    19  3.894737   \n",
       "1        1   2136000   2136000   300000.0     스포츠   잠실점     2  1.500000   \n",
       "2        2   3197000   1639000        NaN  남성 캐주얼   관악점     2  2.000000   \n",
       "3        3  16077620   4935000        NaN      기타   광주점    18  2.444444   \n",
       "4        4  29050000  24000000        NaN      보석  본  점     2  1.500000   \n",
       "\n",
       "     주말방문비율  구매주기  \n",
       "0  0.527027    17  \n",
       "1  0.000000     1  \n",
       "2  0.000000     1  \n",
       "3  0.318182    16  \n",
       "4  0.000000    85  "
      ]
     },
     "execution_count": 8,
     "metadata": {},
     "output_type": "execute_result"
    }
   ],
   "source": [
    "X = pd.concat([X_train,X_test])\n",
    "X.head(5)"
   ]
  },
  {
   "cell_type": "code",
   "execution_count": 12,
   "metadata": {
    "ExecuteTime": {
     "end_time": "2021-06-11T09:53:41.679241Z",
     "start_time": "2021-06-11T09:53:41.654257Z"
    }
   },
   "outputs": [
    {
     "data": {
      "text/html": [
       "<div>\n",
       "<style scoped>\n",
       "    .dataframe tbody tr th:only-of-type {\n",
       "        vertical-align: middle;\n",
       "    }\n",
       "\n",
       "    .dataframe tbody tr th {\n",
       "        vertical-align: top;\n",
       "    }\n",
       "\n",
       "    .dataframe thead th {\n",
       "        text-align: right;\n",
       "    }\n",
       "</style>\n",
       "<table border=\"1\" class=\"dataframe\">\n",
       "  <thead>\n",
       "    <tr style=\"text-align: right;\">\n",
       "      <th></th>\n",
       "      <th>cust_id</th>\n",
       "      <th>총구매액</th>\n",
       "      <th>최대구매액</th>\n",
       "      <th>환불금액</th>\n",
       "      <th>주구매상품</th>\n",
       "      <th>주구매지점</th>\n",
       "      <th>내점일수</th>\n",
       "      <th>내점당구매건수</th>\n",
       "      <th>주말방문비율</th>\n",
       "      <th>구매주기</th>\n",
       "    </tr>\n",
       "  </thead>\n",
       "  <tbody>\n",
       "    <tr>\n",
       "      <th>0</th>\n",
       "      <td>0</td>\n",
       "      <td>68282840</td>\n",
       "      <td>11264000</td>\n",
       "      <td>6860000.0</td>\n",
       "      <td>기타</td>\n",
       "      <td>강남점</td>\n",
       "      <td>19</td>\n",
       "      <td>3.894737</td>\n",
       "      <td>0.527027</td>\n",
       "      <td>17</td>\n",
       "    </tr>\n",
       "    <tr>\n",
       "      <th>1</th>\n",
       "      <td>1</td>\n",
       "      <td>2136000</td>\n",
       "      <td>2136000</td>\n",
       "      <td>300000.0</td>\n",
       "      <td>스포츠</td>\n",
       "      <td>잠실점</td>\n",
       "      <td>2</td>\n",
       "      <td>1.500000</td>\n",
       "      <td>0.000000</td>\n",
       "      <td>1</td>\n",
       "    </tr>\n",
       "    <tr>\n",
       "      <th>2</th>\n",
       "      <td>2</td>\n",
       "      <td>3197000</td>\n",
       "      <td>1639000</td>\n",
       "      <td>0.0</td>\n",
       "      <td>남성 캐주얼</td>\n",
       "      <td>관악점</td>\n",
       "      <td>2</td>\n",
       "      <td>2.000000</td>\n",
       "      <td>0.000000</td>\n",
       "      <td>1</td>\n",
       "    </tr>\n",
       "    <tr>\n",
       "      <th>3</th>\n",
       "      <td>3</td>\n",
       "      <td>16077620</td>\n",
       "      <td>4935000</td>\n",
       "      <td>0.0</td>\n",
       "      <td>기타</td>\n",
       "      <td>광주점</td>\n",
       "      <td>18</td>\n",
       "      <td>2.444444</td>\n",
       "      <td>0.318182</td>\n",
       "      <td>16</td>\n",
       "    </tr>\n",
       "    <tr>\n",
       "      <th>4</th>\n",
       "      <td>4</td>\n",
       "      <td>29050000</td>\n",
       "      <td>24000000</td>\n",
       "      <td>0.0</td>\n",
       "      <td>보석</td>\n",
       "      <td>본  점</td>\n",
       "      <td>2</td>\n",
       "      <td>1.500000</td>\n",
       "      <td>0.000000</td>\n",
       "      <td>85</td>\n",
       "    </tr>\n",
       "  </tbody>\n",
       "</table>\n",
       "</div>"
      ],
      "text/plain": [
       "   cust_id      총구매액     최대구매액       환불금액   주구매상품 주구매지점  내점일수   내점당구매건수  \\\n",
       "0        0  68282840  11264000  6860000.0      기타   강남점    19  3.894737   \n",
       "1        1   2136000   2136000   300000.0     스포츠   잠실점     2  1.500000   \n",
       "2        2   3197000   1639000        0.0  남성 캐주얼   관악점     2  2.000000   \n",
       "3        3  16077620   4935000        0.0      기타   광주점    18  2.444444   \n",
       "4        4  29050000  24000000        0.0      보석  본  점     2  1.500000   \n",
       "\n",
       "     주말방문비율  구매주기  \n",
       "0  0.527027    17  \n",
       "1  0.000000     1  \n",
       "2  0.000000     1  \n",
       "3  0.318182    16  \n",
       "4  0.000000    85  "
      ]
     },
     "execution_count": 12,
     "metadata": {},
     "output_type": "execute_result"
    }
   ],
   "source": [
    "new_X = X.fillna(0)\n",
    "new_X.head()"
   ]
  },
  {
   "cell_type": "code",
   "execution_count": 21,
   "metadata": {
    "ExecuteTime": {
     "end_time": "2021-06-11T09:54:37.419522Z",
     "start_time": "2021-06-11T09:54:37.383125Z"
    }
   },
   "outputs": [
    {
     "data": {
      "text/html": [
       "<div>\n",
       "<style scoped>\n",
       "    .dataframe tbody tr th:only-of-type {\n",
       "        vertical-align: middle;\n",
       "    }\n",
       "\n",
       "    .dataframe tbody tr th {\n",
       "        vertical-align: top;\n",
       "    }\n",
       "\n",
       "    .dataframe thead th {\n",
       "        text-align: right;\n",
       "    }\n",
       "</style>\n",
       "<table border=\"1\" class=\"dataframe\">\n",
       "  <thead>\n",
       "    <tr style=\"text-align: right;\">\n",
       "      <th></th>\n",
       "      <th>cust_id</th>\n",
       "      <th>총구매액</th>\n",
       "      <th>최대구매액</th>\n",
       "      <th>환불금액</th>\n",
       "      <th>주구매상품</th>\n",
       "      <th>주구매지점</th>\n",
       "      <th>내점일수</th>\n",
       "      <th>내점당구매건수</th>\n",
       "      <th>주말방문비율</th>\n",
       "      <th>구매주기</th>\n",
       "    </tr>\n",
       "  </thead>\n",
       "  <tbody>\n",
       "    <tr>\n",
       "      <th>1659</th>\n",
       "      <td>1659</td>\n",
       "      <td>-2992000</td>\n",
       "      <td>-2992000</td>\n",
       "      <td>2992000.0</td>\n",
       "      <td>디자이너</td>\n",
       "      <td>본  점</td>\n",
       "      <td>1</td>\n",
       "      <td>1.000000</td>\n",
       "      <td>0.000000</td>\n",
       "      <td>0</td>\n",
       "    </tr>\n",
       "    <tr>\n",
       "      <th>3174</th>\n",
       "      <td>3174</td>\n",
       "      <td>-52421520</td>\n",
       "      <td>13616000</td>\n",
       "      <td>97222000.0</td>\n",
       "      <td>기타</td>\n",
       "      <td>본  점</td>\n",
       "      <td>18</td>\n",
       "      <td>4.444444</td>\n",
       "      <td>0.337500</td>\n",
       "      <td>16</td>\n",
       "    </tr>\n",
       "    <tr>\n",
       "      <th>3488</th>\n",
       "      <td>3488</td>\n",
       "      <td>-18905600</td>\n",
       "      <td>82306000</td>\n",
       "      <td>529602320.0</td>\n",
       "      <td>디자이너</td>\n",
       "      <td>부산본점</td>\n",
       "      <td>31</td>\n",
       "      <td>1.064516</td>\n",
       "      <td>0.242424</td>\n",
       "      <td>11</td>\n",
       "    </tr>\n",
       "    <tr>\n",
       "      <th>579</th>\n",
       "      <td>4079</td>\n",
       "      <td>-150000</td>\n",
       "      <td>-150000</td>\n",
       "      <td>150000.0</td>\n",
       "      <td>구두</td>\n",
       "      <td>분당점</td>\n",
       "      <td>1</td>\n",
       "      <td>1.000000</td>\n",
       "      <td>0.000000</td>\n",
       "      <td>0</td>\n",
       "    </tr>\n",
       "    <tr>\n",
       "      <th>1177</th>\n",
       "      <td>4677</td>\n",
       "      <td>-37440000</td>\n",
       "      <td>-37440000</td>\n",
       "      <td>37440000.0</td>\n",
       "      <td>대형가전</td>\n",
       "      <td>본  점</td>\n",
       "      <td>1</td>\n",
       "      <td>1.000000</td>\n",
       "      <td>0.000000</td>\n",
       "      <td>0</td>\n",
       "    </tr>\n",
       "  </tbody>\n",
       "</table>\n",
       "</div>"
      ],
      "text/plain": [
       "      cust_id      총구매액     최대구매액         환불금액 주구매상품 주구매지점  내점일수   내점당구매건수  \\\n",
       "1659     1659  -2992000  -2992000    2992000.0  디자이너  본  점     1  1.000000   \n",
       "3174     3174 -52421520  13616000   97222000.0    기타  본  점    18  4.444444   \n",
       "3488     3488 -18905600  82306000  529602320.0  디자이너  부산본점    31  1.064516   \n",
       "579      4079   -150000   -150000     150000.0    구두   분당점     1  1.000000   \n",
       "1177     4677 -37440000 -37440000   37440000.0  대형가전  본  점     1  1.000000   \n",
       "\n",
       "        주말방문비율  구매주기  \n",
       "1659  0.000000     0  \n",
       "3174  0.337500    16  \n",
       "3488  0.242424    11  \n",
       "579   0.000000     0  \n",
       "1177  0.000000     0  "
      ]
     },
     "execution_count": 21,
     "metadata": {},
     "output_type": "execute_result"
    }
   ],
   "source": [
    "X[X[\"총구매액\"] < 0]"
   ]
  },
  {
   "cell_type": "code",
   "execution_count": 36,
   "metadata": {
    "ExecuteTime": {
     "end_time": "2021-06-11T10:04:20.753990Z",
     "start_time": "2021-06-11T10:04:20.722820Z"
    },
    "scrolled": true
   },
   "outputs": [
    {
     "data": {
      "text/plain": [
       "101760880.0"
      ]
     },
     "execution_count": 36,
     "metadata": {},
     "output_type": "execute_result"
    }
   ],
   "source": [
    "IQR = (X_train[\"총구매액\"].quantile(0.75)) -  (X_train[\"총구매액\"].quantile(0.25))\n",
    "IQR"
   ]
  },
  {
   "cell_type": "code",
   "execution_count": 70,
   "metadata": {
    "ExecuteTime": {
     "end_time": "2021-06-11T10:39:11.346006Z",
     "start_time": "2021-06-11T10:39:11.312803Z"
    }
   },
   "outputs": [
    {
     "data": {
      "text/plain": [
       "20087500.0"
      ]
     },
     "execution_count": 70,
     "metadata": {},
     "output_type": "execute_result"
    }
   ],
   "source": [
    "IQRb = (X_train[\"최대구매액\"].quantile(0.75)) -  (X_train[\"최대구매액\"].quantile(0.25))\n",
    "IQRb"
   ]
  },
  {
   "cell_type": "code",
   "execution_count": 74,
   "metadata": {
    "ExecuteTime": {
     "end_time": "2021-06-11T10:40:22.459856Z",
     "start_time": "2021-06-11T10:40:22.427507Z"
    }
   },
   "outputs": [
    {
     "data": {
      "text/plain": [
       "count    3.500000e+03\n",
       "mean     9.191925e+07\n",
       "std      1.635065e+08\n",
       "min     -5.242152e+07\n",
       "25%      4.747050e+06\n",
       "50%      2.822270e+07\n",
       "75%      1.065079e+08\n",
       "max      2.323180e+09\n",
       "Name: 총구매액, dtype: float64"
      ]
     },
     "execution_count": 74,
     "metadata": {},
     "output_type": "execute_result"
    }
   ],
   "source": [
    "X_train[\"총구매액\"].describe()"
   ]
  },
  {
   "cell_type": "code",
   "execution_count": 83,
   "metadata": {
    "ExecuteTime": {
     "end_time": "2021-06-11T10:49:27.787554Z",
     "start_time": "2021-06-11T10:49:27.482536Z"
    },
    "scrolled": true
   },
   "outputs": [
    {
     "data": {
      "text/plain": [
       "(array([2.972e+03, 3.680e+02, 1.120e+02, 2.500e+01, 1.100e+01, 6.000e+00,\n",
       "        3.000e+00, 2.000e+00, 0.000e+00, 1.000e+00]),\n",
       " array([-5.24215200e+07,  1.85138639e+08,  4.22698798e+08,  6.60258957e+08,\n",
       "         8.97819116e+08,  1.13537928e+09,  1.37293943e+09,  1.61049959e+09,\n",
       "         1.84805975e+09,  2.08561991e+09,  2.32318007e+09]),\n",
       " <BarContainer object of 10 artists>)"
      ]
     },
     "execution_count": 83,
     "metadata": {},
     "output_type": "execute_result"
    },
    {
     "data": {
      "image/png": "[encoded data removed]",
      "text/plain": [
       "<Figure size 432x288 with 1 Axes>"
      ]
     },
     "metadata": {
      "needs_background": "light"
     },
     "output_type": "display_data"
    }
   ],
   "source": [
    "plt.hist(X_train[\"총구매액\"], bins=10)"
   ]
  },
  {
   "cell_type": "code",
   "execution_count": 38,
   "metadata": {
    "ExecuteTime": {
     "end_time": "2021-06-11T10:06:18.476368Z",
     "start_time": "2021-06-11T10:06:18.430329Z"
    }
   },
   "outputs": [
    {
     "data": {
      "text/html": [
       "<div>\n",
       "<style scoped>\n",
       "    .dataframe tbody tr th:only-of-type {\n",
       "        vertical-align: middle;\n",
       "    }\n",
       "\n",
       "    .dataframe tbody tr th {\n",
       "        vertical-align: top;\n",
       "    }\n",
       "\n",
       "    .dataframe thead th {\n",
       "        text-align: right;\n",
       "    }\n",
       "</style>\n",
       "<table border=\"1\" class=\"dataframe\">\n",
       "  <thead>\n",
       "    <tr style=\"text-align: right;\">\n",
       "      <th></th>\n",
       "      <th>cust_id</th>\n",
       "      <th>총구매액</th>\n",
       "      <th>최대구매액</th>\n",
       "      <th>환불금액</th>\n",
       "      <th>주구매상품</th>\n",
       "      <th>주구매지점</th>\n",
       "      <th>내점일수</th>\n",
       "      <th>내점당구매건수</th>\n",
       "      <th>주말방문비율</th>\n",
       "      <th>구매주기</th>\n",
       "    </tr>\n",
       "  </thead>\n",
       "  <tbody>\n",
       "    <tr>\n",
       "      <th>7</th>\n",
       "      <td>7</td>\n",
       "      <td>514570080</td>\n",
       "      <td>27104000</td>\n",
       "      <td>29524000.0</td>\n",
       "      <td>명품</td>\n",
       "      <td>본  점</td>\n",
       "      <td>63</td>\n",
       "      <td>2.634921</td>\n",
       "      <td>0.222892</td>\n",
       "      <td>5</td>\n",
       "    </tr>\n",
       "    <tr>\n",
       "      <th>8</th>\n",
       "      <td>8</td>\n",
       "      <td>688243360</td>\n",
       "      <td>173088000</td>\n",
       "      <td>NaN</td>\n",
       "      <td>기타</td>\n",
       "      <td>본  점</td>\n",
       "      <td>18</td>\n",
       "      <td>5.944444</td>\n",
       "      <td>0.411215</td>\n",
       "      <td>15</td>\n",
       "    </tr>\n",
       "    <tr>\n",
       "      <th>15</th>\n",
       "      <td>15</td>\n",
       "      <td>802390550</td>\n",
       "      <td>123488000</td>\n",
       "      <td>87054200.0</td>\n",
       "      <td>기타</td>\n",
       "      <td>본  점</td>\n",
       "      <td>152</td>\n",
       "      <td>3.585526</td>\n",
       "      <td>0.177982</td>\n",
       "      <td>2</td>\n",
       "    </tr>\n",
       "    <tr>\n",
       "      <th>16</th>\n",
       "      <td>16</td>\n",
       "      <td>359589000</td>\n",
       "      <td>73684240</td>\n",
       "      <td>NaN</td>\n",
       "      <td>골프</td>\n",
       "      <td>본  점</td>\n",
       "      <td>26</td>\n",
       "      <td>2.230769</td>\n",
       "      <td>0.362069</td>\n",
       "      <td>13</td>\n",
       "    </tr>\n",
       "    <tr>\n",
       "      <th>26</th>\n",
       "      <td>26</td>\n",
       "      <td>301903130</td>\n",
       "      <td>53050000</td>\n",
       "      <td>21241000.0</td>\n",
       "      <td>기타</td>\n",
       "      <td>본  점</td>\n",
       "      <td>53</td>\n",
       "      <td>2.792453</td>\n",
       "      <td>0.493243</td>\n",
       "      <td>6</td>\n",
       "    </tr>\n",
       "    <tr>\n",
       "      <th>...</th>\n",
       "      <td>...</td>\n",
       "      <td>...</td>\n",
       "      <td>...</td>\n",
       "      <td>...</td>\n",
       "      <td>...</td>\n",
       "      <td>...</td>\n",
       "      <td>...</td>\n",
       "      <td>...</td>\n",
       "      <td>...</td>\n",
       "      <td>...</td>\n",
       "    </tr>\n",
       "    <tr>\n",
       "      <th>3435</th>\n",
       "      <td>3435</td>\n",
       "      <td>432104650</td>\n",
       "      <td>53822300</td>\n",
       "      <td>109025800.0</td>\n",
       "      <td>기타</td>\n",
       "      <td>관악점</td>\n",
       "      <td>76</td>\n",
       "      <td>3.539474</td>\n",
       "      <td>0.468401</td>\n",
       "      <td>4</td>\n",
       "    </tr>\n",
       "    <tr>\n",
       "      <th>3446</th>\n",
       "      <td>3446</td>\n",
       "      <td>501501260</td>\n",
       "      <td>111200000</td>\n",
       "      <td>78034800.0</td>\n",
       "      <td>농산물</td>\n",
       "      <td>분당점</td>\n",
       "      <td>67</td>\n",
       "      <td>5.164179</td>\n",
       "      <td>0.208092</td>\n",
       "      <td>5</td>\n",
       "    </tr>\n",
       "    <tr>\n",
       "      <th>3472</th>\n",
       "      <td>3472</td>\n",
       "      <td>311956630</td>\n",
       "      <td>18175000</td>\n",
       "      <td>54145400.0</td>\n",
       "      <td>기타</td>\n",
       "      <td>노원점</td>\n",
       "      <td>72</td>\n",
       "      <td>7.263889</td>\n",
       "      <td>0.367113</td>\n",
       "      <td>5</td>\n",
       "    </tr>\n",
       "    <tr>\n",
       "      <th>3490</th>\n",
       "      <td>3490</td>\n",
       "      <td>330675700</td>\n",
       "      <td>85050000</td>\n",
       "      <td>NaN</td>\n",
       "      <td>디자이너</td>\n",
       "      <td>동래점</td>\n",
       "      <td>23</td>\n",
       "      <td>1.695652</td>\n",
       "      <td>0.179487</td>\n",
       "      <td>15</td>\n",
       "    </tr>\n",
       "    <tr>\n",
       "      <th>3499</th>\n",
       "      <td>3499</td>\n",
       "      <td>263101550</td>\n",
       "      <td>34632000</td>\n",
       "      <td>5973000.0</td>\n",
       "      <td>기타</td>\n",
       "      <td>본  점</td>\n",
       "      <td>38</td>\n",
       "      <td>2.421053</td>\n",
       "      <td>0.467391</td>\n",
       "      <td>8</td>\n",
       "    </tr>\n",
       "  </tbody>\n",
       "</table>\n",
       "<p>356 rows × 10 columns</p>\n",
       "</div>"
      ],
      "text/plain": [
       "      cust_id       총구매액      최대구매액         환불금액 주구매상품 주구매지점  내점일수   내점당구매건수  \\\n",
       "7           7  514570080   27104000   29524000.0    명품  본  점    63  2.634921   \n",
       "8           8  688243360  173088000          NaN    기타  본  점    18  5.944444   \n",
       "15         15  802390550  123488000   87054200.0    기타  본  점   152  3.585526   \n",
       "16         16  359589000   73684240          NaN    골프  본  점    26  2.230769   \n",
       "26         26  301903130   53050000   21241000.0    기타  본  점    53  2.792453   \n",
       "...       ...        ...        ...          ...   ...   ...   ...       ...   \n",
       "3435     3435  432104650   53822300  109025800.0    기타   관악점    76  3.539474   \n",
       "3446     3446  501501260  111200000   78034800.0   농산물   분당점    67  5.164179   \n",
       "3472     3472  311956630   18175000   54145400.0    기타   노원점    72  7.263889   \n",
       "3490     3490  330675700   85050000          NaN  디자이너   동래점    23  1.695652   \n",
       "3499     3499  263101550   34632000    5973000.0    기타  본  점    38  2.421053   \n",
       "\n",
       "        주말방문비율  구매주기  \n",
       "7     0.222892     5  \n",
       "8     0.411215    15  \n",
       "15    0.177982     2  \n",
       "16    0.362069    13  \n",
       "26    0.493243     6  \n",
       "...        ...   ...  \n",
       "3435  0.468401     4  \n",
       "3446  0.208092     5  \n",
       "3472  0.367113     5  \n",
       "3490  0.179487    15  \n",
       "3499  0.467391     8  \n",
       "\n",
       "[356 rows x 10 columns]"
      ]
     },
     "execution_count": 38,
     "metadata": {},
     "output_type": "execute_result"
    }
   ],
   "source": [
    "X_train[(X_train[\"총구매액\"] > X_train[\"총구매액\"].quantile(0.75) + 1.5*IQR) |\n",
    "       (X_train[\"총구매액\"] < X_train[\"총구매액\"].quantile(0.25) - 1.5*IQR)]"
   ]
  },
  {
   "cell_type": "code",
   "execution_count": 72,
   "metadata": {
    "ExecuteTime": {
     "end_time": "2021-06-11T10:39:42.724521Z",
     "start_time": "2021-06-11T10:39:42.656674Z"
    }
   },
   "outputs": [
    {
     "data": {
      "text/html": [
       "<div>\n",
       "<style scoped>\n",
       "    .dataframe tbody tr th:only-of-type {\n",
       "        vertical-align: middle;\n",
       "    }\n",
       "\n",
       "    .dataframe tbody tr th {\n",
       "        vertical-align: top;\n",
       "    }\n",
       "\n",
       "    .dataframe thead th {\n",
       "        text-align: right;\n",
       "    }\n",
       "</style>\n",
       "<table border=\"1\" class=\"dataframe\">\n",
       "  <thead>\n",
       "    <tr style=\"text-align: right;\">\n",
       "      <th></th>\n",
       "      <th>cust_id</th>\n",
       "      <th>총구매액</th>\n",
       "      <th>최대구매액</th>\n",
       "      <th>환불금액</th>\n",
       "      <th>주구매상품</th>\n",
       "      <th>주구매지점</th>\n",
       "      <th>내점일수</th>\n",
       "      <th>내점당구매건수</th>\n",
       "      <th>주말방문비율</th>\n",
       "      <th>구매주기</th>\n",
       "    </tr>\n",
       "  </thead>\n",
       "  <tbody>\n",
       "    <tr>\n",
       "      <th>8</th>\n",
       "      <td>8</td>\n",
       "      <td>688243360</td>\n",
       "      <td>173088000</td>\n",
       "      <td>NaN</td>\n",
       "      <td>기타</td>\n",
       "      <td>본  점</td>\n",
       "      <td>18</td>\n",
       "      <td>5.944444</td>\n",
       "      <td>0.411215</td>\n",
       "      <td>15</td>\n",
       "    </tr>\n",
       "    <tr>\n",
       "      <th>10</th>\n",
       "      <td>10</td>\n",
       "      <td>245110760</td>\n",
       "      <td>67275000</td>\n",
       "      <td>22484000.0</td>\n",
       "      <td>디자이너</td>\n",
       "      <td>부산본점</td>\n",
       "      <td>25</td>\n",
       "      <td>2.120000</td>\n",
       "      <td>0.226415</td>\n",
       "      <td>13</td>\n",
       "    </tr>\n",
       "    <tr>\n",
       "      <th>15</th>\n",
       "      <td>15</td>\n",
       "      <td>802390550</td>\n",
       "      <td>123488000</td>\n",
       "      <td>87054200.0</td>\n",
       "      <td>기타</td>\n",
       "      <td>본  점</td>\n",
       "      <td>152</td>\n",
       "      <td>3.585526</td>\n",
       "      <td>0.177982</td>\n",
       "      <td>2</td>\n",
       "    </tr>\n",
       "    <tr>\n",
       "      <th>16</th>\n",
       "      <td>16</td>\n",
       "      <td>359589000</td>\n",
       "      <td>73684240</td>\n",
       "      <td>NaN</td>\n",
       "      <td>골프</td>\n",
       "      <td>본  점</td>\n",
       "      <td>26</td>\n",
       "      <td>2.230769</td>\n",
       "      <td>0.362069</td>\n",
       "      <td>13</td>\n",
       "    </tr>\n",
       "    <tr>\n",
       "      <th>55</th>\n",
       "      <td>55</td>\n",
       "      <td>125864310</td>\n",
       "      <td>54000000</td>\n",
       "      <td>NaN</td>\n",
       "      <td>가공식품</td>\n",
       "      <td>안양점</td>\n",
       "      <td>23</td>\n",
       "      <td>2.913043</td>\n",
       "      <td>0.283582</td>\n",
       "      <td>15</td>\n",
       "    </tr>\n",
       "    <tr>\n",
       "      <th>...</th>\n",
       "      <td>...</td>\n",
       "      <td>...</td>\n",
       "      <td>...</td>\n",
       "      <td>...</td>\n",
       "      <td>...</td>\n",
       "      <td>...</td>\n",
       "      <td>...</td>\n",
       "      <td>...</td>\n",
       "      <td>...</td>\n",
       "      <td>...</td>\n",
       "    </tr>\n",
       "    <tr>\n",
       "      <th>3435</th>\n",
       "      <td>3435</td>\n",
       "      <td>432104650</td>\n",
       "      <td>53822300</td>\n",
       "      <td>109025800.0</td>\n",
       "      <td>기타</td>\n",
       "      <td>관악점</td>\n",
       "      <td>76</td>\n",
       "      <td>3.539474</td>\n",
       "      <td>0.468401</td>\n",
       "      <td>4</td>\n",
       "    </tr>\n",
       "    <tr>\n",
       "      <th>3446</th>\n",
       "      <td>3446</td>\n",
       "      <td>501501260</td>\n",
       "      <td>111200000</td>\n",
       "      <td>78034800.0</td>\n",
       "      <td>농산물</td>\n",
       "      <td>분당점</td>\n",
       "      <td>67</td>\n",
       "      <td>5.164179</td>\n",
       "      <td>0.208092</td>\n",
       "      <td>5</td>\n",
       "    </tr>\n",
       "    <tr>\n",
       "      <th>3488</th>\n",
       "      <td>3488</td>\n",
       "      <td>-18905600</td>\n",
       "      <td>82306000</td>\n",
       "      <td>529602320.0</td>\n",
       "      <td>디자이너</td>\n",
       "      <td>부산본점</td>\n",
       "      <td>31</td>\n",
       "      <td>1.064516</td>\n",
       "      <td>0.242424</td>\n",
       "      <td>11</td>\n",
       "    </tr>\n",
       "    <tr>\n",
       "      <th>3490</th>\n",
       "      <td>3490</td>\n",
       "      <td>330675700</td>\n",
       "      <td>85050000</td>\n",
       "      <td>NaN</td>\n",
       "      <td>디자이너</td>\n",
       "      <td>동래점</td>\n",
       "      <td>23</td>\n",
       "      <td>1.695652</td>\n",
       "      <td>0.179487</td>\n",
       "      <td>15</td>\n",
       "    </tr>\n",
       "    <tr>\n",
       "      <th>3494</th>\n",
       "      <td>3494</td>\n",
       "      <td>95835000</td>\n",
       "      <td>81650000</td>\n",
       "      <td>NaN</td>\n",
       "      <td>섬유잡화</td>\n",
       "      <td>잠실점</td>\n",
       "      <td>7</td>\n",
       "      <td>1.285714</td>\n",
       "      <td>0.111111</td>\n",
       "      <td>34</td>\n",
       "    </tr>\n",
       "  </tbody>\n",
       "</table>\n",
       "<p>293 rows × 10 columns</p>\n",
       "</div>"
      ],
      "text/plain": [
       "      cust_id       총구매액      최대구매액         환불금액 주구매상품 주구매지점  내점일수   내점당구매건수  \\\n",
       "8           8  688243360  173088000          NaN    기타  본  점    18  5.944444   \n",
       "10         10  245110760   67275000   22484000.0  디자이너  부산본점    25  2.120000   \n",
       "15         15  802390550  123488000   87054200.0    기타  본  점   152  3.585526   \n",
       "16         16  359589000   73684240          NaN    골프  본  점    26  2.230769   \n",
       "55         55  125864310   54000000          NaN  가공식품   안양점    23  2.913043   \n",
       "...       ...        ...        ...          ...   ...   ...   ...       ...   \n",
       "3435     3435  432104650   53822300  109025800.0    기타   관악점    76  3.539474   \n",
       "3446     3446  501501260  111200000   78034800.0   농산물   분당점    67  5.164179   \n",
       "3488     3488  -18905600   82306000  529602320.0  디자이너  부산본점    31  1.064516   \n",
       "3490     3490  330675700   85050000          NaN  디자이너   동래점    23  1.695652   \n",
       "3494     3494   95835000   81650000          NaN  섬유잡화   잠실점     7  1.285714   \n",
       "\n",
       "        주말방문비율  구매주기  \n",
       "8     0.411215    15  \n",
       "10    0.226415    13  \n",
       "15    0.177982     2  \n",
       "16    0.362069    13  \n",
       "55    0.283582    15  \n",
       "...        ...   ...  \n",
       "3435  0.468401     4  \n",
       "3446  0.208092     5  \n",
       "3488  0.242424    11  \n",
       "3490  0.179487    15  \n",
       "3494  0.111111    34  \n",
       "\n",
       "[293 rows x 10 columns]"
      ]
     },
     "execution_count": 72,
     "metadata": {},
     "output_type": "execute_result"
    }
   ],
   "source": [
    "X_train[(X_train[\"최대구매액\"] > X_train[\"최대구매액\"].quantile(0.75) + 1.5*IQRb) |\n",
    "       (X_train[\"최대구매액\"] < X_train[\"최대구매액\"].quantile(0.25) - 1.5*IQRb)]"
   ]
  },
  {
   "cell_type": "code",
   "execution_count": 58,
   "metadata": {
    "ExecuteTime": {
     "end_time": "2021-06-11T10:13:54.069763Z",
     "start_time": "2021-06-11T10:13:54.049368Z"
    }
   },
   "outputs": [
    {
     "data": {
      "text/plain": [
       "array(['기타', '스포츠', '남성 캐주얼', '보석', '디자이너', '시티웨어', '명품', '농산물', '화장품',\n",
       "       '골프', '구두', '가공식품', '수산품', '아동', '차/커피', '캐주얼', '섬유잡화', '육류',\n",
       "       '축산가공', '젓갈/반찬', '액세서리', '피혁잡화', '일용잡화', '주방가전', '주방용품', '건강식품',\n",
       "       '가구', '주류', '모피/피혁', '남성 트랜디', '셔츠', '남성정장', '생활잡화', '트래디셔널',\n",
       "       '란제리/내의', '커리어', '침구/수예', '대형가전', '통신/컴퓨터', '식기', '소형가전', '악기'],\n",
       "      dtype=object)"
      ]
     },
     "execution_count": 58,
     "metadata": {},
     "output_type": "execute_result"
    }
   ],
   "source": [
    "X_train[\"주구매상품\"].unique()"
   ]
  },
  {
   "cell_type": "code",
   "execution_count": 47,
   "metadata": {
    "ExecuteTime": {
     "end_time": "2021-06-11T10:10:59.600619Z",
     "start_time": "2021-06-11T10:10:59.575382Z"
    }
   },
   "outputs": [
    {
     "data": {
      "text/plain": [
       "array(['골프', '농산물', '가공식품', '주방용품', '수산품', '화장품', '기타', '스포츠', '디자이너',\n",
       "       '시티웨어', '구두', '캐주얼', '명품', '건강식품', '남성정장', '커리어', '남성 캐주얼', '축산가공',\n",
       "       '식기', '피혁잡화', '모피/피혁', '섬유잡화', '트래디셔널', '차/커피', '육류', '가구', '아동',\n",
       "       '셔츠', '액세서리', '젓갈/반찬', '대형가전', '일용잡화', '통신/컴퓨터', '생활잡화', '주방가전',\n",
       "       '란제리/내의', '남성 트랜디', '보석', '주류', '침구/수예', '악기'], dtype=object)"
      ]
     },
     "execution_count": 47,
     "metadata": {},
     "output_type": "execute_result"
    }
   ],
   "source": [
    "X_test[\"주구매상품\"].unique()"
   ]
  },
  {
   "cell_type": "code",
   "execution_count": 65,
   "metadata": {
    "ExecuteTime": {
     "end_time": "2021-06-11T10:23:23.238330Z",
     "start_time": "2021-06-11T10:23:23.217411Z"
    },
    "scrolled": true
   },
   "outputs": [
    {
     "data": {
      "text/plain": [
       "기타        595\n",
       "가공식품      546\n",
       "농산물       339\n",
       "화장품       264\n",
       "시티웨어      213\n",
       "디자이너      193\n",
       "수산품       153\n",
       "캐주얼       101\n",
       "명품        100\n",
       "섬유잡화       98\n",
       "골프         82\n",
       "스포츠        69\n",
       "일용잡화       64\n",
       "모피/피혁      57\n",
       "육류         57\n",
       "남성 캐주얼     55\n",
       "구두         54\n",
       "건강식품       47\n",
       "차/커피       44\n",
       "아동         40\n",
       "피혁잡화       40\n",
       "축산가공       35\n",
       "주방용품       32\n",
       "셔츠         30\n",
       "젓갈/반찬      29\n",
       "주방가전       26\n",
       "트래디셔널      23\n",
       "남성정장       22\n",
       "생활잡화       15\n",
       "주류         14\n",
       "가구         10\n",
       "커리어         9\n",
       "대형가전        8\n",
       "란제리/내의      8\n",
       "식기          7\n",
       "액세서리        5\n",
       "침구/수예       4\n",
       "통신/컴퓨터      3\n",
       "보석          3\n",
       "남성 트랜디      2\n",
       "악기          2\n",
       "소형가전        2\n",
       "Name: 주구매상품, dtype: int64"
      ]
     },
     "execution_count": 65,
     "metadata": {},
     "output_type": "execute_result"
    }
   ],
   "source": [
    "X_train[\"주구매상품\"].value_counts()"
   ]
  },
  {
   "cell_type": "code",
   "execution_count": 67,
   "metadata": {
    "ExecuteTime": {
     "end_time": "2021-06-11T10:23:47.627133Z",
     "start_time": "2021-06-11T10:23:47.600199Z"
    },
    "scrolled": true
   },
   "outputs": [
    {
     "data": {
      "text/plain": [
       "본  점     1077\n",
       "잠실점       474\n",
       "분당점       436\n",
       "부산본점      245\n",
       "영등포점      241\n",
       "일산점       198\n",
       "강남점       145\n",
       "광주점       114\n",
       "노원점        90\n",
       "청량리점       86\n",
       "대전점        70\n",
       "미아점        69\n",
       "부평점        57\n",
       "동래점        49\n",
       "관악점        46\n",
       "인천점        34\n",
       "안양점        29\n",
       "포항점        11\n",
       "대구점         7\n",
       "센텀시티점       6\n",
       "울산점         6\n",
       "전주점         5\n",
       "창원점         4\n",
       "상인점         1\n",
       "Name: 주구매지점, dtype: int64"
      ]
     },
     "execution_count": 67,
     "metadata": {},
     "output_type": "execute_result"
    }
   ],
   "source": [
    "X_train[\"주구매지점\"].value_counts()"
   ]
  },
  {
   "cell_type": "code",
   "execution_count": 69,
   "metadata": {
    "ExecuteTime": {
     "end_time": "2021-06-11T10:30:00.630949Z",
     "start_time": "2021-06-11T10:30:00.610435Z"
    }
   },
   "outputs": [
    {
     "data": {
      "text/plain": [
       "기타        465\n",
       "가공식품      395\n",
       "농산물       235\n",
       "화장품       177\n",
       "시티웨어      168\n",
       "디자이너      123\n",
       "수산품        86\n",
       "섬유잡화       72\n",
       "캐주얼        65\n",
       "명품         60\n",
       "차/커피       55\n",
       "모피/피혁      47\n",
       "골프         47\n",
       "남성 캐주얼     46\n",
       "구두         44\n",
       "스포츠        43\n",
       "육류         38\n",
       "건강식품       36\n",
       "일용잡화       30\n",
       "축산가공       28\n",
       "남성정장       25\n",
       "셔츠         25\n",
       "아동         24\n",
       "주방용품       21\n",
       "젓갈/반찬      18\n",
       "피혁잡화       16\n",
       "주류         10\n",
       "주방가전       10\n",
       "란제리/내의     10\n",
       "트래디셔널       9\n",
       "식기          8\n",
       "생활잡화        8\n",
       "액세서리        7\n",
       "가구          7\n",
       "커리어         6\n",
       "대형가전        6\n",
       "남성 트랜디      4\n",
       "통신/컴퓨터      3\n",
       "침구/수예       3\n",
       "보석          1\n",
       "악기          1\n",
       "Name: 주구매상품, dtype: int64"
      ]
     },
     "execution_count": 69,
     "metadata": {},
     "output_type": "execute_result"
    }
   ],
   "source": [
    "X_test[\"주구매상품\"].value_counts()"
   ]
  },
  {
   "cell_type": "code",
   "execution_count": null,
   "metadata": {},
   "outputs": [],
   "source": []
  }
 ],
 "metadata": {
  "kernelspec": {
   "display_name": "Python 3",
   "language": "python",
   "name": "python3"
  },
  "language_info": {
   "codemirror_mode": {
    "name": "ipython",
    "version": 3
   },
   "file_extension": ".py",
   "mimetype": "text/x-python",
   "name": "python",
   "nbconvert_exporter": "python",
   "pygments_lexer": "ipython3",
   "version": "3.8.5"
  },
  "toc": {
   "base_numbering": 1,
   "nav_menu": {},
   "number_sections": true,
   "sideBar": true,
   "skip_h1_title": false,
   "title_cell": "Table of Contents",
   "title_sidebar": "Contents",
   "toc_cell": false,
   "toc_position": {},
   "toc_section_display": true,
   "toc_window_display": false
  }
 },
 "nbformat": 4,
 "nbformat_minor": 4
}
