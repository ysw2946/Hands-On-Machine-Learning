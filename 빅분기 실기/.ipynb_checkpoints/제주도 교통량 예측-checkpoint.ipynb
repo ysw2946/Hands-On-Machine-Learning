{
 "cells": [
  {
   "cell_type": "markdown",
   "metadata": {},
   "source": [
    "# 제주도 교통량 예측\n",
    "- 제주빅데이터센터 데이터를 활용하여 효율적인 교통량 측정을 위한 날씨/유동인구 활용 교통량 추이 데이터 제공\n",
    "\n",
    "- 거주인구, 근무인구, 방문인구는 해당 인구수의 일별 유동인구 수 합계\n",
    "\n",
    "- 유동인구는 01~24시 해당 시간 정각 측정 인구 (머문 시간(분)/60분)\n",
    "\n",
    "- 교통량 (대), 평균 속도 (km), 평균 소요 시간 (초), 평균 기온 (°C), 일일강수량 (mm), 평균 풍속(m/s)"
   ]
  },
  {
   "cell_type": "markdown",
   "metadata": {},
   "source": [
    "데이터 출처 : https://www.jejudatahub.net/data/view/data/753"
   ]
  },
  {
   "cell_type": "code",
   "execution_count": 1,
   "metadata": {
    "ExecuteTime": {
     "end_time": "2021-07-23T07:59:49.375396Z",
     "start_time": "2021-07-23T07:59:46.316700Z"
    }
   },
   "outputs": [],
   "source": [
    "import pandas as pd\n",
    "import numpy as np\n",
    "import os\n",
    "import matplotlib.pyplot as plt\n",
    "if os.name == 'posix':\n",
    "    plt.rc(\"font\", family=\"AppleGothic\")\n",
    "else:\n",
    "    plt.rc(\"font\", family=\"Malgun Gothic\")"
   ]
  },
  {
   "cell_type": "code",
   "execution_count": 2,
   "metadata": {
    "ExecuteTime": {
     "end_time": "2021-07-23T07:59:49.502916Z",
     "start_time": "2021-07-23T07:59:49.377397Z"
    }
   },
   "outputs": [],
   "source": [
    "# 데이터 로드\n",
    "train_X = pd.read_csv(\"jejudata/Jeju_trainX.csv\",encoding='euc-kr')\n",
    "train_y= pd.read_csv(\"jejudata/Jeju_trainy.csv\",encoding='euc-kr')\n",
    "test_X= pd.read_csv(\"jejudata/Jeju_testX.csv\",encoding='euc-kr')\n",
    "sub= pd.read_csv(\"jejudata/subExample.csv\",encoding='euc-kr')"
   ]
  },
  {
   "cell_type": "code",
   "execution_count": 3,
   "metadata": {
    "ExecuteTime": {
     "end_time": "2021-07-23T07:59:49.518090Z",
     "start_time": "2021-07-23T07:59:49.504962Z"
    }
   },
   "outputs": [
    {
     "name": "stdout",
     "output_type": "stream",
     "text": [
      "(22448, 13)\n",
      "(22448, 2)\n",
      "(9621, 13)\n",
      "(9621, 2)\n"
     ]
    }
   ],
   "source": [
    "print(train_X.shape)\n",
    "print(train_y.shape)\n",
    "print(test_X.shape)\n",
    "print(sub.shape)"
   ]
  },
  {
   "cell_type": "code",
   "execution_count": 4,
   "metadata": {
    "ExecuteTime": {
     "end_time": "2021-07-23T07:59:49.549100Z",
     "start_time": "2021-07-23T07:59:49.521097Z"
    }
   },
   "outputs": [
    {
     "data": {
      "text/html": [
       "<div>\n",
       "<style scoped>\n",
       "    .dataframe tbody tr th:only-of-type {\n",
       "        vertical-align: middle;\n",
       "    }\n",
       "\n",
       "    .dataframe tbody tr th {\n",
       "        vertical-align: top;\n",
       "    }\n",
       "\n",
       "    .dataframe thead th {\n",
       "        text-align: right;\n",
       "    }\n",
       "</style>\n",
       "<table border=\"1\" class=\"dataframe\">\n",
       "  <thead>\n",
       "    <tr style=\"text-align: right;\">\n",
       "      <th></th>\n",
       "      <th>id</th>\n",
       "      <th>일자</th>\n",
       "      <th>시도명</th>\n",
       "      <th>읍면동명</th>\n",
       "      <th>거주인구</th>\n",
       "      <th>근무인구</th>\n",
       "      <th>방문인구</th>\n",
       "      <th>총 유동인구</th>\n",
       "      <th>평균 속도</th>\n",
       "      <th>평균 소요 시간</th>\n",
       "      <th>평균 기온</th>\n",
       "      <th>일강수량</th>\n",
       "      <th>평균 풍속</th>\n",
       "    </tr>\n",
       "  </thead>\n",
       "  <tbody>\n",
       "    <tr>\n",
       "      <th>0</th>\n",
       "      <td>0</td>\n",
       "      <td>2018-01-01</td>\n",
       "      <td>서귀포시</td>\n",
       "      <td>남원읍</td>\n",
       "      <td>291408.897</td>\n",
       "      <td>18744.131</td>\n",
       "      <td>219588.857</td>\n",
       "      <td>529741.884</td>\n",
       "      <td>53.000</td>\n",
       "      <td>40.571</td>\n",
       "      <td>2.35</td>\n",
       "      <td>0.0</td>\n",
       "      <td>3.325</td>\n",
       "    </tr>\n",
       "    <tr>\n",
       "      <th>1</th>\n",
       "      <td>1</td>\n",
       "      <td>2018-01-01</td>\n",
       "      <td>제주시</td>\n",
       "      <td>노형동</td>\n",
       "      <td>1215420.248</td>\n",
       "      <td>74964.858</td>\n",
       "      <td>445735.329</td>\n",
       "      <td>1736120.435</td>\n",
       "      <td>38.563</td>\n",
       "      <td>30.655</td>\n",
       "      <td>-2.30</td>\n",
       "      <td>0.0</td>\n",
       "      <td>1.100</td>\n",
       "    </tr>\n",
       "    <tr>\n",
       "      <th>2</th>\n",
       "      <td>2</td>\n",
       "      <td>2018-01-01</td>\n",
       "      <td>제주시</td>\n",
       "      <td>구좌읍</td>\n",
       "      <td>276220.023</td>\n",
       "      <td>17542.105</td>\n",
       "      <td>248104.122</td>\n",
       "      <td>541866.250</td>\n",
       "      <td>53.188</td>\n",
       "      <td>40.719</td>\n",
       "      <td>5.90</td>\n",
       "      <td>0.0</td>\n",
       "      <td>4.100</td>\n",
       "    </tr>\n",
       "    <tr>\n",
       "      <th>3</th>\n",
       "      <td>3</td>\n",
       "      <td>2018-01-01</td>\n",
       "      <td>제주시</td>\n",
       "      <td>용담1동</td>\n",
       "      <td>159129.790</td>\n",
       "      <td>9363.622</td>\n",
       "      <td>101939.586</td>\n",
       "      <td>270432.998</td>\n",
       "      <td>35.833</td>\n",
       "      <td>14.000</td>\n",
       "      <td>2.90</td>\n",
       "      <td>0.0</td>\n",
       "      <td>2.400</td>\n",
       "    </tr>\n",
       "    <tr>\n",
       "      <th>4</th>\n",
       "      <td>4</td>\n",
       "      <td>2018-01-01</td>\n",
       "      <td>제주시</td>\n",
       "      <td>건입동</td>\n",
       "      <td>174544.301</td>\n",
       "      <td>19772.091</td>\n",
       "      <td>191560.904</td>\n",
       "      <td>385877.295</td>\n",
       "      <td>33.600</td>\n",
       "      <td>43.400</td>\n",
       "      <td>0.80</td>\n",
       "      <td>0.0</td>\n",
       "      <td>2.600</td>\n",
       "    </tr>\n",
       "  </tbody>\n",
       "</table>\n",
       "</div>"
      ],
      "text/plain": [
       "   id          일자   시도명  읍면동명         거주인구       근무인구        방문인구  \\\n",
       "0   0  2018-01-01  서귀포시   남원읍   291408.897  18744.131  219588.857   \n",
       "1   1  2018-01-01   제주시   노형동  1215420.248  74964.858  445735.329   \n",
       "2   2  2018-01-01   제주시   구좌읍   276220.023  17542.105  248104.122   \n",
       "3   3  2018-01-01   제주시  용담1동   159129.790   9363.622  101939.586   \n",
       "4   4  2018-01-01   제주시   건입동   174544.301  19772.091  191560.904   \n",
       "\n",
       "        총 유동인구   평균 속도  평균 소요 시간  평균 기온  일강수량  평균 풍속  \n",
       "0   529741.884  53.000    40.571   2.35   0.0  3.325  \n",
       "1  1736120.435  38.563    30.655  -2.30   0.0  1.100  \n",
       "2   541866.250  53.188    40.719   5.90   0.0  4.100  \n",
       "3   270432.998  35.833    14.000   2.90   0.0  2.400  \n",
       "4   385877.295  33.600    43.400   0.80   0.0  2.600  "
      ]
     },
     "execution_count": 4,
     "metadata": {},
     "output_type": "execute_result"
    }
   ],
   "source": [
    "train_X.head()"
   ]
  },
  {
   "cell_type": "code",
   "execution_count": 5,
   "metadata": {
    "ExecuteTime": {
     "end_time": "2021-07-23T07:59:51.147585Z",
     "start_time": "2021-07-23T07:59:51.131584Z"
    }
   },
   "outputs": [
    {
     "data": {
      "text/html": [
       "<div>\n",
       "<style scoped>\n",
       "    .dataframe tbody tr th:only-of-type {\n",
       "        vertical-align: middle;\n",
       "    }\n",
       "\n",
       "    .dataframe tbody tr th {\n",
       "        vertical-align: top;\n",
       "    }\n",
       "\n",
       "    .dataframe thead th {\n",
       "        text-align: right;\n",
       "    }\n",
       "</style>\n",
       "<table border=\"1\" class=\"dataframe\">\n",
       "  <thead>\n",
       "    <tr style=\"text-align: right;\">\n",
       "      <th></th>\n",
       "      <th>id</th>\n",
       "      <th>교통량</th>\n",
       "    </tr>\n",
       "  </thead>\n",
       "  <tbody>\n",
       "    <tr>\n",
       "      <th>0</th>\n",
       "      <td>0</td>\n",
       "      <td>76.200</td>\n",
       "    </tr>\n",
       "    <tr>\n",
       "      <th>1</th>\n",
       "      <td>1</td>\n",
       "      <td>1291.184</td>\n",
       "    </tr>\n",
       "    <tr>\n",
       "      <th>2</th>\n",
       "      <td>2</td>\n",
       "      <td>0.000</td>\n",
       "    </tr>\n",
       "    <tr>\n",
       "      <th>3</th>\n",
       "      <td>3</td>\n",
       "      <td>610.167</td>\n",
       "    </tr>\n",
       "    <tr>\n",
       "      <th>4</th>\n",
       "      <td>4</td>\n",
       "      <td>393.400</td>\n",
       "    </tr>\n",
       "  </tbody>\n",
       "</table>\n",
       "</div>"
      ],
      "text/plain": [
       "   id       교통량\n",
       "0   0    76.200\n",
       "1   1  1291.184\n",
       "2   2     0.000\n",
       "3   3   610.167\n",
       "4   4   393.400"
      ]
     },
     "execution_count": 5,
     "metadata": {},
     "output_type": "execute_result"
    }
   ],
   "source": [
    "train_y.head()"
   ]
  },
  {
   "cell_type": "code",
   "execution_count": 6,
   "metadata": {
    "ExecuteTime": {
     "end_time": "2021-07-23T07:59:51.537890Z",
     "start_time": "2021-07-23T07:59:51.518818Z"
    }
   },
   "outputs": [
    {
     "data": {
      "text/html": [
       "<div>\n",
       "<style scoped>\n",
       "    .dataframe tbody tr th:only-of-type {\n",
       "        vertical-align: middle;\n",
       "    }\n",
       "\n",
       "    .dataframe tbody tr th {\n",
       "        vertical-align: top;\n",
       "    }\n",
       "\n",
       "    .dataframe thead th {\n",
       "        text-align: right;\n",
       "    }\n",
       "</style>\n",
       "<table border=\"1\" class=\"dataframe\">\n",
       "  <thead>\n",
       "    <tr style=\"text-align: right;\">\n",
       "      <th></th>\n",
       "      <th>id</th>\n",
       "      <th>교통량</th>\n",
       "    </tr>\n",
       "  </thead>\n",
       "  <tbody>\n",
       "    <tr>\n",
       "      <th>0</th>\n",
       "      <td>22448</td>\n",
       "      <td>0</td>\n",
       "    </tr>\n",
       "    <tr>\n",
       "      <th>1</th>\n",
       "      <td>22449</td>\n",
       "      <td>0</td>\n",
       "    </tr>\n",
       "    <tr>\n",
       "      <th>2</th>\n",
       "      <td>22450</td>\n",
       "      <td>0</td>\n",
       "    </tr>\n",
       "    <tr>\n",
       "      <th>3</th>\n",
       "      <td>22451</td>\n",
       "      <td>0</td>\n",
       "    </tr>\n",
       "    <tr>\n",
       "      <th>4</th>\n",
       "      <td>22452</td>\n",
       "      <td>0</td>\n",
       "    </tr>\n",
       "  </tbody>\n",
       "</table>\n",
       "</div>"
      ],
      "text/plain": [
       "      id  교통량\n",
       "0  22448    0\n",
       "1  22449    0\n",
       "2  22450    0\n",
       "3  22451    0\n",
       "4  22452    0"
      ]
     },
     "execution_count": 6,
     "metadata": {},
     "output_type": "execute_result"
    }
   ],
   "source": [
    "sub.head()"
   ]
  },
  {
   "cell_type": "code",
   "execution_count": 7,
   "metadata": {
    "ExecuteTime": {
     "end_time": "2021-07-23T07:59:52.113708Z",
     "start_time": "2021-07-23T07:59:52.082775Z"
    }
   },
   "outputs": [
    {
     "name": "stdout",
     "output_type": "stream",
     "text": [
      "<class 'pandas.core.frame.DataFrame'>\n",
      "RangeIndex: 22448 entries, 0 to 22447\n",
      "Data columns (total 13 columns):\n",
      " #   Column    Non-Null Count  Dtype  \n",
      "---  ------    --------------  -----  \n",
      " 0   id        22448 non-null  int64  \n",
      " 1   일자        22448 non-null  object \n",
      " 2   시도명       22448 non-null  object \n",
      " 3   읍면동명      22448 non-null  object \n",
      " 4   거주인구      22448 non-null  float64\n",
      " 5   근무인구      22448 non-null  float64\n",
      " 6   방문인구      22448 non-null  float64\n",
      " 7   총 유동인구    22448 non-null  float64\n",
      " 8   평균 속도     22448 non-null  float64\n",
      " 9   평균 소요 시간  22448 non-null  float64\n",
      " 10  평균 기온     22448 non-null  float64\n",
      " 11  일강수량      22448 non-null  float64\n",
      " 12  평균 풍속     22448 non-null  float64\n",
      "dtypes: float64(9), int64(1), object(3)\n",
      "memory usage: 2.2+ MB\n"
     ]
    }
   ],
   "source": [
    "train_X.info()"
   ]
  },
  {
   "cell_type": "code",
   "execution_count": 8,
   "metadata": {
    "ExecuteTime": {
     "end_time": "2021-07-23T07:59:52.598402Z",
     "start_time": "2021-07-23T07:59:52.586404Z"
    }
   },
   "outputs": [
    {
     "name": "stdout",
     "output_type": "stream",
     "text": [
      "<class 'pandas.core.frame.DataFrame'>\n",
      "RangeIndex: 9621 entries, 0 to 9620\n",
      "Data columns (total 13 columns):\n",
      " #   Column    Non-Null Count  Dtype  \n",
      "---  ------    --------------  -----  \n",
      " 0   id        9621 non-null   int64  \n",
      " 1   일자        9621 non-null   object \n",
      " 2   시도명       9621 non-null   object \n",
      " 3   읍면동명      9621 non-null   object \n",
      " 4   거주인구      9621 non-null   float64\n",
      " 5   근무인구      9621 non-null   float64\n",
      " 6   방문인구      9621 non-null   float64\n",
      " 7   총 유동인구    9621 non-null   float64\n",
      " 8   평균 속도     9621 non-null   float64\n",
      " 9   평균 소요 시간  9621 non-null   float64\n",
      " 10  평균 기온     9621 non-null   float64\n",
      " 11  일강수량      9621 non-null   float64\n",
      " 12  평균 풍속     9621 non-null   float64\n",
      "dtypes: float64(9), int64(1), object(3)\n",
      "memory usage: 977.3+ KB\n"
     ]
    }
   ],
   "source": [
    "test_X.info()"
   ]
  },
  {
   "cell_type": "code",
   "execution_count": 10,
   "metadata": {
    "ExecuteTime": {
     "end_time": "2021-07-23T08:00:30.722774Z",
     "start_time": "2021-07-23T08:00:30.710789Z"
    }
   },
   "outputs": [
    {
     "data": {
      "text/plain": [
       "array(['서귀포시', '제주시'], dtype=object)"
      ]
     },
     "execution_count": 10,
     "metadata": {},
     "output_type": "execute_result"
    }
   ],
   "source": [
    "train_X[\"시도명\"].unique()"
   ]
  },
  {
   "cell_type": "code",
   "execution_count": 12,
   "metadata": {
    "ExecuteTime": {
     "end_time": "2021-07-23T08:00:59.182395Z",
     "start_time": "2021-07-23T08:00:59.161382Z"
    }
   },
   "outputs": [
    {
     "data": {
      "text/plain": [
       "count    22448.000000\n",
       "mean         7.401781\n",
       "std         28.853829\n",
       "min          0.000000\n",
       "25%          0.000000\n",
       "50%          0.000000\n",
       "75%          1.500000\n",
       "max        583.500000\n",
       "Name: 일강수량, dtype: float64"
      ]
     },
     "execution_count": 12,
     "metadata": {},
     "output_type": "execute_result"
    }
   ],
   "source": [
    "train_X[\"일강수량\"].describe()"
   ]
  },
  {
   "cell_type": "code",
   "execution_count": 13,
   "metadata": {
    "ExecuteTime": {
     "end_time": "2021-07-23T08:01:04.952422Z",
     "start_time": "2021-07-23T08:01:03.581450Z"
    }
   },
   "outputs": [
    {
     "data": {
      "text/plain": [
       "array([[<AxesSubplot:title={'center':'id'}>,\n",
       "        <AxesSubplot:title={'center':'거주인구'}>,\n",
       "        <AxesSubplot:title={'center':'근무인구'}>],\n",
       "       [<AxesSubplot:title={'center':'방문인구'}>,\n",
       "        <AxesSubplot:title={'center':'총 유동인구'}>,\n",
       "        <AxesSubplot:title={'center':'평균 속도'}>],\n",
       "       [<AxesSubplot:title={'center':'평균 소요 시간'}>,\n",
       "        <AxesSubplot:title={'center':'평균 기온'}>,\n",
       "        <AxesSubplot:title={'center':'일강수량'}>],\n",
       "       [<AxesSubplot:title={'center':'평균 풍속'}>, <AxesSubplot:>,\n",
       "        <AxesSubplot:>]], dtype=object)"
      ]
     },
     "execution_count": 13,
     "metadata": {},
     "output_type": "execute_result"
    },
    {
     "data": {
      "image/png": "[encoded data removed]",
      "text/plain": [
       "<Figure size 936x936 with 12 Axes>"
      ]
     },
     "metadata": {
      "needs_background": "light"
     },
     "output_type": "display_data"
    }
   ],
   "source": [
    "train_X.hist(figsize=(13,13))"
   ]
  },
  {
   "cell_type": "code",
   "execution_count": 11,
   "metadata": {
    "ExecuteTime": {
     "end_time": "2021-07-23T01:08:55.450352Z",
     "start_time": "2021-07-23T01:08:55.400113Z"
    }
   },
   "outputs": [],
   "source": [
    "# 시도명 라벨인코딩\n",
    "# 일강수량을 비가 조금이라도 왔던 날은 1, 비가 아예 안온 날 0으로 라벨 인코딩\n",
    "\n",
    "train_X[\"시도명\"] = train_X[\"시도명\"].map(lambda x: 1 if x == \"서귀포시\" else 0)\n",
    "test_X[\"시도명\"] = test_X[\"시도명\"].map(lambda x: 1 if x == \"서귀포시\" else 0)\n",
    "\n",
    "train_X[\"일강수량\"] = train_X[\"일강수량\"].map(lambda x: 0 if x == 0 else 1)\n",
    "test_X[\"일강수량\"] = test_X[\"일강수량\"].map(lambda x: 0 if x == 0 else 1)\n"
   ]
  },
  {
   "cell_type": "code",
   "execution_count": 12,
   "metadata": {
    "ExecuteTime": {
     "end_time": "2021-07-23T01:08:58.105649Z",
     "start_time": "2021-07-23T01:08:55.872874Z"
    }
   },
   "outputs": [],
   "source": [
    "# 읍면동명 라벨 인코딩\n",
    "from sklearn.preprocessing import LabelEncoder\n",
    "lb = LabelEncoder()\n",
    "train_X[\"읍면동명\"] = lb.fit_transform(train_X[\"읍면동명\"])\n",
    "test_X[\"읍면동명\"] = lb.transform(test_X[\"읍면동명\"])"
   ]
  },
  {
   "cell_type": "code",
   "execution_count": 13,
   "metadata": {
    "ExecuteTime": {
     "end_time": "2021-07-23T01:08:58.120946Z",
     "start_time": "2021-07-23T01:08:58.107622Z"
    }
   },
   "outputs": [],
   "source": [
    "# datetime으로 일자 타입 변환\n",
    "# 년도, 월, 일, 주 컬럼 생성\n",
    "\n",
    "def preprocessing(df):\n",
    "    df[\"일자\"] = pd.to_datetime(df[\"일자\"])\n",
    "    df[\"년도\"] = df[\"일자\"].dt.year\n",
    "    df[\"월\"] = df[\"일자\"].dt.month\n",
    "    df[\"일\"] = df[\"일자\"].dt.day\n",
    "    df[\"주\"] = df[\"일자\"].dt.weekday"
   ]
  },
  {
   "cell_type": "code",
   "execution_count": 14,
   "metadata": {
    "ExecuteTime": {
     "end_time": "2021-07-23T01:08:58.784533Z",
     "start_time": "2021-07-23T01:08:58.751443Z"
    },
    "scrolled": true
   },
   "outputs": [],
   "source": [
    "preprocessing(train_X)\n",
    "preprocessing(test_X)"
   ]
  },
  {
   "cell_type": "code",
   "execution_count": 15,
   "metadata": {
    "ExecuteTime": {
     "end_time": "2021-07-23T01:08:59.317201Z",
     "start_time": "2021-07-23T01:08:59.303306Z"
    }
   },
   "outputs": [],
   "source": [
    "# 최소 최대 표준화\n",
    "from sklearn.preprocessing import MinMaxScaler\n",
    "scaler_feature = [\"거주인구\",\"근무인구\",\"방문인구\",\"총 유동인구\"]\n",
    "scaler = MinMaxScaler()"
   ]
  },
  {
   "cell_type": "code",
   "execution_count": 16,
   "metadata": {
    "ExecuteTime": {
     "end_time": "2021-07-23T01:08:59.646456Z",
     "start_time": "2021-07-23T01:08:59.590017Z"
    }
   },
   "outputs": [],
   "source": [
    "train_X[scaler_feature] = scaler.fit_transform(train_X[scaler_feature])\n",
    "test_X[scaler_feature] = scaler.fit_transform(test_X[scaler_feature])"
   ]
  },
  {
   "cell_type": "code",
   "execution_count": 17,
   "metadata": {
    "ExecuteTime": {
     "end_time": "2021-07-23T01:08:59.960046Z",
     "start_time": "2021-07-23T01:08:59.946522Z"
    }
   },
   "outputs": [],
   "source": [
    "new_train = train_X.drop([\"일자\",\"id\"],axis=1)\n",
    "new_test = test_X.drop([\"일자\",\"id\"],axis=1)"
   ]
  },
  {
   "cell_type": "code",
   "execution_count": 61,
   "metadata": {
    "ExecuteTime": {
     "end_time": "2021-07-23T01:57:25.068488Z",
     "start_time": "2021-07-23T01:57:23.159113Z"
    }
   },
   "outputs": [
    {
     "data": {
      "text/plain": [
       "array([[<AxesSubplot:title={'center':'시도명'}>,\n",
       "        <AxesSubplot:title={'center':'읍면동명'}>,\n",
       "        <AxesSubplot:title={'center':'거주인구'}>,\n",
       "        <AxesSubplot:title={'center':'근무인구'}>],\n",
       "       [<AxesSubplot:title={'center':'방문인구'}>,\n",
       "        <AxesSubplot:title={'center':'총 유동인구'}>,\n",
       "        <AxesSubplot:title={'center':'평균 속도'}>,\n",
       "        <AxesSubplot:title={'center':'평균 소요 시간'}>],\n",
       "       [<AxesSubplot:title={'center':'평균 기온'}>,\n",
       "        <AxesSubplot:title={'center':'일강수량'}>,\n",
       "        <AxesSubplot:title={'center':'평균 풍속'}>,\n",
       "        <AxesSubplot:title={'center':'년도'}>],\n",
       "       [<AxesSubplot:title={'center':'월'}>,\n",
       "        <AxesSubplot:title={'center':'일'}>,\n",
       "        <AxesSubplot:title={'center':'주'}>, <AxesSubplot:>]], dtype=object)"
      ]
     },
     "execution_count": 61,
     "metadata": {},
     "output_type": "execute_result"
    },
    {
     "data": {
      "image/png": "[encoded data removed]",
      "text/plain": [
       "<Figure size 1080x1080 with 16 Axes>"
      ]
     },
     "metadata": {
      "needs_background": "light"
     },
     "output_type": "display_data"
    }
   ],
   "source": [
    "new_train.hist(figsize=(15,15))"
   ]
  },
  {
   "cell_type": "code",
   "execution_count": 19,
   "metadata": {
    "ExecuteTime": {
     "end_time": "2021-07-23T01:09:01.552894Z",
     "start_time": "2021-07-23T01:09:01.449593Z"
    }
   },
   "outputs": [
    {
     "name": "stdout",
     "output_type": "stream",
     "text": [
      "(19080, 15) (3368, 15) (19080,) (3368,)\n"
     ]
    }
   ],
   "source": [
    "# 학습, 검증용 테스트 분리\n",
    "from sklearn.model_selection import train_test_split\n",
    "X_train,X_test,y_train,y_test = train_test_split(new_train,train_y[\"교통량\"],test_size=0.15,random_state=42)\n",
    "print(X_train.shape,X_test.shape,y_train.shape,y_test.shape)"
   ]
  },
  {
   "cell_type": "code",
   "execution_count": 20,
   "metadata": {
    "ExecuteTime": {
     "end_time": "2021-07-23T01:09:48.085144Z",
     "start_time": "2021-07-23T01:09:02.431112Z"
    }
   },
   "outputs": [
    {
     "data": {
      "text/plain": [
       "GridSearchCV(cv=2, estimator=RandomForestRegressor(random_state=42), n_jobs=-1,\n",
       "             param_grid={'max_depth': [10, 12], 'min_samples_leaf': [2, 4],\n",
       "                         'min_samples_split': [2, 4], 'n_estimators': [100]})"
      ]
     },
     "execution_count": 20,
     "metadata": {},
     "output_type": "execute_result"
    }
   ],
   "source": [
    "# 그리드서치를 통한 랜덤 포레스트 모델 하이퍼 파라미터 설정\n",
    "\n",
    "from sklearn.ensemble import RandomForestRegressor\n",
    "from sklearn.model_selection import GridSearchCV\n",
    "\n",
    "rnf_reg = RandomForestRegressor(random_state=42)\n",
    "params = {\n",
    "    'n_estimators' : [100],\n",
    "    'max_depth' : [10,12],\n",
    "    'min_samples_leaf' : [2,4],\n",
    "    'min_samples_split' : [2,4]\n",
    "}\n",
    "\n",
    "grid_cv = GridSearchCV(rnf_reg, param_grid=params, cv=2, n_jobs=-1)\n",
    "grid_cv.fit(X_train,y_train)"
   ]
  },
  {
   "cell_type": "code",
   "execution_count": 21,
   "metadata": {
    "ExecuteTime": {
     "end_time": "2021-07-23T01:09:52.347106Z",
     "start_time": "2021-07-23T01:09:52.337943Z"
    }
   },
   "outputs": [
    {
     "data": {
      "text/plain": [
       "{'max_depth': 12,\n",
       " 'min_samples_leaf': 2,\n",
       " 'min_samples_split': 2,\n",
       " 'n_estimators': 100}"
      ]
     },
     "execution_count": 21,
     "metadata": {},
     "output_type": "execute_result"
    }
   ],
   "source": [
    "# 최적의 파라미터\n",
    "grid_cv.best_params_"
   ]
  },
  {
   "cell_type": "code",
   "execution_count": 22,
   "metadata": {
    "ExecuteTime": {
     "end_time": "2021-07-23T01:10:08.800118Z",
     "start_time": "2021-07-23T01:09:58.142444Z"
    }
   },
   "outputs": [
    {
     "data": {
      "text/plain": [
       "array([2.36919873e+00, 1.22474635e+00, 2.15496272e+00, ...,\n",
       "       2.73708546e-01, 9.93389292e+02, 0.00000000e+00])"
      ]
     },
     "execution_count": 22,
     "metadata": {},
     "output_type": "execute_result"
    }
   ],
   "source": [
    "# 위의 파라미터를 적용한 랜덤 포레스트 모형 적합\n",
    "\n",
    "from sklearn.ensemble import RandomForestRegressor\n",
    "rf = RandomForestRegressor(n_estimators=100,max_depth=12,min_samples_leaf=2,min_samples_split=2,random_state=42)\n",
    "rf.fit(X_train,y_train)\n",
    "rf_pred = rf.predict(X_test)\n",
    "rf_pred"
   ]
  },
  {
   "cell_type": "code",
   "execution_count": 23,
   "metadata": {
    "ExecuteTime": {
     "end_time": "2021-07-23T01:10:08.815215Z",
     "start_time": "2021-07-23T01:10:08.802083Z"
    }
   },
   "outputs": [
    {
     "data": {
      "text/plain": [
       "11097.697279656333"
      ]
     },
     "execution_count": 23,
     "metadata": {},
     "output_type": "execute_result"
    }
   ],
   "source": [
    "# mse 평가 지표를 통한 예측 검증\n",
    "\n",
    "from sklearn.metrics import mean_squared_error\n",
    "mse = mean_squared_error(rf_pred,y_test)\n",
    "mse"
   ]
  },
  {
   "cell_type": "code",
   "execution_count": 24,
   "metadata": {
    "ExecuteTime": {
     "end_time": "2021-07-23T01:10:25.081908Z",
     "start_time": "2021-07-23T01:10:10.306050Z"
    }
   },
   "outputs": [
    {
     "data": {
      "text/plain": [
       "array([2.66056000e+00, 4.17160000e-01, 1.95600000e-02, ...,\n",
       "       2.89550000e-01, 1.05542894e+03, 0.00000000e+00])"
      ]
     },
     "execution_count": 24,
     "metadata": {},
     "output_type": "execute_result"
    }
   ],
   "source": [
    "# 랜덤 포레스트 기본 모형 적합\n",
    "\n",
    "from sklearn.ensemble import RandomForestRegressor\n",
    "rf = RandomForestRegressor(random_state=42)\n",
    "rf.fit(X_train,y_train)\n",
    "rf_pred = rf.predict(X_test)\n",
    "rf_pred"
   ]
  },
  {
   "cell_type": "code",
   "execution_count": 25,
   "metadata": {
    "ExecuteTime": {
     "end_time": "2021-07-23T01:10:25.096907Z",
     "start_time": "2021-07-23T01:10:25.083907Z"
    }
   },
   "outputs": [
    {
     "data": {
      "text/plain": [
       "7582.495698260213"
      ]
     },
     "execution_count": 25,
     "metadata": {},
     "output_type": "execute_result"
    }
   ],
   "source": [
    "# mse 평가 지표를 통한 예측 검증\n",
    "\n",
    "from sklearn.metrics import mean_squared_error\n",
    "mse = mean_squared_error(rf_pred,y_test)\n",
    "mse"
   ]
  },
  {
   "cell_type": "markdown",
   "metadata": {},
   "source": [
    "- 그리드 서치를 통한 하이퍼 파라미터 설정의 단점은 분석자가 직접 파라미터 범위를 설정해주기 때문에 최적의 파라미터를 찾기 어렵다\n",
    "- 그렇게 때문에 기본 모델의 성능이 더 좋게 나온것으로 보인다"
   ]
  },
  {
   "cell_type": "code",
   "execution_count": 29,
   "metadata": {
    "ExecuteTime": {
     "end_time": "2021-07-23T01:14:50.625345Z",
     "start_time": "2021-07-23T01:14:46.423193Z"
    }
   },
   "outputs": [
    {
     "data": {
      "text/plain": [
       "7644.800856610828"
      ]
     },
     "execution_count": 29,
     "metadata": {},
     "output_type": "execute_result"
    }
   ],
   "source": [
    "# xgboost 기본 모형 적합\n",
    "# xgboost의 하이퍼 파라미터는 너무 많아서 아직 공부가 더 필요하다\n",
    "import xgboost\n",
    "xgb_reg = xgboost.XGBRegressor()\n",
    "xgb_reg.fit(X_train,y_train)\n",
    "xgb_pred = xgb_reg.predict(X_test)\n",
    "\n",
    "mse = mean_squared_error(y_test,xgb_pred)\n",
    "mse"
   ]
  },
  {
   "cell_type": "code",
   "execution_count": 30,
   "metadata": {
    "ExecuteTime": {
     "end_time": "2021-07-23T01:15:07.094787Z",
     "start_time": "2021-07-23T01:14:50.628783Z"
    }
   },
   "outputs": [],
   "source": [
    "# 보팅으로 기존의 모델을 앙상블\n",
    "\n",
    "from sklearn.ensemble import VotingRegressor\n",
    "\n",
    "vot_clf = VotingRegressor(estimators = [('rnf',rf),('xgb',xgb_reg)])\n",
    "vot_clf.fit(X_train,y_train)\n",
    "vot_pred = vot_clf.predict(X_test)"
   ]
  },
  {
   "cell_type": "code",
   "execution_count": 31,
   "metadata": {
    "ExecuteTime": {
     "end_time": "2021-07-23T01:15:07.125213Z",
     "start_time": "2021-07-23T01:15:07.096794Z"
    }
   },
   "outputs": [
    {
     "data": {
      "text/plain": [
       "7004.661071449757"
      ]
     },
     "execution_count": 31,
     "metadata": {},
     "output_type": "execute_result"
    }
   ],
   "source": [
    "mse = mean_squared_error(y_test,vot_pred)\n",
    "mse"
   ]
  },
  {
   "cell_type": "code",
   "execution_count": 32,
   "metadata": {
    "ExecuteTime": {
     "end_time": "2021-07-23T01:15:26.464505Z",
     "start_time": "2021-07-23T01:15:07.128046Z"
    }
   },
   "outputs": [
    {
     "data": {
      "text/plain": [
       "VotingRegressor(estimators=[('rnf', RandomForestRegressor(random_state=42)),\n",
       "                            ('xgb',\n",
       "                             XGBRegressor(base_score=0.5, booster='gbtree',\n",
       "                                          colsample_bylevel=1,\n",
       "                                          colsample_bynode=1,\n",
       "                                          colsample_bytree=1, gamma=0,\n",
       "                                          gpu_id=-1, importance_type='gain',\n",
       "                                          interaction_constraints='',\n",
       "                                          learning_rate=0.300000012,\n",
       "                                          max_delta_step=0, max_depth=6,\n",
       "                                          min_child_weight=1, missing=nan,\n",
       "                                          monotone_constraints='()',\n",
       "                                          n_estimators=100, n_jobs=8,\n",
       "                                          num_parallel_tree=1, random_state=0,\n",
       "                                          reg_alpha=0, reg_lambda=1,\n",
       "                                          scale_pos_weight=1, subsample=1,\n",
       "                                          tree_method='exact',\n",
       "                                          validate_parameters=1,\n",
       "                                          verbosity=None))])"
      ]
     },
     "execution_count": 32,
     "metadata": {},
     "output_type": "execute_result"
    }
   ],
   "source": [
    "# 최종 모델을 통한 예측\n",
    "\n",
    "from sklearn.ensemble import VotingRegressor\n",
    "\n",
    "vot_clf = VotingRegressor(estimators = [('rnf',rf),('xgb',xgb_reg)])\n",
    "vot_clf.fit(new_train,train_y[\"교통량\"])"
   ]
  },
  {
   "cell_type": "code",
   "execution_count": 33,
   "metadata": {
    "ExecuteTime": {
     "end_time": "2021-07-23T01:15:26.790922Z",
     "start_time": "2021-07-23T01:15:26.466697Z"
    }
   },
   "outputs": [
    {
     "data": {
      "text/html": [
       "<div>\n",
       "<style scoped>\n",
       "    .dataframe tbody tr th:only-of-type {\n",
       "        vertical-align: middle;\n",
       "    }\n",
       "\n",
       "    .dataframe tbody tr th {\n",
       "        vertical-align: top;\n",
       "    }\n",
       "\n",
       "    .dataframe thead th {\n",
       "        text-align: right;\n",
       "    }\n",
       "</style>\n",
       "<table border=\"1\" class=\"dataframe\">\n",
       "  <thead>\n",
       "    <tr style=\"text-align: right;\">\n",
       "      <th></th>\n",
       "      <th>id</th>\n",
       "      <th>교통량</th>\n",
       "    </tr>\n",
       "  </thead>\n",
       "  <tbody>\n",
       "    <tr>\n",
       "      <th>0</th>\n",
       "      <td>22448</td>\n",
       "      <td>1387.766324</td>\n",
       "    </tr>\n",
       "    <tr>\n",
       "      <th>1</th>\n",
       "      <td>22449</td>\n",
       "      <td>1088.700637</td>\n",
       "    </tr>\n",
       "    <tr>\n",
       "      <th>2</th>\n",
       "      <td>22450</td>\n",
       "      <td>272.148472</td>\n",
       "    </tr>\n",
       "  </tbody>\n",
       "</table>\n",
       "</div>"
      ],
      "text/plain": [
       "      id          교통량\n",
       "0  22448  1387.766324\n",
       "1  22449  1088.700637\n",
       "2  22450   272.148472"
      ]
     },
     "execution_count": 33,
     "metadata": {},
     "output_type": "execute_result"
    }
   ],
   "source": [
    "sub[\"교통량\"] = vot_clf.predict(new_test)\n",
    "sub.to_csv('./submission.csv')\n",
    "sub.head(3)"
   ]
  },
  {
   "cell_type": "code",
   "execution_count": 34,
   "metadata": {
    "ExecuteTime": {
     "end_time": "2021-07-23T01:19:41.737283Z",
     "start_time": "2021-07-23T01:19:41.728322Z"
    }
   },
   "outputs": [],
   "source": [
    "def FinalMseScore():\n",
    "    import pandas as pd\n",
    "    y_true = pd.read_csv(\"jejudata/Jeju_testy.csv\",encoding='euc-kr')\n",
    "    sub = pd.read_csv('./submission.csv',index_col='id')\n",
    "    pred = sub.iloc[:,-1].values\n",
    "    from sklearn.metrics import mean_squared_error\n",
    "    mse = mean_squared_error(pred,y_true['교통량'])    \n",
    "    print('submission mse score : ',mse)\n",
    "    return mse"
   ]
  },
  {
   "cell_type": "code",
   "execution_count": 35,
   "metadata": {
    "ExecuteTime": {
     "end_time": "2021-07-23T01:19:42.419365Z",
     "start_time": "2021-07-23T01:19:42.365101Z"
    }
   },
   "outputs": [
    {
     "name": "stdout",
     "output_type": "stream",
     "text": [
      "submission mse score :  6485.615640443616\n"
     ]
    }
   ],
   "source": [
    "final_mse = FinalMseScore()"
   ]
  },
  {
   "cell_type": "code",
   "execution_count": null,
   "metadata": {},
   "outputs": [],
   "source": []
  }
 ],
 "metadata": {
  "kernelspec": {
   "display_name": "Python 3",
   "language": "python",
   "name": "python3"
  },
  "language_info": {
   "codemirror_mode": {
    "name": "ipython",
    "version": 3
   },
   "file_extension": ".py",
   "mimetype": "text/x-python",
   "name": "python",
   "nbconvert_exporter": "python",
   "pygments_lexer": "ipython3",
   "version": "3.8.5"
  },
  "toc": {
   "base_numbering": 1,
   "nav_menu": {},
   "number_sections": true,
   "sideBar": true,
   "skip_h1_title": false,
   "title_cell": "Table of Contents",
   "title_sidebar": "Contents",
   "toc_cell": false,
   "toc_position": {},
   "toc_section_display": true,
   "toc_window_display": false
  }
 },
 "nbformat": 4,
 "nbformat_minor": 4
}
