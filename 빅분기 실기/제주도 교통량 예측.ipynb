{
 "cells": [
  {
   "cell_type": "markdown",
   "metadata": {},
   "source": [
    "# 제주도 교통량 예측\n",
    "\n",
    "- 제주도민 증가와 외국인의 증가로 인한 제주도의 교통체증 증가 해결을 위한 지표로 사용\n",
    "\n",
    "- 제주빅데이터센터 데이터를 활용하여 효율적인 교통량 측정을 위한 날씨/유동인구 활용 교통량 추이 데이터 제공\n",
    "\n",
    "- 거주인구, 근무인구, 방문인구는 해당 인구수의 일별 유동인구 수 합계\n",
    "\n",
    "- 유동인구는 01~24시 해당 시간 정각 측정 인구 (머문 시간(분)/60분)\n",
    "\n",
    "- 교통량 (대), 평균 속도 (km), 평균 소요 시간 (초), 평균 기온 (°C), 일일강수량 (mm), 평균 풍속(m/s)"
   ]
  },
  {
   "cell_type": "markdown",
   "metadata": {},
   "source": [
    "데이터 출처 : https://www.jejudatahub.net/data/view/data/753"
   ]
  },
  {
   "cell_type": "code",
   "execution_count": 1,
   "metadata": {
    "ExecuteTime": {
     "end_time": "2021-07-23T13:18:51.997180Z",
     "start_time": "2021-07-23T13:18:47.974110Z"
    }
   },
   "outputs": [],
   "source": [
    "import pandas as pd\n",
    "import numpy as np\n",
    "import os\n",
    "import matplotlib.pyplot as plt\n",
    "if os.name == 'posix':\n",
    "    plt.rc(\"font\", family=\"AppleGothic\")\n",
    "else:\n",
    "    plt.rc(\"font\", family=\"Malgun Gothic\")"
   ]
  },
  {
   "cell_type": "code",
   "execution_count": 73,
   "metadata": {
    "ExecuteTime": {
     "end_time": "2021-07-23T15:14:43.645242Z",
     "start_time": "2021-07-23T15:14:43.461165Z"
    }
   },
   "outputs": [],
   "source": [
    "# 데이터 로드\n",
    "train_X = pd.read_csv(\"jejudata/Jeju_trainX.csv\",encoding='euc-kr')\n",
    "train_y= pd.read_csv(\"jejudata/Jeju_trainy.csv\",encoding='euc-kr')\n",
    "test_X= pd.read_csv(\"jejudata/Jeju_testX.csv\",encoding='euc-kr')\n",
    "sub= pd.read_csv(\"jejudata/subExample.csv\",encoding='euc-kr')"
   ]
  },
  {
   "cell_type": "code",
   "execution_count": 66,
   "metadata": {
    "ExecuteTime": {
     "end_time": "2021-07-23T15:14:18.650826Z",
     "start_time": "2021-07-23T15:14:18.631832Z"
    }
   },
   "outputs": [
    {
     "name": "stdout",
     "output_type": "stream",
     "text": [
      "(22448, 12)\n",
      "(9621, 12)\n",
      "(22448,)\n",
      "(9621, 2)\n"
     ]
    }
   ],
   "source": [
    "print(X_train.shape)\n",
    "print(X_test.shape)\n",
    "print(y_train.shape)\n",
    "print(sub.shape)"
   ]
  },
  {
   "cell_type": "code",
   "execution_count": 67,
   "metadata": {
    "ExecuteTime": {
     "end_time": "2021-07-23T15:14:20.580256Z",
     "start_time": "2021-07-23T15:14:20.546213Z"
    },
    "scrolled": true
   },
   "outputs": [
    {
     "name": "stdout",
     "output_type": "stream",
     "text": [
      "<class 'pandas.core.frame.DataFrame'>\n",
      "RangeIndex: 22448 entries, 0 to 22447\n",
      "Data columns (total 13 columns):\n",
      " #   Column    Non-Null Count  Dtype  \n",
      "---  ------    --------------  -----  \n",
      " 0   id        22448 non-null  int64  \n",
      " 1   일자        22448 non-null  object \n",
      " 2   시도명       22448 non-null  object \n",
      " 3   읍면동명      22448 non-null  object \n",
      " 4   거주인구      22448 non-null  float64\n",
      " 5   근무인구      22448 non-null  float64\n",
      " 6   방문인구      22448 non-null  float64\n",
      " 7   총 유동인구    22448 non-null  float64\n",
      " 8   평균 속도     22448 non-null  float64\n",
      " 9   평균 소요 시간  22448 non-null  float64\n",
      " 10  평균 기온     22448 non-null  float64\n",
      " 11  일강수량      22448 non-null  float64\n",
      " 12  평균 풍속     22448 non-null  float64\n",
      "dtypes: float64(9), int64(1), object(3)\n",
      "memory usage: 2.2+ MB\n"
     ]
    }
   ],
   "source": [
    "# 결측치 및 데이터 타입 확인\n",
    "train_X.info()"
   ]
  },
  {
   "cell_type": "code",
   "execution_count": 68,
   "metadata": {
    "ExecuteTime": {
     "end_time": "2021-07-23T15:14:21.733008Z",
     "start_time": "2021-07-23T15:14:21.692426Z"
    }
   },
   "outputs": [
    {
     "name": "stdout",
     "output_type": "stream",
     "text": [
      "<class 'pandas.core.frame.DataFrame'>\n",
      "RangeIndex: 9621 entries, 0 to 9620\n",
      "Data columns (total 13 columns):\n",
      " #   Column    Non-Null Count  Dtype  \n",
      "---  ------    --------------  -----  \n",
      " 0   id        9621 non-null   int64  \n",
      " 1   일자        9621 non-null   object \n",
      " 2   시도명       9621 non-null   object \n",
      " 3   읍면동명      9621 non-null   object \n",
      " 4   거주인구      9621 non-null   float64\n",
      " 5   근무인구      9621 non-null   float64\n",
      " 6   방문인구      9621 non-null   float64\n",
      " 7   총 유동인구    9621 non-null   float64\n",
      " 8   평균 속도     9621 non-null   float64\n",
      " 9   평균 소요 시간  9621 non-null   float64\n",
      " 10  평균 기온     9621 non-null   float64\n",
      " 11  일강수량      9621 non-null   float64\n",
      " 12  평균 풍속     9621 non-null   float64\n",
      "dtypes: float64(9), int64(1), object(3)\n",
      "memory usage: 977.3+ KB\n"
     ]
    }
   ],
   "source": [
    "test_X.info()"
   ]
  },
  {
   "cell_type": "code",
   "execution_count": 69,
   "metadata": {
    "ExecuteTime": {
     "end_time": "2021-07-23T15:14:22.918810Z",
     "start_time": "2021-07-23T15:14:22.897938Z"
    }
   },
   "outputs": [
    {
     "data": {
      "text/plain": [
       "True"
      ]
     },
     "execution_count": 69,
     "metadata": {},
     "output_type": "execute_result"
    }
   ],
   "source": [
    "# 범주형 \n",
    "set(train_X[\"시도명\"].unique()) == set(test_X[\"시도명\"].unique())"
   ]
  },
  {
   "cell_type": "code",
   "execution_count": 70,
   "metadata": {
    "ExecuteTime": {
     "end_time": "2021-07-23T15:14:23.580602Z",
     "start_time": "2021-07-23T15:14:23.561966Z"
    }
   },
   "outputs": [
    {
     "data": {
      "text/plain": [
       "True"
      ]
     },
     "execution_count": 70,
     "metadata": {},
     "output_type": "execute_result"
    }
   ],
   "source": [
    "set(train_X[\"읍면동명\"].unique()) == set(test_X[\"읍면동명\"].unique())"
   ]
  },
  {
   "cell_type": "code",
   "execution_count": 71,
   "metadata": {
    "ExecuteTime": {
     "end_time": "2021-07-23T15:14:25.517682Z",
     "start_time": "2021-07-23T15:14:25.423828Z"
    }
   },
   "outputs": [
    {
     "data": {
      "text/html": [
       "<div>\n",
       "<style scoped>\n",
       "    .dataframe tbody tr th:only-of-type {\n",
       "        vertical-align: middle;\n",
       "    }\n",
       "\n",
       "    .dataframe tbody tr th {\n",
       "        vertical-align: top;\n",
       "    }\n",
       "\n",
       "    .dataframe thead th {\n",
       "        text-align: right;\n",
       "    }\n",
       "</style>\n",
       "<table border=\"1\" class=\"dataframe\">\n",
       "  <thead>\n",
       "    <tr style=\"text-align: right;\">\n",
       "      <th></th>\n",
       "      <th>id</th>\n",
       "      <th>거주인구</th>\n",
       "      <th>근무인구</th>\n",
       "      <th>방문인구</th>\n",
       "      <th>총 유동인구</th>\n",
       "      <th>평균 속도</th>\n",
       "      <th>평균 소요 시간</th>\n",
       "      <th>평균 기온</th>\n",
       "      <th>일강수량</th>\n",
       "      <th>평균 풍속</th>\n",
       "    </tr>\n",
       "  </thead>\n",
       "  <tbody>\n",
       "    <tr>\n",
       "      <th>count</th>\n",
       "      <td>22448.000000</td>\n",
       "      <td>2.244800e+04</td>\n",
       "      <td>22448.000000</td>\n",
       "      <td>22448.000000</td>\n",
       "      <td>2.244800e+04</td>\n",
       "      <td>22448.000000</td>\n",
       "      <td>22448.000000</td>\n",
       "      <td>22448.000000</td>\n",
       "      <td>22448.000000</td>\n",
       "      <td>22448.000000</td>\n",
       "    </tr>\n",
       "    <tr>\n",
       "      <th>mean</th>\n",
       "      <td>11223.500000</td>\n",
       "      <td>3.175557e+05</td>\n",
       "      <td>35805.028052</td>\n",
       "      <td>196133.748259</td>\n",
       "      <td>5.494945e+05</td>\n",
       "      <td>41.101625</td>\n",
       "      <td>37.221661</td>\n",
       "      <td>13.534623</td>\n",
       "      <td>7.401781</td>\n",
       "      <td>2.738243</td>\n",
       "    </tr>\n",
       "    <tr>\n",
       "      <th>std</th>\n",
       "      <td>6480.323757</td>\n",
       "      <td>2.981494e+05</td>\n",
       "      <td>40815.683983</td>\n",
       "      <td>140600.598737</td>\n",
       "      <td>4.611679e+05</td>\n",
       "      <td>8.708300</td>\n",
       "      <td>12.974543</td>\n",
       "      <td>7.749613</td>\n",
       "      <td>28.853829</td>\n",
       "      <td>1.468865</td>\n",
       "    </tr>\n",
       "    <tr>\n",
       "      <th>min</th>\n",
       "      <td>0.000000</td>\n",
       "      <td>1.032726e+04</td>\n",
       "      <td>1172.448000</td>\n",
       "      <td>10788.381000</td>\n",
       "      <td>2.228809e+04</td>\n",
       "      <td>23.545000</td>\n",
       "      <td>12.667000</td>\n",
       "      <td>-11.600000</td>\n",
       "      <td>0.000000</td>\n",
       "      <td>0.000000</td>\n",
       "    </tr>\n",
       "    <tr>\n",
       "      <th>25%</th>\n",
       "      <td>5611.750000</td>\n",
       "      <td>9.470432e+04</td>\n",
       "      <td>12221.819500</td>\n",
       "      <td>100005.044750</td>\n",
       "      <td>2.228364e+05</td>\n",
       "      <td>34.269000</td>\n",
       "      <td>27.889000</td>\n",
       "      <td>7.600000</td>\n",
       "      <td>0.000000</td>\n",
       "      <td>1.750000</td>\n",
       "    </tr>\n",
       "    <tr>\n",
       "      <th>50%</th>\n",
       "      <td>11223.500000</td>\n",
       "      <td>2.219279e+05</td>\n",
       "      <td>21765.337000</td>\n",
       "      <td>153158.832500</td>\n",
       "      <td>3.894584e+05</td>\n",
       "      <td>39.651500</td>\n",
       "      <td>34.500000</td>\n",
       "      <td>13.300000</td>\n",
       "      <td>0.000000</td>\n",
       "      <td>2.400000</td>\n",
       "    </tr>\n",
       "    <tr>\n",
       "      <th>75%</th>\n",
       "      <td>16835.250000</td>\n",
       "      <td>4.100979e+05</td>\n",
       "      <td>40316.875750</td>\n",
       "      <td>235928.067500</td>\n",
       "      <td>6.412934e+05</td>\n",
       "      <td>49.101250</td>\n",
       "      <td>46.191000</td>\n",
       "      <td>19.733000</td>\n",
       "      <td>1.500000</td>\n",
       "      <td>3.400000</td>\n",
       "    </tr>\n",
       "    <tr>\n",
       "      <th>max</th>\n",
       "      <td>22447.000000</td>\n",
       "      <td>1.353561e+06</td>\n",
       "      <td>272224.930000</td>\n",
       "      <td>786387.113000</td>\n",
       "      <td>2.079278e+06</td>\n",
       "      <td>95.000000</td>\n",
       "      <td>135.400000</td>\n",
       "      <td>30.400000</td>\n",
       "      <td>583.500000</td>\n",
       "      <td>17.700000</td>\n",
       "    </tr>\n",
       "  </tbody>\n",
       "</table>\n",
       "</div>"
      ],
      "text/plain": [
       "                 id          거주인구           근무인구           방문인구        총 유동인구  \\\n",
       "count  22448.000000  2.244800e+04   22448.000000   22448.000000  2.244800e+04   \n",
       "mean   11223.500000  3.175557e+05   35805.028052  196133.748259  5.494945e+05   \n",
       "std     6480.323757  2.981494e+05   40815.683983  140600.598737  4.611679e+05   \n",
       "min        0.000000  1.032726e+04    1172.448000   10788.381000  2.228809e+04   \n",
       "25%     5611.750000  9.470432e+04   12221.819500  100005.044750  2.228364e+05   \n",
       "50%    11223.500000  2.219279e+05   21765.337000  153158.832500  3.894584e+05   \n",
       "75%    16835.250000  4.100979e+05   40316.875750  235928.067500  6.412934e+05   \n",
       "max    22447.000000  1.353561e+06  272224.930000  786387.113000  2.079278e+06   \n",
       "\n",
       "              평균 속도      평균 소요 시간         평균 기온          일강수량         평균 풍속  \n",
       "count  22448.000000  22448.000000  22448.000000  22448.000000  22448.000000  \n",
       "mean      41.101625     37.221661     13.534623      7.401781      2.738243  \n",
       "std        8.708300     12.974543      7.749613     28.853829      1.468865  \n",
       "min       23.545000     12.667000    -11.600000      0.000000      0.000000  \n",
       "25%       34.269000     27.889000      7.600000      0.000000      1.750000  \n",
       "50%       39.651500     34.500000     13.300000      0.000000      2.400000  \n",
       "75%       49.101250     46.191000     19.733000      1.500000      3.400000  \n",
       "max       95.000000    135.400000     30.400000    583.500000     17.700000  "
      ]
     },
     "execution_count": 71,
     "metadata": {},
     "output_type": "execute_result"
    }
   ],
   "source": [
    "train_X.describe()"
   ]
  },
  {
   "cell_type": "code",
   "execution_count": 72,
   "metadata": {
    "ExecuteTime": {
     "end_time": "2021-07-23T15:14:29.404712Z",
     "start_time": "2021-07-23T15:14:26.073027Z"
    }
   },
   "outputs": [
    {
     "data": {
      "text/plain": [
       "array([[<AxesSubplot:title={'center':'id'}>,\n",
       "        <AxesSubplot:title={'center':'거주인구'}>,\n",
       "        <AxesSubplot:title={'center':'근무인구'}>],\n",
       "       [<AxesSubplot:title={'center':'방문인구'}>,\n",
       "        <AxesSubplot:title={'center':'총 유동인구'}>,\n",
       "        <AxesSubplot:title={'center':'평균 속도'}>],\n",
       "       [<AxesSubplot:title={'center':'평균 소요 시간'}>,\n",
       "        <AxesSubplot:title={'center':'평균 기온'}>,\n",
       "        <AxesSubplot:title={'center':'일강수량'}>],\n",
       "       [<AxesSubplot:title={'center':'평균 풍속'}>, <AxesSubplot:>,\n",
       "        <AxesSubplot:>]], dtype=object)"
      ]
     },
     "execution_count": 72,
     "metadata": {},
     "output_type": "execute_result"
    },
    {
     "name": "stderr",
     "output_type": "stream",
     "text": [
      "C:\\Users\\ysw29\\anaconda3\\lib\\site-packages\\matplotlib\\backends\\backend_agg.py:238: RuntimeWarning: Glyph 8722 missing from current font.\n",
      "  font.set_text(s, 0.0, flags=flags)\n",
      "C:\\Users\\ysw29\\anaconda3\\lib\\site-packages\\matplotlib\\backends\\backend_agg.py:201: RuntimeWarning: Glyph 8722 missing from current font.\n",
      "  font.set_text(s, 0, flags=flags)\n"
     ]
    },
    {
     "data": {
      "image/png": "[encoded data removed]",
      "text/plain": [
       "<Figure size 936x936 with 12 Axes>"
      ]
     },
     "metadata": {
      "needs_background": "light"
     },
     "output_type": "display_data"
    }
   ],
   "source": [
    "train_X.hist(figsize=(13,13))"
   ]
  },
  {
   "cell_type": "code",
   "execution_count": 144,
   "metadata": {
    "ExecuteTime": {
     "end_time": "2021-07-23T08:24:54.085663Z",
     "start_time": "2021-07-23T08:24:54.073260Z"
    }
   },
   "outputs": [
    {
     "data": {
      "text/plain": [
       "count     22448.000000\n",
       "mean     196133.748259\n",
       "std      140600.598737\n",
       "min       10788.381000\n",
       "25%      100005.044750\n",
       "50%      153158.832500\n",
       "75%      235928.067500\n",
       "max      786387.113000\n",
       "Name: 방문인구, dtype: float64"
      ]
     },
     "execution_count": 144,
     "metadata": {},
     "output_type": "execute_result"
    }
   ],
   "source": [
    "train_X[\"방문인구\"].describe()"
   ]
  },
  {
   "cell_type": "code",
   "execution_count": 145,
   "metadata": {
    "ExecuteTime": {
     "end_time": "2021-07-23T08:24:56.454670Z",
     "start_time": "2021-07-23T08:24:56.400731Z"
    }
   },
   "outputs": [],
   "source": [
    "# 시도명 라벨인코딩\n",
    "# 일강수량을 비가 조금이라도 왔던 날은 1, 비가 아예 안온 날 0으로 라벨 인코딩\n",
    "\n",
    "train_X[\"시도명\"] = train_X[\"시도명\"].map(lambda x: 1 if x == \"서귀포시\" else 0)\n",
    "test_X[\"시도명\"] = test_X[\"시도명\"].map(lambda x: 1 if x == \"서귀포시\" else 0)\n",
    "\n",
    "train_X[\"일강수량\"] = train_X[\"일강수량\"].map(lambda x: 0 if x == 0 else 1)\n",
    "test_X[\"일강수량\"] = test_X[\"일강수량\"].map(lambda x: 0 if x == 0 else 1)\n",
    "\n",
    "train_X[\"방문인구비율\"] = train_X[\"방문인구\"] / train_X[\"총 유동인구\"]\n",
    "test_X[\"방문인구비율\"] = test_X[\"방문인구\"] / test_X[\"총 유동인구\"]\n",
    "\n",
    "train_X[\"관광지\"] = train_X[\"방문인구비율\"].map(lambda x : 1 if x > 0.5 else 0)\n",
    "test_X[\"관광지\"] = test_X[\"방문인구비율\"].map(lambda x : 1 if x > 0.5 else 0)\n"
   ]
  },
  {
   "cell_type": "code",
   "execution_count": 149,
   "metadata": {
    "ExecuteTime": {
     "end_time": "2021-07-23T08:25:23.864753Z",
     "start_time": "2021-07-23T08:25:23.852751Z"
    }
   },
   "outputs": [
    {
     "data": {
      "text/plain": [
       "5051"
      ]
     },
     "execution_count": 149,
     "metadata": {},
     "output_type": "execute_result"
    }
   ],
   "source": [
    "sum(train_X[\"관광지\"])"
   ]
  },
  {
   "cell_type": "code",
   "execution_count": 176,
   "metadata": {
    "ExecuteTime": {
     "end_time": "2021-07-23T08:39:12.259319Z",
     "start_time": "2021-07-23T08:39:12.235688Z"
    }
   },
   "outputs": [
    {
     "data": {
      "text/plain": [
       "0        False\n",
       "1        False\n",
       "2        False\n",
       "3        False\n",
       "4        False\n",
       "         ...  \n",
       "22443    False\n",
       "22444    False\n",
       "22445    False\n",
       "22446    False\n",
       "22447    False\n",
       "Name: 관광지, Length: 22448, dtype: bool"
      ]
     },
     "execution_count": 176,
     "metadata": {},
     "output_type": "execute_result"
    }
   ],
   "source": [
    "train_X[\"관광지\"] == 1"
   ]
  },
  {
   "cell_type": "code",
   "execution_count": 182,
   "metadata": {
    "ExecuteTime": {
     "end_time": "2021-07-23T08:39:58.054225Z",
     "start_time": "2021-07-23T08:39:58.021655Z"
    }
   },
   "outputs": [
    {
     "name": "stdout",
     "output_type": "stream",
     "text": [
      "count    5051.000000\n",
      "mean      379.028293\n",
      "std       619.277625\n",
      "min         0.000000\n",
      "25%         0.000000\n",
      "50%         0.000000\n",
      "75%       558.900000\n",
      "max      2301.500000\n",
      "Name: 교통량, dtype: float64\n",
      "count    17397.000000\n",
      "mean       373.381957\n",
      "std        504.815630\n",
      "min          0.000000\n",
      "25%          0.000000\n",
      "50%         69.421000\n",
      "75%        676.697000\n",
      "max       2035.538000\n",
      "Name: 교통량, dtype: float64\n"
     ]
    }
   ],
   "source": [
    "print(train_X[train_X[\"관광지\"] == 1][\"교통량\"].describe())\n",
    "print(train_X[train_X[\"관광지\"] == 0][\"교통량\"].describe())"
   ]
  },
  {
   "cell_type": "code",
   "execution_count": 165,
   "metadata": {
    "ExecuteTime": {
     "end_time": "2021-07-23T08:31:53.499938Z",
     "start_time": "2021-07-23T08:31:53.483940Z"
    }
   },
   "outputs": [],
   "source": [
    "train_X[\"교통량\"] = train_y[\"교통량\"]"
   ]
  },
  {
   "cell_type": "code",
   "execution_count": 83,
   "metadata": {
    "ExecuteTime": {
     "end_time": "2021-07-23T08:13:51.637289Z",
     "start_time": "2021-07-23T08:13:51.624321Z"
    }
   },
   "outputs": [],
   "source": [
    "# 읍면동명 라벨 인코딩\n",
    "from sklearn.preprocessing import LabelEncoder\n",
    "lb = LabelEncoder()\n",
    "train_X[\"읍면동명\"] = lb.fit_transform(train_X[\"읍면동명\"])\n",
    "test_X[\"읍면동명\"] = lb.transform(test_X[\"읍면동명\"])"
   ]
  },
  {
   "cell_type": "code",
   "execution_count": 84,
   "metadata": {
    "ExecuteTime": {
     "end_time": "2021-07-23T08:13:51.653410Z",
     "start_time": "2021-07-23T08:13:51.639260Z"
    }
   },
   "outputs": [],
   "source": [
    "# datetime으로 일자 타입 변환\n",
    "# 년도, 월, 일, 주 컬럼 생성\n",
    "\n",
    "def preprocessing(df):\n",
    "    df[\"일자\"] = pd.to_datetime(df[\"일자\"])\n",
    "    df[\"년도\"] = df[\"일자\"].dt.year\n",
    "    df[\"월\"] = df[\"일자\"].dt.month\n",
    "    df[\"일\"] = df[\"일자\"].dt.day\n",
    "    df[\"주\"] = df[\"일자\"].dt.weekday"
   ]
  },
  {
   "cell_type": "code",
   "execution_count": 85,
   "metadata": {
    "ExecuteTime": {
     "end_time": "2021-07-23T08:13:52.153917Z",
     "start_time": "2021-07-23T08:13:52.110709Z"
    },
    "scrolled": true
   },
   "outputs": [],
   "source": [
    "preprocessing(train_X)\n",
    "preprocessing(test_X)"
   ]
  },
  {
   "cell_type": "code",
   "execution_count": 86,
   "metadata": {
    "ExecuteTime": {
     "end_time": "2021-07-23T08:13:52.294459Z",
     "start_time": "2021-07-23T08:13:52.282461Z"
    }
   },
   "outputs": [],
   "source": [
    "# 최소 최대 표준화\n",
    "from sklearn.preprocessing import MinMaxScaler\n",
    "scaler_feature = [\"거주인구\",\"근무인구\",\"방문인구\",\"총 유동인구\"]\n",
    "scaler = MinMaxScaler()"
   ]
  },
  {
   "cell_type": "code",
   "execution_count": 87,
   "metadata": {
    "ExecuteTime": {
     "end_time": "2021-07-23T08:13:52.451859Z",
     "start_time": "2021-07-23T08:13:52.408647Z"
    }
   },
   "outputs": [],
   "source": [
    "train_X[scaler_feature] = scaler.fit_transform(train_X[scaler_feature])\n",
    "test_X[scaler_feature] = scaler.fit_transform(test_X[scaler_feature])"
   ]
  },
  {
   "cell_type": "code",
   "execution_count": 88,
   "metadata": {
    "ExecuteTime": {
     "end_time": "2021-07-23T08:13:52.576511Z",
     "start_time": "2021-07-23T08:13:52.560379Z"
    }
   },
   "outputs": [],
   "source": [
    "new_train = train_X.drop([\"일자\",\"id\"],axis=1)\n",
    "new_test = test_X.drop([\"일자\",\"id\"],axis=1)"
   ]
  },
  {
   "cell_type": "code",
   "execution_count": 89,
   "metadata": {
    "ExecuteTime": {
     "end_time": "2021-07-23T08:13:54.343553Z",
     "start_time": "2021-07-23T08:13:52.695420Z"
    }
   },
   "outputs": [
    {
     "data": {
      "text/plain": [
       "array([[<AxesSubplot:title={'center':'시도명'}>,\n",
       "        <AxesSubplot:title={'center':'읍면동명'}>,\n",
       "        <AxesSubplot:title={'center':'거주인구'}>,\n",
       "        <AxesSubplot:title={'center':'근무인구'}>],\n",
       "       [<AxesSubplot:title={'center':'방문인구'}>,\n",
       "        <AxesSubplot:title={'center':'총 유동인구'}>,\n",
       "        <AxesSubplot:title={'center':'평균 속도'}>,\n",
       "        <AxesSubplot:title={'center':'평균 소요 시간'}>],\n",
       "       [<AxesSubplot:title={'center':'평균 기온'}>,\n",
       "        <AxesSubplot:title={'center':'일강수량'}>,\n",
       "        <AxesSubplot:title={'center':'평균 풍속'}>,\n",
       "        <AxesSubplot:title={'center':'년도'}>],\n",
       "       [<AxesSubplot:title={'center':'월'}>,\n",
       "        <AxesSubplot:title={'center':'일'}>,\n",
       "        <AxesSubplot:title={'center':'주'}>, <AxesSubplot:>]], dtype=object)"
      ]
     },
     "execution_count": 89,
     "metadata": {},
     "output_type": "execute_result"
    },
    {
     "name": "stderr",
     "output_type": "stream",
     "text": [
      "C:\\Users\\ysw29\\anaconda3\\lib\\site-packages\\matplotlib\\backends\\backend_agg.py:238: RuntimeWarning: Glyph 8722 missing from current font.\n",
      "  font.set_text(s, 0.0, flags=flags)\n",
      "C:\\Users\\ysw29\\anaconda3\\lib\\site-packages\\matplotlib\\backends\\backend_agg.py:201: RuntimeWarning: Glyph 8722 missing from current font.\n",
      "  font.set_text(s, 0, flags=flags)\n"
     ]
    },
    {
     "data": {
      "image/png": "[encoded data removed]",
      "text/plain": [
       "<Figure size 1440x1440 with 16 Axes>"
      ]
     },
     "metadata": {
      "needs_background": "light"
     },
     "output_type": "display_data"
    }
   ],
   "source": [
    "new_train.hist(figsize=(20,20))"
   ]
  },
  {
   "cell_type": "code",
   "execution_count": 90,
   "metadata": {
    "ExecuteTime": {
     "end_time": "2021-07-23T08:13:54.762124Z",
     "start_time": "2021-07-23T08:13:54.741124Z"
    }
   },
   "outputs": [
    {
     "name": "stdout",
     "output_type": "stream",
     "text": [
      "(19080, 15) (3368, 15) (19080,) (3368,)\n"
     ]
    }
   ],
   "source": [
    "# 학습, 검증용 테스트 분리\n",
    "from sklearn.model_selection import train_test_split\n",
    "X_train,X_test,y_train,y_test = train_test_split(new_train,train_y[\"교통량\"],test_size=0.15,random_state=42)\n",
    "print(X_train.shape,X_test.shape,y_train.shape,y_test.shape)"
   ]
  },
  {
   "cell_type": "code",
   "execution_count": 91,
   "metadata": {
    "ExecuteTime": {
     "end_time": "2021-07-23T08:14:22.921087Z",
     "start_time": "2021-07-23T08:13:55.209055Z"
    }
   },
   "outputs": [
    {
     "data": {
      "text/plain": [
       "GridSearchCV(cv=2, estimator=RandomForestRegressor(random_state=42), n_jobs=-1,\n",
       "             param_grid={'max_depth': [10, 12], 'min_samples_leaf': [2, 4],\n",
       "                         'min_samples_split': [2, 4], 'n_estimators': [100]})"
      ]
     },
     "execution_count": 91,
     "metadata": {},
     "output_type": "execute_result"
    }
   ],
   "source": [
    "# 그리드서치를 통한 랜덤 포레스트 모델 하이퍼 파라미터 설정\n",
    "\n",
    "from sklearn.ensemble import RandomForestRegressor\n",
    "from sklearn.model_selection import GridSearchCV\n",
    "\n",
    "rnf_reg = RandomForestRegressor(random_state=42)\n",
    "params = {\n",
    "    'n_estimators' : [100],\n",
    "    'max_depth' : [10,12],\n",
    "    'min_samples_leaf' : [2,4],\n",
    "    'min_samples_split' : [2,4]\n",
    "}\n",
    "\n",
    "grid_cv = GridSearchCV(rnf_reg, param_grid=params, cv=2, n_jobs=-1)\n",
    "grid_cv.fit(X_train,y_train)"
   ]
  },
  {
   "cell_type": "code",
   "execution_count": 92,
   "metadata": {
    "ExecuteTime": {
     "end_time": "2021-07-23T08:14:22.936629Z",
     "start_time": "2021-07-23T08:14:22.925583Z"
    }
   },
   "outputs": [
    {
     "data": {
      "text/plain": [
       "{'max_depth': 12,\n",
       " 'min_samples_leaf': 2,\n",
       " 'min_samples_split': 2,\n",
       " 'n_estimators': 100}"
      ]
     },
     "execution_count": 92,
     "metadata": {},
     "output_type": "execute_result"
    }
   ],
   "source": [
    "# 최적의 파라미터\n",
    "grid_cv.best_params_"
   ]
  },
  {
   "cell_type": "code",
   "execution_count": 93,
   "metadata": {
    "ExecuteTime": {
     "end_time": "2021-07-23T08:14:33.694498Z",
     "start_time": "2021-07-23T08:14:22.942582Z"
    }
   },
   "outputs": [
    {
     "data": {
      "text/plain": [
       "array([2.36919873e+00, 1.22474635e+00, 2.15496272e+00, ...,\n",
       "       2.73708546e-01, 9.93389292e+02, 0.00000000e+00])"
      ]
     },
     "execution_count": 93,
     "metadata": {},
     "output_type": "execute_result"
    }
   ],
   "source": [
    "# 위의 파라미터를 적용한 랜덤 포레스트 모형 적합\n",
    "\n",
    "from sklearn.ensemble import RandomForestRegressor\n",
    "rf = RandomForestRegressor(n_estimators=100,max_depth=12,min_samples_leaf=2,min_samples_split=2,random_state=42)\n",
    "rf.fit(X_train,y_train)\n",
    "rf_pred = rf.predict(X_test)\n",
    "rf_pred"
   ]
  },
  {
   "cell_type": "code",
   "execution_count": 94,
   "metadata": {
    "ExecuteTime": {
     "end_time": "2021-07-23T08:14:33.709581Z",
     "start_time": "2021-07-23T08:14:33.696575Z"
    }
   },
   "outputs": [
    {
     "data": {
      "text/plain": [
       "11097.697279656333"
      ]
     },
     "execution_count": 94,
     "metadata": {},
     "output_type": "execute_result"
    }
   ],
   "source": [
    "# mse 평가 지표를 통한 예측 검증\n",
    "\n",
    "from sklearn.metrics import mean_squared_error\n",
    "mse = mean_squared_error(rf_pred,y_test)\n",
    "mse"
   ]
  },
  {
   "cell_type": "code",
   "execution_count": 95,
   "metadata": {
    "ExecuteTime": {
     "end_time": "2021-07-23T08:15:35.057304Z",
     "start_time": "2021-07-23T08:15:23.052738Z"
    }
   },
   "outputs": [
    {
     "data": {
      "text/plain": [
       "array([2.66056000e+00, 4.17160000e-01, 1.95600000e-02, ...,\n",
       "       2.89550000e-01, 1.05542894e+03, 0.00000000e+00])"
      ]
     },
     "execution_count": 95,
     "metadata": {},
     "output_type": "execute_result"
    }
   ],
   "source": [
    "# 랜덤 포레스트 기본 모형 적합\n",
    "\n",
    "from sklearn.ensemble import RandomForestRegressor\n",
    "rf = RandomForestRegressor(random_state=42)\n",
    "rf.fit(X_train,y_train)\n",
    "rf_pred = rf.predict(X_test)\n",
    "rf_pred"
   ]
  },
  {
   "cell_type": "code",
   "execution_count": 96,
   "metadata": {
    "ExecuteTime": {
     "end_time": "2021-07-23T08:15:35.075237Z",
     "start_time": "2021-07-23T08:15:35.059197Z"
    }
   },
   "outputs": [
    {
     "data": {
      "text/plain": [
       "7582.495698260213"
      ]
     },
     "execution_count": 96,
     "metadata": {},
     "output_type": "execute_result"
    }
   ],
   "source": [
    "# mse 평가 지표를 통한 예측 검증\n",
    "\n",
    "from sklearn.metrics import mean_squared_error\n",
    "mse = mean_squared_error(rf_pred,y_test)\n",
    "mse"
   ]
  },
  {
   "cell_type": "markdown",
   "metadata": {},
   "source": [
    "- 그리드 서치를 통한 하이퍼 파라미터 설정의 단점은 분석자가 직접 파라미터 범위를 설정해주기 때문에 최적의 파라미터를 찾기 어렵다\n",
    "- 그렇게 때문에 기본 모델의 성능이 더 좋게 나온것으로 보인다"
   ]
  },
  {
   "cell_type": "code",
   "execution_count": 97,
   "metadata": {
    "ExecuteTime": {
     "end_time": "2021-07-23T08:15:41.832504Z",
     "start_time": "2021-07-23T08:15:40.757481Z"
    }
   },
   "outputs": [
    {
     "data": {
      "text/plain": [
       "7644.800856610828"
      ]
     },
     "execution_count": 97,
     "metadata": {},
     "output_type": "execute_result"
    }
   ],
   "source": [
    "# xgboost 기본 모형 적합\n",
    "# xgboost의 하이퍼 파라미터는 너무 많아서 아직 공부가 더 필요하다\n",
    "import xgboost\n",
    "xgb_reg = xgboost.XGBRegressor()\n",
    "xgb_reg.fit(X_train,y_train)\n",
    "xgb_pred = xgb_reg.predict(X_test)\n",
    "\n",
    "mse = mean_squared_error(y_test,xgb_pred)\n",
    "mse"
   ]
  },
  {
   "cell_type": "code",
   "execution_count": 98,
   "metadata": {
    "ExecuteTime": {
     "end_time": "2021-07-23T08:16:02.804994Z",
     "start_time": "2021-07-23T08:15:49.669595Z"
    }
   },
   "outputs": [],
   "source": [
    "# 보팅으로 기존의 모델을 앙상블\n",
    "\n",
    "from sklearn.ensemble import VotingRegressor\n",
    "\n",
    "vot_clf = VotingRegressor(estimators = [('rnf',rf),('xgb',xgb_reg)])\n",
    "vot_clf.fit(X_train,y_train)\n",
    "vot_pred = vot_clf.predict(X_test)"
   ]
  },
  {
   "cell_type": "code",
   "execution_count": 99,
   "metadata": {
    "ExecuteTime": {
     "end_time": "2021-07-23T08:16:02.820572Z",
     "start_time": "2021-07-23T08:16:02.806498Z"
    }
   },
   "outputs": [
    {
     "data": {
      "text/plain": [
       "7004.661071449757"
      ]
     },
     "execution_count": 99,
     "metadata": {},
     "output_type": "execute_result"
    }
   ],
   "source": [
    "mse = mean_squared_error(y_test,vot_pred)\n",
    "mse"
   ]
  },
  {
   "cell_type": "code",
   "execution_count": 100,
   "metadata": {
    "ExecuteTime": {
     "end_time": "2021-07-23T08:16:21.436786Z",
     "start_time": "2021-07-23T08:16:05.215586Z"
    }
   },
   "outputs": [
    {
     "data": {
      "text/plain": [
       "VotingRegressor(estimators=[('rnf', RandomForestRegressor(random_state=42)),\n",
       "                            ('xgb',\n",
       "                             XGBRegressor(base_score=0.5, booster='gbtree',\n",
       "                                          colsample_bylevel=1,\n",
       "                                          colsample_bynode=1,\n",
       "                                          colsample_bytree=1, gamma=0,\n",
       "                                          gpu_id=-1, importance_type='gain',\n",
       "                                          interaction_constraints='',\n",
       "                                          learning_rate=0.300000012,\n",
       "                                          max_delta_step=0, max_depth=6,\n",
       "                                          min_child_weight=1, missing=nan,\n",
       "                                          monotone_constraints='()',\n",
       "                                          n_estimators=100, n_jobs=8,\n",
       "                                          num_parallel_tree=1, random_state=0,\n",
       "                                          reg_alpha=0, reg_lambda=1,\n",
       "                                          scale_pos_weight=1, subsample=1,\n",
       "                                          tree_method='exact',\n",
       "                                          validate_parameters=1,\n",
       "                                          verbosity=None))])"
      ]
     },
     "execution_count": 100,
     "metadata": {},
     "output_type": "execute_result"
    }
   ],
   "source": [
    "# 최종 모델을 통한 예측\n",
    "\n",
    "from sklearn.ensemble import VotingRegressor\n",
    "\n",
    "vot_clf = VotingRegressor(estimators = [('rnf',rf),('xgb',xgb_reg)])\n",
    "vot_clf.fit(new_train,train_y[\"교통량\"])"
   ]
  },
  {
   "cell_type": "code",
   "execution_count": 101,
   "metadata": {
    "ExecuteTime": {
     "end_time": "2021-07-23T08:16:21.702966Z",
     "start_time": "2021-07-23T08:16:21.438487Z"
    }
   },
   "outputs": [
    {
     "data": {
      "text/html": [
       "<div>\n",
       "<style scoped>\n",
       "    .dataframe tbody tr th:only-of-type {\n",
       "        vertical-align: middle;\n",
       "    }\n",
       "\n",
       "    .dataframe tbody tr th {\n",
       "        vertical-align: top;\n",
       "    }\n",
       "\n",
       "    .dataframe thead th {\n",
       "        text-align: right;\n",
       "    }\n",
       "</style>\n",
       "<table border=\"1\" class=\"dataframe\">\n",
       "  <thead>\n",
       "    <tr style=\"text-align: right;\">\n",
       "      <th></th>\n",
       "      <th>id</th>\n",
       "      <th>교통량</th>\n",
       "    </tr>\n",
       "  </thead>\n",
       "  <tbody>\n",
       "    <tr>\n",
       "      <th>0</th>\n",
       "      <td>22448</td>\n",
       "      <td>1387.766324</td>\n",
       "    </tr>\n",
       "    <tr>\n",
       "      <th>1</th>\n",
       "      <td>22449</td>\n",
       "      <td>1088.700637</td>\n",
       "    </tr>\n",
       "    <tr>\n",
       "      <th>2</th>\n",
       "      <td>22450</td>\n",
       "      <td>272.148472</td>\n",
       "    </tr>\n",
       "  </tbody>\n",
       "</table>\n",
       "</div>"
      ],
      "text/plain": [
       "      id          교통량\n",
       "0  22448  1387.766324\n",
       "1  22449  1088.700637\n",
       "2  22450   272.148472"
      ]
     },
     "execution_count": 101,
     "metadata": {},
     "output_type": "execute_result"
    }
   ],
   "source": [
    "sub[\"교통량\"] = vot_clf.predict(new_test)\n",
    "sub.to_csv('./submission.csv')\n",
    "sub.head(3)"
   ]
  },
  {
   "cell_type": "code",
   "execution_count": 102,
   "metadata": {
    "ExecuteTime": {
     "end_time": "2021-07-23T08:16:25.370225Z",
     "start_time": "2021-07-23T08:16:25.365291Z"
    }
   },
   "outputs": [],
   "source": [
    "def FinalMseScore():\n",
    "    import pandas as pd\n",
    "    y_true = pd.read_csv(\"jejudata/Jeju_testy.csv\",encoding='euc-kr')\n",
    "    sub = pd.read_csv('./submission.csv',index_col='id')\n",
    "    pred = sub.iloc[:,-1].values\n",
    "    from sklearn.metrics import mean_squared_error\n",
    "    mse = mean_squared_error(pred,y_true['교통량'])    \n",
    "    print('submission mse score : ',mse)\n",
    "    return mse"
   ]
  },
  {
   "cell_type": "code",
   "execution_count": 103,
   "metadata": {
    "ExecuteTime": {
     "end_time": "2021-07-23T08:16:25.762136Z",
     "start_time": "2021-07-23T08:16:25.732067Z"
    }
   },
   "outputs": [
    {
     "name": "stdout",
     "output_type": "stream",
     "text": [
      "submission mse score :  6485.615640443616\n"
     ]
    }
   ],
   "source": [
    "final_mse = FinalMseScore()"
   ]
  },
  {
   "cell_type": "code",
   "execution_count": null,
   "metadata": {},
   "outputs": [],
   "source": []
  }
 ],
 "metadata": {
  "kernelspec": {
   "display_name": "Python 3",
   "language": "python",
   "name": "python3"
  },
  "language_info": {
   "codemirror_mode": {
    "name": "ipython",
    "version": 3
   },
   "file_extension": ".py",
   "mimetype": "text/x-python",
   "name": "python",
   "nbconvert_exporter": "python",
   "pygments_lexer": "ipython3",
   "version": "3.8.5"
  },
  "toc": {
   "base_numbering": 1,
   "nav_menu": {},
   "number_sections": true,
   "sideBar": true,
   "skip_h1_title": false,
   "title_cell": "Table of Contents",
   "title_sidebar": "Contents",
   "toc_cell": false,
   "toc_position": {},
   "toc_section_display": true,
   "toc_window_display": false
  }
 },
 "nbformat": 4,
 "nbformat_minor": 4
}
