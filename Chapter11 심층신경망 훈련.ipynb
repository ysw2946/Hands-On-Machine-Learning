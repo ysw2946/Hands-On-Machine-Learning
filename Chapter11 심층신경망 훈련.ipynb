{
 "cells": [
  {
   "cell_type": "code",
   "execution_count": 1,
   "metadata": {
    "ExecuteTime": {
     "end_time": "2021-07-20T08:28:08.263606Z",
     "start_time": "2021-07-20T08:27:50.178532Z"
    }
   },
   "outputs": [],
   "source": [
    "# 파이썬 ≥3.5 필수\n",
    "import sys\n",
    "assert sys.version_info >= (3, 5)\n",
    "\n",
    "# 사이킷런 ≥0.20 필수\n",
    "import sklearn\n",
    "assert sklearn.__version__ >= \"0.20\"\n",
    "\n",
    "# 텐서플로 ≥2.0 필수\n",
    "import tensorflow as tf\n",
    "from tensorflow import keras\n",
    "assert tf.__version__ >= \"2.0\"\n",
    "\n",
    "%load_ext tensorboard\n",
    "\n",
    "# 공통 모듈 임포트\n",
    "import numpy as np\n",
    "import os\n",
    "\n",
    "# 노트북 실행 결과를 동일하게 유지하기 위해\n",
    "np.random.seed(42)\n",
    "\n",
    "# 깔끔한 그래프 출력을 위해\n",
    "%matplotlib inline\n",
    "import matplotlib as mpl\n",
    "import matplotlib.pyplot as plt\n",
    "mpl.rc('axes', labelsize=14)\n",
    "mpl.rc('xtick', labelsize=12)\n",
    "mpl.rc('ytick', labelsize=12)\n",
    "\n",
    "# 그림을 저장할 위치\n",
    "PROJECT_ROOT_DIR = \".\"\n",
    "CHAPTER_ID = \"deep\"\n",
    "IMAGES_PATH = os.path.join(PROJECT_ROOT_DIR, \"images\", CHAPTER_ID)\n",
    "os.makedirs(IMAGES_PATH, exist_ok=True)\n",
    "\n",
    "def save_fig(fig_id, tight_layout=True, fig_extension=\"png\", resolution=300):\n",
    "    path = os.path.join(IMAGES_PATH, fig_id + \".\" + fig_extension)\n",
    "    print(\"그림 저장:\", fig_id)\n",
    "    if tight_layout:\n",
    "        plt.tight_layout()\n",
    "    plt.savefig(path, format=fig_extension, dpi=resolution)"
   ]
  },
  {
   "cell_type": "markdown",
   "metadata": {},
   "source": [
    "## 그래디언트 소실과 폭주 문제\n",
    "\n",
    "\n",
    "- **그래디언트 소실** : 알고리즘이 하위층으로 진행될수록 그래디언트가 점점 작아져 0으로 수렴하는 것\n",
    "- **그래디언트 폭주** : 그래디언트가 점점 커져여러 층이 비정상적으로 큰 가중치로 갱신되어 알고리즘이 발산하는 것\n",
    "- 로지스틱 시그모이드 활성화 함수와 가중치의 정규분포 초기화 방법을 사용했을때, 각 층의 출력의 분산이 입력의 분산보다 크기때문에, 가장 높은 층의 활성화 함수가 0이나 1로 수렴하는 문제가 생긴다\n",
    "- 그 대안으로 글로럿과 벤지오는 적절한 신호가 흐르기 위해서는 각 층의 출력에 대한 분산이 입력에 대한 분산과 같아야 하고, 역방향에서 층을 통과하기 전과 후의 그래디언트 분산이 동일해야 한다고 주장\n",
    "\n",
    "\n",
    "- **글로럿초기화** : 활성화함수 X , 하이퍼볼릭 탄젠트, 로지스틱, 소프트맥스 함수를 사용하고 평균이 0, 분산이 1/fan(avg)인 정규분포를 따름.\n",
    "- 또는, r = sqrt(3/fan(avg)) 일 때, -r과 +r 사이의 균등 분포를 따름\n",
    "\n",
    "- **He** : ReLU 함수와 그 변종들을 사용하며 평균이 0, 분산이 2/fan(in)인 정규분포를 따름\n",
    "- 또는, r = sqrt(3/fan(in)) 일 때, -r과 +r 사이의 균등 분포를 따름\n",
    "\n",
    "- **르쿤** : SELU 함수를 사용하고 평균이 0, 분산이 1/fan(in)인 정규분포를 따름"
   ]
  },
  {
   "cell_type": "code",
   "execution_count": 2,
   "metadata": {
    "ExecuteTime": {
     "end_time": "2021-07-17T05:28:42.398539Z",
     "start_time": "2021-07-17T05:28:42.358141Z"
    }
   },
   "outputs": [
    {
     "data": {
      "text/plain": [
       "<tensorflow.python.keras.layers.core.Dense at 0x26dd03592e0>"
      ]
     },
     "execution_count": 2,
     "metadata": {},
     "output_type": "execute_result"
    }
   ],
   "source": [
    "keras.layers.Dense(10, activation=\"relu\", kernel_initializer=\"he_normal\")"
   ]
  },
  {
   "cell_type": "markdown",
   "metadata": {},
   "source": [
    "- 케라스는 기본적으로 균등분포의 글로럿 초기화를 사용\n",
    "- 위의 설명과 같은 층을 만들 때 kernel_initializer=\"he_uniform\"이나 kernel_initializer=\"he_normal\"로 바꾸어 HE 초기화 사용가능"
   ]
  },
  {
   "cell_type": "code",
   "execution_count": 3,
   "metadata": {
    "ExecuteTime": {
     "end_time": "2021-07-17T05:28:47.792079Z",
     "start_time": "2021-07-17T05:28:47.768250Z"
    }
   },
   "outputs": [
    {
     "data": {
      "text/plain": [
       "<tensorflow.python.keras.layers.core.Dense at 0x26dd9e43a60>"
      ]
     },
     "execution_count": 3,
     "metadata": {},
     "output_type": "execute_result"
    }
   ],
   "source": [
    "init = keras.initializers.VarianceScaling(scale=2., mode='fan_avg',\n",
    "                                          distribution='uniform')\n",
    "keras.layers.Dense(10, activation=\"relu\", kernel_initializer=init)"
   ]
  },
  {
   "cell_type": "markdown",
   "metadata": {},
   "source": [
    "### 수렴하지 않는 활성화 함수\n",
    "\n",
    "- 활성화 함수를 잘못 선택하면 자칫 그래디언트 소실과 폭주 문제로 이어질 수 있다\n",
    "\n",
    "- **ReLU 함수**는 특저 양숫값에 수렴하지 않는다는 것과 계산도 빠르다는 장점이 있다\n",
    "-  하지만, **죽은 ReLU 문제**로 뉴런이 0이외의 값을 출력하지 않는 죽은 뉴런이 나타난다\n",
    "- 이러한 문제를 해결하기 위해 **LeakyReLU와 같은 여러 변종 ReLU 함수**가 나타났다\n",
    "\n",
    "- 툐르크-아르네 클레베르트 등의 2015년 논문은 **ELU**라는 새로운 활성화 함수를 제안했는데, 이 함수는 다른 ReLU변종들보다 훈련 시간이 줄고 신경망의 테스트 세트 성능도 더 높다\n",
    "\n",
    "- z < 0 일 때, 음숫값이 들어오므로 활성화 함수의 평균 출력이 0에 더 가까워지고, 그래디언트 소실 문제를 완하해주는 장점이 있다. 또한, ReLU와 다르게 z < 0 이어도 그래디언트가 0이 아니기 때문에 죽은 뉴런을 만들지 않는다.\n",
    "- 하지만, 이 함수의 단점은 지수함수를 계산해야되기 때문에 계산 속도가 느리다\n",
    "\n",
    "- **SELU**는 ELU함수의 변종으로, 완전 연결 층만 쌓아서 신경망을 만들고, 모든 은닉층이 SELU를 사용한다면 네트워크가 자기 정규화가 된다는 장점이 있다\n",
    "\n",
    "- **SELU 자기 정규화 조건**\n",
    "        1. 입력 특성이 반드시 표준화(평균이 0 , 표준편차 1)이 되어야 한다.\n",
    "        2. 모든 은닉층의 가중치는 르쿤 정규분포 초기화로 초기화되어야 한다.\n",
    "        3. 네트워크는 일렬로 쌓은 층이어야 한다.\n",
    "        \n",
    "- 활성화 함수 순서\n",
    "        SELU > ELU > LeakyReLU(그외의 변종들) > ReLU > tanh > 로지스틱\n",
    "        \n",
    "- 네트워크가 자기 정규화가 되지 못한다면 ELU를, 실행속도가 중요하다면 LeakyReLU를 고려해볼 수 있다.\n",
    "- 신경망이 과대적합 되었다면 RReLU를 사용하고, 훈련 세트가 아주 크다면 PReLU를 포함시키면 좋다\n",
    "- ReLU가 가장 널리 사용되는 활성화 함수이므로, 많은 라이브러리와 하드웨어 가속기들은 이 함수에 특화되어 있기 때문에, 속도가 중요하다면, ReLU가 가장 좋은 선택일 것이다"
   ]
  },
  {
   "cell_type": "code",
   "execution_count": 6,
   "metadata": {
    "ExecuteTime": {
     "end_time": "2021-07-20T09:13:30.332776Z",
     "start_time": "2021-07-20T09:13:29.809022Z"
    }
   },
   "outputs": [],
   "source": [
    "(X_train_full, y_train_full), (X_test, y_test) = keras.datasets.fashion_mnist.load_data()\n",
    "X_train_full = X_train_full / 255.0\n",
    "X_test = X_test / 255.0\n",
    "X_valid, X_train = X_train_full[:5000], X_train_full[5000:]\n",
    "y_valid, y_train = y_train_full[:5000], y_train_full[5000:]"
   ]
  },
  {
   "cell_type": "code",
   "execution_count": 52,
   "metadata": {
    "ExecuteTime": {
     "end_time": "2021-07-17T07:11:11.651236Z",
     "start_time": "2021-07-17T07:11:11.597084Z"
    }
   },
   "outputs": [],
   "source": [
    "# LeakyReLU\n",
    "model = keras.models.Sequential([\n",
    "    keras.layers.Flatten(input_shape=[28,28]),\n",
    "    keras.layers.Dense(300, kernel_initializer='he_normal'),\n",
    "    keras.layers.LeakyReLU(),\n",
    "    keras.layers.Dense(100, kernel_initializer='he_normal'),\n",
    "    keras.layers.LeakyReLU(),\n",
    "    keras.layers.Dense(10, activation='softmax')\n",
    "])"
   ]
  },
  {
   "cell_type": "code",
   "execution_count": 53,
   "metadata": {
    "ExecuteTime": {
     "end_time": "2021-07-17T07:11:12.515608Z",
     "start_time": "2021-07-17T07:11:12.497975Z"
    }
   },
   "outputs": [
    {
     "name": "stdout",
     "output_type": "stream",
     "text": [
      "Model: \"sequential_4\"\n",
      "_________________________________________________________________\n",
      "Layer (type)                 Output Shape              Param #   \n",
      "=================================================================\n",
      "flatten_4 (Flatten)          (None, 784)               0         \n",
      "_________________________________________________________________\n",
      "dense_110 (Dense)            (None, 300)               235500    \n",
      "_________________________________________________________________\n",
      "leaky_re_lu_2 (LeakyReLU)    (None, 300)               0         \n",
      "_________________________________________________________________\n",
      "dense_111 (Dense)            (None, 100)               30100     \n",
      "_________________________________________________________________\n",
      "leaky_re_lu_3 (LeakyReLU)    (None, 100)               0         \n",
      "_________________________________________________________________\n",
      "dense_112 (Dense)            (None, 10)                1010      \n",
      "=================================================================\n",
      "Total params: 266,610\n",
      "Trainable params: 266,610\n",
      "Non-trainable params: 0\n",
      "_________________________________________________________________\n"
     ]
    }
   ],
   "source": [
    "model.summary()"
   ]
  },
  {
   "cell_type": "code",
   "execution_count": 54,
   "metadata": {
    "ExecuteTime": {
     "end_time": "2021-07-17T07:11:13.117256Z",
     "start_time": "2021-07-17T07:11:13.084954Z"
    }
   },
   "outputs": [
    {
     "name": "stderr",
     "output_type": "stream",
     "text": [
      "C:\\Users\\ysw29\\anaconda3\\lib\\site-packages\\tensorflow\\python\\keras\\optimizer_v2\\optimizer_v2.py:374: UserWarning: The `lr` argument is deprecated, use `learning_rate` instead.\n",
      "  warnings.warn(\n"
     ]
    }
   ],
   "source": [
    "model.compile(loss='sparse_categorical_crossentropy',\n",
    "             optimizer=keras.optimizers.SGD(lr=1e-3),\n",
    "             metrics=[\"accuracy\"])"
   ]
  },
  {
   "cell_type": "code",
   "execution_count": 55,
   "metadata": {
    "ExecuteTime": {
     "end_time": "2021-07-17T07:11:40.996426Z",
     "start_time": "2021-07-17T07:11:14.366104Z"
    }
   },
   "outputs": [
    {
     "name": "stdout",
     "output_type": "stream",
     "text": [
      "Epoch 1/10\n",
      "1719/1719 [==============================] - 3s 2ms/step - loss: 1.2596 - accuracy: 0.6160 - val_loss: 0.8743 - val_accuracy: 0.7166\n",
      "Epoch 2/10\n",
      "1719/1719 [==============================] - 3s 1ms/step - loss: 0.7891 - accuracy: 0.7427 - val_loss: 0.7076 - val_accuracy: 0.7706\n",
      "Epoch 3/10\n",
      "1719/1719 [==============================] - 2s 1ms/step - loss: 0.6776 - accuracy: 0.7788 - val_loss: 0.6392 - val_accuracy: 0.7908\n",
      "Epoch 4/10\n",
      "1719/1719 [==============================] - 2s 1ms/step - loss: 0.6181 - accuracy: 0.7965 - val_loss: 0.5864 - val_accuracy: 0.8090\n",
      "Epoch 5/10\n",
      "1719/1719 [==============================] - 3s 1ms/step - loss: 0.5792 - accuracy: 0.8082 - val_loss: 0.5533 - val_accuracy: 0.8204\n",
      "Epoch 6/10\n",
      "1719/1719 [==============================] - 3s 1ms/step - loss: 0.5512 - accuracy: 0.8162 - val_loss: 0.5296 - val_accuracy: 0.8254\n",
      "Epoch 7/10\n",
      "1719/1719 [==============================] - 3s 2ms/step - loss: 0.5300 - accuracy: 0.8227 - val_loss: 0.5105 - val_accuracy: 0.8320\n",
      "Epoch 8/10\n",
      "1719/1719 [==============================] - 3s 2ms/step - loss: 0.5137 - accuracy: 0.8280 - val_loss: 0.5024 - val_accuracy: 0.8314\n",
      "Epoch 9/10\n",
      "1719/1719 [==============================] - 3s 2ms/step - loss: 0.5007 - accuracy: 0.8308 - val_loss: 0.4857 - val_accuracy: 0.8416\n",
      "Epoch 10/10\n",
      "1719/1719 [==============================] - 3s 2ms/step - loss: 0.4894 - accuracy: 0.8343 - val_loss: 0.4774 - val_accuracy: 0.8436\n"
     ]
    }
   ],
   "source": [
    "history = model.fit(X_train,y_train, epochs=10,\n",
    "                    validation_data=(X_valid,y_valid))"
   ]
  },
  {
   "cell_type": "code",
   "execution_count": 56,
   "metadata": {
    "ExecuteTime": {
     "end_time": "2021-07-17T07:11:50.964777Z",
     "start_time": "2021-07-17T07:11:50.767651Z"
    },
    "scrolled": true
   },
   "outputs": [
    {
     "data": {
      "image/png": "[encoded data removed]",
      "text/plain": [
       "<Figure size 576x360 with 1 Axes>"
      ]
     },
     "metadata": {
      "needs_background": "light"
     },
     "output_type": "display_data"
    }
   ],
   "source": [
    "import pandas as pd\n",
    "\n",
    "pd.DataFrame(history.history).plot(figsize=(8,5))\n",
    "plt.grid(True)\n",
    "plt.gca().set_ylim(0,1)\n",
    "plt.show()"
   ]
  },
  {
   "cell_type": "code",
   "execution_count": 57,
   "metadata": {
    "ExecuteTime": {
     "end_time": "2021-07-17T07:11:55.190234Z",
     "start_time": "2021-07-17T07:11:54.769387Z"
    }
   },
   "outputs": [
    {
     "name": "stdout",
     "output_type": "stream",
     "text": [
      "313/313 [==============================] - 0s 1ms/step - loss: 0.5106 - accuracy: 0.8244\n"
     ]
    },
    {
     "data": {
      "text/plain": [
       "[0.510631263256073, 0.824400007724762]"
      ]
     },
     "execution_count": 57,
     "metadata": {},
     "output_type": "execute_result"
    }
   ],
   "source": [
    "model.evaluate(X_test, y_test)"
   ]
  },
  {
   "cell_type": "code",
   "execution_count": 58,
   "metadata": {
    "ExecuteTime": {
     "end_time": "2021-07-17T07:11:59.250309Z",
     "start_time": "2021-07-17T07:11:59.165385Z"
    }
   },
   "outputs": [],
   "source": [
    "# PReLU\n",
    "tf.random.set_seed(42)\n",
    "np.random.seed(42)\n",
    "\n",
    "model = keras.models.Sequential([\n",
    "    keras.layers.Flatten(input_shape=[28,28]),\n",
    "    keras.layers.Dense(300, kernel_initializer='he_normal'),\n",
    "    keras.layers.PReLU(),\n",
    "    keras.layers.Dense(100, kernel_initializer='he_normal'),\n",
    "    keras.layers.PReLU(),\n",
    "    keras.layers.Dense(10, activation='softmax')\n",
    "])"
   ]
  },
  {
   "cell_type": "code",
   "execution_count": 59,
   "metadata": {
    "ExecuteTime": {
     "end_time": "2021-07-17T07:11:59.658555Z",
     "start_time": "2021-07-17T07:11:59.645554Z"
    }
   },
   "outputs": [
    {
     "name": "stderr",
     "output_type": "stream",
     "text": [
      "C:\\Users\\ysw29\\anaconda3\\lib\\site-packages\\tensorflow\\python\\keras\\optimizer_v2\\optimizer_v2.py:374: UserWarning: The `lr` argument is deprecated, use `learning_rate` instead.\n",
      "  warnings.warn(\n"
     ]
    }
   ],
   "source": [
    "model.compile(loss='sparse_categorical_crossentropy',\n",
    "             optimizer=keras.optimizers.SGD(lr=1e-3),\n",
    "             metrics=[\"accuracy\"])"
   ]
  },
  {
   "cell_type": "code",
   "execution_count": 60,
   "metadata": {
    "ExecuteTime": {
     "end_time": "2021-07-17T07:12:34.506162Z",
     "start_time": "2021-07-17T07:12:00.236463Z"
    }
   },
   "outputs": [
    {
     "name": "stdout",
     "output_type": "stream",
     "text": [
      "Epoch 1/10\n",
      "1719/1719 [==============================] - 3s 2ms/step - loss: 1.3461 - accuracy: 0.6209 - val_loss: 0.9255 - val_accuracy: 0.7186\n",
      "Epoch 2/10\n",
      "1719/1719 [==============================] - 3s 2ms/step - loss: 0.8197 - accuracy: 0.7356 - val_loss: 0.7305 - val_accuracy: 0.7628\n",
      "Epoch 3/10\n",
      "1719/1719 [==============================] - 3s 2ms/step - loss: 0.6966 - accuracy: 0.7693 - val_loss: 0.6565 - val_accuracy: 0.7878\n",
      "Epoch 4/10\n",
      "1719/1719 [==============================] - 3s 2ms/step - loss: 0.6331 - accuracy: 0.7909 - val_loss: 0.6003 - val_accuracy: 0.8046\n",
      "Epoch 5/10\n",
      "1719/1719 [==============================] - 3s 2ms/step - loss: 0.5917 - accuracy: 0.8057 - val_loss: 0.5656 - val_accuracy: 0.8182\n",
      "Epoch 6/10\n",
      "1719/1719 [==============================] - 3s 2ms/step - loss: 0.5618 - accuracy: 0.8135 - val_loss: 0.5406 - val_accuracy: 0.8240\n",
      "Epoch 7/10\n",
      "1719/1719 [==============================] - 3s 2ms/step - loss: 0.5390 - accuracy: 0.8205 - val_loss: 0.5196 - val_accuracy: 0.8314\n",
      "Epoch 8/10\n",
      "1719/1719 [==============================] - 4s 2ms/step - loss: 0.5213 - accuracy: 0.8257 - val_loss: 0.5113 - val_accuracy: 0.8318\n",
      "Epoch 9/10\n",
      "1719/1719 [==============================] - 5s 3ms/step - loss: 0.5070 - accuracy: 0.8288 - val_loss: 0.4916 - val_accuracy: 0.8378\n",
      "Epoch 10/10\n",
      "1719/1719 [==============================] - 3s 2ms/step - loss: 0.4945 - accuracy: 0.8315 - val_loss: 0.4826 - val_accuracy: 0.8394\n"
     ]
    }
   ],
   "source": [
    "history = model.fit(X_train,y_train,epochs=10,\n",
    "                   validation_data=(X_valid,y_valid))"
   ]
  },
  {
   "cell_type": "code",
   "execution_count": 61,
   "metadata": {
    "ExecuteTime": {
     "end_time": "2021-07-17T07:12:43.480284Z",
     "start_time": "2021-07-17T07:12:43.295159Z"
    }
   },
   "outputs": [
    {
     "data": {
      "image/png": "[encoded data removed]",
      "text/plain": [
       "<Figure size 576x360 with 1 Axes>"
      ]
     },
     "metadata": {
      "needs_background": "light"
     },
     "output_type": "display_data"
    }
   ],
   "source": [
    "pd.DataFrame(history.history).plot(figsize=(8,5))\n",
    "plt.grid(True)"
   ]
  },
  {
   "cell_type": "code",
   "execution_count": 62,
   "metadata": {
    "ExecuteTime": {
     "end_time": "2021-07-17T07:12:46.142138Z",
     "start_time": "2021-07-17T07:12:45.744659Z"
    }
   },
   "outputs": [
    {
     "name": "stdout",
     "output_type": "stream",
     "text": [
      "313/313 [==============================] - 0s 1ms/step - loss: 0.5144 - accuracy: 0.8240\n"
     ]
    },
    {
     "data": {
      "text/plain": [
       "[0.514401376247406, 0.8240000009536743]"
      ]
     },
     "execution_count": 62,
     "metadata": {},
     "output_type": "execute_result"
    }
   ],
   "source": [
    "model.evaluate(X_test, y_test)"
   ]
  },
  {
   "cell_type": "code",
   "execution_count": 70,
   "metadata": {
    "ExecuteTime": {
     "end_time": "2021-07-17T07:16:26.104259Z",
     "start_time": "2021-07-17T07:16:25.273892Z"
    }
   },
   "outputs": [],
   "source": [
    "# SELU\n",
    "model = keras.models.Sequential([\n",
    "    keras.layers.Flatten(input_shape=[28,28]),\n",
    "    keras.layers.Dense(300, kernel_initializer='lecun_normal',\n",
    "                      activation='selu')\n",
    "])\n",
    "for layer in range(99):\n",
    "    model.add(keras.layers.Dense(100, activation='selu',\n",
    "                                kernel_initializer='lecun_normal'))\n",
    "model.add(keras.layers.Dense(10, activation='softmax'))"
   ]
  },
  {
   "cell_type": "code",
   "execution_count": 71,
   "metadata": {
    "ExecuteTime": {
     "end_time": "2021-07-17T07:16:26.135688Z",
     "start_time": "2021-07-17T07:16:26.110244Z"
    }
   },
   "outputs": [
    {
     "name": "stdout",
     "output_type": "stream",
     "text": [
      "Model: \"sequential_7\"\n",
      "_________________________________________________________________\n",
      "Layer (type)                 Output Shape              Param #   \n",
      "=================================================================\n",
      "flatten_7 (Flatten)          (None, 784)               0         \n",
      "_________________________________________________________________\n",
      "dense_217 (Dense)            (None, 300)               235500    \n",
      "_________________________________________________________________\n",
      "dense_218 (Dense)            (None, 100)               30100     \n",
      "_________________________________________________________________\n",
      "dense_219 (Dense)            (None, 100)               10100     \n",
      "_________________________________________________________________\n",
      "dense_220 (Dense)            (None, 100)               10100     \n",
      "_________________________________________________________________\n",
      "dense_221 (Dense)            (None, 100)               10100     \n",
      "_________________________________________________________________\n",
      "dense_222 (Dense)            (None, 100)               10100     \n",
      "_________________________________________________________________\n",
      "dense_223 (Dense)            (None, 100)               10100     \n",
      "_________________________________________________________________\n",
      "dense_224 (Dense)            (None, 100)               10100     \n",
      "_________________________________________________________________\n",
      "dense_225 (Dense)            (None, 100)               10100     \n",
      "_________________________________________________________________\n",
      "dense_226 (Dense)            (None, 100)               10100     \n",
      "_________________________________________________________________\n",
      "dense_227 (Dense)            (None, 100)               10100     \n",
      "_________________________________________________________________\n",
      "dense_228 (Dense)            (None, 100)               10100     \n",
      "_________________________________________________________________\n",
      "dense_229 (Dense)            (None, 100)               10100     \n",
      "_________________________________________________________________\n",
      "dense_230 (Dense)            (None, 100)               10100     \n",
      "_________________________________________________________________\n",
      "dense_231 (Dense)            (None, 100)               10100     \n",
      "_________________________________________________________________\n",
      "dense_232 (Dense)            (None, 100)               10100     \n",
      "_________________________________________________________________\n",
      "dense_233 (Dense)            (None, 100)               10100     \n",
      "_________________________________________________________________\n",
      "dense_234 (Dense)            (None, 100)               10100     \n",
      "_________________________________________________________________\n",
      "dense_235 (Dense)            (None, 100)               10100     \n",
      "_________________________________________________________________\n",
      "dense_236 (Dense)            (None, 100)               10100     \n",
      "_________________________________________________________________\n",
      "dense_237 (Dense)            (None, 100)               10100     \n",
      "_________________________________________________________________\n",
      "dense_238 (Dense)            (None, 100)               10100     \n",
      "_________________________________________________________________\n",
      "dense_239 (Dense)            (None, 100)               10100     \n",
      "_________________________________________________________________\n",
      "dense_240 (Dense)            (None, 100)               10100     \n",
      "_________________________________________________________________\n",
      "dense_241 (Dense)            (None, 100)               10100     \n",
      "_________________________________________________________________\n",
      "dense_242 (Dense)            (None, 100)               10100     \n",
      "_________________________________________________________________\n",
      "dense_243 (Dense)            (None, 100)               10100     \n",
      "_________________________________________________________________\n",
      "dense_244 (Dense)            (None, 100)               10100     \n",
      "_________________________________________________________________\n",
      "dense_245 (Dense)            (None, 100)               10100     \n",
      "_________________________________________________________________\n",
      "dense_246 (Dense)            (None, 100)               10100     \n",
      "_________________________________________________________________\n",
      "dense_247 (Dense)            (None, 100)               10100     \n",
      "_________________________________________________________________\n",
      "dense_248 (Dense)            (None, 100)               10100     \n",
      "_________________________________________________________________\n",
      "dense_249 (Dense)            (None, 100)               10100     \n",
      "_________________________________________________________________\n",
      "dense_250 (Dense)            (None, 100)               10100     \n",
      "_________________________________________________________________\n",
      "dense_251 (Dense)            (None, 100)               10100     \n",
      "_________________________________________________________________\n",
      "dense_252 (Dense)            (None, 100)               10100     \n",
      "_________________________________________________________________\n",
      "dense_253 (Dense)            (None, 100)               10100     \n",
      "_________________________________________________________________\n",
      "dense_254 (Dense)            (None, 100)               10100     \n",
      "_________________________________________________________________\n",
      "dense_255 (Dense)            (None, 100)               10100     \n",
      "_________________________________________________________________\n",
      "dense_256 (Dense)            (None, 100)               10100     \n",
      "_________________________________________________________________\n",
      "dense_257 (Dense)            (None, 100)               10100     \n",
      "_________________________________________________________________\n",
      "dense_258 (Dense)            (None, 100)               10100     \n",
      "_________________________________________________________________\n",
      "dense_259 (Dense)            (None, 100)               10100     \n",
      "_________________________________________________________________\n",
      "dense_260 (Dense)            (None, 100)               10100     \n",
      "_________________________________________________________________\n",
      "dense_261 (Dense)            (None, 100)               10100     \n",
      "_________________________________________________________________\n",
      "dense_262 (Dense)            (None, 100)               10100     \n",
      "_________________________________________________________________\n",
      "dense_263 (Dense)            (None, 100)               10100     \n",
      "_________________________________________________________________\n",
      "dense_264 (Dense)            (None, 100)               10100     \n",
      "_________________________________________________________________\n",
      "dense_265 (Dense)            (None, 100)               10100     \n",
      "_________________________________________________________________\n",
      "dense_266 (Dense)            (None, 100)               10100     \n",
      "_________________________________________________________________\n",
      "dense_267 (Dense)            (None, 100)               10100     \n",
      "_________________________________________________________________\n",
      "dense_268 (Dense)            (None, 100)               10100     \n",
      "_________________________________________________________________\n",
      "dense_269 (Dense)            (None, 100)               10100     \n",
      "_________________________________________________________________\n",
      "dense_270 (Dense)            (None, 100)               10100     \n",
      "_________________________________________________________________\n",
      "dense_271 (Dense)            (None, 100)               10100     \n",
      "_________________________________________________________________\n",
      "dense_272 (Dense)            (None, 100)               10100     \n",
      "_________________________________________________________________\n",
      "dense_273 (Dense)            (None, 100)               10100     \n",
      "_________________________________________________________________\n",
      "dense_274 (Dense)            (None, 100)               10100     \n",
      "_________________________________________________________________\n",
      "dense_275 (Dense)            (None, 100)               10100     \n",
      "_________________________________________________________________\n",
      "dense_276 (Dense)            (None, 100)               10100     \n",
      "_________________________________________________________________\n",
      "dense_277 (Dense)            (None, 100)               10100     \n",
      "_________________________________________________________________\n",
      "dense_278 (Dense)            (None, 100)               10100     \n",
      "_________________________________________________________________\n",
      "dense_279 (Dense)            (None, 100)               10100     \n",
      "_________________________________________________________________\n",
      "dense_280 (Dense)            (None, 100)               10100     \n",
      "_________________________________________________________________\n",
      "dense_281 (Dense)            (None, 100)               10100     \n",
      "_________________________________________________________________\n",
      "dense_282 (Dense)            (None, 100)               10100     \n",
      "_________________________________________________________________\n",
      "dense_283 (Dense)            (None, 100)               10100     \n",
      "_________________________________________________________________\n",
      "dense_284 (Dense)            (None, 100)               10100     \n",
      "_________________________________________________________________\n",
      "dense_285 (Dense)            (None, 100)               10100     \n",
      "_________________________________________________________________\n",
      "dense_286 (Dense)            (None, 100)               10100     \n",
      "_________________________________________________________________\n",
      "dense_287 (Dense)            (None, 100)               10100     \n",
      "_________________________________________________________________\n",
      "dense_288 (Dense)            (None, 100)               10100     \n",
      "_________________________________________________________________\n",
      "dense_289 (Dense)            (None, 100)               10100     \n",
      "_________________________________________________________________\n",
      "dense_290 (Dense)            (None, 100)               10100     \n",
      "_________________________________________________________________\n",
      "dense_291 (Dense)            (None, 100)               10100     \n",
      "_________________________________________________________________\n",
      "dense_292 (Dense)            (None, 100)               10100     \n",
      "_________________________________________________________________\n",
      "dense_293 (Dense)            (None, 100)               10100     \n",
      "_________________________________________________________________\n",
      "dense_294 (Dense)            (None, 100)               10100     \n",
      "_________________________________________________________________\n",
      "dense_295 (Dense)            (None, 100)               10100     \n",
      "_________________________________________________________________\n",
      "dense_296 (Dense)            (None, 100)               10100     \n",
      "_________________________________________________________________\n",
      "dense_297 (Dense)            (None, 100)               10100     \n",
      "_________________________________________________________________\n",
      "dense_298 (Dense)            (None, 100)               10100     \n",
      "_________________________________________________________________\n",
      "dense_299 (Dense)            (None, 100)               10100     \n",
      "_________________________________________________________________\n",
      "dense_300 (Dense)            (None, 100)               10100     \n",
      "_________________________________________________________________\n",
      "dense_301 (Dense)            (None, 100)               10100     \n",
      "_________________________________________________________________\n",
      "dense_302 (Dense)            (None, 100)               10100     \n",
      "_________________________________________________________________\n",
      "dense_303 (Dense)            (None, 100)               10100     \n",
      "_________________________________________________________________\n",
      "dense_304 (Dense)            (None, 100)               10100     \n",
      "_________________________________________________________________\n",
      "dense_305 (Dense)            (None, 100)               10100     \n",
      "_________________________________________________________________\n",
      "dense_306 (Dense)            (None, 100)               10100     \n",
      "_________________________________________________________________\n",
      "dense_307 (Dense)            (None, 100)               10100     \n",
      "_________________________________________________________________\n",
      "dense_308 (Dense)            (None, 100)               10100     \n",
      "_________________________________________________________________\n",
      "dense_309 (Dense)            (None, 100)               10100     \n",
      "_________________________________________________________________\n",
      "dense_310 (Dense)            (None, 100)               10100     \n",
      "_________________________________________________________________\n",
      "dense_311 (Dense)            (None, 100)               10100     \n",
      "_________________________________________________________________\n",
      "dense_312 (Dense)            (None, 100)               10100     \n",
      "_________________________________________________________________\n",
      "dense_313 (Dense)            (None, 100)               10100     \n",
      "_________________________________________________________________\n",
      "dense_314 (Dense)            (None, 100)               10100     \n",
      "_________________________________________________________________\n",
      "dense_315 (Dense)            (None, 100)               10100     \n",
      "_________________________________________________________________\n",
      "dense_316 (Dense)            (None, 100)               10100     \n",
      "_________________________________________________________________\n",
      "dense_317 (Dense)            (None, 10)                1010      \n",
      "=================================================================\n",
      "Total params: 1,256,410\n",
      "Trainable params: 1,256,410\n",
      "Non-trainable params: 0\n",
      "_________________________________________________________________\n"
     ]
    }
   ],
   "source": [
    "model.summary()"
   ]
  },
  {
   "cell_type": "code",
   "execution_count": 72,
   "metadata": {
    "ExecuteTime": {
     "end_time": "2021-07-17T07:16:26.744825Z",
     "start_time": "2021-07-17T07:16:26.719793Z"
    }
   },
   "outputs": [],
   "source": [
    "model.compile(loss='sparse_categorical_crossentropy',\n",
    "             optimizer=keras.optimizers.SGD(lr=1e-3),\n",
    "             metrics=[\"accuracy\"])"
   ]
  },
  {
   "cell_type": "code",
   "execution_count": 8,
   "metadata": {
    "ExecuteTime": {
     "end_time": "2021-07-20T09:13:51.946163Z",
     "start_time": "2021-07-20T09:13:51.282280Z"
    }
   },
   "outputs": [],
   "source": [
    "pixel_means = X_train.mean(axis=0, keepdims=True)\n",
    "pixel_stds = X_train.std(axis=0, keepdims=True)\n",
    "X_train_scaled = (X_train- pixel_means)/pixel_stds\n",
    "X_valid_scaled = (X_valid- pixel_means)/pixel_stds\n",
    "X_test_scaled = (X_test- pixel_means)/pixel_stds"
   ]
  },
  {
   "cell_type": "code",
   "execution_count": null,
   "metadata": {},
   "outputs": [],
   "source": [
    "history = model.fit(X_train_scaled, y_train, epochs=5,\n",
    "                   validation_data=(X_valid_scaled,y_valid))"
   ]
  },
  {
   "cell_type": "code",
   "execution_count": 75,
   "metadata": {
    "ExecuteTime": {
     "end_time": "2021-07-17T07:19:09.445349Z",
     "start_time": "2021-07-17T07:19:09.214300Z"
    }
   },
   "outputs": [
    {
     "data": {
      "text/plain": [
       "(0.0, 1.0)"
      ]
     },
     "execution_count": 75,
     "metadata": {},
     "output_type": "execute_result"
    },
    {
     "data": {
      "image/png": "[encoded data removed]",
      "text/plain": [
       "<Figure size 576x360 with 1 Axes>"
      ]
     },
     "metadata": {
      "needs_background": "light"
     },
     "output_type": "display_data"
    }
   ],
   "source": [
    "pd.DataFrame(history.history).plot(figsize=(8,5))\n",
    "plt.grid()\n",
    "plt.gca().set_ylim(0,1)"
   ]
  },
  {
   "cell_type": "code",
   "execution_count": 81,
   "metadata": {
    "ExecuteTime": {
     "end_time": "2021-07-17T07:22:38.675708Z",
     "start_time": "2021-07-17T07:22:36.567061Z"
    }
   },
   "outputs": [
    {
     "name": "stdout",
     "output_type": "stream",
     "text": [
      "313/313 [==============================] - 2s 4ms/step - loss: 2.3109 - accuracy: 0.0828\n"
     ]
    },
    {
     "data": {
      "text/plain": [
       "[2.3108978271484375, 0.0828000009059906]"
      ]
     },
     "execution_count": 81,
     "metadata": {},
     "output_type": "execute_result"
    }
   ],
   "source": [
    "model.evaluate(X_test_scaled, y_test)"
   ]
  },
  {
   "cell_type": "code",
   "execution_count": 79,
   "metadata": {
    "ExecuteTime": {
     "end_time": "2021-07-17T07:21:47.989756Z",
     "start_time": "2021-07-17T07:21:46.964481Z"
    }
   },
   "outputs": [],
   "source": [
    "# ReLU\n",
    "model = keras.models.Sequential([\n",
    "    keras.layers.Flatten(input_shape=[28,28]),\n",
    "    keras.layers.Dense(300, kernel_initializer='he_normal',\n",
    "                      activation='relu')\n",
    "])\n",
    "for layer in range(99):\n",
    "    model.add(keras.layers.Dense(100, activation='relu',\n",
    "                                kernel_initializer='he_normal'))\n",
    "model.add(keras.layers.Dense(10, activation='softmax'))"
   ]
  },
  {
   "cell_type": "code",
   "execution_count": 80,
   "metadata": {
    "ExecuteTime": {
     "end_time": "2021-07-17T07:21:48.021022Z",
     "start_time": "2021-07-17T07:21:47.991762Z"
    }
   },
   "outputs": [],
   "source": [
    "model.compile(loss='sparse_categorical_crossentropy',\n",
    "             optimizer=keras.optimizers.SGD(lr=1e-3),\n",
    "             metrics=[\"accuracy\"])"
   ]
  },
  {
   "cell_type": "code",
   "execution_count": 82,
   "metadata": {
    "ExecuteTime": {
     "end_time": "2021-07-17T07:24:34.154281Z",
     "start_time": "2021-07-17T07:23:00.273565Z"
    }
   },
   "outputs": [
    {
     "name": "stdout",
     "output_type": "stream",
     "text": [
      "Epoch 1/5\n",
      "1719/1719 [==============================] - 18s 9ms/step - loss: 1.8718 - accuracy: 0.2487 - val_loss: 1.2966 - val_accuracy: 0.4278\n",
      "Epoch 2/5\n",
      "1719/1719 [==============================] - 18s 10ms/step - loss: 1.2124 - accuracy: 0.4794 - val_loss: 0.9087 - val_accuracy: 0.5894\n",
      "Epoch 3/5\n",
      "1719/1719 [==============================] - 19s 11ms/step - loss: 0.9841 - accuracy: 0.5743 - val_loss: 0.8410 - val_accuracy: 0.6514\n",
      "Epoch 4/5\n",
      "1719/1719 [==============================] - 20s 11ms/step - loss: 0.9455 - accuracy: 0.6109 - val_loss: 1.1183 - val_accuracy: 0.5524\n",
      "Epoch 5/5\n",
      "1719/1719 [==============================] - 19s 11ms/step - loss: 1.0646 - accuracy: 0.5740 - val_loss: 0.9948 - val_accuracy: 0.6304\n"
     ]
    }
   ],
   "source": [
    "history = model.fit(X_train,y_train,epochs=5,\n",
    "                   validation_data=(X_valid,y_valid))"
   ]
  },
  {
   "cell_type": "code",
   "execution_count": 83,
   "metadata": {
    "ExecuteTime": {
     "end_time": "2021-07-17T07:24:59.440161Z",
     "start_time": "2021-07-17T07:24:59.220391Z"
    }
   },
   "outputs": [
    {
     "data": {
      "image/png": "[encoded data removed]",
      "text/plain": [
       "<Figure size 576x360 with 1 Axes>"
      ]
     },
     "metadata": {
      "needs_background": "light"
     },
     "output_type": "display_data"
    }
   ],
   "source": [
    "pd.DataFrame(history.history).plot(figsize=(8,5))\n",
    "plt.grid(True)\n",
    "plt.gca().set_ylim(0,1)\n",
    "plt.show()"
   ]
  },
  {
   "cell_type": "code",
   "execution_count": 85,
   "metadata": {
    "ExecuteTime": {
     "end_time": "2021-07-17T07:25:30.395969Z",
     "start_time": "2021-07-17T07:25:28.864172Z"
    }
   },
   "outputs": [
    {
     "name": "stdout",
     "output_type": "stream",
     "text": [
      "313/313 [==============================] - 1s 5ms/step - loss: 1.0291 - accuracy: 0.6145\n"
     ]
    },
    {
     "data": {
      "text/plain": [
       "[1.0291423797607422, 0.6144999861717224]"
      ]
     },
     "execution_count": 85,
     "metadata": {},
     "output_type": "execute_result"
    }
   ],
   "source": [
    "model.evaluate(X_test,y_test)"
   ]
  },
  {
   "cell_type": "markdown",
   "metadata": {},
   "source": [
    "### 배치 정규화\n",
    "\n",
    "- ELU와 함께 He 초기화를 사용하면 훈련 초기단계에서 그레디언트 소실&폭주 문제를 크게 감소시킬 수 있지만, 훈련하는 동안 다시 발생하지 않으리라는 보장은 없다.\n",
    "- 그래디언트 소실&폭주 문제 해결에 대한 또다른 방법으로 **배치 정규화**가 있다\n",
    "- 배치 정규화는 각 층에서 활성화 함수를 통과하기 전이나 후에 모델에 연산을 하나 추가하고, 입력을 원점에 맞춰 정규화 한 다음, 각 층에서 두 개의 새로운 파라미터로 결괏값의 스케일을 조정하고 이동하는 것\n",
    "- 신경망의 첫 번째 층으로 배치 정규화를 추가하면 훈련세트를 표준화할 필요가 없다\n",
    "- 또한, 배치 정규화는 규제와 같은 역할을 하여 다른 규제 기법의 필요성을 줄여준다\n",
    "- 하지만, 모델의 복잡도를 키우고 실행 시간도 오래 걸리는 단점이 있다."
   ]
  },
  {
   "cell_type": "code",
   "execution_count": 90,
   "metadata": {
    "ExecuteTime": {
     "end_time": "2021-07-17T07:37:05.594335Z",
     "start_time": "2021-07-17T07:37:05.512929Z"
    }
   },
   "outputs": [],
   "source": [
    "model = keras.models.Sequential([\n",
    "    keras.layers.Flatten(input_shape=[28, 28]),\n",
    "    keras.layers.BatchNormalization(),\n",
    "    keras.layers.Dense(300, activation=\"relu\"),\n",
    "    keras.layers.BatchNormalization(),\n",
    "    keras.layers.Dense(100, activation=\"relu\"),\n",
    "    keras.layers.BatchNormalization(),\n",
    "    keras.layers.Dense(10, activation=\"softmax\")\n",
    "])"
   ]
  },
  {
   "cell_type": "code",
   "execution_count": 91,
   "metadata": {
    "ExecuteTime": {
     "end_time": "2021-07-17T07:37:05.936904Z",
     "start_time": "2021-07-17T07:37:05.909607Z"
    }
   },
   "outputs": [
    {
     "name": "stdout",
     "output_type": "stream",
     "text": [
      "Model: \"sequential_11\"\n",
      "_________________________________________________________________\n",
      "Layer (type)                 Output Shape              Param #   \n",
      "=================================================================\n",
      "flatten_11 (Flatten)         (None, 784)               0         \n",
      "_________________________________________________________________\n",
      "batch_normalization_3 (Batch (None, 784)               3136      \n",
      "_________________________________________________________________\n",
      "dense_523 (Dense)            (None, 300)               235500    \n",
      "_________________________________________________________________\n",
      "batch_normalization_4 (Batch (None, 300)               1200      \n",
      "_________________________________________________________________\n",
      "dense_524 (Dense)            (None, 100)               30100     \n",
      "_________________________________________________________________\n",
      "batch_normalization_5 (Batch (None, 100)               400       \n",
      "_________________________________________________________________\n",
      "dense_525 (Dense)            (None, 10)                1010      \n",
      "=================================================================\n",
      "Total params: 271,346\n",
      "Trainable params: 268,978\n",
      "Non-trainable params: 2,368\n",
      "_________________________________________________________________\n"
     ]
    }
   ],
   "source": [
    "model.summary()"
   ]
  },
  {
   "cell_type": "code",
   "execution_count": 100,
   "metadata": {
    "ExecuteTime": {
     "end_time": "2021-07-17T07:43:16.530358Z",
     "start_time": "2021-07-17T07:43:16.504383Z"
    }
   },
   "outputs": [
    {
     "data": {
      "text/plain": [
       "[('batch_normalization_3/gamma:0', True),\n",
       " ('batch_normalization_3/beta:0', True),\n",
       " ('batch_normalization_3/moving_mean:0', False),\n",
       " ('batch_normalization_3/moving_variance:0', False)]"
      ]
     },
     "execution_count": 100,
     "metadata": {},
     "output_type": "execute_result"
    }
   ],
   "source": [
    "[(var.name, var.trainable) for var in model.layers[1].variables]"
   ]
  },
  {
   "cell_type": "code",
   "execution_count": 97,
   "metadata": {
    "ExecuteTime": {
     "end_time": "2021-07-17T07:42:23.233156Z",
     "start_time": "2021-07-17T07:42:23.169957Z"
    }
   },
   "outputs": [
    {
     "data": {
      "text/plain": [
       "[<tf.Variable 'batch_normalization_3/gamma:0' shape=(784,) dtype=float32, numpy=\n",
       " array([0.9999394 , 1.0000442 , 0.9999687 , 0.9999901 , 0.9999699 ,\n",
       "        1.0006552 , 1.004135  , 1.004207  , 0.9990054 , 0.9923276 ,\n",
       "        1.0034428 , 1.003205  , 1.0007589 , 1.0076035 , 1.0050472 ,\n",
       "        1.0048357 , 1.00062   , 1.0098652 , 1.0036659 , 1.0044882 ,\n",
       "        1.0011902 , 1.0044714 , 0.999511  , 0.997529  , 0.99943185,\n",
       "        0.99988735, 0.99967057, 0.9999651 , 0.99987054, 0.9999472 ,\n",
       "        0.9991395 , 1.0022042 , 1.0016488 , 0.9967198 , 0.9985993 ,\n",
       "        1.0019966 , 1.0014647 , 1.0129255 , 1.0101151 , 1.0041683 ,\n",
       "        0.99992317, 1.0052878 , 1.0099573 , 0.99312353, 1.0029193 ,\n",
       "        1.0094432 , 1.0163481 , 1.003702  , 1.0001758 , 0.9964953 ,\n",
       "        0.9994106 , 0.99695504, 1.0007097 , 0.99773204, 1.000464  ,\n",
       "        1.0000317 , 0.99990016, 0.9998821 , 0.99984276, 0.99914235,\n",
       "        1.0009881 , 1.0009513 , 1.0053496 , 1.0049543 , 0.9995365 ,\n",
       "        0.99483436, 0.99777514, 0.997787  , 0.99815196, 1.006231  ,\n",
       "        0.9969148 , 0.99761003, 1.0019159 , 0.9992325 , 1.0000247 ,\n",
       "        1.0024154 , 1.0002309 , 1.0000596 , 0.9984281 , 0.99559313,\n",
       "        0.99724215, 0.99802727, 0.9981538 , 0.9990833 , 1.0000767 ,\n",
       "        0.9999064 , 0.9975236 , 0.9988264 , 0.99968565, 0.9963771 ,\n",
       "        1.0042355 , 1.0035294 , 1.0042781 , 0.9989195 , 0.99793565,\n",
       "        1.0011703 , 0.9984265 , 0.99506474, 1.0086141 , 0.999701  ,\n",
       "        0.9956289 , 0.9975668 , 0.99883693, 1.0052408 , 1.0029622 ,\n",
       "        1.0042546 , 1.002799  , 0.9988903 , 0.9969739 , 0.99986005,\n",
       "        0.99825966, 0.9992571 , 1.0004339 , 0.9999468 , 0.998805  ,\n",
       "        0.9995999 , 1.0002558 , 0.9987477 , 1.0038099 , 1.0022097 ,\n",
       "        1.0008893 , 0.997698  , 1.0008076 , 0.999197  , 0.9994512 ,\n",
       "        0.99760854, 1.0042841 , 1.001932  , 0.99953234, 1.0024989 ,\n",
       "        0.99984366, 1.0018873 , 0.99956316, 1.0036132 , 1.0078225 ,\n",
       "        1.0019932 , 0.99820894, 0.99942535, 0.99742997, 1.0001893 ,\n",
       "        0.9989814 , 1.0006772 , 0.9998272 , 0.99790686, 0.99966574,\n",
       "        1.0037824 , 0.99487954, 1.0043951 , 0.9942391 , 0.9996827 ,\n",
       "        1.0001595 , 0.99769104, 1.0040671 , 1.0016655 , 1.0004199 ,\n",
       "        0.9990779 , 0.9992114 , 1.0041136 , 0.99582237, 1.0005529 ,\n",
       "        0.9957214 , 0.9997584 , 1.003158  , 1.0065185 , 1.0007102 ,\n",
       "        0.999852  , 0.9947387 , 0.9989914 , 1.0008504 , 0.9999671 ,\n",
       "        1.0002422 , 0.99847573, 0.99694055, 1.002344  , 1.0054717 ,\n",
       "        1.0022105 , 1.0057594 , 0.9992287 , 1.0025723 , 1.0009257 ,\n",
       "        1.0000471 , 0.9928328 , 0.99703366, 1.0040857 , 0.993117  ,\n",
       "        1.0001389 , 0.99539083, 1.0001899 , 0.9970524 , 0.9962595 ,\n",
       "        1.0043632 , 1.0015805 , 1.0049492 , 1.0022804 , 0.9988694 ,\n",
       "        0.9989857 , 0.99948746, 1.000014  , 1.0002476 , 1.0003234 ,\n",
       "        1.0002635 , 1.0018158 , 0.999266  , 1.0007589 , 0.9991314 ,\n",
       "        0.9963471 , 0.99693125, 1.0037855 , 1.0007089 , 1.0030382 ,\n",
       "        0.9971307 , 0.9977135 , 0.99765915, 0.9990439 , 1.0012065 ,\n",
       "        1.0034134 , 0.9973377 , 1.0042995 , 0.99801487, 0.99986386,\n",
       "        1.0041665 , 1.0003169 , 1.0010713 , 0.9987661 , 1.000391  ,\n",
       "        0.99908274, 0.999599  , 0.9990643 , 1.0007807 , 0.99740994,\n",
       "        1.0033882 , 1.0042033 , 1.0047292 , 1.003203  , 0.99451756,\n",
       "        1.0029261 , 1.0006231 , 0.9979526 , 1.0046794 , 0.9983953 ,\n",
       "        0.9997801 , 1.000679  , 0.99525386, 0.99753916, 1.0008175 ,\n",
       "        1.001806  , 0.9987457 , 0.99819034, 0.99942094, 1.0037981 ,\n",
       "        0.9960003 , 0.9961076 , 1.0018796 , 0.9986075 , 0.9991853 ,\n",
       "        0.9987168 , 1.0014778 , 0.99762887, 1.0010395 , 0.9983892 ,\n",
       "        1.0058732 , 1.0058434 , 1.0012107 , 1.0006737 , 1.0008489 ,\n",
       "        1.0024285 , 1.0018075 , 0.9967893 , 0.9999606 , 1.0086771 ,\n",
       "        0.998657  , 1.0007443 , 0.99951214, 1.0045713 , 1.0043286 ,\n",
       "        1.0006063 , 1.0000693 , 1.0007541 , 1.0041564 , 0.9974283 ,\n",
       "        0.9978637 , 1.0026493 , 0.9982579 , 0.9992359 , 1.0036169 ,\n",
       "        1.0055223 , 1.0053486 , 1.0060418 , 1.0032643 , 1.0053315 ,\n",
       "        0.998097  , 0.9941526 , 0.99947804, 0.9946421 , 1.0026915 ,\n",
       "        1.005858  , 0.9984831 , 0.99612874, 1.0064411 , 0.99935144,\n",
       "        0.99852985, 1.0008525 , 0.99858195, 0.9992637 , 1.0036556 ,\n",
       "        1.0014623 , 0.9967226 , 1.0020963 , 1.0020345 , 1.001661  ,\n",
       "        0.99933594, 1.0019066 , 1.00691   , 0.9995355 , 1.00494   ,\n",
       "        1.005619  , 1.0007806 , 1.0067177 , 1.0006417 , 1.0007955 ,\n",
       "        0.9988716 , 0.9966071 , 0.9973837 , 0.99781007, 0.9968941 ,\n",
       "        0.99238384, 0.99834263, 1.0035722 , 0.9971267 , 0.9997341 ,\n",
       "        0.99936724, 1.0045733 , 0.9971991 , 0.99882215, 0.99784064,\n",
       "        1.0004791 , 1.0007387 , 0.99879456, 1.0005721 , 0.99640757,\n",
       "        0.99988455, 1.0033404 , 1.0043935 , 1.003873  , 0.9959066 ,\n",
       "        1.002779  , 0.9957811 , 0.9951218 , 0.99779797, 0.99701625,\n",
       "        1.0011787 , 0.99429166, 0.9950311 , 0.9982923 , 0.99286014,\n",
       "        1.0000345 , 0.99510294, 0.9988075 , 0.9983464 , 0.997942  ,\n",
       "        0.99907386, 1.005714  , 1.0076809 , 1.000628  , 0.9985079 ,\n",
       "        1.0005312 , 0.997961  , 1.0008757 , 0.99964124, 0.9988363 ,\n",
       "        1.0016791 , 1.000394  , 0.9992538 , 0.9967087 , 1.0028223 ,\n",
       "        1.0000434 , 1.0009184 , 1.0010105 , 0.99902236, 1.0008843 ,\n",
       "        1.0003723 , 0.99997437, 0.99917287, 0.9971945 , 1.0010711 ,\n",
       "        1.0010715 , 1.003473  , 1.003521  , 0.99691236, 1.0009643 ,\n",
       "        1.0023739 , 0.9985906 , 0.9980465 , 1.0010952 , 0.9976853 ,\n",
       "        0.9998076 , 1.0009636 , 1.0033042 , 1.0047383 , 1.0020268 ,\n",
       "        0.9981714 , 0.99996203, 0.9988974 , 0.9930251 , 1.0017928 ,\n",
       "        0.997588  , 0.9956421 , 1.0004575 , 0.9967257 , 0.9949783 ,\n",
       "        0.9976185 , 0.998785  , 0.99611187, 1.0014317 , 1.0003351 ,\n",
       "        1.0006119 , 1.0037658 , 1.0067639 , 1.0063158 , 0.9981182 ,\n",
       "        1.0036247 , 1.0014349 , 1.0042443 , 1.0020119 , 1.0013137 ,\n",
       "        1.0011461 , 1.0048019 , 1.0041755 , 0.99806345, 0.9995165 ,\n",
       "        1.0014598 , 0.99604   , 0.9966363 , 0.9923653 , 1.0076572 ,\n",
       "        0.9925269 , 1.0001575 , 0.99695665, 0.99586886, 0.99708956,\n",
       "        0.996919  , 1.0016055 , 0.9987592 , 1.0040048 , 1.0041741 ,\n",
       "        1.0007387 , 1.001528  , 0.9998927 , 1.0023497 , 0.9975269 ,\n",
       "        1.0007493 , 1.0026739 , 1.0004177 , 1.0058562 , 1.00056   ,\n",
       "        1.001156  , 1.0017931 , 0.99573624, 0.9955105 , 0.99554724,\n",
       "        0.9968463 , 0.99868786, 0.9991728 , 1.0006415 , 0.9997028 ,\n",
       "        0.9959026 , 0.9991165 , 0.998827  , 0.99572045, 0.99719447,\n",
       "        1.0017183 , 1.0012691 , 1.0013452 , 1.002667  , 1.0020193 ,\n",
       "        1.0030411 , 0.9947933 , 0.9953068 , 1.0010113 , 0.9979802 ,\n",
       "        1.0028845 , 1.0000744 , 0.9959497 , 0.9965834 , 0.99838436,\n",
       "        0.9971595 , 0.994191  , 0.9996964 , 0.9940463 , 1.0000664 ,\n",
       "        1.0044706 , 1.0001723 , 0.9938541 , 0.9981996 , 0.9956685 ,\n",
       "        0.99928665, 0.9961163 , 1.0015312 , 1.0013894 , 0.9977203 ,\n",
       "        0.9956334 , 1.0027075 , 0.997764  , 0.9981836 , 0.9955603 ,\n",
       "        1.0013057 , 0.99770635, 0.9963335 , 1.0006037 , 1.0030165 ,\n",
       "        0.99733573, 0.9986408 , 1.0004458 , 0.9959349 , 0.99662167,\n",
       "        0.99777746, 0.9960246 , 0.9997689 , 1.0076524 , 0.9951714 ,\n",
       "        0.99868464, 0.9966566 , 1.0006086 , 0.99261916, 0.9977874 ,\n",
       "        0.998393  , 1.0043666 , 1.0037199 , 1.0000124 , 1.0041257 ,\n",
       "        0.9989949 , 0.99267834, 0.9958759 , 0.99899447, 0.99754095,\n",
       "        1.0006495 , 1.0045532 , 1.0027354 , 1.0038419 , 0.9981264 ,\n",
       "        1.0016526 , 0.9962309 , 1.0036278 , 0.9965155 , 1.0016485 ,\n",
       "        0.9951257 , 1.01015   , 0.9975233 , 0.9955298 , 0.9957396 ,\n",
       "        0.9951086 , 1.0036668 , 0.99568903, 0.998265  , 0.99771154,\n",
       "        0.99905264, 1.0016263 , 0.9998983 , 1.0001646 , 0.9899944 ,\n",
       "        0.99240106, 0.9942157 , 0.999327  , 0.99766225, 1.000574  ,\n",
       "        1.0038836 , 0.99852926, 0.9938735 , 1.001461  , 1.0012125 ,\n",
       "        0.9968822 , 0.99979687, 0.9986273 , 1.003979  , 0.9997478 ,\n",
       "        0.99904466, 0.9999617 , 0.9996223 , 1.0042601 , 1.0019013 ,\n",
       "        1.0010623 , 0.9962049 , 1.0026139 , 1.001547  , 0.9991586 ,\n",
       "        1.0031374 , 0.99998516, 1.0007607 , 0.9981199 , 0.9979988 ,\n",
       "        1.000012  , 0.9968975 , 0.99774516, 1.0032803 , 1.0018351 ,\n",
       "        1.0043133 , 1.0036457 , 0.99709743, 1.0004503 , 0.9959891 ,\n",
       "        1.0015054 , 0.99793535, 1.0002866 , 0.99701154, 1.0012336 ,\n",
       "        1.0059047 , 0.99902683, 1.0000446 , 0.9983273 , 0.99706745,\n",
       "        1.0047151 , 0.99789006, 0.9990794 , 1.0007403 , 1.0030941 ,\n",
       "        0.99754006, 0.9970563 , 0.9977145 , 0.99934846, 0.99725384,\n",
       "        1.0047374 , 0.9965815 , 1.0028633 , 0.9969087 , 0.9967602 ,\n",
       "        0.9937895 , 0.99890214, 0.995548  , 0.9988475 , 0.9937128 ,\n",
       "        1.0048256 , 0.9987445 , 1.0042436 , 1.0062355 , 0.9988276 ,\n",
       "        0.9981443 , 1.0036917 , 0.99856573, 0.9994846 , 1.0019553 ,\n",
       "        1.0007293 , 1.0013376 , 0.9945325 , 0.9982635 , 0.99895024,\n",
       "        0.9918854 , 1.001514  , 1.0015372 , 0.9968678 , 0.9974333 ,\n",
       "        1.0035691 , 1.0027139 , 0.9987843 , 1.0008184 , 0.99621075,\n",
       "        1.0025355 , 0.99964184, 1.0043279 , 0.99888307, 0.9964104 ,\n",
       "        0.9941805 , 0.9984891 , 0.997741  , 1.000429  , 0.994832  ,\n",
       "        1.0029819 , 1.0013323 , 1.0021222 , 0.99930537, 1.000815  ,\n",
       "        0.9960781 , 0.9976691 , 0.9973741 , 0.9983715 , 0.9968517 ,\n",
       "        0.99898446, 1.000255  , 0.9954361 , 1.001209  , 0.99606675,\n",
       "        1.002176  , 0.996379  , 1.0000241 , 0.999987  , 0.9980854 ,\n",
       "        0.9982377 , 1.0030304 , 1.0005167 , 1.0006381 , 1.0014935 ,\n",
       "        0.99895525, 1.0021671 , 1.0015736 , 1.0020484 , 0.9962864 ,\n",
       "        0.99839365, 0.9974082 , 1.0000566 , 0.99552894, 0.99721324,\n",
       "        0.99957603, 0.9971775 , 1.0007406 , 0.9998353 , 1.0010387 ,\n",
       "        0.99775666, 1.0045595 , 0.9999736 , 0.9990775 , 0.99868435,\n",
       "        1.0004998 , 0.9986748 , 1.0015079 , 1.0036459 , 1.002563  ,\n",
       "        0.996203  , 0.99803275, 1.0003508 , 0.99930495, 0.99967664,\n",
       "        1.010312  , 0.99940336, 0.99722886, 1.005555  , 0.99747014,\n",
       "        0.99904925, 0.99306595, 0.9978162 , 0.99956745, 0.9978638 ,\n",
       "        0.9980859 , 1.0003957 , 0.9975077 , 0.9973538 , 1.0017662 ,\n",
       "        0.9982197 , 1.0026841 , 1.0007852 , 1.0004438 , 1.002534  ,\n",
       "        1.0023811 , 1.0029778 , 1.0110419 , 1.0032165 , 1.0014576 ,\n",
       "        0.99479985, 0.999281  , 1.001498  , 1.0029564 , 0.9996246 ,\n",
       "        1.0032309 , 1.002243  , 1.0029768 , 0.9926496 , 0.99277794,\n",
       "        0.99906635, 1.0004785 , 0.9991986 , 0.999082  , 0.9989588 ,\n",
       "        0.9989982 , 0.99758923, 0.9970038 , 0.99348515, 1.0092459 ,\n",
       "        1.0014104 , 1.0040653 , 1.0002348 , 0.9970418 , 1.0054685 ,\n",
       "        1.0189842 , 1.0060842 , 0.99816364, 0.9985367 , 0.997191  ,\n",
       "        1.0030638 , 0.992946  , 0.9950458 , 1.0035821 , 0.9952622 ,\n",
       "        0.9971561 , 1.0005956 , 0.99949765, 0.9993545 ], dtype=float32)>,\n",
       " <tf.Variable 'batch_normalization_3/beta:0' shape=(784,) dtype=float32, numpy=\n",
       " array([-1.15656061e-03,  1.24171283e-03,  5.71881865e-05,  2.23457464e-03,\n",
       "         2.00570282e-03, -2.04978744e-03,  2.17304245e-04, -3.03549459e-04,\n",
       "         2.66031246e-03,  1.44567026e-03,  1.34245653e-04,  1.60603365e-03,\n",
       "         2.32979585e-03,  1.26809187e-04, -2.14696373e-03,  3.15000769e-03,\n",
       "        -1.04847376e-03,  5.10418741e-03, -1.02109078e-03, -1.78710918e-03,\n",
       "         7.30259810e-04,  1.68030930e-03, -9.33732779e-04,  1.03479263e-03,\n",
       "        -1.89671322e-04,  2.16326630e-03,  1.31253246e-03,  3.53216683e-03,\n",
       "         4.19522607e-04,  1.15291259e-05, -2.83532450e-03,  2.37506581e-03,\n",
       "         3.31871375e-03,  4.85891569e-03,  5.71133976e-04,  2.95586092e-03,\n",
       "        -2.24895426e-03, -2.61735148e-03, -2.04897160e-03, -1.02098798e-03,\n",
       "        -1.87997741e-03,  2.64865533e-03, -8.28964461e-04, -4.00567020e-04,\n",
       "        -7.70498824e-04,  6.41720777e-04,  8.04658514e-04, -2.30854051e-03,\n",
       "         1.71690830e-03, -3.10913404e-03,  1.54384738e-03,  1.42013794e-03,\n",
       "         9.95413982e-04,  8.28020682e-04,  2.21802620e-04,  2.93182163e-03,\n",
       "         3.16076912e-03, -1.08529883e-03, -1.07548991e-03, -1.95669197e-03,\n",
       "         1.72009412e-03,  3.44991614e-03, -2.24490635e-04, -1.42128533e-03,\n",
       "        -1.39477034e-03, -3.46076628e-03,  7.62149517e-04, -2.07261299e-03,\n",
       "         2.07374454e-03,  6.86772575e-04, -9.68448003e-05, -8.44396767e-04,\n",
       "        -9.48409797e-05, -1.33357069e-03, -4.00298741e-03, -2.78376346e-03,\n",
       "         3.15762125e-03, -2.36245408e-03, -4.07197833e-04, -9.98250907e-04,\n",
       "         3.29665397e-03,  3.51190014e-04, -1.79714389e-05,  1.81233778e-03,\n",
       "        -2.40816502e-03, -9.52602248e-04, -2.44598556e-03, -1.65255228e-03,\n",
       "         1.55078119e-03,  1.13925710e-03, -1.47165754e-03,  2.31720274e-04,\n",
       "         3.43561498e-03, -6.97743846e-04,  1.37574645e-03,  6.37420337e-04,\n",
       "         7.69139733e-04, -5.98952814e-04,  5.13789011e-04, -1.63873949e-03,\n",
       "        -3.50191863e-03,  4.21015685e-03,  1.57739059e-03,  9.50244605e-04,\n",
       "         2.68707564e-03, -9.88060401e-06, -7.83254567e-04,  5.90918993e-04,\n",
       "         8.20018700e-04, -5.78478328e-04, -5.68256830e-04, -2.42203497e-03,\n",
       "        -8.26078700e-04, -2.21535680e-03,  1.62171200e-03, -1.26009784e-03,\n",
       "        -1.50746049e-03, -1.48621679e-03, -2.61786417e-03,  2.01414805e-03,\n",
       "         3.43364081e-03, -8.08141252e-04,  4.00281860e-04, -2.39463709e-03,\n",
       "         3.53595777e-03, -1.83192326e-03,  1.63345921e-05,  3.02567170e-03,\n",
       "         6.19195111e-04,  3.87866981e-03, -1.24326616e-04, -7.60176335e-04,\n",
       "         3.39713017e-03,  1.38121564e-03,  5.43168630e-04,  9.72024340e-04,\n",
       "        -2.30458332e-03, -7.36788264e-04,  3.86121217e-04,  4.60766430e-04,\n",
       "        -1.60165038e-03, -2.38384237e-03, -4.25208360e-03,  5.96284214e-03,\n",
       "        -4.96814842e-04,  1.05055317e-03, -1.94589575e-05, -2.31924281e-03,\n",
       "         2.99192290e-03,  1.99755584e-03,  2.86727003e-03, -3.67659028e-04,\n",
       "        -1.93139224e-03, -1.07914372e-03,  1.52369810e-03,  1.61389681e-03,\n",
       "        -1.18821289e-03, -9.09474387e-04,  1.73496059e-03, -1.25041150e-03,\n",
       "         5.05800406e-03,  2.57696002e-03, -2.64543155e-03,  1.30306603e-03,\n",
       "         2.73419544e-03, -1.24518096e-03, -9.96151357e-04, -5.42957045e-04,\n",
       "        -5.58049651e-04,  1.72163465e-03,  8.24883638e-04, -2.38038530e-03,\n",
       "        -1.72548438e-03,  1.69770175e-03,  6.00826228e-03,  1.42933032e-03,\n",
       "         1.55756250e-03,  7.73774867e-04, -2.46621174e-04, -1.15417504e-04,\n",
       "         4.88283485e-03, -1.00614165e-03,  2.78627197e-03,  3.24356742e-03,\n",
       "         4.51550074e-03,  5.22236107e-04, -6.52052520e-04,  6.17845915e-04,\n",
       "         1.46250310e-03, -1.90826808e-03,  2.24963552e-03,  1.11606298e-03,\n",
       "         2.54077208e-03,  2.26711665e-04, -1.82755955e-03, -1.78196770e-03,\n",
       "        -1.03962643e-03,  1.95832283e-04,  1.36579224e-03, -1.75433629e-03,\n",
       "         2.05339328e-03,  5.22023859e-03,  1.45191711e-03,  3.62047856e-03,\n",
       "         1.78819255e-03, -1.46427401e-03,  5.93531586e-04,  3.47852998e-04,\n",
       "        -3.24659311e-04,  2.90935254e-03,  1.34325761e-03,  1.25990657e-03,\n",
       "         1.21295487e-03,  2.38218647e-03, -5.44562412e-04, -1.84174348e-03,\n",
       "         1.47451810e-03, -5.45426410e-05, -1.54123642e-04,  3.13531072e-03,\n",
       "         2.73065781e-03,  6.92185131e-04,  2.22994783e-03, -2.17424054e-03,\n",
       "         3.27684428e-03, -1.39868550e-03, -2.89730635e-03, -1.19171408e-03,\n",
       "        -8.79641855e-04,  1.96978753e-03, -7.80634000e-04, -1.09263347e-03,\n",
       "         2.67199590e-03,  4.66440292e-03,  8.46302137e-04,  4.69168910e-04,\n",
       "         1.71550713e-03,  1.10511924e-03,  9.79050761e-04, -1.04905781e-03,\n",
       "         2.03673192e-03,  2.80036055e-03, -2.18985905e-03,  2.57016439e-03,\n",
       "         1.63476029e-03,  4.98359186e-05, -4.76058805e-03, -1.31091256e-05,\n",
       "         2.20490573e-03,  2.02533696e-03,  1.14476006e-03, -2.89022084e-03,\n",
       "        -2.43159966e-03, -2.74057593e-03,  3.21582449e-03, -1.46377555e-04,\n",
       "        -3.25173722e-04, -5.08188794e-04,  1.36272656e-03, -2.36256557e-04,\n",
       "         1.07896246e-03,  2.43440480e-03, -6.12463686e-04,  5.14780113e-04,\n",
       "        -1.03318796e-03,  3.22852656e-03, -2.51539145e-03,  3.16335796e-03,\n",
       "        -1.03007059e-03, -3.96229932e-03,  1.52384152e-03,  8.06214474e-03,\n",
       "        -4.10703849e-03, -2.61500129e-04, -2.90310069e-04,  1.67826074e-03,\n",
       "        -1.35199877e-03, -1.35931070e-03, -2.39538937e-03, -9.68457840e-04,\n",
       "         8.77196202e-04,  1.21552800e-03, -2.93345819e-03, -2.04625702e-03,\n",
       "         2.07530940e-03, -2.03908398e-03, -2.30658625e-05, -2.13498977e-04,\n",
       "         3.76863428e-03,  3.45762074e-03, -1.00987020e-03,  3.55873862e-03,\n",
       "        -5.81036613e-04,  4.11028881e-03,  7.49337371e-04, -8.42453272e-04,\n",
       "         1.13260176e-03,  4.17541421e-04, -3.13312304e-03,  3.02087137e-04,\n",
       "        -9.64160310e-04, -7.54155684e-04,  1.00246491e-03,  4.70124709e-04,\n",
       "        -2.01821001e-03,  3.00160144e-03, -1.94635778e-03, -3.52976867e-03,\n",
       "         4.53004177e-04,  1.60460593e-03,  3.86006339e-03,  1.14687812e-03,\n",
       "        -2.64759036e-03,  5.34800231e-04, -9.42590123e-05,  1.10860309e-03,\n",
       "         1.44056545e-03,  2.63659214e-03,  3.48764996e-04,  4.05644314e-05,\n",
       "        -1.48382620e-04, -2.83400714e-03, -1.47511484e-03,  2.14377814e-03,\n",
       "         1.64609973e-03,  7.00224948e-04,  1.42686744e-03, -2.32234292e-04,\n",
       "         3.36605031e-03,  1.54006726e-03, -2.84980895e-04,  3.51168681e-04,\n",
       "         4.87640704e-04,  2.30697962e-03, -6.95143593e-04, -1.48568419e-03,\n",
       "        -3.75808286e-03,  2.41978886e-03,  1.93461066e-03,  6.97372889e-04,\n",
       "         6.05679059e-04,  8.19590117e-04, -2.05165870e-03,  1.63785263e-03,\n",
       "         4.48682869e-04,  1.17096188e-03, -2.66554649e-03, -1.92253885e-03,\n",
       "         4.33553196e-03, -1.08209508e-03, -1.75451685e-03,  1.95558788e-03,\n",
       "        -4.26554121e-04,  2.28100386e-03,  4.38266434e-03,  1.60219264e-03,\n",
       "        -2.58016656e-03, -4.44402889e-04, -1.53906283e-03, -4.71404404e-04,\n",
       "         1.13735266e-03,  1.52967099e-04, -1.15307572e-03, -2.08472018e-03,\n",
       "         1.87061506e-03, -1.89678010e-03,  8.36324994e-04,  2.15694192e-03,\n",
       "        -1.04478630e-03, -1.37814088e-03, -1.19040464e-03,  3.36344866e-03,\n",
       "        -3.22615000e-04,  1.33956573e-03,  3.20659892e-04,  2.04646587e-03,\n",
       "        -1.57337170e-03, -1.04778947e-03,  9.05852416e-04,  7.17865129e-04,\n",
       "        -1.63725379e-03,  1.11601234e-03, -1.81766215e-03,  9.29092697e-04,\n",
       "         3.21583095e-04, -1.23908767e-03, -6.90425455e-04,  7.15254806e-04,\n",
       "        -4.91492567e-04,  3.21835134e-04, -2.82761967e-03, -3.45655397e-04,\n",
       "         9.01019084e-04, -2.97624315e-03, -1.03569975e-04,  2.57518236e-03,\n",
       "        -5.90246823e-03,  2.35933857e-03, -3.56604171e-04, -1.34660501e-03,\n",
       "        -7.21323653e-04, -2.75938632e-03, -1.00019923e-03,  1.87830650e-03,\n",
       "        -3.90823232e-03,  2.18658359e-03,  5.42350288e-04, -6.37673365e-04,\n",
       "        -4.41345572e-03,  3.47107137e-03,  2.34702253e-03, -3.70480469e-03,\n",
       "        -3.89168854e-04,  3.18209175e-03, -9.06657311e-04,  1.01116428e-03,\n",
       "         6.41873630e-04, -2.61378917e-03,  1.88661146e-03, -1.97147805e-04,\n",
       "         2.83185509e-03, -7.50230451e-04, -1.79079582e-03, -1.02117984e-03,\n",
       "        -2.40082118e-05, -3.16746812e-03,  1.60680513e-03, -3.41636874e-03,\n",
       "        -3.22313770e-03, -1.97362737e-03, -1.19654974e-03, -6.74736628e-04,\n",
       "         1.34174270e-03,  1.43046794e-03, -9.41567007e-04,  3.97251034e-03,\n",
       "        -1.90669741e-03,  1.66288950e-03, -2.94571044e-04, -3.69497528e-03,\n",
       "         4.55064583e-06,  3.98127828e-04, -1.58951466e-03, -5.61558001e-04,\n",
       "        -5.35933161e-03, -5.33580023e-04,  7.44514546e-05, -4.14966512e-03,\n",
       "         1.64860627e-03, -4.16226219e-04, -1.44923723e-03, -1.16739934e-03,\n",
       "        -5.41272282e-04, -6.63816347e-04, -2.42262683e-03,  2.19054311e-03,\n",
       "        -7.32075132e-04,  1.12718588e-03, -2.24929629e-03, -1.35083552e-04,\n",
       "         2.27501546e-03,  2.30134139e-03, -2.23154598e-03,  2.23238859e-03,\n",
       "        -5.40879671e-04,  4.24392259e-04,  1.49472477e-03, -2.98010511e-03,\n",
       "        -3.52317933e-03,  3.88436601e-03,  2.61757663e-03, -6.78857556e-04,\n",
       "        -4.01229016e-04, -2.60337861e-03,  2.54177809e-04, -3.80101427e-03,\n",
       "         4.69479244e-04, -3.94905079e-03,  3.28199560e-04, -3.04994173e-04,\n",
       "        -4.07843676e-04,  1.18056790e-03, -2.04578578e-03,  2.39152159e-03,\n",
       "        -3.93762765e-03,  2.09520035e-03, -1.28561782e-03, -2.07734667e-03,\n",
       "        -3.26254242e-03,  1.13801623e-03,  2.18380941e-03,  9.76058363e-04,\n",
       "         1.02241174e-03, -1.65973848e-03,  3.69793852e-03, -2.85572652e-03,\n",
       "         2.23691249e-03, -4.67068236e-03, -2.83566187e-03, -2.28064964e-04,\n",
       "         2.11293343e-03, -1.10973103e-03, -2.73270044e-03, -4.35820967e-03,\n",
       "         3.48933227e-03, -1.27347259e-04,  2.04836507e-03,  6.68807887e-04,\n",
       "         8.95732199e-04,  2.70034047e-03, -1.22720457e-03,  6.90342276e-04,\n",
       "        -2.43885885e-03,  3.32982000e-03,  2.21317075e-03, -1.87469518e-03,\n",
       "        -1.37120674e-04,  3.46495723e-03,  1.76081120e-03,  1.20333245e-03,\n",
       "        -1.11840433e-03, -2.78199441e-04, -3.79890465e-04,  1.50411786e-03,\n",
       "        -2.36664270e-03,  9.70222114e-04,  1.43112463e-03, -3.56827077e-04,\n",
       "         1.67770102e-03, -1.55665632e-03, -1.68329594e-03,  4.69590275e-04,\n",
       "         1.00909057e-03,  1.89448416e-03, -2.36712582e-03, -1.10955304e-03,\n",
       "        -3.54249845e-03,  5.70825650e-04,  4.34221840e-03,  3.40386643e-03,\n",
       "        -3.39461071e-03,  3.29228723e-03, -3.32042080e-04,  6.21768471e-04,\n",
       "        -2.65251403e-03,  4.34578024e-03,  1.40676938e-03, -1.76245894e-03,\n",
       "        -8.49838019e-04,  3.56237730e-03, -1.01586885e-03,  2.63261929e-04,\n",
       "         3.07383388e-03, -5.27835393e-04, -1.21972675e-03, -4.93441301e-04,\n",
       "        -1.48744322e-03,  1.25565811e-03, -2.37718783e-03, -1.52037875e-03,\n",
       "        -1.70270866e-03,  4.03611595e-03,  4.19987692e-03, -1.79449562e-04,\n",
       "         3.27952817e-04, -8.70039803e-04, -1.73946051e-03, -2.75697203e-05,\n",
       "         2.15657451e-03,  1.83033524e-03,  6.72597846e-04,  1.14968512e-03,\n",
       "         3.91220325e-04,  1.62262516e-03,  6.52476883e-05,  6.45251595e-04,\n",
       "         1.50663301e-03, -4.07813489e-03,  3.47662345e-03,  1.83849712e-04,\n",
       "         5.17237131e-05, -2.61059892e-03,  1.70067663e-03,  5.65951457e-04,\n",
       "        -3.08377622e-03, -3.26465094e-03,  1.59715919e-03, -1.92431861e-03,\n",
       "        -1.09724305e-03,  1.54628220e-03, -1.74436113e-03,  2.94595433e-04,\n",
       "         2.36417376e-03,  1.37560768e-03, -2.15402571e-03,  2.43369397e-03,\n",
       "        -8.66226153e-04,  7.92527353e-05,  3.93087324e-03, -2.21799128e-04,\n",
       "        -6.34253665e-04, -9.73945658e-04, -4.97621659e-04, -1.27986923e-03,\n",
       "         1.26771175e-03, -7.32025772e-04, -6.16829726e-04,  4.06531326e-04,\n",
       "         2.19945866e-03, -7.20190234e-04,  1.91657734e-03, -2.44111870e-03,\n",
       "        -2.83150375e-03,  1.28847070e-03,  3.06240545e-04, -2.70793028e-03,\n",
       "        -5.59626264e-04, -3.03829263e-04, -2.62424024e-03, -2.51667015e-03,\n",
       "         1.21042866e-03,  7.51898478e-05,  2.04815995e-03, -3.55762255e-04,\n",
       "        -1.59889017e-03,  9.14741773e-04, -1.98496901e-03,  1.03873352e-03,\n",
       "        -1.18347921e-03, -1.68953848e-03,  3.19596240e-03,  3.79634020e-03,\n",
       "        -2.10567130e-04,  1.04131503e-03, -2.50710663e-03,  3.21180490e-03,\n",
       "         9.17380385e-04,  1.41110111e-04, -3.07929167e-03, -3.61715211e-03,\n",
       "        -2.38239579e-03, -4.35791211e-04,  1.44459633e-03,  1.04456290e-03,\n",
       "        -2.14032666e-03,  1.41169585e-03,  1.73768203e-03, -1.97956478e-03,\n",
       "        -1.32175197e-03, -2.56208866e-03, -2.73518497e-03,  9.81249497e-04,\n",
       "         7.75408931e-04, -3.95724346e-04,  2.13415618e-03,  6.44302578e-04,\n",
       "        -2.72770238e-04,  9.19070735e-05, -1.22210232e-03,  1.60961732e-04,\n",
       "        -2.52637058e-03,  5.67271432e-04, -1.41229306e-04,  6.11017516e-04,\n",
       "        -7.55031942e-05, -1.24889470e-04,  1.94102584e-03, -3.85466614e-04,\n",
       "        -2.92149285e-04, -2.31895319e-04,  1.62468455e-03,  2.28683441e-03,\n",
       "        -3.39714461e-04, -1.96373393e-03,  1.62992324e-03, -3.49635346e-04,\n",
       "         1.80563517e-03,  1.89424225e-03,  2.00656289e-03,  2.40450772e-03,\n",
       "        -1.38617994e-03,  2.06015282e-03, -6.81037782e-04,  1.45402062e-03,\n",
       "        -1.40221056e-03, -1.59079279e-03,  3.50839400e-04, -3.88462283e-03,\n",
       "         9.02312513e-06, -1.25066831e-03,  1.09889952e-03,  9.87180043e-04,\n",
       "         2.93637946e-04,  1.45466067e-04, -1.56502670e-03, -1.76564872e-03,\n",
       "         5.71798650e-04,  2.31693010e-03, -8.05490534e-04,  3.72878090e-03,\n",
       "        -2.37623276e-03,  3.03141982e-03, -9.78957629e-04, -1.65664486e-03,\n",
       "        -1.83220906e-03,  8.46042123e-04, -2.88434024e-03, -1.36329769e-03,\n",
       "        -1.40890758e-03,  1.08639269e-05, -1.77602284e-03,  1.42011978e-03,\n",
       "         6.94971590e-04, -3.17237602e-04,  1.48222389e-04,  1.57297787e-03,\n",
       "        -1.69341674e-03,  2.60201981e-03, -1.30142726e-03, -3.20298888e-04,\n",
       "         9.62009537e-04, -4.00743261e-03, -4.92119510e-03,  3.33754509e-03,\n",
       "        -5.69625172e-06, -1.18098292e-03,  1.40987802e-03,  2.11537990e-04,\n",
       "        -3.63128819e-03,  2.07214570e-03, -5.17209154e-03,  4.02009767e-03,\n",
       "         4.35583788e-04,  3.06568218e-05,  4.12209472e-03,  5.06414253e-05,\n",
       "        -5.55843289e-04,  4.68575599e-04, -4.84843622e-04,  1.13239733e-03,\n",
       "        -6.90998393e-04,  6.34056283e-04,  5.94787009e-04,  2.69197481e-04,\n",
       "        -4.49900981e-03,  4.36896412e-03, -2.10942305e-03,  4.29968815e-03,\n",
       "         8.68206087e-04, -1.97683391e-03,  2.98894476e-03, -1.70347386e-03,\n",
       "        -2.12579826e-03,  2.02628877e-03,  2.09119054e-03,  3.19776125e-03,\n",
       "        -2.74013495e-03,  5.41162954e-05,  4.09536576e-03, -1.33153622e-03,\n",
       "        -3.05212568e-03,  2.12501967e-03,  1.34422141e-03, -3.13569559e-04,\n",
       "        -4.24204074e-04, -6.76941476e-04, -1.66829186e-03,  7.61185365e-04,\n",
       "         3.06703709e-03,  2.48062843e-03,  1.19984651e-03,  6.49793830e-04,\n",
       "         1.68884770e-04,  2.58940179e-03, -2.61705089e-03,  3.54102184e-03,\n",
       "         1.54837291e-03, -3.98315210e-03,  1.18235324e-03,  7.36074522e-04,\n",
       "        -1.56325090e-03,  1.79444090e-04, -3.72808165e-04,  2.24877967e-05],\n",
       "       dtype=float32)>,\n",
       " <tf.Variable 'batch_normalization_3/moving_mean:0' shape=(784,) dtype=float32, numpy=\n",
       " array([1.40980399e-06, 1.41986311e-05, 9.13435142e-05, 3.68675479e-04,\n",
       "        8.95416422e-04, 1.14901550e-03, 2.89080362e-03, 8.78721941e-03,\n",
       "        2.36902777e-02, 5.95240481e-02, 1.30890131e-01, 1.81977749e-01,\n",
       "        2.05121830e-01, 2.01853693e-01, 2.00894669e-01, 2.12724820e-01,\n",
       "        2.04008535e-01, 1.62480488e-01, 1.04232371e-01, 4.24362421e-02,\n",
       "        1.58512630e-02, 6.97204750e-03, 3.55993817e-03, 2.60315300e-03,\n",
       "        1.39866408e-03, 6.35076722e-04, 3.12670309e-04, 2.12932300e-05,\n",
       "        2.56330768e-05, 5.91238204e-05, 3.02001397e-04, 1.51886395e-03,\n",
       "        2.54799053e-03, 7.68560218e-03, 2.84111444e-02, 6.74542338e-02,\n",
       "        1.25382379e-01, 2.09905952e-01, 3.14434350e-01, 3.96102428e-01,\n",
       "        4.44860548e-01, 4.36817408e-01, 4.30820972e-01, 4.51973975e-01,\n",
       "        4.35404807e-01, 3.60136122e-01, 2.81044275e-01, 1.75651267e-01,\n",
       "        1.02633789e-01, 5.32478392e-02, 2.39318050e-02, 1.28210112e-02,\n",
       "        8.24795291e-03, 4.08873986e-03, 1.51792937e-03, 3.56286677e-04,\n",
       "        2.75562015e-05, 2.84574548e-04, 1.07713754e-03, 2.92456034e-03,\n",
       "        8.74246377e-03, 3.76309119e-02, 9.02070105e-02, 1.36871949e-01,\n",
       "        1.94833621e-01, 2.82431811e-01, 3.70875120e-01, 4.00649607e-01,\n",
       "        4.16377455e-01, 4.23881829e-01, 4.26771909e-01, 4.30815965e-01,\n",
       "        4.14350003e-01, 3.95824432e-01, 3.54390293e-01, 2.56475598e-01,\n",
       "        1.76099211e-01, 1.29353404e-01, 7.85678327e-02, 3.60498801e-02,\n",
       "        1.86315160e-02, 1.00808134e-02, 4.06088913e-03, 1.04115694e-03,\n",
       "        3.15713172e-04, 1.14800688e-03, 2.20627477e-03, 5.97241195e-03,\n",
       "        2.46168412e-02, 7.73998275e-02, 1.37110621e-01, 1.97357729e-01,\n",
       "        2.55527288e-01, 3.30619991e-01, 3.89594823e-01, 4.02146906e-01,\n",
       "        4.13393587e-01, 4.19306189e-01, 4.25452292e-01, 4.24741805e-01,\n",
       "        4.22066182e-01, 4.12603259e-01, 3.93483549e-01, 3.26516539e-01,\n",
       "        2.47755185e-01, 1.88910633e-01, 1.32294327e-01, 7.37922192e-02,\n",
       "        3.41272987e-02, 1.89970974e-02, 9.23340954e-03, 1.36202422e-03,\n",
       "        6.95034163e-04, 2.61776545e-03, 4.79035545e-03, 1.22792441e-02,\n",
       "        4.80379201e-02, 1.12963974e-01, 1.88520491e-01, 2.40134001e-01,\n",
       "        2.82375008e-01, 3.47437233e-01, 3.95701885e-01, 4.01859432e-01,\n",
       "        4.09083724e-01, 4.18955177e-01, 4.29334998e-01, 4.33095723e-01,\n",
       "        4.33307946e-01, 4.30166215e-01, 4.13795322e-01, 3.60424310e-01,\n",
       "        2.95820415e-01, 2.47661754e-01, 1.84204087e-01, 1.10732600e-01,\n",
       "        5.79310767e-02, 3.05356383e-02, 1.53625887e-02, 2.80507887e-03,\n",
       "        1.16511912e-03, 4.87250322e-03, 9.06192977e-03, 2.31827348e-02,\n",
       "        7.01253489e-02, 1.48533598e-01, 2.20343813e-01, 2.62184203e-01,\n",
       "        3.01374525e-01, 3.61598343e-01, 4.01465803e-01, 4.01820242e-01,\n",
       "        4.06713128e-01, 4.21545357e-01, 4.35912013e-01, 4.40302104e-01,\n",
       "        4.45794314e-01, 4.49143797e-01, 4.37119126e-01, 3.94865215e-01,\n",
       "        3.31841767e-01, 2.87874609e-01, 2.30888188e-01, 1.51498228e-01,\n",
       "        8.94857645e-02, 5.01442105e-02, 2.74038762e-02, 5.49154822e-03,\n",
       "        1.91031932e-03, 6.49765320e-03, 1.43640237e-02, 3.62591371e-02,\n",
       "        9.12732780e-02, 1.74939781e-01, 2.44388983e-01, 2.83335328e-01,\n",
       "        3.15757543e-01, 3.71250600e-01, 4.03392255e-01, 4.06429410e-01,\n",
       "        4.11146045e-01, 4.27129090e-01, 4.46731150e-01, 4.58652407e-01,\n",
       "        4.64743346e-01, 4.68896121e-01, 4.56245869e-01, 4.20791268e-01,\n",
       "        3.62227231e-01, 3.25595289e-01, 2.70925701e-01, 1.91849992e-01,\n",
       "        1.22954816e-01, 7.54731968e-02, 3.93510014e-02, 8.44445638e-03,\n",
       "        2.72808759e-03, 9.43481736e-03, 1.99317262e-02, 4.75719534e-02,\n",
       "        1.09298386e-01, 1.95138544e-01, 2.62535751e-01, 3.01782101e-01,\n",
       "        3.26770604e-01, 3.73487949e-01, 4.05988127e-01, 4.11599904e-01,\n",
       "        4.18043613e-01, 4.36335117e-01, 4.54691797e-01, 4.81939614e-01,\n",
       "        4.91685212e-01, 4.92581904e-01, 4.76043403e-01, 4.42945838e-01,\n",
       "        3.95567715e-01, 3.61151606e-01, 3.07090759e-01, 2.25872084e-01,\n",
       "        1.52273774e-01, 1.01159595e-01, 4.92372401e-02, 1.10699087e-02,\n",
       "        3.25687951e-03, 1.31398775e-02, 2.61701867e-02, 5.81407957e-02,\n",
       "        1.24839760e-01, 2.13811487e-01, 2.74651676e-01, 3.19397628e-01,\n",
       "        3.40709507e-01, 3.76068980e-01, 4.11736608e-01, 4.19249892e-01,\n",
       "        4.31751758e-01, 4.46979016e-01, 4.56986696e-01, 5.09159386e-01,\n",
       "        5.24884880e-01, 5.22849083e-01, 4.95192528e-01, 4.66685593e-01,\n",
       "        4.28726733e-01, 3.96225393e-01, 3.40389758e-01, 2.61005223e-01,\n",
       "        1.80405423e-01, 1.31764024e-01, 6.66288584e-02, 1.28343273e-02,\n",
       "        4.07591369e-03, 1.79502591e-02, 3.10661625e-02, 6.62744269e-02,\n",
       "        1.35299906e-01, 2.27591902e-01, 2.84935087e-01, 3.27618867e-01,\n",
       "        3.48186761e-01, 3.80032629e-01, 4.19434249e-01, 4.30932850e-01,\n",
       "        4.45645750e-01, 4.62901264e-01, 4.79112655e-01, 5.48544526e-01,\n",
       "        5.64492762e-01, 5.59753537e-01, 5.18038690e-01, 4.80581522e-01,\n",
       "        4.49815273e-01, 4.16799784e-01, 3.65978748e-01, 2.88502753e-01,\n",
       "        2.12322235e-01, 1.64197952e-01, 8.62621143e-02, 1.74653605e-02,\n",
       "        5.47583308e-03, 2.21079011e-02, 3.30392011e-02, 6.83779120e-02,\n",
       "        1.40065834e-01, 2.33525574e-01, 2.87301451e-01, 3.29440713e-01,\n",
       "        3.50550354e-01, 3.85326803e-01, 4.32751566e-01, 4.51346338e-01,\n",
       "        4.75572854e-01, 4.94700551e-01, 5.09863138e-01, 5.78320503e-01,\n",
       "        5.83791554e-01, 5.81797004e-01, 5.43230772e-01, 4.91033316e-01,\n",
       "        4.62513685e-01, 4.27636474e-01, 3.87946427e-01, 3.12610179e-01,\n",
       "        2.35166773e-01, 1.92384362e-01, 1.11473851e-01, 2.25089025e-02,\n",
       "        7.33546354e-03, 2.58110370e-02, 3.31142545e-02, 6.42823279e-02,\n",
       "        1.35424182e-01, 2.29638413e-01, 2.79771596e-01, 3.26529831e-01,\n",
       "        3.57599437e-01, 3.98389250e-01, 4.59004164e-01, 4.85894114e-01,\n",
       "        5.17462313e-01, 5.20065069e-01, 5.22954226e-01, 5.88154197e-01,\n",
       "        5.92334867e-01, 5.91593742e-01, 5.62049329e-01, 5.08519351e-01,\n",
       "        4.79208201e-01, 4.42164332e-01, 4.01812494e-01, 3.27780575e-01,\n",
       "        2.49777272e-01, 2.11673006e-01, 1.38284937e-01, 2.82087885e-02,\n",
       "        8.94728489e-03, 2.75738928e-02, 3.52240205e-02, 6.66745454e-02,\n",
       "        1.37915939e-01, 2.28010237e-01, 2.76921898e-01, 3.24094653e-01,\n",
       "        3.70245963e-01, 4.27416325e-01, 4.95291561e-01, 5.14538050e-01,\n",
       "        5.40145099e-01, 5.32064497e-01, 5.30789018e-01, 5.93172193e-01,\n",
       "        5.97058892e-01, 5.97028077e-01, 5.76718211e-01, 5.22450566e-01,\n",
       "        4.94488776e-01, 4.55577314e-01, 4.13870394e-01, 3.45873326e-01,\n",
       "        2.62046725e-01, 2.20717207e-01, 1.61016241e-01, 3.41693237e-02,\n",
       "        1.04770362e-02, 3.03128511e-02, 4.00050916e-02, 7.43339807e-02,\n",
       "        1.51952058e-01, 2.47600123e-01, 2.97059804e-01, 3.45404208e-01,\n",
       "        3.91955644e-01, 4.54433620e-01, 5.15577853e-01, 5.36212087e-01,\n",
       "        5.61724067e-01, 5.49050927e-01, 5.36636770e-01, 5.93511760e-01,\n",
       "        6.02797210e-01, 6.03278220e-01, 5.84684134e-01, 5.22215903e-01,\n",
       "        4.94995803e-01, 4.64636624e-01, 4.29926872e-01, 3.62033486e-01,\n",
       "        2.71241814e-01, 2.24273399e-01, 1.77087098e-01, 4.09385301e-02,\n",
       "        1.37336878e-02, 4.38404605e-02, 5.85041046e-02, 9.68760252e-02,\n",
       "        1.82159171e-01, 2.79226184e-01, 3.23301226e-01, 3.63362789e-01,\n",
       "        4.02998924e-01, 4.75736767e-01, 5.37912369e-01, 5.61129212e-01,\n",
       "        5.80037892e-01, 5.55622339e-01, 5.39600253e-01, 5.95776856e-01,\n",
       "        6.09401107e-01, 6.07463837e-01, 5.92695057e-01, 5.25866687e-01,\n",
       "        4.89663869e-01, 4.67030734e-01, 4.34593320e-01, 3.67216945e-01,\n",
       "        2.75715381e-01, 2.29566112e-01, 1.92370817e-01, 4.86958623e-02,\n",
       "        2.46166904e-02, 7.07316697e-02, 8.43836591e-02, 1.25376984e-01,\n",
       "        2.13629037e-01, 3.04115117e-01, 3.39312941e-01, 3.71348768e-01,\n",
       "        4.16948020e-01, 5.00858307e-01, 5.61537504e-01, 5.87751269e-01,\n",
       "        5.93676329e-01, 5.61299443e-01, 5.47445118e-01, 6.02740765e-01,\n",
       "        6.18989110e-01, 6.15637958e-01, 6.02539957e-01, 5.33282399e-01,\n",
       "        4.86617476e-01, 4.67285752e-01, 4.32679683e-01, 3.69723350e-01,\n",
       "        2.83185631e-01, 2.34259829e-01, 2.03086823e-01, 5.59602864e-02,\n",
       "        3.31644602e-02, 8.50516036e-02, 1.02058694e-01, 1.47608891e-01,\n",
       "        2.38978609e-01, 3.22401911e-01, 3.59922528e-01, 3.84610504e-01,\n",
       "        4.34298515e-01, 5.27494967e-01, 5.81328690e-01, 6.03659272e-01,\n",
       "        6.02361083e-01, 5.69512188e-01, 5.54666758e-01, 6.05989933e-01,\n",
       "        6.28015518e-01, 6.24266446e-01, 6.07362032e-01, 5.34166157e-01,\n",
       "        4.76694405e-01, 4.59974766e-01, 4.30155605e-01, 3.74492347e-01,\n",
       "        2.89357275e-01, 2.36007467e-01, 2.06832692e-01, 5.91210909e-02,\n",
       "        3.42900939e-02, 9.61126462e-02, 1.14377953e-01, 1.62122831e-01,\n",
       "        2.55281031e-01, 3.32809359e-01, 3.69379282e-01, 3.88729572e-01,\n",
       "        4.49474186e-01, 5.44634223e-01, 5.92269540e-01, 6.10618055e-01,\n",
       "        6.06908679e-01, 5.68527579e-01, 5.53918958e-01, 6.03362799e-01,\n",
       "        6.28863811e-01, 6.20454311e-01, 5.94379842e-01, 5.19162536e-01,\n",
       "        4.50660557e-01, 4.38198984e-01, 4.14915353e-01, 3.62954557e-01,\n",
       "        2.78831005e-01, 2.23770574e-01, 1.94005206e-01, 5.49943298e-02,\n",
       "        2.98063289e-02, 9.49377120e-02, 1.19042642e-01, 1.68931544e-01,\n",
       "        2.63004452e-01, 3.36376518e-01, 3.75707000e-01, 3.92986804e-01,\n",
       "        4.56917137e-01, 5.42850554e-01, 5.89579225e-01, 6.06477916e-01,\n",
       "        6.01827383e-01, 5.59140682e-01, 5.42861462e-01, 5.87216914e-01,\n",
       "        6.11927390e-01, 6.03961885e-01, 5.73564649e-01, 5.00092089e-01,\n",
       "        4.27225858e-01, 4.17714924e-01, 3.99812967e-01, 3.51270258e-01,\n",
       "        2.69799918e-01, 2.12975249e-01, 1.80587247e-01, 5.19135669e-02,\n",
       "        2.64732633e-02, 8.94917697e-02, 1.17214158e-01, 1.66913807e-01,\n",
       "        2.60722369e-01, 3.31113786e-01, 3.66858035e-01, 3.84220272e-01,\n",
       "        4.50990349e-01, 5.30735552e-01, 5.79374731e-01, 5.95432699e-01,\n",
       "        5.93024671e-01, 5.49162626e-01, 5.32545865e-01, 5.74658811e-01,\n",
       "        5.99676609e-01, 5.89397132e-01, 5.55727303e-01, 4.86692011e-01,\n",
       "        4.07963753e-01, 3.95492256e-01, 3.85344952e-01, 3.40791434e-01,\n",
       "        2.59234250e-01, 1.99940965e-01, 1.62093520e-01, 4.27705944e-02,\n",
       "        2.54364200e-02, 8.32055807e-02, 1.10567644e-01, 1.60545543e-01,\n",
       "        2.54158825e-01, 3.24075401e-01, 3.57488632e-01, 3.69888544e-01,\n",
       "        4.41383362e-01, 5.17773509e-01, 5.64117312e-01, 5.80616415e-01,\n",
       "        5.77373862e-01, 5.33699989e-01, 5.13563514e-01, 5.50816357e-01,\n",
       "        5.71051419e-01, 5.57863414e-01, 5.15908062e-01, 4.52457815e-01,\n",
       "        3.75485539e-01, 3.62492383e-01, 3.59712571e-01, 3.16398859e-01,\n",
       "        2.36025378e-01, 1.74278349e-01, 1.34106800e-01, 3.47752161e-02,\n",
       "        2.17019543e-02, 7.31354952e-02, 1.00955591e-01, 1.49284780e-01,\n",
       "        2.40711883e-01, 3.08425307e-01, 3.36840928e-01, 3.46245974e-01,\n",
       "        4.23544824e-01, 4.93941277e-01, 5.39302707e-01, 5.58443785e-01,\n",
       "        5.54161012e-01, 5.09655118e-01, 4.87613350e-01, 5.18248439e-01,\n",
       "        5.36539018e-01, 5.18284321e-01, 4.73834515e-01, 4.15660709e-01,\n",
       "        3.41979295e-01, 3.29392791e-01, 3.30359340e-01, 2.90086210e-01,\n",
       "        2.10034534e-01, 1.48205429e-01, 1.10211574e-01, 2.70052720e-02,\n",
       "        1.68637875e-02, 5.60366996e-02, 8.30801278e-02, 1.31595135e-01,\n",
       "        2.20437735e-01, 2.85603404e-01, 3.12433064e-01, 3.19451421e-01,\n",
       "        4.00734127e-01, 4.68138427e-01, 5.12759805e-01, 5.33346176e-01,\n",
       "        5.28498471e-01, 4.85567302e-01, 4.58161294e-01, 4.80666280e-01,\n",
       "        4.97662187e-01, 4.80550855e-01, 4.36690837e-01, 3.88030082e-01,\n",
       "        3.15437138e-01, 2.99664527e-01, 3.01743686e-01, 2.63791293e-01,\n",
       "        1.85707495e-01, 1.24578863e-01, 8.85259509e-02, 1.99397299e-02,\n",
       "        1.27299242e-02, 4.23390754e-02, 6.66094348e-02, 1.14362620e-01,\n",
       "        1.99610218e-01, 2.60081440e-01, 2.84252226e-01, 2.87516505e-01,\n",
       "        3.68129551e-01, 4.33932662e-01, 4.76502120e-01, 4.99691606e-01,\n",
       "        4.92350489e-01, 4.50212449e-01, 4.23335493e-01, 4.42516714e-01,\n",
       "        4.59422201e-01, 4.47361380e-01, 4.05067503e-01, 3.57219368e-01,\n",
       "        2.82181859e-01, 2.63887227e-01, 2.67174512e-01, 2.30415612e-01,\n",
       "        1.55570135e-01, 9.72196832e-02, 6.38517737e-02, 1.36072943e-02,\n",
       "        8.09332915e-03, 2.89209355e-02, 5.03217094e-02, 9.48392525e-02,\n",
       "        1.74605161e-01, 2.33528286e-01, 2.53465623e-01, 2.52651334e-01,\n",
       "        3.29834759e-01, 3.90919268e-01, 4.36809093e-01, 4.64426577e-01,\n",
       "        4.55521792e-01, 4.15274262e-01, 3.83977592e-01, 4.04556006e-01,\n",
       "        4.23650533e-01, 4.14859802e-01, 3.70948017e-01, 3.21587443e-01,\n",
       "        2.51198202e-01, 2.35307187e-01, 2.39798188e-01, 2.06382081e-01,\n",
       "        1.34103760e-01, 7.72472769e-02, 4.59060334e-02, 9.11921263e-03,\n",
       "        4.29851189e-03, 1.66263971e-02, 3.54155637e-02, 7.53053501e-02,\n",
       "        1.51173010e-01, 2.10985243e-01, 2.25244984e-01, 2.17618451e-01,\n",
       "        2.84460217e-01, 3.42946202e-01, 3.86430562e-01, 4.15072769e-01,\n",
       "        4.06374395e-01, 3.67773771e-01, 3.38624537e-01, 3.57135892e-01,\n",
       "        3.79670948e-01, 3.73162210e-01, 3.33414465e-01, 2.83940613e-01,\n",
       "        2.17253506e-01, 2.06429839e-01, 2.14050755e-01, 1.79217711e-01,\n",
       "        1.08443357e-01, 5.47629967e-02, 2.94651836e-02, 5.69069386e-03,\n",
       "        1.28518301e-03, 6.63870526e-03, 1.95531715e-02, 5.47392853e-02,\n",
       "        1.25895411e-01, 1.82026237e-01, 1.91099882e-01, 1.82545319e-01,\n",
       "        2.34451175e-01, 2.98426419e-01, 3.52358878e-01, 3.86369228e-01,\n",
       "        3.77829313e-01, 3.38602811e-01, 3.11095089e-01, 3.33443642e-01,\n",
       "        3.58748674e-01, 3.51875961e-01, 3.06675643e-01, 2.40656957e-01,\n",
       "        1.79353595e-01, 1.75323114e-01, 1.86965406e-01, 1.53914720e-01,\n",
       "        8.73405337e-02, 3.73402461e-02, 1.65904406e-02, 2.97589949e-03,\n",
       "        5.18447014e-05, 9.47406981e-04, 3.70406453e-03, 1.61560345e-02,\n",
       "        4.77450900e-02, 8.06289539e-02, 8.09322149e-02, 6.60069287e-02,\n",
       "        8.69945660e-02, 1.19699843e-01, 1.63876876e-01, 2.01698199e-01,\n",
       "        2.03466386e-01, 1.77636281e-01, 1.64633840e-01, 1.75199464e-01,\n",
       "        1.93781450e-01, 1.78314611e-01, 1.33123055e-01, 9.03872252e-02,\n",
       "        6.52714595e-02, 7.04361349e-02, 9.08815488e-02, 7.17260540e-02,\n",
       "        3.31599526e-02, 1.22190667e-02, 4.57934989e-03, 5.42020716e-04],\n",
       "       dtype=float32)>,\n",
       " <tf.Variable 'batch_normalization_3/moving_variance:0' shape=(784,) dtype=float32, numpy=\n",
       " array([2.53156873e-08, 1.78491391e-07, 1.07154722e-06, 5.92047618e-05,\n",
       "        2.42298600e-04, 2.18656933e-04, 8.13290884e-04, 2.98849773e-03,\n",
       "        8.80708452e-03, 2.29656063e-02, 5.03853001e-02, 6.56773672e-02,\n",
       "        7.05680028e-02, 6.96370974e-02, 6.96558431e-02, 7.29084983e-02,\n",
       "        7.02879131e-02, 6.01692684e-02, 4.13525440e-02, 1.62968058e-02,\n",
       "        5.69421565e-03, 2.54452066e-03, 1.16729259e-03, 8.66552466e-04,\n",
       "        5.16395085e-04, 1.52331035e-04, 1.00910380e-04, 2.25837061e-06,\n",
       "        4.55496229e-06, 1.79701601e-05, 7.32630797e-05, 6.91789319e-04,\n",
       "        1.18551799e-03, 3.27910041e-03, 1.28013855e-02, 3.31421010e-02,\n",
       "        6.31647259e-02, 1.01328447e-01, 1.35687068e-01, 1.47714064e-01,\n",
       "        1.58224285e-01, 1.55783325e-01, 1.56061232e-01, 1.59510747e-01,\n",
       "        1.52600944e-01, 1.39774278e-01, 1.25259295e-01, 8.42990726e-02,\n",
       "        5.18256985e-02, 2.70447899e-02, 1.20694675e-02, 7.19049992e-03,\n",
       "        4.54414543e-03, 1.99439866e-03, 7.93155632e-04, 1.29754524e-04,\n",
       "        1.34494360e-06, 1.22964833e-04, 5.13056235e-04, 1.48382771e-03,\n",
       "        4.32552537e-03, 1.83611605e-02, 4.77019139e-02, 7.14313686e-02,\n",
       "        9.10442844e-02, 1.12657204e-01, 1.32761523e-01, 1.32104352e-01,\n",
       "        1.35100424e-01, 1.39955893e-01, 1.43401578e-01, 1.39053375e-01,\n",
       "        1.31661952e-01, 1.28844887e-01, 1.25500560e-01, 1.03939034e-01,\n",
       "        8.62901956e-02, 6.91458583e-02, 4.15276475e-02, 1.99360978e-02,\n",
       "        1.16001284e-02, 5.78213390e-03, 2.12725601e-03, 3.49860697e-04,\n",
       "        8.73284516e-05, 7.06954743e-04, 1.09369063e-03, 3.07328906e-03,\n",
       "        1.21626928e-02, 4.19818163e-02, 6.97101206e-02, 9.08323452e-02,\n",
       "        1.07499003e-01, 1.21289171e-01, 1.31578997e-01, 1.28433183e-01,\n",
       "        1.31936222e-01, 1.35167748e-01, 1.35756448e-01, 1.31987542e-01,\n",
       "        1.26641974e-01, 1.25251785e-01, 1.25982851e-01, 1.15632519e-01,\n",
       "        1.03968516e-01, 8.89880136e-02, 6.91341460e-02, 4.04511169e-02,\n",
       "        2.03238316e-02, 1.13107497e-02, 5.35296043e-03, 4.18281794e-04,\n",
       "        2.50850251e-04, 1.41028024e-03, 2.44459161e-03, 6.37488998e-03,\n",
       "        2.54900362e-02, 5.88158555e-02, 8.99791718e-02, 1.06648102e-01,\n",
       "        1.14209026e-01, 1.20886609e-01, 1.28388658e-01, 1.24629676e-01,\n",
       "        1.28975928e-01, 1.31199002e-01, 1.30531669e-01, 1.27732739e-01,\n",
       "        1.22058667e-01, 1.20509177e-01, 1.21651061e-01, 1.17586166e-01,\n",
       "        1.15490027e-01, 1.06937528e-01, 8.76728669e-02, 5.88590130e-02,\n",
       "        3.25047858e-02, 1.77709013e-02, 8.44759028e-03, 9.84661048e-04,\n",
       "        4.39168711e-04, 2.79076397e-03, 4.94235056e-03, 1.21679446e-02,\n",
       "        3.79763097e-02, 7.49536157e-02, 1.01828404e-01, 1.12041637e-01,\n",
       "        1.17895104e-01, 1.21275209e-01, 1.26613066e-01, 1.22234397e-01,\n",
       "        1.24409772e-01, 1.25737727e-01, 1.26291141e-01, 1.22630268e-01,\n",
       "        1.16983034e-01, 1.15919560e-01, 1.17463335e-01, 1.18213266e-01,\n",
       "        1.21024281e-01, 1.16481297e-01, 1.03703894e-01, 7.66876787e-02,\n",
       "        4.97847013e-02, 2.80254893e-02, 1.50002260e-02, 1.87924516e-03,\n",
       "        8.69835785e-04, 3.78329703e-03, 8.38845223e-03, 2.00881194e-02,\n",
       "        4.91652414e-02, 8.58482867e-02, 1.10636823e-01, 1.18520170e-01,\n",
       "        1.20928608e-01, 1.20669045e-01, 1.23336926e-01, 1.20001957e-01,\n",
       "        1.21142760e-01, 1.23149723e-01, 1.22880705e-01, 1.19072303e-01,\n",
       "        1.11666292e-01, 1.10150047e-01, 1.12556621e-01, 1.16604328e-01,\n",
       "        1.23267435e-01, 1.23692580e-01, 1.13792591e-01, 9.12980884e-02,\n",
       "        6.75470755e-02, 4.18847315e-02, 2.24982481e-02, 3.34961060e-03,\n",
       "        1.12583162e-03, 5.35961194e-03, 1.14066228e-02, 2.68411767e-02,\n",
       "        5.87088428e-02, 9.32885185e-02, 1.17140889e-01, 1.25183448e-01,\n",
       "        1.22631699e-01, 1.19433120e-01, 1.21184103e-01, 1.19140185e-01,\n",
       "        1.19123705e-01, 1.18887536e-01, 1.16887026e-01, 1.13859028e-01,\n",
       "        1.06069483e-01, 1.03921555e-01, 1.08368382e-01, 1.14240848e-01,\n",
       "        1.25804693e-01, 1.29209638e-01, 1.20694138e-01, 1.01779908e-01,\n",
       "        8.10990185e-02, 5.57605550e-02, 2.67290995e-02, 4.51389560e-03,\n",
       "        1.35852245e-03, 7.61062792e-03, 1.51270106e-02, 3.26100774e-02,\n",
       "        6.62731901e-02, 1.00303136e-01, 1.20649114e-01, 1.32171333e-01,\n",
       "        1.27483755e-01, 1.19729869e-01, 1.21594965e-01, 1.17814571e-01,\n",
       "        1.19035043e-01, 1.15095869e-01, 1.09885596e-01, 1.06432974e-01,\n",
       "        9.67140496e-02, 9.43365395e-02, 1.04649521e-01, 1.14198782e-01,\n",
       "        1.28898829e-01, 1.32391840e-01, 1.24434747e-01, 1.10639907e-01,\n",
       "        9.02734548e-02, 7.11394697e-02, 3.56466621e-02, 4.91436524e-03,\n",
       "        1.62774650e-03, 1.09674670e-02, 1.79542620e-02, 3.75759825e-02,\n",
       "        7.21759498e-02, 1.06532432e-01, 1.24864243e-01, 1.36662006e-01,\n",
       "        1.30873516e-01, 1.21318832e-01, 1.21338591e-01, 1.17952213e-01,\n",
       "        1.19490288e-01, 1.11971997e-01, 1.03333309e-01, 9.49974135e-02,\n",
       "        8.61722007e-02, 8.62389728e-02, 1.00622237e-01, 1.14124171e-01,\n",
       "        1.29931346e-01, 1.33961394e-01, 1.28437743e-01, 1.17180519e-01,\n",
       "        1.00232452e-01, 8.51743668e-02, 4.58284542e-02, 6.38861209e-03,\n",
       "        2.29517161e-03, 1.41826523e-02, 1.94496512e-02, 3.83954197e-02,\n",
       "        7.43934214e-02, 1.10157229e-01, 1.26752347e-01, 1.38196230e-01,\n",
       "        1.32097080e-01, 1.22677252e-01, 1.20345205e-01, 1.14455335e-01,\n",
       "        1.12827688e-01, 1.01652130e-01, 9.63501185e-02, 8.55554789e-02,\n",
       "        7.91478530e-02, 7.92463496e-02, 9.55597684e-02, 1.11399807e-01,\n",
       "        1.29356548e-01, 1.33096427e-01, 1.29826024e-01, 1.20643839e-01,\n",
       "        1.06385835e-01, 9.59629565e-02, 5.85309453e-02, 8.43819417e-03,\n",
       "        3.20617715e-03, 1.67206023e-02, 2.00510137e-02, 3.64940539e-02,\n",
       "        7.18880817e-02, 1.09801091e-01, 1.24067478e-01, 1.36837840e-01,\n",
       "        1.32152006e-01, 1.22145034e-01, 1.14810430e-01, 1.06003188e-01,\n",
       "        1.03141181e-01, 9.52889249e-02, 9.27117467e-02, 8.12772885e-02,\n",
       "        7.80969709e-02, 7.72819072e-02, 8.94389302e-02, 1.07913613e-01,\n",
       "        1.25602409e-01, 1.30508199e-01, 1.29216194e-01, 1.22073531e-01,\n",
       "        1.09073952e-01, 1.06026404e-01, 7.30821416e-02, 1.03748590e-02,\n",
       "        3.89131927e-03, 1.78390704e-02, 2.11172104e-02, 3.79389338e-02,\n",
       "        7.30731115e-02, 1.10572673e-01, 1.23446375e-01, 1.32429093e-01,\n",
       "        1.26760229e-01, 1.15373887e-01, 1.06900759e-01, 9.89565179e-02,\n",
       "        9.55885500e-02, 9.12257284e-02, 9.22375247e-02, 8.07172358e-02,\n",
       "        7.59919137e-02, 7.62114674e-02, 8.49222615e-02, 1.04928471e-01,\n",
       "        1.22794524e-01, 1.29841939e-01, 1.30367681e-01, 1.26252592e-01,\n",
       "        1.13438047e-01, 1.09499827e-01, 8.69962052e-02, 1.18514895e-02,\n",
       "        4.81244549e-03, 1.92430876e-02, 2.35150997e-02, 4.17942517e-02,\n",
       "        7.69832581e-02, 1.15121968e-01, 1.25864848e-01, 1.31384566e-01,\n",
       "        1.22210510e-01, 1.11915521e-01, 1.00894623e-01, 9.23376977e-02,\n",
       "        8.84053409e-02, 8.85849595e-02, 9.27737355e-02, 7.96933621e-02,\n",
       "        7.49122351e-02, 7.55435154e-02, 8.29567686e-02, 1.03766970e-01,\n",
       "        1.21525079e-01, 1.30848005e-01, 1.33117050e-01, 1.28856435e-01,\n",
       "        1.16729535e-01, 1.10820942e-01, 9.68301892e-02, 1.47543000e-02,\n",
       "        5.91452653e-03, 2.54176278e-02, 3.19830701e-02, 5.07122129e-02,\n",
       "        8.51744339e-02, 1.18735135e-01, 1.26781210e-01, 1.30127788e-01,\n",
       "        1.18600912e-01, 1.08667351e-01, 9.47564095e-02, 8.43371525e-02,\n",
       "        8.22777152e-02, 8.76269490e-02, 9.23317000e-02, 7.88220316e-02,\n",
       "        7.35892281e-02, 7.23879561e-02, 8.01198110e-02, 1.01289570e-01,\n",
       "        1.20576181e-01, 1.31014451e-01, 1.34438396e-01, 1.28488362e-01,\n",
       "        1.16682023e-01, 1.11250818e-01, 1.04295947e-01, 1.73500795e-02,\n",
       "        9.31222551e-03, 4.06956933e-02, 4.55538258e-02, 6.37055486e-02,\n",
       "        9.31556374e-02, 1.21873863e-01, 1.28401101e-01, 1.27990961e-01,\n",
       "        1.15358956e-01, 1.03479423e-01, 8.68601352e-02, 7.72880688e-02,\n",
       "        7.79947042e-02, 8.64085481e-02, 9.27396789e-02, 7.84443393e-02,\n",
       "        7.12644830e-02, 7.07990825e-02, 7.73277432e-02, 9.96769369e-02,\n",
       "        1.19217016e-01, 1.31882399e-01, 1.32918268e-01, 1.27734289e-01,\n",
       "        1.17156051e-01, 1.12605624e-01, 1.09550811e-01, 2.03395933e-02,\n",
       "        1.17564071e-02, 4.67904769e-02, 5.32054789e-02, 7.11461306e-02,\n",
       "        9.87210050e-02, 1.22778751e-01, 1.29618675e-01, 1.24714158e-01,\n",
       "        1.12043813e-01, 9.72682163e-02, 7.89166391e-02, 7.29747638e-02,\n",
       "        7.65353069e-02, 8.55170414e-02, 9.28847939e-02, 7.69341737e-02,\n",
       "        6.76814020e-02, 6.71492442e-02, 7.71589801e-02, 9.82442200e-02,\n",
       "        1.19026899e-01, 1.34251922e-01, 1.35302514e-01, 1.28174305e-01,\n",
       "        1.17228359e-01, 1.11590184e-01, 1.10521108e-01, 2.07656082e-02,\n",
       "        1.14150476e-02, 5.03195077e-02, 5.69658019e-02, 7.55584314e-02,\n",
       "        1.01915516e-01, 1.23891897e-01, 1.29402801e-01, 1.20433301e-01,\n",
       "        1.09293014e-01, 9.50751305e-02, 7.56326616e-02, 7.02993274e-02,\n",
       "        7.35389665e-02, 8.67177472e-02, 9.18183029e-02, 7.60161206e-02,\n",
       "        6.66683763e-02, 6.67717606e-02, 7.86239430e-02, 1.01259962e-01,\n",
       "        1.18473023e-01, 1.33079380e-01, 1.33678824e-01, 1.24326974e-01,\n",
       "        1.12002656e-01, 1.04841456e-01, 1.01062968e-01, 1.86640248e-02,\n",
       "        9.97197628e-03, 4.93077673e-02, 5.70892878e-02, 7.49415457e-02,\n",
       "        1.00995682e-01, 1.22205585e-01, 1.29194930e-01, 1.18901789e-01,\n",
       "        1.09920233e-01, 9.60868001e-02, 7.71483630e-02, 7.34195262e-02,\n",
       "        7.74233788e-02, 9.05883610e-02, 9.64374840e-02, 8.17541033e-02,\n",
       "        7.41105303e-02, 7.51926154e-02, 8.83812979e-02, 1.07337072e-01,\n",
       "        1.19347304e-01, 1.33991107e-01, 1.34880975e-01, 1.23294577e-01,\n",
       "        1.09598324e-01, 1.01111911e-01, 9.46080759e-02, 1.71364285e-02,\n",
       "        8.70234799e-03, 4.83357199e-02, 5.95679358e-02, 7.58074895e-02,\n",
       "        1.01782955e-01, 1.22884192e-01, 1.27704546e-01, 1.15722068e-01,\n",
       "        1.10798031e-01, 9.80832502e-02, 8.15963149e-02, 7.93982446e-02,\n",
       "        8.21853653e-02, 9.40076634e-02, 9.92970392e-02, 8.71828496e-02,\n",
       "        8.00317451e-02, 8.20634663e-02, 9.35777575e-02, 1.10396989e-01,\n",
       "        1.16497867e-01, 1.29658371e-01, 1.32921755e-01, 1.20557085e-01,\n",
       "        1.04543462e-01, 9.44885612e-02, 8.58498961e-02, 1.39885293e-02,\n",
       "        9.31227300e-03, 4.66280244e-02, 5.90297654e-02, 7.66584575e-02,\n",
       "        1.03224367e-01, 1.24721795e-01, 1.29816607e-01, 1.17001876e-01,\n",
       "        1.15208410e-01, 1.05663963e-01, 9.07352567e-02, 8.87791365e-02,\n",
       "        9.06648114e-02, 1.00956343e-01, 1.07253835e-01, 9.80412811e-02,\n",
       "        9.41920951e-02, 9.66714025e-02, 1.05800442e-01, 1.18690863e-01,\n",
       "        1.17736213e-01, 1.28525540e-01, 1.35108367e-01, 1.19764864e-01,\n",
       "        1.00215688e-01, 8.71231556e-02, 7.53310397e-02, 1.23532666e-02,\n",
       "        8.02745111e-03, 4.22427356e-02, 5.64395785e-02, 7.44026601e-02,\n",
       "        1.02536470e-01, 1.27292782e-01, 1.30892560e-01, 1.18747741e-01,\n",
       "        1.21799618e-01, 1.15486130e-01, 1.02435507e-01, 1.02101780e-01,\n",
       "        1.03718258e-01, 1.11660644e-01, 1.17382810e-01, 1.11002058e-01,\n",
       "        1.08565375e-01, 1.11300625e-01, 1.17778480e-01, 1.25035405e-01,\n",
       "        1.17973372e-01, 1.27006292e-01, 1.34482563e-01, 1.18223429e-01,\n",
       "        9.47632939e-02, 7.85679296e-02, 6.48027211e-02, 9.85733513e-03,\n",
       "        6.13842439e-03, 3.27639133e-02, 4.71745431e-02, 6.78017884e-02,\n",
       "        9.75522920e-02, 1.24814354e-01, 1.29594460e-01, 1.16283432e-01,\n",
       "        1.25225648e-01, 1.22740783e-01, 1.12309486e-01, 1.12485163e-01,\n",
       "        1.13720529e-01, 1.19860455e-01, 1.24292433e-01, 1.20985702e-01,\n",
       "        1.20419465e-01, 1.22881129e-01, 1.23262018e-01, 1.27658904e-01,\n",
       "        1.16124272e-01, 1.22535452e-01, 1.31940857e-01, 1.14304274e-01,\n",
       "        8.78175795e-02, 6.88976794e-02, 5.36096804e-02, 7.27815926e-03,\n",
       "        4.61505353e-03, 2.55275685e-02, 3.87868546e-02, 6.08778410e-02,\n",
       "        9.29486901e-02, 1.21565618e-01, 1.26504853e-01, 1.13346249e-01,\n",
       "        1.27103269e-01, 1.29000098e-01, 1.21442869e-01, 1.22581691e-01,\n",
       "        1.23102486e-01, 1.27527878e-01, 1.31226644e-01, 1.28712177e-01,\n",
       "        1.29696190e-01, 1.29210100e-01, 1.27102062e-01, 1.28318638e-01,\n",
       "        1.11053497e-01, 1.14496395e-01, 1.25153020e-01, 1.05875082e-01,\n",
       "        7.59651735e-02, 5.57456091e-02, 4.00978662e-02, 4.98149171e-03,\n",
       "        3.04917619e-03, 1.74347106e-02, 2.96769254e-02, 5.13844118e-02,\n",
       "        8.35061893e-02, 1.13329746e-01, 1.16871297e-01, 1.05031610e-01,\n",
       "        1.24654911e-01, 1.29881740e-01, 1.26210392e-01, 1.29082650e-01,\n",
       "        1.29173473e-01, 1.31209016e-01, 1.33220747e-01, 1.31879479e-01,\n",
       "        1.33645937e-01, 1.32116288e-01, 1.26774967e-01, 1.24736793e-01,\n",
       "        1.05254725e-01, 1.05710216e-01, 1.17146306e-01, 9.88005325e-02,\n",
       "        6.71566203e-02, 4.53669429e-02, 2.87673641e-02, 3.56536172e-03,\n",
       "        1.60553935e-03, 9.57138743e-03, 2.11605374e-02, 4.12092581e-02,\n",
       "        7.53820390e-02, 1.07508712e-01, 1.09040640e-01, 9.71943215e-02,\n",
       "        1.19578570e-01, 1.29380047e-01, 1.28847390e-01, 1.33396730e-01,\n",
       "        1.32817745e-01, 1.31711110e-01, 1.30266845e-01, 1.29922107e-01,\n",
       "        1.33488700e-01, 1.31709546e-01, 1.24822870e-01, 1.19796015e-01,\n",
       "        9.61176530e-02, 9.62944776e-02, 1.08653590e-01, 8.94283652e-02,\n",
       "        5.49669117e-02, 3.24334763e-02, 1.82509143e-02, 2.33844575e-03,\n",
       "        4.39593336e-04, 3.98403220e-03, 1.12601984e-02, 3.03657223e-02,\n",
       "        6.60646558e-02, 9.96467546e-02, 9.92975235e-02, 8.93415436e-02,\n",
       "        1.13307558e-01, 1.30255565e-01, 1.41215771e-01, 1.51320145e-01,\n",
       "        1.51029885e-01, 1.45727485e-01, 1.41718522e-01, 1.44806311e-01,\n",
       "        1.49970219e-01, 1.46151230e-01, 1.32518813e-01, 1.15088239e-01,\n",
       "        8.97835270e-02, 8.75215754e-02, 1.02857687e-01, 8.31253827e-02,\n",
       "        4.63982970e-02, 2.19062101e-02, 1.05550699e-02, 1.23571174e-03,\n",
       "        3.64332618e-06, 2.86004244e-04, 1.37891294e-03, 6.27147639e-03,\n",
       "        1.92938335e-02, 3.47236581e-02, 3.46406400e-02, 2.52875388e-02,\n",
       "        3.41941044e-02, 4.47060689e-02, 5.71304336e-02, 6.90607205e-02,\n",
       "        7.06591904e-02, 6.54320493e-02, 6.36429116e-02, 6.46261945e-02,\n",
       "        6.84538707e-02, 6.27970323e-02, 4.82597724e-02, 3.50269303e-02,\n",
       "        2.60654818e-02, 2.89483704e-02, 4.05776575e-02, 3.08065303e-02,\n",
       "        1.29789589e-02, 5.39638428e-03, 2.01245211e-03, 1.38830554e-04],\n",
       "       dtype=float32)>]"
      ]
     },
     "execution_count": 97,
     "metadata": {},
     "output_type": "execute_result"
    }
   ],
   "source": [
    "model.layers[1].variables"
   ]
  },
  {
   "cell_type": "code",
   "execution_count": 92,
   "metadata": {
    "ExecuteTime": {
     "end_time": "2021-07-17T07:37:06.230051Z",
     "start_time": "2021-07-17T07:37:06.211030Z"
    }
   },
   "outputs": [],
   "source": [
    "model.compile(loss='sparse_categorical_crossentropy',\n",
    "             optimizer=keras.optimizers.SGD(lr=1e-3),\n",
    "             metrics=[\"accuracy\"])"
   ]
  },
  {
   "cell_type": "code",
   "execution_count": 93,
   "metadata": {
    "ExecuteTime": {
     "end_time": "2021-07-17T07:39:20.616597Z",
     "start_time": "2021-07-17T07:38:10.272847Z"
    },
    "scrolled": true
   },
   "outputs": [
    {
     "name": "stdout",
     "output_type": "stream",
     "text": [
      "Epoch 1/10\n",
      "1719/1719 [==============================] - 8s 4ms/step - loss: 0.8354 - accuracy: 0.7244 - val_loss: 0.5678 - val_accuracy: 0.8114\n",
      "Epoch 2/10\n",
      "1719/1719 [==============================] - 6s 4ms/step - loss: 0.5768 - accuracy: 0.8023 - val_loss: 0.4928 - val_accuracy: 0.8348\n",
      "Epoch 3/10\n",
      "1719/1719 [==============================] - 7s 4ms/step - loss: 0.5217 - accuracy: 0.8192 - val_loss: 0.4559 - val_accuracy: 0.8444\n",
      "Epoch 4/10\n",
      "1719/1719 [==============================] - 8s 4ms/step - loss: 0.4832 - accuracy: 0.8332 - val_loss: 0.4336 - val_accuracy: 0.8542\n",
      "Epoch 5/10\n",
      "1719/1719 [==============================] - 6s 4ms/step - loss: 0.4575 - accuracy: 0.8389 - val_loss: 0.4197 - val_accuracy: 0.8554\n",
      "Epoch 6/10\n",
      "1719/1719 [==============================] - 6s 3ms/step - loss: 0.4403 - accuracy: 0.8441 - val_loss: 0.4060 - val_accuracy: 0.8622\n",
      "Epoch 7/10\n",
      "1719/1719 [==============================] - 7s 4ms/step - loss: 0.4256 - accuracy: 0.8503 - val_loss: 0.3953 - val_accuracy: 0.8644\n",
      "Epoch 8/10\n",
      "1719/1719 [==============================] - 7s 4ms/step - loss: 0.4139 - accuracy: 0.8533 - val_loss: 0.3907 - val_accuracy: 0.8644\n",
      "Epoch 9/10\n",
      "1719/1719 [==============================] - 7s 4ms/step - loss: 0.4041 - accuracy: 0.8576 - val_loss: 0.3835 - val_accuracy: 0.8668\n",
      "Epoch 10/10\n",
      "1719/1719 [==============================] - 8s 5ms/step - loss: 0.3933 - accuracy: 0.8615 - val_loss: 0.3774 - val_accuracy: 0.8698\n"
     ]
    }
   ],
   "source": [
    "history = model.fit(X_train,y_train,epochs=10,\n",
    "                   validation_data=(X_valid,y_valid))"
   ]
  },
  {
   "cell_type": "code",
   "execution_count": 94,
   "metadata": {
    "ExecuteTime": {
     "end_time": "2021-07-17T07:39:44.018654Z",
     "start_time": "2021-07-17T07:39:43.574646Z"
    }
   },
   "outputs": [
    {
     "name": "stdout",
     "output_type": "stream",
     "text": [
      "313/313 [==============================] - 0s 1ms/step - loss: 0.4041 - accuracy: 0.8555\n"
     ]
    },
    {
     "data": {
      "text/plain": [
       "[0.4041055738925934, 0.8554999828338623]"
      ]
     },
     "execution_count": 94,
     "metadata": {},
     "output_type": "execute_result"
    }
   ],
   "source": [
    "model.evaluate(X_test,y_test)"
   ]
  },
  {
   "cell_type": "code",
   "execution_count": 101,
   "metadata": {
    "ExecuteTime": {
     "end_time": "2021-07-17T07:46:14.800447Z",
     "start_time": "2021-07-17T07:46:14.706074Z"
    }
   },
   "outputs": [],
   "source": [
    "model = keras.models.Sequential([\n",
    "    keras.layers.Flatten(input_shape=[28, 28]),\n",
    "    keras.layers.BatchNormalization(),\n",
    "    keras.layers.Dense(300, activation=\"relu\",use_bias=False),\n",
    "    keras.layers.BatchNormalization(),\n",
    "    keras.layers.Dense(100, activation=\"relu\",use_bias=False),\n",
    "    keras.layers.BatchNormalization(),\n",
    "    keras.layers.Dense(10, activation=\"softmax\")\n",
    "])"
   ]
  },
  {
   "cell_type": "code",
   "execution_count": 102,
   "metadata": {
    "ExecuteTime": {
     "end_time": "2021-07-17T07:46:20.162309Z",
     "start_time": "2021-07-17T07:46:20.136682Z"
    }
   },
   "outputs": [
    {
     "name": "stdout",
     "output_type": "stream",
     "text": [
      "Model: \"sequential_12\"\n",
      "_________________________________________________________________\n",
      "Layer (type)                 Output Shape              Param #   \n",
      "=================================================================\n",
      "flatten_12 (Flatten)         (None, 784)               0         \n",
      "_________________________________________________________________\n",
      "batch_normalization_6 (Batch (None, 784)               3136      \n",
      "_________________________________________________________________\n",
      "dense_526 (Dense)            (None, 300)               235200    \n",
      "_________________________________________________________________\n",
      "batch_normalization_7 (Batch (None, 300)               1200      \n",
      "_________________________________________________________________\n",
      "dense_527 (Dense)            (None, 100)               30000     \n",
      "_________________________________________________________________\n",
      "batch_normalization_8 (Batch (None, 100)               400       \n",
      "_________________________________________________________________\n",
      "dense_528 (Dense)            (None, 10)                1010      \n",
      "=================================================================\n",
      "Total params: 270,946\n",
      "Trainable params: 268,578\n",
      "Non-trainable params: 2,368\n",
      "_________________________________________________________________\n"
     ]
    }
   ],
   "source": [
    "model.summary()"
   ]
  },
  {
   "cell_type": "code",
   "execution_count": 103,
   "metadata": {
    "ExecuteTime": {
     "end_time": "2021-07-17T07:53:39.202487Z",
     "start_time": "2021-07-17T07:53:39.179483Z"
    }
   },
   "outputs": [],
   "source": [
    "model.compile(loss=\"sparse_categorical_crossentropy\",\n",
    "              optimizer=keras.optimizers.SGD(lr=1e-3),\n",
    "              metrics=[\"accuracy\"])"
   ]
  },
  {
   "cell_type": "code",
   "execution_count": 104,
   "metadata": {
    "ExecuteTime": {
     "end_time": "2021-07-17T07:54:43.462568Z",
     "start_time": "2021-07-17T07:53:41.770567Z"
    },
    "scrolled": true
   },
   "outputs": [
    {
     "name": "stdout",
     "output_type": "stream",
     "text": [
      "Epoch 1/10\n",
      "1719/1719 [==============================] - 7s 4ms/step - loss: 0.8751 - accuracy: 0.7116 - val_loss: 0.5584 - val_accuracy: 0.8132\n",
      "Epoch 2/10\n",
      "1719/1719 [==============================] - 6s 3ms/step - loss: 0.5796 - accuracy: 0.7992 - val_loss: 0.4741 - val_accuracy: 0.8396\n",
      "Epoch 3/10\n",
      "1719/1719 [==============================] - 6s 3ms/step - loss: 0.5219 - accuracy: 0.8212 - val_loss: 0.4361 - val_accuracy: 0.8512\n",
      "Epoch 4/10\n",
      "1719/1719 [==============================] - 6s 3ms/step - loss: 0.4806 - accuracy: 0.8330 - val_loss: 0.4133 - val_accuracy: 0.8588\n",
      "Epoch 5/10\n",
      "1719/1719 [==============================] - 6s 3ms/step - loss: 0.4557 - accuracy: 0.8394 - val_loss: 0.3978 - val_accuracy: 0.8630\n",
      "Epoch 6/10\n",
      "1719/1719 [==============================] - 6s 4ms/step - loss: 0.4364 - accuracy: 0.8477 - val_loss: 0.3855 - val_accuracy: 0.8680\n",
      "Epoch 7/10\n",
      "1719/1719 [==============================] - 6s 3ms/step - loss: 0.4244 - accuracy: 0.8516 - val_loss: 0.3748 - val_accuracy: 0.8710\n",
      "Epoch 8/10\n",
      "1719/1719 [==============================] - 6s 3ms/step - loss: 0.4115 - accuracy: 0.8551 - val_loss: 0.3693 - val_accuracy: 0.8754\n",
      "Epoch 9/10\n",
      "1719/1719 [==============================] - 6s 3ms/step - loss: 0.4007 - accuracy: 0.8592 - val_loss: 0.3634 - val_accuracy: 0.8744\n",
      "Epoch 10/10\n",
      "1719/1719 [==============================] - 6s 4ms/step - loss: 0.3906 - accuracy: 0.8611 - val_loss: 0.3569 - val_accuracy: 0.8774\n"
     ]
    }
   ],
   "source": [
    "history = model.fit(X_train, y_train, epochs=10,\n",
    "                    validation_data=(X_valid, y_valid))"
   ]
  },
  {
   "cell_type": "code",
   "execution_count": 105,
   "metadata": {
    "ExecuteTime": {
     "end_time": "2021-07-17T07:55:41.679687Z",
     "start_time": "2021-07-17T07:55:41.226038Z"
    }
   },
   "outputs": [
    {
     "name": "stdout",
     "output_type": "stream",
     "text": [
      "313/313 [==============================] - 0s 1ms/step - loss: 0.4007 - accuracy: 0.8588\n"
     ]
    },
    {
     "data": {
      "text/plain": [
       "[0.4006737768650055, 0.8587999939918518]"
      ]
     },
     "execution_count": 105,
     "metadata": {},
     "output_type": "execute_result"
    }
   ],
   "source": [
    "model.evaluate(X_test,y_test)"
   ]
  },
  {
   "cell_type": "markdown",
   "metadata": {},
   "source": [
    "### 그래디언트 클리핑\n",
    "\n",
    "- 그래디언트 폭주 문제를 완하하기 위해 역전파될 때 일정 임계값을 넘어서지 못하게 그래디언트를 잘라내는 방법을 **그래디언트 클리핑**이라고 한다\n",
    "- 볼 순환 신경망과 같은 배치 정규화를 적용하기 어려운 네트워크에 이 방법을 사용한다\n",
    "- 그 외의 다른 종류의 네트워크는 배치 정규화로 충분하다"
   ]
  },
  {
   "cell_type": "markdown",
   "metadata": {},
   "source": [
    "### 사전훈련된 층 재사용\n",
    "* `X_train_A`: 샌달과 셔츠(클래스 5와 6)을 제외한 모든 이미지\n",
    "* `X_train_B`: 샌달과 셔츠이미지 중 처음 200개만 가진 작은 훈련 세트\n",
    "\n",
    "- A 세트를 훈련하고 이를 재사용하여 B 세트를 해결하는데 약간의 지식이 전달되기를 기대한다(전이학습)"
   ]
  },
  {
   "cell_type": "code",
   "execution_count": 4,
   "metadata": {
    "ExecuteTime": {
     "end_time": "2021-07-19T09:29:37.919495Z",
     "start_time": "2021-07-19T09:29:37.772499Z"
    }
   },
   "outputs": [],
   "source": [
    "# 데이터 전처리\n",
    "\n",
    "def split_dataset(X, y):\n",
    "    y_5_or_6 = (y == 5) | (y == 6) # sandals or shirts\n",
    "    y_A = y[~y_5_or_6]\n",
    "    y_A[y_A > 6] -= 2 # class indices 7, 8, 9 should be moved to 5, 6, 7\n",
    "    y_B = (y[y_5_or_6] == 6).astype(np.float32) # binary classification task: is it a shirt (class 6)?\n",
    "    return ((X[~y_5_or_6], y_A),\n",
    "            (X[y_5_or_6], y_B))\n",
    "\n",
    "(X_train_A, y_train_A), (X_train_B, y_train_B) = split_dataset(X_train, y_train)\n",
    "(X_valid_A, y_valid_A), (X_valid_B, y_valid_B) = split_dataset(X_valid, y_valid)\n",
    "(X_test_A, y_test_A), (X_test_B, y_test_B) = split_dataset(X_test, y_test)\n",
    "X_train_B = X_train_B[:200]\n",
    "y_train_B = y_train_B[:200]"
   ]
  },
  {
   "cell_type": "code",
   "execution_count": 5,
   "metadata": {
    "ExecuteTime": {
     "end_time": "2021-07-19T09:29:38.385610Z",
     "start_time": "2021-07-19T09:29:38.284887Z"
    }
   },
   "outputs": [],
   "source": [
    "tf.random.set_seed(42)\n",
    "np.random.seed(42)\n",
    "\n",
    "model_A = keras.models.Sequential()\n",
    "model_A.add(keras.layers.Flatten(input_shape=[28, 28]))\n",
    "for n_hidden in (300, 100, 50, 50, 50):\n",
    "    model_A.add(keras.layers.Dense(n_hidden, activation=\"selu\"))\n",
    "model_A.add(keras.layers.Dense(8, activation=\"softmax\"))"
   ]
  },
  {
   "cell_type": "code",
   "execution_count": 165,
   "metadata": {
    "ExecuteTime": {
     "end_time": "2021-07-17T08:53:04.859528Z",
     "start_time": "2021-07-17T08:53:04.844599Z"
    },
    "scrolled": true
   },
   "outputs": [
    {
     "name": "stdout",
     "output_type": "stream",
     "text": [
      "Model: \"sequential_19\"\n",
      "_________________________________________________________________\n",
      "Layer (type)                 Output Shape              Param #   \n",
      "=================================================================\n",
      "flatten_17 (Flatten)         (None, 784)               0         \n",
      "_________________________________________________________________\n",
      "dense_555 (Dense)            (None, 300)               235500    \n",
      "_________________________________________________________________\n",
      "dense_556 (Dense)            (None, 100)               30100     \n",
      "_________________________________________________________________\n",
      "dense_557 (Dense)            (None, 50)                5050      \n",
      "_________________________________________________________________\n",
      "dense_558 (Dense)            (None, 50)                2550      \n",
      "_________________________________________________________________\n",
      "dense_559 (Dense)            (None, 50)                2550      \n",
      "_________________________________________________________________\n",
      "dense_560 (Dense)            (None, 8)                 408       \n",
      "=================================================================\n",
      "Total params: 276,158\n",
      "Trainable params: 276,158\n",
      "Non-trainable params: 0\n",
      "_________________________________________________________________\n"
     ]
    }
   ],
   "source": [
    "model_A.summary()"
   ]
  },
  {
   "cell_type": "code",
   "execution_count": 187,
   "metadata": {
    "ExecuteTime": {
     "end_time": "2021-07-17T08:56:32.349059Z",
     "start_time": "2021-07-17T08:56:32.328053Z"
    }
   },
   "outputs": [],
   "source": [
    "model_A.compile(loss=\"sparse_categorical_crossentropy\",\n",
    "                optimizer=keras.optimizers.SGD(lr=1e-3),\n",
    "                metrics=[\"accuracy\"])"
   ]
  },
  {
   "cell_type": "code",
   "execution_count": 188,
   "metadata": {
    "ExecuteTime": {
     "end_time": "2021-07-17T08:57:38.215266Z",
     "start_time": "2021-07-17T08:56:39.719460Z"
    },
    "scrolled": true
   },
   "outputs": [
    {
     "name": "stdout",
     "output_type": "stream",
     "text": [
      "Epoch 1/20\n",
      "1375/1375 [==============================] - 3s 2ms/step - loss: 0.5926 - accuracy: 0.8103 - val_loss: 0.3892 - val_accuracy: 0.8672\n",
      "Epoch 2/20\n",
      "1375/1375 [==============================] - 3s 2ms/step - loss: 0.3523 - accuracy: 0.8786 - val_loss: 0.3290 - val_accuracy: 0.8819\n",
      "Epoch 3/20\n",
      "1375/1375 [==============================] - 3s 2ms/step - loss: 0.3170 - accuracy: 0.8894 - val_loss: 0.3011 - val_accuracy: 0.8989\n",
      "Epoch 4/20\n",
      "1375/1375 [==============================] - 2s 2ms/step - loss: 0.2973 - accuracy: 0.8974 - val_loss: 0.2892 - val_accuracy: 0.9026\n",
      "Epoch 5/20\n",
      "1375/1375 [==============================] - 3s 2ms/step - loss: 0.2835 - accuracy: 0.9021 - val_loss: 0.2774 - val_accuracy: 0.9071\n",
      "Epoch 6/20\n",
      "1375/1375 [==============================] - 4s 3ms/step - loss: 0.2729 - accuracy: 0.9059 - val_loss: 0.2730 - val_accuracy: 0.9061\n",
      "Epoch 7/20\n",
      "1375/1375 [==============================] - 3s 2ms/step - loss: 0.2641 - accuracy: 0.9091 - val_loss: 0.2718 - val_accuracy: 0.9088\n",
      "Epoch 8/20\n",
      "1375/1375 [==============================] - 3s 2ms/step - loss: 0.2573 - accuracy: 0.9125 - val_loss: 0.2588 - val_accuracy: 0.9141\n",
      "Epoch 9/20\n",
      "1375/1375 [==============================] - 3s 2ms/step - loss: 0.2518 - accuracy: 0.9135 - val_loss: 0.2561 - val_accuracy: 0.9141\n",
      "Epoch 10/20\n",
      "1375/1375 [==============================] - 3s 2ms/step - loss: 0.2469 - accuracy: 0.9153 - val_loss: 0.2540 - val_accuracy: 0.9153\n",
      "Epoch 11/20\n",
      "1375/1375 [==============================] - 3s 2ms/step - loss: 0.2422 - accuracy: 0.9176 - val_loss: 0.2495 - val_accuracy: 0.9153\n",
      "Epoch 12/20\n",
      "1375/1375 [==============================] - 3s 2ms/step - loss: 0.2382 - accuracy: 0.9187 - val_loss: 0.2513 - val_accuracy: 0.9128\n",
      "Epoch 13/20\n",
      "1375/1375 [==============================] - 3s 2ms/step - loss: 0.2351 - accuracy: 0.9199 - val_loss: 0.2443 - val_accuracy: 0.9158\n",
      "Epoch 14/20\n",
      "1375/1375 [==============================] - 4s 3ms/step - loss: 0.2315 - accuracy: 0.9213 - val_loss: 0.2413 - val_accuracy: 0.9173\n",
      "Epoch 15/20\n",
      "1375/1375 [==============================] - 3s 2ms/step - loss: 0.2287 - accuracy: 0.9214 - val_loss: 0.2446 - val_accuracy: 0.9188\n",
      "Epoch 16/20\n",
      "1375/1375 [==============================] - 3s 2ms/step - loss: 0.2254 - accuracy: 0.9222 - val_loss: 0.2382 - val_accuracy: 0.9195\n",
      "Epoch 17/20\n",
      "1375/1375 [==============================] - 3s 2ms/step - loss: 0.2231 - accuracy: 0.9231 - val_loss: 0.2408 - val_accuracy: 0.9175\n",
      "Epoch 18/20\n",
      "1375/1375 [==============================] - 3s 2ms/step - loss: 0.2201 - accuracy: 0.9244 - val_loss: 0.2425 - val_accuracy: 0.9153\n",
      "Epoch 19/20\n",
      "1375/1375 [==============================] - 3s 2ms/step - loss: 0.2178 - accuracy: 0.9252 - val_loss: 0.2328 - val_accuracy: 0.9200\n",
      "Epoch 20/20\n",
      "1375/1375 [==============================] - 3s 2ms/step - loss: 0.2156 - accuracy: 0.9261 - val_loss: 0.2332 - val_accuracy: 0.9208\n"
     ]
    }
   ],
   "source": [
    "history = model_A.fit(X_train_A, y_train_A, epochs=20,\n",
    "                    validation_data=(X_valid_A, y_valid_A))"
   ]
  },
  {
   "cell_type": "code",
   "execution_count": 189,
   "metadata": {
    "ExecuteTime": {
     "end_time": "2021-07-17T08:57:55.001452Z",
     "start_time": "2021-07-17T08:57:54.970206Z"
    }
   },
   "outputs": [],
   "source": [
    "model_A.save(\"my_model_A.h5\")"
   ]
  },
  {
   "cell_type": "code",
   "execution_count": 190,
   "metadata": {
    "ExecuteTime": {
     "end_time": "2021-07-17T08:57:55.489749Z",
     "start_time": "2021-07-17T08:57:55.418342Z"
    }
   },
   "outputs": [],
   "source": [
    "model_B = keras.models.Sequential()\n",
    "model_B.add(keras.layers.Flatten(input_shape=[28, 28]))\n",
    "for n_hidden in (300, 100, 50, 50, 50):\n",
    "    model_B.add(keras.layers.Dense(n_hidden, activation=\"selu\"))\n",
    "model_B.add(keras.layers.Dense(1, activation=\"sigmoid\"))"
   ]
  },
  {
   "cell_type": "code",
   "execution_count": 191,
   "metadata": {
    "ExecuteTime": {
     "end_time": "2021-07-17T08:58:13.652400Z",
     "start_time": "2021-07-17T08:58:13.621764Z"
    }
   },
   "outputs": [],
   "source": [
    "model_B.compile(loss=\"binary_crossentropy\",\n",
    "                optimizer=keras.optimizers.SGD(lr=1e-3),\n",
    "                metrics=[\"accuracy\"])"
   ]
  },
  {
   "cell_type": "code",
   "execution_count": 192,
   "metadata": {
    "ExecuteTime": {
     "end_time": "2021-07-17T08:58:20.751167Z",
     "start_time": "2021-07-17T08:58:18.738017Z"
    },
    "scrolled": true
   },
   "outputs": [
    {
     "name": "stdout",
     "output_type": "stream",
     "text": [
      "Epoch 1/20\n",
      "7/7 [==============================] - 1s 30ms/step - loss: 0.9573 - accuracy: 0.4650 - val_loss: 0.6314 - val_accuracy: 0.6004\n",
      "Epoch 2/20\n",
      "7/7 [==============================] - 0s 13ms/step - loss: 0.5692 - accuracy: 0.7450 - val_loss: 0.4784 - val_accuracy: 0.8529\n",
      "Epoch 3/20\n",
      "7/7 [==============================] - 0s 17ms/step - loss: 0.4503 - accuracy: 0.8650 - val_loss: 0.4102 - val_accuracy: 0.8945\n",
      "Epoch 4/20\n",
      "7/7 [==============================] - 0s 12ms/step - loss: 0.3879 - accuracy: 0.8950 - val_loss: 0.3647 - val_accuracy: 0.9178\n",
      "Epoch 5/20\n",
      "7/7 [==============================] - 0s 11ms/step - loss: 0.3435 - accuracy: 0.9250 - val_loss: 0.3300 - val_accuracy: 0.9320\n",
      "Epoch 6/20\n",
      "7/7 [==============================] - 0s 10ms/step - loss: 0.3081 - accuracy: 0.9300 - val_loss: 0.3019 - val_accuracy: 0.9402\n",
      "Epoch 7/20\n",
      "7/7 [==============================] - 0s 10ms/step - loss: 0.2800 - accuracy: 0.9350 - val_loss: 0.2804 - val_accuracy: 0.9422\n",
      "Epoch 8/20\n",
      "7/7 [==============================] - 0s 9ms/step - loss: 0.2564 - accuracy: 0.9450 - val_loss: 0.2606 - val_accuracy: 0.9473\n",
      "Epoch 9/20\n",
      "7/7 [==============================] - 0s 12ms/step - loss: 0.2362 - accuracy: 0.9550 - val_loss: 0.2428 - val_accuracy: 0.9523\n",
      "Epoch 10/20\n",
      "7/7 [==============================] - 0s 11ms/step - loss: 0.2188 - accuracy: 0.9600 - val_loss: 0.2281 - val_accuracy: 0.9544\n",
      "Epoch 11/20\n",
      "7/7 [==============================] - 0s 10ms/step - loss: 0.2036 - accuracy: 0.9700 - val_loss: 0.2150 - val_accuracy: 0.9584\n",
      "Epoch 12/20\n",
      "7/7 [==============================] - 0s 9ms/step - loss: 0.1898 - accuracy: 0.9700 - val_loss: 0.2036 - val_accuracy: 0.9584\n",
      "Epoch 13/20\n",
      "7/7 [==============================] - 0s 9ms/step - loss: 0.1773 - accuracy: 0.9750 - val_loss: 0.1931 - val_accuracy: 0.9615\n",
      "Epoch 14/20\n",
      "7/7 [==============================] - 0s 9ms/step - loss: 0.1668 - accuracy: 0.9800 - val_loss: 0.1838 - val_accuracy: 0.9635\n",
      "Epoch 15/20\n",
      "7/7 [==============================] - 0s 9ms/step - loss: 0.1570 - accuracy: 0.9900 - val_loss: 0.1746 - val_accuracy: 0.9686\n",
      "Epoch 16/20\n",
      "7/7 [==============================] - 0s 10ms/step - loss: 0.1481 - accuracy: 0.9900 - val_loss: 0.1674 - val_accuracy: 0.9686\n",
      "Epoch 17/20\n",
      "7/7 [==============================] - 0s 9ms/step - loss: 0.1406 - accuracy: 0.9900 - val_loss: 0.1604 - val_accuracy: 0.9706\n",
      "Epoch 18/20\n",
      "7/7 [==============================] - 0s 9ms/step - loss: 0.1334 - accuracy: 0.9900 - val_loss: 0.1539 - val_accuracy: 0.9706\n",
      "Epoch 19/20\n",
      "7/7 [==============================] - 0s 10ms/step - loss: 0.1268 - accuracy: 0.9900 - val_loss: 0.1482 - val_accuracy: 0.9716\n",
      "Epoch 20/20\n",
      "7/7 [==============================] - 0s 11ms/step - loss: 0.1208 - accuracy: 0.9900 - val_loss: 0.1431 - val_accuracy: 0.9716\n"
     ]
    }
   ],
   "source": [
    "history = model_B.fit(X_train_B, y_train_B, epochs=20,\n",
    "                      validation_data=(X_valid_B, y_valid_B))"
   ]
  },
  {
   "cell_type": "code",
   "execution_count": 193,
   "metadata": {
    "ExecuteTime": {
     "end_time": "2021-07-17T08:58:43.571342Z",
     "start_time": "2021-07-17T08:58:43.458285Z"
    }
   },
   "outputs": [],
   "source": [
    "model_A = keras.models.load_model(\"my_model_A.h5\")\n",
    "model_B_on_A = keras.models.Sequential(model_A.layers[:-1])\n",
    "model_B_on_A.add(keras.layers.Dense(1, activation=\"sigmoid\"))"
   ]
  },
  {
   "cell_type": "code",
   "execution_count": 194,
   "metadata": {
    "ExecuteTime": {
     "end_time": "2021-07-17T08:58:44.461897Z",
     "start_time": "2021-07-17T08:58:44.391578Z"
    }
   },
   "outputs": [],
   "source": [
    "model_A_clone = keras.models.clone_model(model_A)\n",
    "model_A_clone.set_weights(model_A.get_weights())"
   ]
  },
  {
   "cell_type": "markdown",
   "metadata": {},
   "source": [
    "- model_B_on_A를 훈련할 때 model_A도 영향을 받으니 model_A를 copy해놓는 것이 좋다\n",
    "- model_B_on_A를 훈련하기 전 새로운 출력층이 랜덤하게 초기화되어 있으므로 큰 오차를 만들 것이고, 큰 오차 그래디언트가 재사용된 가중치를 망칠 가능성이 있다\n",
    "- 이러한 경우, 처음 몇번의 에포크동안은 재사용된 층을 동결하고, 새로운 층에게 적절한 가중치를 학습할 시간을 주는 방법이 있다.\n",
    "- 층을 동결하거나 동결을 해제한 후에는 반드시 모델컴파일을 해줘야 한다."
   ]
  },
  {
   "cell_type": "code",
   "execution_count": 195,
   "metadata": {
    "ExecuteTime": {
     "end_time": "2021-07-17T08:58:46.549209Z",
     "start_time": "2021-07-17T08:58:46.518443Z"
    }
   },
   "outputs": [],
   "source": [
    "# 층 동결하기\n",
    "for layer in model_B_on_A.layers[:-1]:\n",
    "    layer.trainable = False\n",
    "\n",
    "model_B_on_A.compile(loss=\"binary_crossentropy\",\n",
    "                     optimizer=keras.optimizers.SGD(lr=1e-3),\n",
    "                     metrics=[\"accuracy\"])"
   ]
  },
  {
   "cell_type": "code",
   "execution_count": 196,
   "metadata": {
    "ExecuteTime": {
     "end_time": "2021-07-17T08:58:51.882923Z",
     "start_time": "2021-07-17T08:58:49.436995Z"
    },
    "scrolled": true
   },
   "outputs": [
    {
     "name": "stdout",
     "output_type": "stream",
     "text": [
      "Epoch 1/4\n",
      "7/7 [==============================] - 0s 23ms/step - loss: 0.5773 - accuracy: 0.6550 - val_loss: 0.5813 - val_accuracy: 0.6349\n",
      "Epoch 2/4\n",
      "7/7 [==============================] - 0s 11ms/step - loss: 0.5409 - accuracy: 0.6800 - val_loss: 0.5440 - val_accuracy: 0.6836\n",
      "Epoch 3/4\n",
      "7/7 [==============================] - 0s 10ms/step - loss: 0.5042 - accuracy: 0.7350 - val_loss: 0.5121 - val_accuracy: 0.7110\n",
      "Epoch 4/4\n",
      "7/7 [==============================] - 0s 9ms/step - loss: 0.4728 - accuracy: 0.7450 - val_loss: 0.4835 - val_accuracy: 0.7383\n",
      "Epoch 1/16\n",
      "7/7 [==============================] - 1s 29ms/step - loss: 0.3949 - accuracy: 0.8150 - val_loss: 0.3450 - val_accuracy: 0.8661\n",
      "Epoch 2/16\n",
      "7/7 [==============================] - 0s 13ms/step - loss: 0.2791 - accuracy: 0.9350 - val_loss: 0.2596 - val_accuracy: 0.9290\n",
      "Epoch 3/16\n",
      "7/7 [==============================] - 0s 10ms/step - loss: 0.2077 - accuracy: 0.9650 - val_loss: 0.2106 - val_accuracy: 0.9554\n",
      "Epoch 4/16\n",
      "7/7 [==============================] - 0s 16ms/step - loss: 0.1666 - accuracy: 0.9800 - val_loss: 0.1787 - val_accuracy: 0.9696\n",
      "Epoch 5/16\n",
      "7/7 [==============================] - 0s 13ms/step - loss: 0.1393 - accuracy: 0.9800 - val_loss: 0.1559 - val_accuracy: 0.9757\n",
      "Epoch 6/16\n",
      "7/7 [==============================] - 0s 13ms/step - loss: 0.1194 - accuracy: 0.9950 - val_loss: 0.1391 - val_accuracy: 0.9797\n",
      "Epoch 7/16\n",
      "7/7 [==============================] - 0s 13ms/step - loss: 0.1048 - accuracy: 0.9950 - val_loss: 0.1265 - val_accuracy: 0.9838\n",
      "Epoch 8/16\n",
      "7/7 [==============================] - 0s 15ms/step - loss: 0.0935 - accuracy: 0.9950 - val_loss: 0.1162 - val_accuracy: 0.9858\n",
      "Epoch 9/16\n",
      "7/7 [==============================] - 0s 14ms/step - loss: 0.0845 - accuracy: 1.0000 - val_loss: 0.1065 - val_accuracy: 0.9878\n",
      "Epoch 10/16\n",
      "7/7 [==============================] - 0s 14ms/step - loss: 0.0760 - accuracy: 1.0000 - val_loss: 0.0999 - val_accuracy: 0.9899\n",
      "Epoch 11/16\n",
      "7/7 [==============================] - 0s 12ms/step - loss: 0.0702 - accuracy: 1.0000 - val_loss: 0.0939 - val_accuracy: 0.9899\n",
      "Epoch 12/16\n",
      "7/7 [==============================] - 0s 12ms/step - loss: 0.0648 - accuracy: 1.0000 - val_loss: 0.0887 - val_accuracy: 0.9899\n",
      "Epoch 13/16\n",
      "7/7 [==============================] - 0s 12ms/step - loss: 0.0601 - accuracy: 1.0000 - val_loss: 0.0839 - val_accuracy: 0.9899\n",
      "Epoch 14/16\n",
      "7/7 [==============================] - 0s 12ms/step - loss: 0.0558 - accuracy: 1.0000 - val_loss: 0.0802 - val_accuracy: 0.9899\n",
      "Epoch 15/16\n",
      "7/7 [==============================] - 0s 14ms/step - loss: 0.0524 - accuracy: 1.0000 - val_loss: 0.0768 - val_accuracy: 0.9899\n",
      "Epoch 16/16\n",
      "7/7 [==============================] - 0s 12ms/step - loss: 0.0495 - accuracy: 1.0000 - val_loss: 0.0738 - val_accuracy: 0.9899\n"
     ]
    }
   ],
   "source": [
    "# 동결시킨 상태로 4번의 에포크 훈련\n",
    "history = model_B_on_A.fit(X_train_B, y_train_B, epochs=4,\n",
    "                           validation_data=(X_valid_B, y_valid_B))\n",
    "\n",
    "# 동결을 해제한 후 나머지 16번의 에포크를 훈련\n",
    "for layer in model_B_on_A.layers[:-1]:\n",
    "    layer.trainable = True\n",
    "\n",
    "model_B_on_A.compile(loss=\"binary_crossentropy\",\n",
    "                     optimizer=keras.optimizers.SGD(lr=1e-3),\n",
    "                     metrics=[\"accuracy\"])\n",
    "history = model_B_on_A.fit(X_train_B, y_train_B, epochs=16,\n",
    "                           validation_data=(X_valid_B, y_valid_B))"
   ]
  },
  {
   "cell_type": "code",
   "execution_count": 198,
   "metadata": {
    "ExecuteTime": {
     "end_time": "2021-07-17T08:59:08.472170Z",
     "start_time": "2021-07-17T08:59:08.320555Z"
    }
   },
   "outputs": [
    {
     "name": "stdout",
     "output_type": "stream",
     "text": [
      "63/63 [==============================] - 0s 1ms/step - loss: 0.1408 - accuracy: 0.9705\n"
     ]
    },
    {
     "data": {
      "text/plain": [
       "[0.1408407837152481, 0.9704999923706055]"
      ]
     },
     "execution_count": 198,
     "metadata": {},
     "output_type": "execute_result"
    }
   ],
   "source": [
    "model_B.evaluate(X_test_B,y_test_B)"
   ]
  },
  {
   "cell_type": "code",
   "execution_count": 199,
   "metadata": {
    "ExecuteTime": {
     "end_time": "2021-07-17T08:59:28.896622Z",
     "start_time": "2021-07-17T08:59:28.743914Z"
    }
   },
   "outputs": [
    {
     "name": "stdout",
     "output_type": "stream",
     "text": [
      "63/63 [==============================] - 0s 2ms/step - loss: 0.0682 - accuracy: 0.9930\n"
     ]
    },
    {
     "data": {
      "text/plain": [
       "[0.06816883385181427, 0.9929999709129333]"
      ]
     },
     "execution_count": 199,
     "metadata": {},
     "output_type": "execute_result"
    }
   ],
   "source": [
    "model_B_on_A.evaluate(X_test_B,y_test_B)"
   ]
  },
  {
   "cell_type": "markdown",
   "metadata": {},
   "source": [
    "### 고속 옵티마이저\n",
    "\n",
    "훈련 속도를 높이는 방법\n",
    "- 연결 가중치에 좋은 초기화 전략 사용하기\n",
    "- 좋은 활성화 함수 사용하기\n",
    "- 배치 정규화 사용하기\n",
    "- 사전훈련된 네트워크의 일부 재사용하기"
   ]
  },
  {
   "cell_type": "markdown",
   "metadata": {},
   "source": [
    "#### 모멘텀 최적화\n",
    "- 모멘텀 최적화는 처음에는 느리게 출발하지만 종단속도에 도달할 때까지는 빠르게 가속되는 원리로 매 반복에서 현재 그레디언트를 **모멘텀 벡터**에 더하고 이 값을 빼는 방식으로 가중치를 갱신한다\n",
    "- 그레디언트를 속도가 아니라 가속도로 사용하며, 모멘텀이 너무 커지는 것을 막기 위해 새로운 **모멘텀**이라는 하이퍼 파라미터를 설정해야한다.\n",
    "- 모멘터 최적화는 경사하강법보다 평탄한 지역을 빠르게 탈출하고, 지역최솟값 또한 건너뛰게 도와준다"
   ]
  },
  {
   "cell_type": "code",
   "execution_count": 202,
   "metadata": {
    "ExecuteTime": {
     "end_time": "2021-07-17T09:20:01.896517Z",
     "start_time": "2021-07-17T09:20:01.885803Z"
    }
   },
   "outputs": [],
   "source": [
    "optimizer = keras.optimizers.SGD(lr=0.001, momentum=0.9)"
   ]
  },
  {
   "cell_type": "markdown",
   "metadata": {},
   "source": [
    "#### 네스테로프 가속 경사(NAG)\n",
    "\n",
    "- 모멘텀 최적화의 변종으로 현재 위치가 아닌 모멘텀의 방향으로 조금 앞선 위치에서의 비용함수의 그레디언트를 계산한다.\n",
    "- 네스터로프 가속 경사(NAG)가 거의 항상 모멘텀 최적화보다 속도가 빠르다."
   ]
  },
  {
   "cell_type": "code",
   "execution_count": 203,
   "metadata": {
    "ExecuteTime": {
     "end_time": "2021-07-17T09:23:17.109262Z",
     "start_time": "2021-07-17T09:23:17.103277Z"
    }
   },
   "outputs": [],
   "source": [
    "optimizer = keras.optimizers.SGD(lr=0.001, momentum=0.9, nesterov=True)"
   ]
  },
  {
   "cell_type": "markdown",
   "metadata": {},
   "source": [
    "#### AdaGrad\n",
    "\n",
    "- 이 알고리즘은 가장 가파른 차원을 따라 그레디언트 벡터의 스케일을 감소시키는 것으로 전역 최적점의 방향으로 더 곧장 가도록 갱신되는데 도움이 된다\n",
    "- 신경망을 훈련할 때는 너무 일찍 멈추는 경우가 종종있어서 사용하지는 않지만 선형 회귀같은 간단한 작업에는 효과적일 수 있다"
   ]
  },
  {
   "cell_type": "code",
   "execution_count": 204,
   "metadata": {
    "ExecuteTime": {
     "end_time": "2021-07-17T09:31:12.494889Z",
     "start_time": "2021-07-17T09:31:12.475203Z"
    }
   },
   "outputs": [],
   "source": [
    "optimizer = keras.optimizers.Adagrad(lr=0.001)"
   ]
  },
  {
   "cell_type": "markdown",
   "metadata": {},
   "source": [
    "#### RMSProp\n",
    "\n",
    "- 훈련 시작부터의 모든 그레디언트가 아닌 가장 최근 반복에서 비롯된 그레디언트만 누적함으로 너무 빨리 느려져서 전역 최적점에 수렴하지 못하는 AdaGrad의 단점을 보완한 옵티마이저다"
   ]
  },
  {
   "cell_type": "code",
   "execution_count": 205,
   "metadata": {
    "ExecuteTime": {
     "end_time": "2021-07-17T09:33:43.692934Z",
     "start_time": "2021-07-17T09:33:43.677833Z"
    }
   },
   "outputs": [],
   "source": [
    "# rho는 감쇠율로 기본값이 잘 작동하는 경우가 많으므로 이를 튜닝할 필요가 전혀 없다\n",
    "optimizer = keras.optimizers.RMSprop(lr=0.001, rho=0.9)"
   ]
  },
  {
   "cell_type": "markdown",
   "metadata": {},
   "source": [
    "#### Adam\n",
    "\n",
    "- 모멘텀 최적화와 RMSProp의 아이디어를 합친것으로, 모멘텀 최적화의 지난 그레디언트의 지수 감소 평균을 따르고, RmSProp처럼 지난 그레디언트 제곱의 지수 감소된 평균을 따른다\n",
    "- Adam이 적응적 학습률 알고리즘이기 때문에 학습률 하이퍼파라미터를 튜닝할 필요가 적다. 일반적으로 학습률은 기본값 0.001을 사용하므로 경사 하강법보다 사용하기 쉽다"
   ]
  },
  {
   "cell_type": "code",
   "execution_count": 206,
   "metadata": {
    "ExecuteTime": {
     "end_time": "2021-07-17T09:40:49.356285Z",
     "start_time": "2021-07-17T09:40:49.327616Z"
    }
   },
   "outputs": [],
   "source": [
    "optimizer = keras.optimizers.Adam(lr=0.001, beta_1=0.9, beta_2=0.999)"
   ]
  },
  {
   "cell_type": "markdown",
   "metadata": {},
   "source": [
    "#### AdaMax\n",
    "\n",
    "- Adam은 시간에 따라 감쇠된 그레디언트의 L2 노름으로 파라미터 업데이트의 스케일을 낮춘다.\n",
    "- AdaMax는 L2 노름을 L(Inf)로 바꿔 시간에 따라 감쇠된 그레디언트의 최대값으로 스케일을 낮춘다.\n",
    "- 일반적으로 Adam의 성능이 더 낫지만, 어떤 작업에서 Adam이 잘 동작하지 않는다면 시도할 수 있는 옵티마이저다"
   ]
  },
  {
   "cell_type": "code",
   "execution_count": 207,
   "metadata": {
    "ExecuteTime": {
     "end_time": "2021-07-17T09:47:35.581581Z",
     "start_time": "2021-07-17T09:47:35.562575Z"
    }
   },
   "outputs": [],
   "source": [
    "optimizer = keras.optimizers.Adamax(lr=0.001, beta_1=0.9, beta_2=0.999)"
   ]
  },
  {
   "cell_type": "markdown",
   "metadata": {},
   "source": [
    "#### Nadam\n",
    "\n",
    "- Adam과 네스테로프 기법을 더한 옵티마이저다\n",
    "- 따라서 종종 Adam보다 조금 더 빠르게 수렴"
   ]
  },
  {
   "cell_type": "code",
   "execution_count": 208,
   "metadata": {
    "ExecuteTime": {
     "end_time": "2021-07-17T09:50:11.408925Z",
     "start_time": "2021-07-17T09:50:11.379160Z"
    }
   },
   "outputs": [],
   "source": [
    "optimizer = keras.optimizers.Nadam(lr=0.001, beta_1=0.9, beta_2=0.999)"
   ]
  },
  {
   "cell_type": "markdown",
   "metadata": {},
   "source": [
    "(RMSProp, Adam, Nadam)등 적응적 최적화 방법이 좋은 솔루션으로 빠르게 수렴한다.\n",
    "하지만 이 방식이 일부 데이터셋에서 나쁜 결과를 나타낼수도 있다는 논문이 나타났고, 모델의 성능이 만족스럽지 못할 때는 기본 네스테로프 가속 경사를 사용해보는 것도 고려해볼만하다"
   ]
  },
  {
   "cell_type": "markdown",
   "metadata": {},
   "source": [
    "### 학습률 스케줄링\n",
    "\n",
    "- 학습률을 너무 크게 잡으면 훈련이 실제로 발산할 수도 있으며, 너무 작게 잡으면 최적점에 수렴하는 시간이 오래 걸리므로 학습률 스케줄링이 필요하다\n",
    "\n",
    "- 큰 학습률로 시작하고 학습 속도가 느려질 때 학습률을 낮추면 최적의 고정 학습률보다 좋은 솔루션을 빨리 발견할 수 있다.\n",
    "\n",
    "- 훈련하는 동안 학습률을 감소시키는 여러 전략이 있는데, 이것을 **학습 스케줄**이라고 한다\n",
    "\n",
    "**거듭제곱 기반 스케줄링**\n",
    "- 학습률을 반복횟수(t)에 대한 함수 n(t) = n0 / (1 + t/s)^c 로 지정하고 c는 일반적으로 1로 지정\n",
    "- 각 스텝마다 학습률이 감소하며 점점 느리게 학습률이 감소함\n",
    "\n",
    "**지수 기반 스케줄링**\n",
    "- 학습률을 n(t) = n0 * 0.1^t/s 로 설정\n",
    "- 학습률이 s스텝마다 10배씩 줄어든다\n",
    "\n",
    "**구간별 고정 스케줄링**\n",
    "- 일정 횟수의 에포크 동안 일정한 학습률을 이용하고, 그다음 또 다른 횟수의 에포크 동안 작은 학습률을 사용하는 방식의 스케줄링\n",
    "\n",
    "**성능 기반 스케줄링**\n",
    "- 매 N 스텝마다 검증 오차를 측정하고 오차가 줄어들지 않으면, x배만큼 학습률을 감소시킨다\n",
    "\n",
    "**1사이클 스케줄링**\n",
    "- 다른 방식과 대조적으로 1사이클은 훈련 절반 동안 초기 학습률을 n1까지 선형적으로 증가시킨다 그다음 나머지 절반 동안 선형적으로 n0까지 학습률을 다시 줄인다 마지막 몇 번의 에포크는 학습률을 소수점 몇 째 자리까지 줄인다\n",
    "\n",
    "- 최대 학습률 n1은 최적의 학습률을 찾을 때와 같은 방식을 사용해 선택하고 초기 학습률 n0는 대략 10배 정도 낮은 값을 선택한다"
   ]
  },
  {
   "cell_type": "markdown",
   "metadata": {},
   "source": [
    "#### 거듭 제곱 스케줄링"
   ]
  },
  {
   "cell_type": "code",
   "execution_count": 6,
   "metadata": {
    "ExecuteTime": {
     "end_time": "2021-07-19T09:29:54.913394Z",
     "start_time": "2021-07-19T09:29:54.898357Z"
    }
   },
   "outputs": [
    {
     "name": "stderr",
     "output_type": "stream",
     "text": [
      "C:\\Users\\ysw29\\anaconda3\\lib\\site-packages\\tensorflow\\python\\keras\\optimizer_v2\\optimizer_v2.py:374: UserWarning: The `lr` argument is deprecated, use `learning_rate` instead.\n",
      "  warnings.warn(\n"
     ]
    }
   ],
   "source": [
    "optimizer = keras.optimizers.SGD(lr=0.01, decay=1e-4)"
   ]
  },
  {
   "cell_type": "code",
   "execution_count": 7,
   "metadata": {
    "ExecuteTime": {
     "end_time": "2021-07-19T09:29:55.702661Z",
     "start_time": "2021-07-19T09:29:55.583409Z"
    }
   },
   "outputs": [],
   "source": [
    "model = keras.models.Sequential([\n",
    "    keras.layers.Flatten(input_shape=[28, 28]),\n",
    "    keras.layers.Dense(300, activation=\"selu\", kernel_initializer=\"lecun_normal\"),\n",
    "    keras.layers.Dense(100, activation=\"selu\", kernel_initializer=\"lecun_normal\"),\n",
    "    keras.layers.Dense(10, activation=\"softmax\")\n",
    "])\n",
    "model.compile(loss=\"sparse_categorical_crossentropy\", optimizer=optimizer, metrics=[\"accuracy\"])"
   ]
  },
  {
   "cell_type": "code",
   "execution_count": 9,
   "metadata": {
    "ExecuteTime": {
     "end_time": "2021-07-19T09:31:21.892123Z",
     "start_time": "2021-07-19T09:30:01.669262Z"
    },
    "scrolled": true
   },
   "outputs": [
    {
     "name": "stdout",
     "output_type": "stream",
     "text": [
      "Epoch 1/25\n",
      "1719/1719 [==============================] - 3s 2ms/step - loss: 0.4829 - accuracy: 0.8294 - val_loss: 0.4010 - val_accuracy: 0.8616\n",
      "Epoch 2/25\n",
      "1719/1719 [==============================] - 3s 2ms/step - loss: 0.3782 - accuracy: 0.8661 - val_loss: 0.3740 - val_accuracy: 0.8722\n",
      "Epoch 3/25\n",
      "1719/1719 [==============================] - 3s 2ms/step - loss: 0.3457 - accuracy: 0.8765 - val_loss: 0.3739 - val_accuracy: 0.8676\n",
      "Epoch 4/25\n",
      "1719/1719 [==============================] - 3s 2ms/step - loss: 0.3252 - accuracy: 0.8834 - val_loss: 0.3509 - val_accuracy: 0.8800\n",
      "Epoch 5/25\n",
      "1719/1719 [==============================] - 3s 2ms/step - loss: 0.3103 - accuracy: 0.8897 - val_loss: 0.3451 - val_accuracy: 0.8794\n",
      "Epoch 6/25\n",
      "1719/1719 [==============================] - 3s 2ms/step - loss: 0.2969 - accuracy: 0.8945 - val_loss: 0.3452 - val_accuracy: 0.8802\n",
      "Epoch 7/25\n",
      "1719/1719 [==============================] - 3s 2ms/step - loss: 0.2870 - accuracy: 0.8984 - val_loss: 0.3393 - val_accuracy: 0.8818\n",
      "Epoch 8/25\n",
      "1719/1719 [==============================] - 3s 2ms/step - loss: 0.2782 - accuracy: 0.9015 - val_loss: 0.3429 - val_accuracy: 0.8786\n",
      "Epoch 9/25\n",
      "1719/1719 [==============================] - 3s 2ms/step - loss: 0.2700 - accuracy: 0.9039 - val_loss: 0.3335 - val_accuracy: 0.8830\n",
      "Epoch 10/25\n",
      "1719/1719 [==============================] - 3s 2ms/step - loss: 0.2630 - accuracy: 0.9067 - val_loss: 0.3303 - val_accuracy: 0.8848\n",
      "Epoch 11/25\n",
      "1719/1719 [==============================] - 3s 2ms/step - loss: 0.2572 - accuracy: 0.9083 - val_loss: 0.3315 - val_accuracy: 0.8860\n",
      "Epoch 12/25\n",
      "1719/1719 [==============================] - 3s 2ms/step - loss: 0.2514 - accuracy: 0.9107 - val_loss: 0.3368 - val_accuracy: 0.8812\n",
      "Epoch 13/25\n",
      "1719/1719 [==============================] - 3s 2ms/step - loss: 0.2461 - accuracy: 0.9136 - val_loss: 0.3282 - val_accuracy: 0.8870\n",
      "Epoch 14/25\n",
      "1719/1719 [==============================] - 3s 2ms/step - loss: 0.2421 - accuracy: 0.9148 - val_loss: 0.3309 - val_accuracy: 0.8856\n",
      "Epoch 15/25\n",
      "1719/1719 [==============================] - 3s 2ms/step - loss: 0.2372 - accuracy: 0.9156 - val_loss: 0.3255 - val_accuracy: 0.8854\n",
      "Epoch 16/25\n",
      "1719/1719 [==============================] - 4s 2ms/step - loss: 0.2332 - accuracy: 0.9182 - val_loss: 0.3257 - val_accuracy: 0.8864\n",
      "Epoch 17/25\n",
      "1719/1719 [==============================] - 5s 3ms/step - loss: 0.2296 - accuracy: 0.9195 - val_loss: 0.3265 - val_accuracy: 0.8878\n",
      "Epoch 18/25\n",
      "1719/1719 [==============================] - 3s 2ms/step - loss: 0.2258 - accuracy: 0.9210 - val_loss: 0.3225 - val_accuracy: 0.8900\n",
      "Epoch 19/25\n",
      "1719/1719 [==============================] - 3s 2ms/step - loss: 0.2225 - accuracy: 0.9225 - val_loss: 0.3266 - val_accuracy: 0.8878\n",
      "Epoch 20/25\n",
      "1719/1719 [==============================] - 3s 2ms/step - loss: 0.2194 - accuracy: 0.9234 - val_loss: 0.3232 - val_accuracy: 0.8868\n",
      "Epoch 21/25\n",
      "1719/1719 [==============================] - 3s 2ms/step - loss: 0.2159 - accuracy: 0.9255 - val_loss: 0.3237 - val_accuracy: 0.8878\n",
      "Epoch 22/25\n",
      "1719/1719 [==============================] - 3s 2ms/step - loss: 0.2136 - accuracy: 0.9255 - val_loss: 0.3209 - val_accuracy: 0.8892\n",
      "Epoch 23/25\n",
      "1719/1719 [==============================] - 3s 2ms/step - loss: 0.2108 - accuracy: 0.9263 - val_loss: 0.3218 - val_accuracy: 0.8914\n",
      "Epoch 24/25\n",
      "1719/1719 [==============================] - 3s 2ms/step - loss: 0.2078 - accuracy: 0.9283 - val_loss: 0.3236 - val_accuracy: 0.8888\n",
      "Epoch 25/25\n",
      "1719/1719 [==============================] - 3s 2ms/step - loss: 0.2057 - accuracy: 0.9289 - val_loss: 0.3221 - val_accuracy: 0.8900\n"
     ]
    }
   ],
   "source": [
    "n_epochs = 25\n",
    "history = model.fit(X_train_scaled, y_train, epochs=n_epochs,\n",
    "                    validation_data=(X_valid_scaled, y_valid))"
   ]
  },
  {
   "cell_type": "code",
   "execution_count": 10,
   "metadata": {
    "ExecuteTime": {
     "end_time": "2021-07-19T09:31:24.545333Z",
     "start_time": "2021-07-19T09:31:24.342096Z"
    }
   },
   "outputs": [
    {
     "data": {
      "image/png": "[encoded data removed]",
      "text/plain": [
       "<Figure size 432x288 with 1 Axes>"
      ]
     },
     "metadata": {
      "needs_background": "light"
     },
     "output_type": "display_data"
    }
   ],
   "source": [
    "import math\n",
    "\n",
    "learning_rate=0.01\n",
    "decay=1e-4\n",
    "batch_size=32\n",
    "n_steps_per_epoch = math.ceil(len(X_train) /  batch_size)\n",
    "epochs = np.arange(n_epochs)\n",
    "lrs = learning_rate / (1 + decay* epochs * n_steps_per_epoch)\n",
    "\n",
    "plt.plot(epochs, lrs, \"o-\")\n",
    "plt.axis([0, n_epochs -1,0,0.01])\n",
    "plt.xlabel(\"Epoch\")\n",
    "plt.ylabel(\"Learning Rate\")\n",
    "plt.title(\"Power Scheduling\", fontsize=14)\n",
    "plt.grid(True)\n",
    "plt.show()"
   ]
  },
  {
   "cell_type": "markdown",
   "metadata": {},
   "source": [
    "#### 지수 기반 스케줄링"
   ]
  },
  {
   "cell_type": "code",
   "execution_count": 13,
   "metadata": {
    "ExecuteTime": {
     "end_time": "2021-07-19T10:04:57.880438Z",
     "start_time": "2021-07-19T10:04:57.867375Z"
    }
   },
   "outputs": [],
   "source": [
    "def exponential_decay_fn(epoch):\n",
    "    return 0.01 * 0.1**(epoch / 20)\n",
    "\n",
    "def exponential_decay(lr0, s):\n",
    "    def exponential_decay_fn(epoch):\n",
    "        return lr0 * 0.1**(epoch / s)\n",
    "    return exponential_decay_fn\n",
    "\n",
    "exponential_decay_fn = exponential_decay(lr0=0.01, s=20)"
   ]
  },
  {
   "cell_type": "code",
   "execution_count": 14,
   "metadata": {
    "ExecuteTime": {
     "end_time": "2021-07-19T10:04:58.224227Z",
     "start_time": "2021-07-19T10:04:58.147488Z"
    }
   },
   "outputs": [],
   "source": [
    "model = keras.models.Sequential([\n",
    "    keras.layers.Flatten(input_shape=[28, 28]),\n",
    "    keras.layers.Dense(300, activation=\"selu\", kernel_initializer=\"lecun_normal\"),\n",
    "    keras.layers.Dense(100, activation=\"selu\", kernel_initializer=\"lecun_normal\"),\n",
    "    keras.layers.Dense(10, activation=\"softmax\")\n",
    "])\n",
    "model.compile(loss=\"sparse_categorical_crossentropy\", optimizer=\"nadam\", metrics=[\"accuracy\"])\n",
    "n_epochs = 25"
   ]
  },
  {
   "cell_type": "code",
   "execution_count": 15,
   "metadata": {
    "ExecuteTime": {
     "end_time": "2021-07-19T10:08:35.677627Z",
     "start_time": "2021-07-19T10:04:58.605921Z"
    },
    "scrolled": true
   },
   "outputs": [
    {
     "name": "stdout",
     "output_type": "stream",
     "text": [
      "Epoch 1/25\n",
      "1719/1719 [==============================] - 8s 4ms/step - loss: 0.9093 - accuracy: 0.7507 - val_loss: 1.5403 - val_accuracy: 0.6618\n",
      "Epoch 2/25\n",
      "1719/1719 [==============================] - 9s 5ms/step - loss: 0.6961 - accuracy: 0.7915 - val_loss: 0.5681 - val_accuracy: 0.8204\n",
      "Epoch 3/25\n",
      "1719/1719 [==============================] - 9s 5ms/step - loss: 0.5828 - accuracy: 0.8235 - val_loss: 0.6748 - val_accuracy: 0.8100\n",
      "Epoch 4/25\n",
      "1719/1719 [==============================] - 9s 5ms/step - loss: 0.5411 - accuracy: 0.8340 - val_loss: 0.5419 - val_accuracy: 0.8462\n",
      "Epoch 5/25\n",
      "1719/1719 [==============================] - 10s 6ms/step - loss: 0.4939 - accuracy: 0.8481 - val_loss: 0.5459 - val_accuracy: 0.8592\n",
      "Epoch 6/25\n",
      "1719/1719 [==============================] - 10s 6ms/step - loss: 0.4552 - accuracy: 0.8602 - val_loss: 0.6846 - val_accuracy: 0.8392\n",
      "Epoch 7/25\n",
      "1719/1719 [==============================] - 8s 5ms/step - loss: 0.4495 - accuracy: 0.8664 - val_loss: 0.4898 - val_accuracy: 0.8546\n",
      "Epoch 8/25\n",
      "1719/1719 [==============================] - 9s 5ms/step - loss: 0.3710 - accuracy: 0.8800 - val_loss: 0.5186 - val_accuracy: 0.8546\n",
      "Epoch 9/25\n",
      "1719/1719 [==============================] - 9s 5ms/step - loss: 0.3519 - accuracy: 0.8866 - val_loss: 0.4897 - val_accuracy: 0.8602\n",
      "Epoch 10/25\n",
      "1719/1719 [==============================] - 9s 5ms/step - loss: 0.3203 - accuracy: 0.8931 - val_loss: 0.4424 - val_accuracy: 0.8810\n",
      "Epoch 11/25\n",
      "1719/1719 [==============================] - 8s 5ms/step - loss: 0.2982 - accuracy: 0.8984 - val_loss: 0.5560 - val_accuracy: 0.8584\n",
      "Epoch 12/25\n",
      "1719/1719 [==============================] - 9s 5ms/step - loss: 0.2781 - accuracy: 0.9055 - val_loss: 0.4711 - val_accuracy: 0.8694\n",
      "Epoch 13/25\n",
      "1719/1719 [==============================] - 9s 5ms/step - loss: 0.2575 - accuracy: 0.9120 - val_loss: 0.4864 - val_accuracy: 0.8752\n",
      "Epoch 14/25\n",
      "1719/1719 [==============================] - 9s 5ms/step - loss: 0.2361 - accuracy: 0.9174 - val_loss: 0.4693 - val_accuracy: 0.8848\n",
      "Epoch 15/25\n",
      "1719/1719 [==============================] - 8s 5ms/step - loss: 0.2227 - accuracy: 0.9224 - val_loss: 0.4360 - val_accuracy: 0.8866\n",
      "Epoch 16/25\n",
      "1719/1719 [==============================] - 9s 5ms/step - loss: 0.2064 - accuracy: 0.9292 - val_loss: 0.4755 - val_accuracy: 0.8852\n",
      "Epoch 17/25\n",
      "1719/1719 [==============================] - 9s 5ms/step - loss: 0.1934 - accuracy: 0.9328 - val_loss: 0.4987 - val_accuracy: 0.8794\n",
      "Epoch 18/25\n",
      "1719/1719 [==============================] - 9s 5ms/step - loss: 0.1747 - accuracy: 0.9399 - val_loss: 0.5271 - val_accuracy: 0.8884\n",
      "Epoch 19/25\n",
      "1719/1719 [==============================] - 8s 5ms/step - loss: 0.1637 - accuracy: 0.9445 - val_loss: 0.5200 - val_accuracy: 0.8916\n",
      "Epoch 20/25\n",
      "1719/1719 [==============================] - 8s 5ms/step - loss: 0.1556 - accuracy: 0.9461 - val_loss: 0.5124 - val_accuracy: 0.8896\n",
      "Epoch 21/25\n",
      "1719/1719 [==============================] - 8s 5ms/step - loss: 0.1408 - accuracy: 0.9524 - val_loss: 0.5731 - val_accuracy: 0.8876\n",
      "Epoch 22/25\n",
      "1719/1719 [==============================] - 9s 5ms/step - loss: 0.1328 - accuracy: 0.9562 - val_loss: 0.5827 - val_accuracy: 0.8884\n",
      "Epoch 23/25\n",
      "1719/1719 [==============================] - 9s 5ms/step - loss: 0.1232 - accuracy: 0.9590 - val_loss: 0.6179 - val_accuracy: 0.8882\n",
      "Epoch 24/25\n",
      "1719/1719 [==============================] - 8s 5ms/step - loss: 0.1156 - accuracy: 0.9616 - val_loss: 0.6405 - val_accuracy: 0.8902\n",
      "Epoch 25/25\n",
      "1719/1719 [==============================] - 8s 5ms/step - loss: 0.1080 - accuracy: 0.9649 - val_loss: 0.6426 - val_accuracy: 0.8916\n"
     ]
    }
   ],
   "source": [
    "lr_scheduler = keras.callbacks.LearningRateScheduler(exponential_decay_fn)\n",
    "history = model.fit(X_train_scaled, y_train, epochs=n_epochs,\n",
    "                    validation_data=(X_valid_scaled, y_valid),\n",
    "                    callbacks=[lr_scheduler])"
   ]
  },
  {
   "cell_type": "code",
   "execution_count": 16,
   "metadata": {
    "ExecuteTime": {
     "end_time": "2021-07-19T10:08:35.852604Z",
     "start_time": "2021-07-19T10:08:35.680637Z"
    }
   },
   "outputs": [
    {
     "data": {
      "image/png": "[encoded data removed]",
      "text/plain": [
       "<Figure size 432x288 with 1 Axes>"
      ]
     },
     "metadata": {
      "needs_background": "light"
     },
     "output_type": "display_data"
    }
   ],
   "source": [
    "plt.plot(history.epoch, history.history[\"lr\"], \"o-\")\n",
    "plt.axis([0, n_epochs - 1, 0, 0.011])\n",
    "plt.xlabel(\"Epoch\")\n",
    "plt.ylabel(\"Learning Rate\")\n",
    "plt.title(\"Exponential Scheduling\", fontsize=14)\n",
    "plt.grid(True)\n",
    "plt.show()"
   ]
  },
  {
   "cell_type": "code",
   "execution_count": 18,
   "metadata": {
    "ExecuteTime": {
     "end_time": "2021-07-19T10:09:38.903681Z",
     "start_time": "2021-07-19T10:09:38.888669Z"
    }
   },
   "outputs": [],
   "source": [
    "def exponential_decay_fn(epoch, lr):\n",
    "    return lr * 0.1**(1 / 20)"
   ]
  },
  {
   "cell_type": "code",
   "execution_count": 19,
   "metadata": {
    "ExecuteTime": {
     "end_time": "2021-07-19T10:13:23.690300Z",
     "start_time": "2021-07-19T10:09:46.135884Z"
    },
    "scrolled": true
   },
   "outputs": [
    {
     "name": "stderr",
     "output_type": "stream",
     "text": [
      "C:\\Users\\ysw29\\anaconda3\\lib\\site-packages\\tensorflow\\python\\keras\\optimizer_v2\\optimizer_v2.py:374: UserWarning: The `lr` argument is deprecated, use `learning_rate` instead.\n",
      "  warnings.warn(\n"
     ]
    },
    {
     "name": "stdout",
     "output_type": "stream",
     "text": [
      "Epoch 1/25\n",
      "1719/1719 [==============================] - 9s 5ms/step - loss: 0.7851 - accuracy: 0.7692 - val_loss: 0.7822 - val_accuracy: 0.7542\n",
      "Epoch 2/25\n",
      "1719/1719 [==============================] - 8s 5ms/step - loss: 0.6714 - accuracy: 0.7998 - val_loss: 0.6219 - val_accuracy: 0.8208\n",
      "Epoch 3/25\n",
      "1719/1719 [==============================] - 8s 5ms/step - loss: 0.5749 - accuracy: 0.8217 - val_loss: 0.7545 - val_accuracy: 0.7532\n",
      "Epoch 4/25\n",
      "1719/1719 [==============================] - 8s 5ms/step - loss: 0.5421 - accuracy: 0.8333 - val_loss: 0.4810 - val_accuracy: 0.8558\n",
      "Epoch 5/25\n",
      "1719/1719 [==============================] - 9s 5ms/step - loss: 0.4661 - accuracy: 0.8514 - val_loss: 0.4968 - val_accuracy: 0.8480\n",
      "Epoch 6/25\n",
      "1719/1719 [==============================] - 8s 5ms/step - loss: 0.4353 - accuracy: 0.8631 - val_loss: 0.6389 - val_accuracy: 0.8618\n",
      "Epoch 7/25\n",
      "1719/1719 [==============================] - 9s 5ms/step - loss: 0.3957 - accuracy: 0.8733 - val_loss: 0.4729 - val_accuracy: 0.8646\n",
      "Epoch 8/25\n",
      "1719/1719 [==============================] - 8s 5ms/step - loss: 0.3608 - accuracy: 0.8833 - val_loss: 0.4840 - val_accuracy: 0.8510\n",
      "Epoch 9/25\n",
      "1719/1719 [==============================] - 9s 5ms/step - loss: 0.3385 - accuracy: 0.8881 - val_loss: 0.4758 - val_accuracy: 0.8620\n",
      "Epoch 10/25\n",
      "1719/1719 [==============================] - 9s 5ms/step - loss: 0.3126 - accuracy: 0.8953 - val_loss: 0.4464 - val_accuracy: 0.8838\n",
      "Epoch 11/25\n",
      "1719/1719 [==============================] - 9s 5ms/step - loss: 0.2853 - accuracy: 0.9037 - val_loss: 0.4125 - val_accuracy: 0.8774\n",
      "Epoch 12/25\n",
      "1719/1719 [==============================] - 9s 5ms/step - loss: 0.2718 - accuracy: 0.9095 - val_loss: 0.4071 - val_accuracy: 0.8744\n",
      "Epoch 13/25\n",
      "1719/1719 [==============================] - 8s 5ms/step - loss: 0.2567 - accuracy: 0.9144 - val_loss: 0.4603 - val_accuracy: 0.8852\n",
      "Epoch 14/25\n",
      "1719/1719 [==============================] - 8s 5ms/step - loss: 0.2309 - accuracy: 0.9212 - val_loss: 0.4255 - val_accuracy: 0.8794\n",
      "Epoch 15/25\n",
      "1719/1719 [==============================] - 9s 5ms/step - loss: 0.2153 - accuracy: 0.9272 - val_loss: 0.5235 - val_accuracy: 0.8838\n",
      "Epoch 16/25\n",
      "1719/1719 [==============================] - 9s 5ms/step - loss: 0.1990 - accuracy: 0.9324 - val_loss: 0.4909 - val_accuracy: 0.8808\n",
      "Epoch 17/25\n",
      "1719/1719 [==============================] - 9s 5ms/step - loss: 0.1876 - accuracy: 0.9369 - val_loss: 0.4539 - val_accuracy: 0.8850\n",
      "Epoch 18/25\n",
      "1719/1719 [==============================] - 8s 5ms/step - loss: 0.1711 - accuracy: 0.9416 - val_loss: 0.4972 - val_accuracy: 0.8864\n",
      "Epoch 19/25\n",
      "1719/1719 [==============================] - 8s 5ms/step - loss: 0.1609 - accuracy: 0.9451 - val_loss: 0.4867 - val_accuracy: 0.8922\n",
      "Epoch 20/25\n",
      "1719/1719 [==============================] - 9s 5ms/step - loss: 0.1478 - accuracy: 0.9508 - val_loss: 0.5323 - val_accuracy: 0.8880\n",
      "Epoch 21/25\n",
      "1719/1719 [==============================] - 9s 5ms/step - loss: 0.1394 - accuracy: 0.9532 - val_loss: 0.5604 - val_accuracy: 0.8848\n",
      "Epoch 22/25\n",
      "1719/1719 [==============================] - 8s 5ms/step - loss: 0.1322 - accuracy: 0.9567 - val_loss: 0.5557 - val_accuracy: 0.8930\n",
      "Epoch 23/25\n",
      "1719/1719 [==============================] - 9s 5ms/step - loss: 0.1230 - accuracy: 0.9606 - val_loss: 0.5961 - val_accuracy: 0.8878\n",
      "Epoch 24/25\n",
      "1719/1719 [==============================] - 9s 5ms/step - loss: 0.1162 - accuracy: 0.9622 - val_loss: 0.6443 - val_accuracy: 0.8862\n",
      "Epoch 25/25\n",
      "1719/1719 [==============================] - 9s 5ms/step - loss: 0.1069 - accuracy: 0.9653 - val_loss: 0.6452 - val_accuracy: 0.8890\n"
     ]
    }
   ],
   "source": [
    "K = keras.backend\n",
    "\n",
    "class ExponentialDecay(keras.callbacks.Callback):\n",
    "    def __init__(self, s=40000):\n",
    "        super().__init__()\n",
    "        self.s = s\n",
    "\n",
    "    def on_batch_begin(self, batch, logs=None):\n",
    "        # 노트: 에포크마다 `batch` 매개변수가 재설정됩니다\n",
    "        lr = K.get_value(self.model.optimizer.lr)\n",
    "        K.set_value(self.model.optimizer.lr, lr * 0.1**(1 / s))\n",
    "\n",
    "    def on_epoch_end(self, epoch, logs=None):\n",
    "        logs = logs or {}\n",
    "        logs['lr'] = K.get_value(self.model.optimizer.lr)\n",
    "\n",
    "model = keras.models.Sequential([\n",
    "    keras.layers.Flatten(input_shape=[28, 28]),\n",
    "    keras.layers.Dense(300, activation=\"selu\", kernel_initializer=\"lecun_normal\"),\n",
    "    keras.layers.Dense(100, activation=\"selu\", kernel_initializer=\"lecun_normal\"),\n",
    "    keras.layers.Dense(10, activation=\"softmax\")\n",
    "])\n",
    "lr0 = 0.01\n",
    "optimizer = keras.optimizers.Nadam(lr=lr0)\n",
    "model.compile(loss=\"sparse_categorical_crossentropy\", optimizer=optimizer, metrics=[\"accuracy\"])\n",
    "n_epochs = 25\n",
    "\n",
    "s = 20 * len(X_train) // 32 # 20 에포크 동안 스텝 횟수 (배치 크기 = 32)\n",
    "exp_decay = ExponentialDecay(s)\n",
    "history = model.fit(X_train_scaled, y_train, epochs=n_epochs,\n",
    "                    validation_data=(X_valid_scaled, y_valid),\n",
    "                    callbacks=[exp_decay])"
   ]
  },
  {
   "cell_type": "code",
   "execution_count": 25,
   "metadata": {
    "ExecuteTime": {
     "end_time": "2021-07-19T10:19:28.499667Z",
     "start_time": "2021-07-19T10:19:28.481405Z"
    }
   },
   "outputs": [],
   "source": [
    "n_steps = n_epochs * len(X_train) // 32\n",
    "steps = np.arange(n_steps)\n",
    "lrs = lr0 * 0.1**(steps / s)"
   ]
  },
  {
   "cell_type": "code",
   "execution_count": 26,
   "metadata": {
    "ExecuteTime": {
     "end_time": "2021-07-19T10:19:30.826241Z",
     "start_time": "2021-07-19T10:19:30.630480Z"
    }
   },
   "outputs": [
    {
     "data": {
      "image/png": "[encoded data removed]",
      "text/plain": [
       "<Figure size 432x288 with 1 Axes>"
      ]
     },
     "metadata": {
      "needs_background": "light"
     },
     "output_type": "display_data"
    }
   ],
   "source": [
    "plt.plot(steps, lrs, \"-\", linewidth=2)\n",
    "plt.axis([0, n_steps - 1, 0, lr0 * 1.1])\n",
    "plt.xlabel(\"Batch\")\n",
    "plt.ylabel(\"Learning Rate\")\n",
    "plt.title(\"Exponential Scheduling (per batch)\", fontsize=14)\n",
    "plt.grid(True)\n",
    "plt.show()"
   ]
  },
  {
   "cell_type": "markdown",
   "metadata": {},
   "source": [
    "#### 기간별 고정 스케줄링"
   ]
  },
  {
   "cell_type": "code",
   "execution_count": 27,
   "metadata": {
    "ExecuteTime": {
     "end_time": "2021-07-19T10:19:51.373363Z",
     "start_time": "2021-07-19T10:19:51.353962Z"
    }
   },
   "outputs": [],
   "source": [
    "def piecewise_constant_fn(epoch):\n",
    "    if epoch < 5:\n",
    "        return 0.01\n",
    "    elif epoch < 15:\n",
    "        return 0.005\n",
    "    else:\n",
    "        return 0.001"
   ]
  },
  {
   "cell_type": "code",
   "execution_count": 28,
   "metadata": {
    "ExecuteTime": {
     "end_time": "2021-07-19T10:19:53.878635Z",
     "start_time": "2021-07-19T10:19:53.860844Z"
    }
   },
   "outputs": [],
   "source": [
    "def piecewise_constant(boundaries, values):\n",
    "    boundaries = np.array([0] + boundaries)\n",
    "    values = np.array(values)\n",
    "    def piecewise_constant_fn(epoch):\n",
    "        return values[np.argmax(boundaries > epoch) - 1]\n",
    "    return piecewise_constant_fn\n",
    "\n",
    "piecewise_constant_fn = piecewise_constant([5, 15], [0.01, 0.005, 0.001])"
   ]
  },
  {
   "cell_type": "code",
   "execution_count": 29,
   "metadata": {
    "ExecuteTime": {
     "end_time": "2021-07-19T10:23:21.773941Z",
     "start_time": "2021-07-19T10:19:57.219747Z"
    },
    "scrolled": true
   },
   "outputs": [
    {
     "name": "stdout",
     "output_type": "stream",
     "text": [
      "Epoch 1/25\n",
      "1719/1719 [==============================] - 8s 5ms/step - loss: 0.8811 - accuracy: 0.7473 - val_loss: 0.7562 - val_accuracy: 0.7528\n",
      "Epoch 2/25\n",
      "1719/1719 [==============================] - 8s 4ms/step - loss: 0.9327 - accuracy: 0.7376 - val_loss: 0.8582 - val_accuracy: 0.7706\n",
      "Epoch 3/25\n",
      "1719/1719 [==============================] - 8s 5ms/step - loss: 0.8255 - accuracy: 0.7608 - val_loss: 1.1152 - val_accuracy: 0.6936\n",
      "Epoch 4/25\n",
      "1719/1719 [==============================] - 8s 4ms/step - loss: 0.8445 - accuracy: 0.7634 - val_loss: 0.7151 - val_accuracy: 0.8040\n",
      "Epoch 5/25\n",
      "1719/1719 [==============================] - 8s 5ms/step - loss: 0.8534 - accuracy: 0.7355 - val_loss: 1.0927 - val_accuracy: 0.7582\n",
      "Epoch 6/25\n",
      "1719/1719 [==============================] - 8s 5ms/step - loss: 0.5983 - accuracy: 0.8167 - val_loss: 0.6206 - val_accuracy: 0.8324\n",
      "Epoch 7/25\n",
      "1719/1719 [==============================] - 8s 5ms/step - loss: 0.5353 - accuracy: 0.8370 - val_loss: 0.6508 - val_accuracy: 0.8350\n",
      "Epoch 8/25\n",
      "1719/1719 [==============================] - 8s 4ms/step - loss: 0.5140 - accuracy: 0.8437 - val_loss: 0.7550 - val_accuracy: 0.8154\n",
      "Epoch 9/25\n",
      "1719/1719 [==============================] - 8s 5ms/step - loss: 0.4871 - accuracy: 0.8510 - val_loss: 0.5777 - val_accuracy: 0.8470\n",
      "Epoch 10/25\n",
      "1719/1719 [==============================] - 8s 5ms/step - loss: 0.4857 - accuracy: 0.8509 - val_loss: 0.5575 - val_accuracy: 0.8560\n",
      "Epoch 11/25\n",
      "1719/1719 [==============================] - 9s 5ms/step - loss: 0.4919 - accuracy: 0.8519 - val_loss: 0.6026 - val_accuracy: 0.8502\n",
      "Epoch 12/25\n",
      "1719/1719 [==============================] - 8s 5ms/step - loss: 0.4731 - accuracy: 0.8560 - val_loss: 0.5516 - val_accuracy: 0.8466\n",
      "Epoch 13/25\n",
      "1719/1719 [==============================] - 8s 4ms/step - loss: 0.4676 - accuracy: 0.8593 - val_loss: 0.6125 - val_accuracy: 0.8456\n",
      "Epoch 14/25\n",
      "1719/1719 [==============================] - 8s 5ms/step - loss: 0.4448 - accuracy: 0.8634 - val_loss: 0.6203 - val_accuracy: 0.8562\n",
      "Epoch 15/25\n",
      "1719/1719 [==============================] - 8s 5ms/step - loss: 0.5077 - accuracy: 0.8548 - val_loss: 0.6788 - val_accuracy: 0.8478\n",
      "Epoch 16/25\n",
      "1719/1719 [==============================] - 8s 5ms/step - loss: 0.3272 - accuracy: 0.8925 - val_loss: 0.5266 - val_accuracy: 0.8676\n",
      "Epoch 17/25\n",
      "1719/1719 [==============================] - 8s 5ms/step - loss: 0.3036 - accuracy: 0.9008 - val_loss: 0.5460 - val_accuracy: 0.8672\n",
      "Epoch 18/25\n",
      "1719/1719 [==============================] - 9s 5ms/step - loss: 0.2957 - accuracy: 0.9031 - val_loss: 0.5756 - val_accuracy: 0.8696\n",
      "Epoch 19/25\n",
      "1719/1719 [==============================] - 8s 5ms/step - loss: 0.2832 - accuracy: 0.9071 - val_loss: 0.5347 - val_accuracy: 0.8728\n",
      "Epoch 20/25\n",
      "1719/1719 [==============================] - 9s 5ms/step - loss: 0.2733 - accuracy: 0.9090 - val_loss: 0.5838 - val_accuracy: 0.8754\n",
      "Epoch 21/25\n",
      "1719/1719 [==============================] - 9s 5ms/step - loss: 0.2668 - accuracy: 0.9127 - val_loss: 0.5610 - val_accuracy: 0.8738\n",
      "Epoch 22/25\n",
      "1719/1719 [==============================] - 8s 5ms/step - loss: 0.2594 - accuracy: 0.9142 - val_loss: 0.5727 - val_accuracy: 0.8766\n",
      "Epoch 23/25\n",
      "1719/1719 [==============================] - 9s 5ms/step - loss: 0.2517 - accuracy: 0.9182 - val_loss: 0.6463 - val_accuracy: 0.8706\n",
      "Epoch 24/25\n",
      "1719/1719 [==============================] - 9s 5ms/step - loss: 0.2455 - accuracy: 0.9202 - val_loss: 0.6136 - val_accuracy: 0.8766\n",
      "Epoch 25/25\n",
      "1719/1719 [==============================] - 8s 5ms/step - loss: 0.2428 - accuracy: 0.9210 - val_loss: 0.6284 - val_accuracy: 0.8716\n"
     ]
    }
   ],
   "source": [
    "lr_scheduler = keras.callbacks.LearningRateScheduler(piecewise_constant_fn)\n",
    "\n",
    "model = keras.models.Sequential([\n",
    "    keras.layers.Flatten(input_shape=[28, 28]),\n",
    "    keras.layers.Dense(300, activation=\"selu\", kernel_initializer=\"lecun_normal\"),\n",
    "    keras.layers.Dense(100, activation=\"selu\", kernel_initializer=\"lecun_normal\"),\n",
    "    keras.layers.Dense(10, activation=\"softmax\")\n",
    "])\n",
    "model.compile(loss=\"sparse_categorical_crossentropy\", optimizer=\"nadam\", metrics=[\"accuracy\"])\n",
    "n_epochs = 25\n",
    "history = model.fit(X_train_scaled, y_train, epochs=n_epochs,\n",
    "                    validation_data=(X_valid_scaled, y_valid),\n",
    "                    callbacks=[lr_scheduler])"
   ]
  },
  {
   "cell_type": "code",
   "execution_count": 30,
   "metadata": {
    "ExecuteTime": {
     "end_time": "2021-07-19T10:23:39.256190Z",
     "start_time": "2021-07-19T10:23:39.102783Z"
    }
   },
   "outputs": [
    {
     "data": {
      "image/png": "[encoded data removed]",
      "text/plain": [
       "<Figure size 432x288 with 1 Axes>"
      ]
     },
     "metadata": {
      "needs_background": "light"
     },
     "output_type": "display_data"
    }
   ],
   "source": [
    "plt.plot(history.epoch, [piecewise_constant_fn(epoch) for epoch in history.epoch], \"o-\")\n",
    "plt.axis([0, n_epochs - 1, 0, 0.011])\n",
    "plt.xlabel(\"Epoch\")\n",
    "plt.ylabel(\"Learning Rate\")\n",
    "plt.title(\"Piecewise Constant Scheduling\", fontsize=14)\n",
    "plt.grid(True)\n",
    "plt.show()"
   ]
  },
  {
   "cell_type": "markdown",
   "metadata": {},
   "source": [
    "#### 성능 기반 스케줄링"
   ]
  },
  {
   "cell_type": "code",
   "execution_count": 31,
   "metadata": {
    "ExecuteTime": {
     "end_time": "2021-07-19T10:25:57.437607Z",
     "start_time": "2021-07-19T10:24:17.374629Z"
    },
    "scrolled": true
   },
   "outputs": [
    {
     "name": "stderr",
     "output_type": "stream",
     "text": [
      "C:\\Users\\ysw29\\anaconda3\\lib\\site-packages\\tensorflow\\python\\keras\\optimizer_v2\\optimizer_v2.py:374: UserWarning: The `lr` argument is deprecated, use `learning_rate` instead.\n",
      "  warnings.warn(\n"
     ]
    },
    {
     "name": "stdout",
     "output_type": "stream",
     "text": [
      "Epoch 1/25\n",
      "1719/1719 [==============================] - 4s 2ms/step - loss: 0.5899 - accuracy: 0.8078 - val_loss: 0.4614 - val_accuracy: 0.8498\n",
      "Epoch 2/25\n",
      "1719/1719 [==============================] - 3s 2ms/step - loss: 0.4978 - accuracy: 0.8403 - val_loss: 0.5871 - val_accuracy: 0.8438\n",
      "Epoch 3/25\n",
      "1719/1719 [==============================] - 3s 2ms/step - loss: 0.5161 - accuracy: 0.8413 - val_loss: 0.5138 - val_accuracy: 0.8522\n",
      "Epoch 4/25\n",
      "1719/1719 [==============================] - 3s 2ms/step - loss: 0.5182 - accuracy: 0.8453 - val_loss: 0.4724 - val_accuracy: 0.8500\n",
      "Epoch 5/25\n",
      "1719/1719 [==============================] - 3s 2ms/step - loss: 0.5169 - accuracy: 0.8488 - val_loss: 0.6055 - val_accuracy: 0.8294\n",
      "Epoch 6/25\n",
      "1719/1719 [==============================] - 4s 2ms/step - loss: 0.4969 - accuracy: 0.8553 - val_loss: 0.6284 - val_accuracy: 0.8486\n",
      "Epoch 7/25\n",
      "1719/1719 [==============================] - 3s 2ms/step - loss: 0.3000 - accuracy: 0.8945 - val_loss: 0.3909 - val_accuracy: 0.8708\n",
      "Epoch 8/25\n",
      "1719/1719 [==============================] - 4s 2ms/step - loss: 0.2590 - accuracy: 0.9057 - val_loss: 0.4263 - val_accuracy: 0.8656\n",
      "Epoch 9/25\n",
      "1719/1719 [==============================] - 4s 2ms/step - loss: 0.2355 - accuracy: 0.9134 - val_loss: 0.3809 - val_accuracy: 0.8836\n",
      "Epoch 10/25\n",
      "1719/1719 [==============================] - 4s 2ms/step - loss: 0.2225 - accuracy: 0.9180 - val_loss: 0.3984 - val_accuracy: 0.8850\n",
      "Epoch 11/25\n",
      "1719/1719 [==============================] - 4s 2ms/step - loss: 0.2120 - accuracy: 0.9216 - val_loss: 0.3849 - val_accuracy: 0.8884\n",
      "Epoch 12/25\n",
      "1719/1719 [==============================] - 4s 3ms/step - loss: 0.1957 - accuracy: 0.9267 - val_loss: 0.4758 - val_accuracy: 0.8702\n",
      "Epoch 13/25\n",
      "1719/1719 [==============================] - 4s 2ms/step - loss: 0.1873 - accuracy: 0.9295 - val_loss: 0.4634 - val_accuracy: 0.8854\n",
      "Epoch 14/25\n",
      "1719/1719 [==============================] - 4s 2ms/step - loss: 0.1797 - accuracy: 0.9333 - val_loss: 0.4561 - val_accuracy: 0.8822\n",
      "Epoch 15/25\n",
      "1719/1719 [==============================] - 4s 2ms/step - loss: 0.1212 - accuracy: 0.9530 - val_loss: 0.4198 - val_accuracy: 0.8872\n",
      "Epoch 16/25\n",
      "1719/1719 [==============================] - 5s 3ms/step - loss: 0.1046 - accuracy: 0.9587 - val_loss: 0.4407 - val_accuracy: 0.8958\n",
      "Epoch 17/25\n",
      "1719/1719 [==============================] - 5s 3ms/step - loss: 0.0953 - accuracy: 0.9634 - val_loss: 0.4492 - val_accuracy: 0.8964\n",
      "Epoch 18/25\n",
      "1719/1719 [==============================] - 4s 2ms/step - loss: 0.0879 - accuracy: 0.9663 - val_loss: 0.4894 - val_accuracy: 0.8918\n",
      "Epoch 19/25\n",
      "1719/1719 [==============================] - 4s 2ms/step - loss: 0.0825 - accuracy: 0.9682 - val_loss: 0.4923 - val_accuracy: 0.8944\n",
      "Epoch 20/25\n",
      "1719/1719 [==============================] - 4s 3ms/step - loss: 0.0613 - accuracy: 0.9778 - val_loss: 0.4877 - val_accuracy: 0.8994\n",
      "Epoch 21/25\n",
      "1719/1719 [==============================] - 4s 3ms/step - loss: 0.0550 - accuracy: 0.9804 - val_loss: 0.5039 - val_accuracy: 0.8944\n",
      "Epoch 22/25\n",
      "1719/1719 [==============================] - 5s 3ms/step - loss: 0.0517 - accuracy: 0.9817 - val_loss: 0.5227 - val_accuracy: 0.8958\n",
      "Epoch 23/25\n",
      "1719/1719 [==============================] - 4s 2ms/step - loss: 0.0480 - accuracy: 0.9833 - val_loss: 0.5291 - val_accuracy: 0.8946\n",
      "Epoch 24/25\n",
      "1719/1719 [==============================] - 5s 3ms/step - loss: 0.0451 - accuracy: 0.9846 - val_loss: 0.5386 - val_accuracy: 0.8936\n",
      "Epoch 25/25\n",
      "1719/1719 [==============================] - 5s 3ms/step - loss: 0.0373 - accuracy: 0.9880 - val_loss: 0.5502 - val_accuracy: 0.8954\n"
     ]
    }
   ],
   "source": [
    "tf.random.set_seed(42)\n",
    "np.random.seed(42)\n",
    "\n",
    "lr_scheduler = keras.callbacks.ReduceLROnPlateau(factor=0.5, patience=5)\n",
    "\n",
    "model = keras.models.Sequential([\n",
    "    keras.layers.Flatten(input_shape=[28, 28]),\n",
    "    keras.layers.Dense(300, activation=\"selu\", kernel_initializer=\"lecun_normal\"),\n",
    "    keras.layers.Dense(100, activation=\"selu\", kernel_initializer=\"lecun_normal\"),\n",
    "    keras.layers.Dense(10, activation=\"softmax\")\n",
    "])\n",
    "optimizer = keras.optimizers.SGD(lr=0.02, momentum=0.9)\n",
    "model.compile(loss=\"sparse_categorical_crossentropy\", optimizer=optimizer, metrics=[\"accuracy\"])\n",
    "n_epochs = 25\n",
    "history = model.fit(X_train_scaled, y_train, epochs=n_epochs,\n",
    "                    validation_data=(X_valid_scaled, y_valid),\n",
    "                    callbacks=[lr_scheduler])"
   ]
  },
  {
   "cell_type": "code",
   "execution_count": 32,
   "metadata": {
    "ExecuteTime": {
     "end_time": "2021-07-19T10:26:12.458330Z",
     "start_time": "2021-07-19T10:26:12.213803Z"
    }
   },
   "outputs": [
    {
     "data": {
      "image/png": "[encoded data removed]",
      "text/plain": [
       "<Figure size 432x288 with 2 Axes>"
      ]
     },
     "metadata": {
      "needs_background": "light"
     },
     "output_type": "display_data"
    }
   ],
   "source": [
    "plt.plot(history.epoch, history.history[\"lr\"], \"bo-\")\n",
    "plt.xlabel(\"Epoch\")\n",
    "plt.ylabel(\"Learning Rate\", color='b')\n",
    "plt.tick_params('y', colors='b')\n",
    "plt.gca().set_xlim(0, n_epochs - 1)\n",
    "plt.grid(True)\n",
    "\n",
    "ax2 = plt.gca().twinx()\n",
    "ax2.plot(history.epoch, history.history[\"val_loss\"], \"r^-\")\n",
    "ax2.set_ylabel('Validation Loss', color='r')\n",
    "ax2.tick_params('y', colors='r')\n",
    "\n",
    "plt.title(\"Reduce LR on Plateau\", fontsize=14)\n",
    "plt.show()"
   ]
  },
  {
   "cell_type": "markdown",
   "metadata": {},
   "source": [
    "#### tf.keras 스케줄러"
   ]
  },
  {
   "cell_type": "code",
   "execution_count": 33,
   "metadata": {
    "ExecuteTime": {
     "end_time": "2021-07-19T10:28:17.068208Z",
     "start_time": "2021-07-19T10:26:51.482203Z"
    },
    "scrolled": true
   },
   "outputs": [
    {
     "name": "stdout",
     "output_type": "stream",
     "text": [
      "Epoch 1/25\n",
      "1719/1719 [==============================] - 3s 2ms/step - loss: 0.4894 - accuracy: 0.8273 - val_loss: 0.4096 - val_accuracy: 0.8600\n",
      "Epoch 2/25\n",
      "1719/1719 [==============================] - 3s 2ms/step - loss: 0.3820 - accuracy: 0.8650 - val_loss: 0.3740 - val_accuracy: 0.8700\n",
      "Epoch 3/25\n",
      "1719/1719 [==============================] - 3s 2ms/step - loss: 0.3487 - accuracy: 0.8764 - val_loss: 0.3731 - val_accuracy: 0.8688\n",
      "Epoch 4/25\n",
      "1719/1719 [==============================] - 4s 2ms/step - loss: 0.3263 - accuracy: 0.8836 - val_loss: 0.3492 - val_accuracy: 0.8798\n",
      "Epoch 5/25\n",
      "1719/1719 [==============================] - 4s 2ms/step - loss: 0.3103 - accuracy: 0.8895 - val_loss: 0.3428 - val_accuracy: 0.8802\n",
      "Epoch 6/25\n",
      "1719/1719 [==============================] - 4s 2ms/step - loss: 0.2956 - accuracy: 0.8951 - val_loss: 0.3411 - val_accuracy: 0.8802\n",
      "Epoch 7/25\n",
      "1719/1719 [==============================] - 4s 2ms/step - loss: 0.2852 - accuracy: 0.8993 - val_loss: 0.3352 - val_accuracy: 0.8806\n",
      "Epoch 8/25\n",
      "1719/1719 [==============================] - 4s 2ms/step - loss: 0.2758 - accuracy: 0.9014 - val_loss: 0.3361 - val_accuracy: 0.8816\n",
      "Epoch 9/25\n",
      "1719/1719 [==============================] - 4s 2ms/step - loss: 0.2676 - accuracy: 0.9055 - val_loss: 0.3260 - val_accuracy: 0.8854\n",
      "Epoch 10/25\n",
      "1719/1719 [==============================] - 3s 2ms/step - loss: 0.2606 - accuracy: 0.9071 - val_loss: 0.3236 - val_accuracy: 0.8860\n",
      "Epoch 11/25\n",
      "1719/1719 [==============================] - 3s 2ms/step - loss: 0.2549 - accuracy: 0.9092 - val_loss: 0.3246 - val_accuracy: 0.8860\n",
      "Epoch 12/25\n",
      "1719/1719 [==============================] - 3s 2ms/step - loss: 0.2495 - accuracy: 0.9126 - val_loss: 0.3296 - val_accuracy: 0.8812\n",
      "Epoch 13/25\n",
      "1719/1719 [==============================] - 3s 2ms/step - loss: 0.2447 - accuracy: 0.9139 - val_loss: 0.3213 - val_accuracy: 0.8850\n",
      "Epoch 14/25\n",
      "1719/1719 [==============================] - 3s 2ms/step - loss: 0.2413 - accuracy: 0.9144 - val_loss: 0.3220 - val_accuracy: 0.8854\n",
      "Epoch 15/25\n",
      "1719/1719 [==============================] - 4s 2ms/step - loss: 0.2374 - accuracy: 0.9169 - val_loss: 0.3203 - val_accuracy: 0.8878\n",
      "Epoch 16/25\n",
      "1719/1719 [==============================] - 4s 2ms/step - loss: 0.2342 - accuracy: 0.9176 - val_loss: 0.3178 - val_accuracy: 0.8882\n",
      "Epoch 17/25\n",
      "1719/1719 [==============================] - 3s 2ms/step - loss: 0.2315 - accuracy: 0.9190 - val_loss: 0.3192 - val_accuracy: 0.8896\n",
      "Epoch 18/25\n",
      "1719/1719 [==============================] - 3s 2ms/step - loss: 0.2289 - accuracy: 0.9195 - val_loss: 0.3165 - val_accuracy: 0.8896\n",
      "Epoch 19/25\n",
      "1719/1719 [==============================] - 3s 2ms/step - loss: 0.2268 - accuracy: 0.9208 - val_loss: 0.3193 - val_accuracy: 0.8894\n",
      "Epoch 20/25\n",
      "1719/1719 [==============================] - 3s 2ms/step - loss: 0.2249 - accuracy: 0.9217 - val_loss: 0.3165 - val_accuracy: 0.8896\n",
      "Epoch 21/25\n",
      "1719/1719 [==============================] - 4s 2ms/step - loss: 0.2227 - accuracy: 0.9226 - val_loss: 0.3175 - val_accuracy: 0.8896\n",
      "Epoch 22/25\n",
      "1719/1719 [==============================] - 4s 2ms/step - loss: 0.2214 - accuracy: 0.9219 - val_loss: 0.3158 - val_accuracy: 0.8914\n",
      "Epoch 23/25\n",
      "1719/1719 [==============================] - 4s 2ms/step - loss: 0.2200 - accuracy: 0.9231 - val_loss: 0.3167 - val_accuracy: 0.8900\n",
      "Epoch 24/25\n",
      "1719/1719 [==============================] - 3s 2ms/step - loss: 0.2186 - accuracy: 0.9241 - val_loss: 0.3162 - val_accuracy: 0.8898\n",
      "Epoch 25/25\n",
      "1719/1719 [==============================] - 3s 2ms/step - loss: 0.2178 - accuracy: 0.9239 - val_loss: 0.3161 - val_accuracy: 0.8904\n"
     ]
    }
   ],
   "source": [
    "model = keras.models.Sequential([\n",
    "    keras.layers.Flatten(input_shape=[28, 28]),\n",
    "    keras.layers.Dense(300, activation=\"selu\", kernel_initializer=\"lecun_normal\"),\n",
    "    keras.layers.Dense(100, activation=\"selu\", kernel_initializer=\"lecun_normal\"),\n",
    "    keras.layers.Dense(10, activation=\"softmax\")\n",
    "])\n",
    "s = 20 * len(X_train) // 32 # number of steps in 20 epochs (batch size = 32)\n",
    "learning_rate = keras.optimizers.schedules.ExponentialDecay(0.01, s, 0.1)\n",
    "optimizer = keras.optimizers.SGD(learning_rate)\n",
    "model.compile(loss=\"sparse_categorical_crossentropy\", optimizer=optimizer, metrics=[\"accuracy\"])\n",
    "n_epochs = 25\n",
    "history = model.fit(X_train_scaled, y_train, epochs=n_epochs,\n",
    "                    validation_data=(X_valid_scaled, y_valid))"
   ]
  },
  {
   "cell_type": "code",
   "execution_count": null,
   "metadata": {},
   "outputs": [],
   "source": [
    "learning_rate = keras.optimizers.schedules.PiecewiseConstantDecay(\n",
    "    boundaries=[5. * n_steps_per_epoch, 15. * n_steps_per_epoch],\n",
    "    values=[0.01, 0.005, 0.001])"
   ]
  },
  {
   "cell_type": "markdown",
   "metadata": {},
   "source": [
    "#### 1사이클 스케줄링"
   ]
  },
  {
   "cell_type": "code",
   "execution_count": 34,
   "metadata": {
    "ExecuteTime": {
     "end_time": "2021-07-19T10:28:37.779568Z",
     "start_time": "2021-07-19T10:28:37.760485Z"
    }
   },
   "outputs": [],
   "source": [
    "K = keras.backend\n",
    "\n",
    "class ExponentialLearningRate(keras.callbacks.Callback):\n",
    "    def __init__(self, factor):\n",
    "        self.factor = factor\n",
    "        self.rates = []\n",
    "        self.losses = []\n",
    "    def on_batch_end(self, batch, logs):\n",
    "        self.rates.append(K.get_value(self.model.optimizer.lr))\n",
    "        self.losses.append(logs[\"loss\"])\n",
    "        K.set_value(self.model.optimizer.lr, self.model.optimizer.lr * self.factor)\n",
    "\n",
    "def find_learning_rate(model, X, y, epochs=1, batch_size=32, min_rate=10**-5, max_rate=10):\n",
    "    init_weights = model.get_weights()\n",
    "    iterations = math.ceil(len(X) / batch_size) * epochs\n",
    "    factor = np.exp(np.log(max_rate / min_rate) / iterations)\n",
    "    init_lr = K.get_value(model.optimizer.lr)\n",
    "    K.set_value(model.optimizer.lr, min_rate)\n",
    "    exp_lr = ExponentialLearningRate(factor)\n",
    "    history = model.fit(X, y, epochs=epochs, batch_size=batch_size,\n",
    "                        callbacks=[exp_lr])\n",
    "    K.set_value(model.optimizer.lr, init_lr)\n",
    "    model.set_weights(init_weights)\n",
    "    return exp_lr.rates, exp_lr.losses\n",
    "\n",
    "def plot_lr_vs_loss(rates, losses):\n",
    "    plt.plot(rates, losses)\n",
    "    plt.gca().set_xscale('log')\n",
    "    plt.hlines(min(losses), min(rates), max(rates))\n",
    "    plt.axis([min(rates), max(rates), min(losses), (losses[0] + min(losses)) / 2])\n",
    "    plt.xlabel(\"Learning rate\")\n",
    "    plt.ylabel(\"Loss\")"
   ]
  },
  {
   "cell_type": "code",
   "execution_count": 35,
   "metadata": {
    "ExecuteTime": {
     "end_time": "2021-07-19T10:28:51.624825Z",
     "start_time": "2021-07-19T10:28:51.557073Z"
    }
   },
   "outputs": [],
   "source": [
    "tf.random.set_seed(42)\n",
    "np.random.seed(42)\n",
    "\n",
    "model = keras.models.Sequential([\n",
    "    keras.layers.Flatten(input_shape=[28, 28]),\n",
    "    keras.layers.Dense(300, activation=\"selu\", kernel_initializer=\"lecun_normal\"),\n",
    "    keras.layers.Dense(100, activation=\"selu\", kernel_initializer=\"lecun_normal\"),\n",
    "    keras.layers.Dense(10, activation=\"softmax\")\n",
    "])\n",
    "model.compile(loss=\"sparse_categorical_crossentropy\",\n",
    "              optimizer=keras.optimizers.SGD(lr=1e-3),\n",
    "              metrics=[\"accuracy\"])"
   ]
  },
  {
   "cell_type": "code",
   "execution_count": 36,
   "metadata": {
    "ExecuteTime": {
     "end_time": "2021-07-19T10:28:55.500511Z",
     "start_time": "2021-07-19T10:28:52.531806Z"
    }
   },
   "outputs": [
    {
     "name": "stdout",
     "output_type": "stream",
     "text": [
      "430/430 [==============================] - 2s 4ms/step - loss: nan - accuracy: 0.3863\n"
     ]
    },
    {
     "data": {
      "image/png": "[encoded data removed]",
      "text/plain": [
       "<Figure size 432x288 with 1 Axes>"
      ]
     },
     "metadata": {
      "needs_background": "light"
     },
     "output_type": "display_data"
    }
   ],
   "source": [
    "batch_size = 128\n",
    "rates, losses = find_learning_rate(model, X_train_scaled, y_train, epochs=1, batch_size=batch_size)\n",
    "plot_lr_vs_loss(rates, losses)"
   ]
  },
  {
   "cell_type": "code",
   "execution_count": 37,
   "metadata": {
    "ExecuteTime": {
     "end_time": "2021-07-19T10:29:04.540795Z",
     "start_time": "2021-07-19T10:29:04.520721Z"
    }
   },
   "outputs": [],
   "source": [
    "class OneCycleScheduler(keras.callbacks.Callback):\n",
    "    def __init__(self, iterations, max_rate, start_rate=None,\n",
    "                 last_iterations=None, last_rate=None):\n",
    "        self.iterations = iterations\n",
    "        self.max_rate = max_rate\n",
    "        self.start_rate = start_rate or max_rate / 10\n",
    "        self.last_iterations = last_iterations or iterations // 10 + 1\n",
    "        self.half_iteration = (iterations - self.last_iterations) // 2\n",
    "        self.last_rate = last_rate or self.start_rate / 1000\n",
    "        self.iteration = 0\n",
    "    def _interpolate(self, iter1, iter2, rate1, rate2):\n",
    "        return ((rate2 - rate1) * (self.iteration - iter1)\n",
    "                / (iter2 - iter1) + rate1)\n",
    "    def on_batch_begin(self, batch, logs):\n",
    "        if self.iteration < self.half_iteration:\n",
    "            rate = self._interpolate(0, self.half_iteration, self.start_rate, self.max_rate)\n",
    "        elif self.iteration < 2 * self.half_iteration:\n",
    "            rate = self._interpolate(self.half_iteration, 2 * self.half_iteration,\n",
    "                                     self.max_rate, self.start_rate)\n",
    "        else:\n",
    "            rate = self._interpolate(2 * self.half_iteration, self.iterations,\n",
    "                                     self.start_rate, self.last_rate)\n",
    "        self.iteration += 1\n",
    "        K.set_value(self.model.optimizer.lr, rate)"
   ]
  },
  {
   "cell_type": "code",
   "execution_count": 39,
   "metadata": {
    "ExecuteTime": {
     "end_time": "2021-07-19T10:31:12.860344Z",
     "start_time": "2021-07-19T10:30:24.827123Z"
    },
    "scrolled": true
   },
   "outputs": [
    {
     "name": "stdout",
     "output_type": "stream",
     "text": [
      "Epoch 1/25\n",
      "430/430 [==============================] - 2s 4ms/step - loss: 0.1641 - accuracy: 0.9444 - val_loss: 0.3200 - val_accuracy: 0.8952\n",
      "Epoch 2/25\n",
      "430/430 [==============================] - 2s 4ms/step - loss: 0.1657 - accuracy: 0.9431 - val_loss: 0.3217 - val_accuracy: 0.8924\n",
      "Epoch 3/25\n",
      "430/430 [==============================] - 2s 4ms/step - loss: 0.1667 - accuracy: 0.9423 - val_loss: 0.3253 - val_accuracy: 0.8912\n",
      "Epoch 4/25\n",
      "430/430 [==============================] - 2s 4ms/step - loss: 0.1663 - accuracy: 0.9423 - val_loss: 0.3286 - val_accuracy: 0.8918\n",
      "Epoch 5/25\n",
      "430/430 [==============================] - 2s 4ms/step - loss: 0.1686 - accuracy: 0.9413 - val_loss: 0.3316 - val_accuracy: 0.8900\n",
      "Epoch 6/25\n",
      "430/430 [==============================] - 2s 4ms/step - loss: 0.1687 - accuracy: 0.9409 - val_loss: 0.3467 - val_accuracy: 0.8890\n",
      "Epoch 7/25\n",
      "430/430 [==============================] - 2s 4ms/step - loss: 0.1711 - accuracy: 0.9385 - val_loss: 0.3514 - val_accuracy: 0.8890\n",
      "Epoch 8/25\n",
      "430/430 [==============================] - 2s 5ms/step - loss: 0.1697 - accuracy: 0.9397 - val_loss: 0.3957 - val_accuracy: 0.8748\n",
      "Epoch 9/25\n",
      "430/430 [==============================] - 2s 5ms/step - loss: 0.1708 - accuracy: 0.9382 - val_loss: 0.3492 - val_accuracy: 0.8906\n",
      "Epoch 10/25\n",
      "430/430 [==============================] - 2s 5ms/step - loss: 0.1714 - accuracy: 0.9374 - val_loss: 0.3713 - val_accuracy: 0.8862\n",
      "Epoch 11/25\n",
      "430/430 [==============================] - 2s 5ms/step - loss: 0.1722 - accuracy: 0.9367 - val_loss: 0.3704 - val_accuracy: 0.8874\n",
      "Epoch 12/25\n",
      "430/430 [==============================] - 2s 5ms/step - loss: 0.1661 - accuracy: 0.9405 - val_loss: 0.3778 - val_accuracy: 0.8830\n",
      "Epoch 13/25\n",
      "430/430 [==============================] - 2s 5ms/step - loss: 0.1552 - accuracy: 0.9441 - val_loss: 0.3539 - val_accuracy: 0.8914\n",
      "Epoch 14/25\n",
      "430/430 [==============================] - 2s 4ms/step - loss: 0.1439 - accuracy: 0.9492 - val_loss: 0.3797 - val_accuracy: 0.8812\n",
      "Epoch 15/25\n",
      "430/430 [==============================] - 2s 5ms/step - loss: 0.1328 - accuracy: 0.9532 - val_loss: 0.3530 - val_accuracy: 0.8934\n",
      "Epoch 16/25\n",
      "430/430 [==============================] - 2s 5ms/step - loss: 0.1233 - accuracy: 0.9579 - val_loss: 0.3552 - val_accuracy: 0.8904\n",
      "Epoch 17/25\n",
      "430/430 [==============================] - 2s 5ms/step - loss: 0.1156 - accuracy: 0.9609 - val_loss: 0.3598 - val_accuracy: 0.8960\n",
      "Epoch 18/25\n",
      "430/430 [==============================] - 2s 6ms/step - loss: 0.1088 - accuracy: 0.9639 - val_loss: 0.3594 - val_accuracy: 0.8958\n",
      "Epoch 19/25\n",
      "430/430 [==============================] - 2s 5ms/step - loss: 0.1018 - accuracy: 0.9667 - val_loss: 0.3550 - val_accuracy: 0.9012\n",
      "Epoch 20/25\n",
      "430/430 [==============================] - 2s 5ms/step - loss: 0.0965 - accuracy: 0.9697 - val_loss: 0.3559 - val_accuracy: 0.8984\n",
      "Epoch 21/25\n",
      "430/430 [==============================] - 2s 4ms/step - loss: 0.0912 - accuracy: 0.9729 - val_loss: 0.3601 - val_accuracy: 0.8942\n",
      "Epoch 22/25\n",
      "430/430 [==============================] - 2s 4ms/step - loss: 0.0870 - accuracy: 0.9743 - val_loss: 0.3557 - val_accuracy: 0.8996\n",
      "Epoch 23/25\n",
      "430/430 [==============================] - 2s 4ms/step - loss: 0.0836 - accuracy: 0.9763 - val_loss: 0.3555 - val_accuracy: 0.8986\n",
      "Epoch 24/25\n",
      "430/430 [==============================] - 2s 4ms/step - loss: 0.0815 - accuracy: 0.9772 - val_loss: 0.3554 - val_accuracy: 0.9006\n",
      "Epoch 25/25\n",
      "430/430 [==============================] - 2s 4ms/step - loss: 0.0802 - accuracy: 0.9783 - val_loss: 0.3547 - val_accuracy: 0.9012\n"
     ]
    }
   ],
   "source": [
    "n_epochs = 25\n",
    "onecycle = OneCycleScheduler(math.ceil(len(X_train) / batch_size) * n_epochs, max_rate=0.05)\n",
    "history = model.fit(X_train_scaled, y_train, epochs=n_epochs, batch_size=batch_size,\n",
    "                    validation_data=(X_valid_scaled, y_valid),\n",
    "                    callbacks=[onecycle])"
   ]
  },
  {
   "cell_type": "markdown",
   "metadata": {},
   "source": [
    "### 규제를 사용해 과대적합 피하기\n",
    "#### l1과 l2규제"
   ]
  },
  {
   "cell_type": "code",
   "execution_count": 9,
   "metadata": {
    "ExecuteTime": {
     "end_time": "2021-07-20T09:13:55.694694Z",
     "start_time": "2021-07-20T09:13:55.663451Z"
    }
   },
   "outputs": [],
   "source": [
    "layer = keras.layers.Dense(100, activation=\"elu\",\n",
    "                           kernel_initializer=\"he_normal\",\n",
    "                           kernel_regularizer=keras.regularizers.l2(0.01))\n",
    "# or l1(0.1) for ℓ1 regularization with a factor or 0.1\n",
    "# or l1_l2(0.1, 0.01) for both ℓ1 and ℓ2 regularization, with factors 0.1 and 0.01 respectively"
   ]
  },
  {
   "cell_type": "code",
   "execution_count": 10,
   "metadata": {
    "ExecuteTime": {
     "end_time": "2021-07-20T09:14:15.712208Z",
     "start_time": "2021-07-20T09:13:55.943455Z"
    }
   },
   "outputs": [
    {
     "name": "stdout",
     "output_type": "stream",
     "text": [
      "Epoch 1/2\n",
      "1719/1719 [==============================] - 9s 5ms/step - loss: 1.5801 - accuracy: 0.8129 - val_loss: 0.7068 - val_accuracy: 0.8358\n",
      "Epoch 2/2\n",
      "1719/1719 [==============================] - 9s 5ms/step - loss: 0.7166 - accuracy: 0.8260 - val_loss: 0.6755 - val_accuracy: 0.8442\n"
     ]
    }
   ],
   "source": [
    "model = keras.models.Sequential([\n",
    "    keras.layers.Flatten(input_shape=[28, 28]),\n",
    "    keras.layers.Dense(300, activation=\"elu\",\n",
    "                       kernel_initializer=\"he_normal\",\n",
    "                       kernel_regularizer=keras.regularizers.l2(0.01)),\n",
    "    keras.layers.Dense(100, activation=\"elu\",\n",
    "                       kernel_initializer=\"he_normal\",\n",
    "                       kernel_regularizer=keras.regularizers.l2(0.01)),\n",
    "    keras.layers.Dense(10, activation=\"softmax\",\n",
    "                       kernel_regularizer=keras.regularizers.l2(0.01))\n",
    "])\n",
    "model.compile(loss=\"sparse_categorical_crossentropy\", optimizer=\"nadam\", metrics=[\"accuracy\"])\n",
    "n_epochs = 2\n",
    "history = model.fit(X_train_scaled, y_train, epochs=n_epochs,\n",
    "                    validation_data=(X_valid_scaled, y_valid))"
   ]
  },
  {
   "cell_type": "code",
   "execution_count": 11,
   "metadata": {
    "ExecuteTime": {
     "end_time": "2021-07-20T09:16:28.752582Z",
     "start_time": "2021-07-20T09:16:10.475449Z"
    }
   },
   "outputs": [
    {
     "name": "stdout",
     "output_type": "stream",
     "text": [
      "Epoch 1/2\n",
      "1719/1719 [==============================] - 9s 5ms/step - loss: 1.6439 - accuracy: 0.8107 - val_loss: 0.7569 - val_accuracy: 0.8084\n",
      "Epoch 2/2\n",
      "1719/1719 [==============================] - 9s 5ms/step - loss: 0.7219 - accuracy: 0.8260 - val_loss: 0.6965 - val_accuracy: 0.8310\n"
     ]
    }
   ],
   "source": [
    "from functools import partial\n",
    "\n",
    "RegularizedDense = partial(keras.layers.Dense,\n",
    "                           activation=\"elu\",\n",
    "                           kernel_initializer=\"he_normal\",\n",
    "                           kernel_regularizer=keras.regularizers.l2(0.01))\n",
    "\n",
    "model = keras.models.Sequential([\n",
    "    keras.layers.Flatten(input_shape=[28, 28]),\n",
    "    RegularizedDense(300),\n",
    "    RegularizedDense(100),\n",
    "    RegularizedDense(10, activation=\"softmax\")\n",
    "])\n",
    "model.compile(loss=\"sparse_categorical_crossentropy\", optimizer=\"nadam\", metrics=[\"accuracy\"])\n",
    "n_epochs = 2\n",
    "history = model.fit(X_train_scaled, y_train, epochs=n_epochs,\n",
    "                    validation_data=(X_valid_scaled, y_valid))"
   ]
  },
  {
   "cell_type": "markdown",
   "metadata": {},
   "source": [
    "#### 드롭아웃"
   ]
  },
  {
   "cell_type": "code",
   "execution_count": 15,
   "metadata": {
    "ExecuteTime": {
     "end_time": "2021-07-20T09:21:24.747957Z",
     "start_time": "2021-07-20T09:21:04.193199Z"
    }
   },
   "outputs": [
    {
     "name": "stdout",
     "output_type": "stream",
     "text": [
      "Epoch 1/2\n",
      "1719/1719 [==============================] - 10s 6ms/step - loss: 0.5674 - accuracy: 0.8043 - val_loss: 0.3773 - val_accuracy: 0.8650\n",
      "Epoch 2/2\n",
      "1719/1719 [==============================] - 10s 6ms/step - loss: 0.4223 - accuracy: 0.8451 - val_loss: 0.3416 - val_accuracy: 0.8722\n"
     ]
    }
   ],
   "source": [
    "model = keras.models.Sequential([\n",
    "    keras.layers.Flatten(input_shape=[28, 28]),\n",
    "    keras.layers.Dropout(rate=0.2),\n",
    "    keras.layers.Dense(300, activation=\"elu\", kernel_initializer=\"he_normal\"),\n",
    "    keras.layers.Dropout(rate=0.2),\n",
    "    keras.layers.Dense(100, activation=\"elu\", kernel_initializer=\"he_normal\"),\n",
    "    keras.layers.Dropout(rate=0.2),\n",
    "    keras.layers.Dense(10, activation=\"softmax\")\n",
    "])\n",
    "model.compile(loss=\"sparse_categorical_crossentropy\", optimizer=\"nadam\", metrics=[\"accuracy\"])\n",
    "n_epochs = 2\n",
    "history = model.fit(X_train_scaled, y_train, epochs=n_epochs,\n",
    "                    validation_data=(X_valid_scaled, y_valid))"
   ]
  },
  {
   "cell_type": "markdown",
   "metadata": {},
   "source": [
    "#### 알파 드롭아웃"
   ]
  },
  {
   "cell_type": "code",
   "execution_count": 16,
   "metadata": {
    "ExecuteTime": {
     "end_time": "2021-07-20T09:24:09.763776Z",
     "start_time": "2021-07-20T09:22:22.990853Z"
    },
    "scrolled": true
   },
   "outputs": [
    {
     "name": "stderr",
     "output_type": "stream",
     "text": [
      "C:\\Users\\ysw29\\anaconda3\\lib\\site-packages\\tensorflow\\python\\keras\\optimizer_v2\\optimizer_v2.py:374: UserWarning: The `lr` argument is deprecated, use `learning_rate` instead.\n",
      "  warnings.warn(\n"
     ]
    },
    {
     "name": "stdout",
     "output_type": "stream",
     "text": [
      "Epoch 1/20\n",
      "1719/1719 [==============================] - 5s 3ms/step - loss: 0.6641 - accuracy: 0.7594 - val_loss: 0.5780 - val_accuracy: 0.8444\n",
      "Epoch 2/20\n",
      "1719/1719 [==============================] - 4s 3ms/step - loss: 0.5566 - accuracy: 0.7948 - val_loss: 0.5187 - val_accuracy: 0.8522\n",
      "Epoch 3/20\n",
      "1719/1719 [==============================] - 5s 3ms/step - loss: 0.5203 - accuracy: 0.8083 - val_loss: 0.4874 - val_accuracy: 0.8596\n",
      "Epoch 4/20\n",
      "1719/1719 [==============================] - 5s 3ms/step - loss: 0.5081 - accuracy: 0.8120 - val_loss: 0.4799 - val_accuracy: 0.8586\n",
      "Epoch 5/20\n",
      "1719/1719 [==============================] - 5s 3ms/step - loss: 0.4950 - accuracy: 0.8183 - val_loss: 0.4228 - val_accuracy: 0.8682\n",
      "Epoch 6/20\n",
      "1719/1719 [==============================] - 5s 3ms/step - loss: 0.4830 - accuracy: 0.8196 - val_loss: 0.4593 - val_accuracy: 0.8632\n",
      "Epoch 7/20\n",
      "1719/1719 [==============================] - 5s 3ms/step - loss: 0.4722 - accuracy: 0.8235 - val_loss: 0.4661 - val_accuracy: 0.8628\n",
      "Epoch 8/20\n",
      "1719/1719 [==============================] - 5s 3ms/step - loss: 0.4613 - accuracy: 0.8275 - val_loss: 0.4193 - val_accuracy: 0.8712\n",
      "Epoch 9/20\n",
      "1719/1719 [==============================] - 6s 3ms/step - loss: 0.4619 - accuracy: 0.8287 - val_loss: 0.4244 - val_accuracy: 0.8744\n",
      "Epoch 10/20\n",
      "1719/1719 [==============================] - 6s 3ms/step - loss: 0.4561 - accuracy: 0.8317 - val_loss: 0.4369 - val_accuracy: 0.8656\n",
      "Epoch 11/20\n",
      "1719/1719 [==============================] - 6s 3ms/step - loss: 0.4500 - accuracy: 0.8333 - val_loss: 0.4269 - val_accuracy: 0.8732\n",
      "Epoch 12/20\n",
      "1719/1719 [==============================] - 6s 3ms/step - loss: 0.4450 - accuracy: 0.8350 - val_loss: 0.4978 - val_accuracy: 0.8580\n",
      "Epoch 13/20\n",
      "1719/1719 [==============================] - 6s 3ms/step - loss: 0.4390 - accuracy: 0.8377 - val_loss: 0.4246 - val_accuracy: 0.8776\n",
      "Epoch 14/20\n",
      "1719/1719 [==============================] - 6s 3ms/step - loss: 0.4366 - accuracy: 0.8389 - val_loss: 0.4464 - val_accuracy: 0.8640\n",
      "Epoch 15/20\n",
      "1719/1719 [==============================] - 5s 3ms/step - loss: 0.4325 - accuracy: 0.8385 - val_loss: 0.4332 - val_accuracy: 0.8674\n",
      "Epoch 16/20\n",
      "1719/1719 [==============================] - 6s 3ms/step - loss: 0.4318 - accuracy: 0.8398 - val_loss: 0.4159 - val_accuracy: 0.8786\n",
      "Epoch 17/20\n",
      "1719/1719 [==============================] - 5s 3ms/step - loss: 0.4271 - accuracy: 0.8408 - val_loss: 0.5358 - val_accuracy: 0.8582\n",
      "Epoch 18/20\n",
      "1719/1719 [==============================] - 5s 3ms/step - loss: 0.4264 - accuracy: 0.8420 - val_loss: 0.4734 - val_accuracy: 0.8706\n",
      "Epoch 19/20\n",
      "1719/1719 [==============================] - 6s 4ms/step - loss: 0.4255 - accuracy: 0.8413 - val_loss: 0.4777 - val_accuracy: 0.8730\n",
      "Epoch 20/20\n",
      "1719/1719 [==============================] - 5s 3ms/step - loss: 0.4186 - accuracy: 0.8441 - val_loss: 0.4410 - val_accuracy: 0.8756\n"
     ]
    }
   ],
   "source": [
    "tf.random.set_seed(42)\n",
    "np.random.seed(42)\n",
    "\n",
    "model = keras.models.Sequential([\n",
    "    keras.layers.Flatten(input_shape=[28, 28]),\n",
    "    keras.layers.AlphaDropout(rate=0.2),\n",
    "    keras.layers.Dense(300, activation=\"selu\", kernel_initializer=\"lecun_normal\"),\n",
    "    keras.layers.AlphaDropout(rate=0.2),\n",
    "    keras.layers.Dense(100, activation=\"selu\", kernel_initializer=\"lecun_normal\"),\n",
    "    keras.layers.AlphaDropout(rate=0.2),\n",
    "    keras.layers.Dense(10, activation=\"softmax\")\n",
    "])\n",
    "optimizer = keras.optimizers.SGD(lr=0.01, momentum=0.9, nesterov=True)\n",
    "model.compile(loss=\"sparse_categorical_crossentropy\", optimizer=optimizer, metrics=[\"accuracy\"])\n",
    "n_epochs = 20\n",
    "history = model.fit(X_train_scaled, y_train, epochs=n_epochs,\n",
    "                    validation_data=(X_valid_scaled, y_valid))"
   ]
  },
  {
   "cell_type": "code",
   "execution_count": 17,
   "metadata": {
    "ExecuteTime": {
     "end_time": "2021-07-20T09:24:10.229614Z",
     "start_time": "2021-07-20T09:24:09.765789Z"
    }
   },
   "outputs": [
    {
     "name": "stdout",
     "output_type": "stream",
     "text": [
      "313/313 [==============================] - 0s 1ms/step - loss: 0.4781 - accuracy: 0.8592\n"
     ]
    },
    {
     "data": {
      "text/plain": [
       "[0.4781263768672943, 0.8592000007629395]"
      ]
     },
     "execution_count": 17,
     "metadata": {},
     "output_type": "execute_result"
    }
   ],
   "source": [
    "model.evaluate(X_test_scaled, y_test)"
   ]
  },
  {
   "cell_type": "code",
   "execution_count": 19,
   "metadata": {
    "ExecuteTime": {
     "end_time": "2021-07-20T09:24:45.788610Z",
     "start_time": "2021-07-20T09:24:43.989439Z"
    }
   },
   "outputs": [
    {
     "name": "stdout",
     "output_type": "stream",
     "text": [
      "1719/1719 [==============================] - 2s 967us/step - loss: 0.3549 - accuracy: 0.8822\n"
     ]
    },
    {
     "data": {
      "text/plain": [
       "[0.3548963665962219, 0.8821636438369751]"
      ]
     },
     "execution_count": 19,
     "metadata": {},
     "output_type": "execute_result"
    }
   ],
   "source": [
    "model.evaluate(X_train_scaled, y_train)"
   ]
  },
  {
   "cell_type": "markdown",
   "metadata": {},
   "source": [
    "#### MC 드롭아웃"
   ]
  },
  {
   "cell_type": "code",
   "execution_count": 20,
   "metadata": {
    "ExecuteTime": {
     "end_time": "2021-07-20T09:25:53.488763Z",
     "start_time": "2021-07-20T09:25:19.972734Z"
    }
   },
   "outputs": [],
   "source": [
    "tf.random.set_seed(42)\n",
    "np.random.seed(42)\n",
    "\n",
    "y_probas = np.stack([model(X_test_scaled, training=True)\n",
    "                     for sample in range(100)])\n",
    "y_proba = y_probas.mean(axis=0)\n",
    "y_std = y_probas.std(axis=0)"
   ]
  },
  {
   "cell_type": "code",
   "execution_count": 21,
   "metadata": {
    "ExecuteTime": {
     "end_time": "2021-07-20T09:26:44.574814Z",
     "start_time": "2021-07-20T09:26:44.442808Z"
    }
   },
   "outputs": [
    {
     "data": {
      "text/plain": [
       "array([[0., 0., 0., 0., 0., 0., 0., 0., 0., 1.]], dtype=float32)"
      ]
     },
     "execution_count": 21,
     "metadata": {},
     "output_type": "execute_result"
    }
   ],
   "source": [
    "np.round(model.predict(X_test_scaled[:1]), 2)"
   ]
  },
  {
   "cell_type": "code",
   "execution_count": 27,
   "metadata": {
    "ExecuteTime": {
     "end_time": "2021-07-20T09:28:20.159989Z",
     "start_time": "2021-07-20T09:28:20.129970Z"
    }
   },
   "outputs": [
    {
     "data": {
      "text/plain": [
       "array([[[0.  , 0.  , 0.  , 0.  , 0.  , 0.  , 0.  , 0.66, 0.  , 0.33]],\n",
       "\n",
       "       [[0.  , 0.  , 0.  , 0.  , 0.  , 0.  , 0.  , 0.68, 0.  , 0.32]],\n",
       "\n",
       "       [[0.  , 0.  , 0.  , 0.  , 0.  , 0.02, 0.  , 0.  , 0.  , 0.98]],\n",
       "\n",
       "       [[0.  , 0.  , 0.  , 0.  , 0.  , 0.02, 0.  , 0.67, 0.  , 0.31]],\n",
       "\n",
       "       [[0.  , 0.  , 0.  , 0.  , 0.  , 0.  , 0.  , 0.44, 0.  , 0.56]],\n",
       "\n",
       "       [[0.  , 0.  , 0.  , 0.  , 0.  , 0.01, 0.  , 0.54, 0.  , 0.45]],\n",
       "\n",
       "       [[0.  , 0.  , 0.  , 0.  , 0.  , 0.16, 0.  , 0.4 , 0.  , 0.44]],\n",
       "\n",
       "       [[0.  , 0.  , 0.  , 0.  , 0.  , 0.06, 0.  , 0.1 , 0.  , 0.83]],\n",
       "\n",
       "       [[0.  , 0.  , 0.  , 0.  , 0.  , 0.06, 0.  , 0.06, 0.  , 0.88]],\n",
       "\n",
       "       [[0.  , 0.  , 0.  , 0.  , 0.  , 0.02, 0.  , 0.03, 0.  , 0.96]],\n",
       "\n",
       "       [[0.  , 0.  , 0.  , 0.  , 0.  , 0.  , 0.  , 0.09, 0.  , 0.91]],\n",
       "\n",
       "       [[0.  , 0.  , 0.  , 0.  , 0.  , 0.22, 0.  , 0.32, 0.  , 0.45]],\n",
       "\n",
       "       [[0.  , 0.  , 0.  , 0.  , 0.  , 0.04, 0.  , 0.27, 0.  , 0.69]],\n",
       "\n",
       "       [[0.  , 0.  , 0.  , 0.  , 0.  , 0.19, 0.  , 0.34, 0.  , 0.47]],\n",
       "\n",
       "       [[0.  , 0.  , 0.  , 0.  , 0.  , 0.02, 0.  , 0.31, 0.  , 0.67]],\n",
       "\n",
       "       [[0.  , 0.  , 0.  , 0.  , 0.  , 0.02, 0.  , 0.03, 0.  , 0.95]],\n",
       "\n",
       "       [[0.  , 0.  , 0.  , 0.  , 0.  , 0.01, 0.  , 0.  , 0.  , 0.99]],\n",
       "\n",
       "       [[0.  , 0.  , 0.  , 0.  , 0.  , 0.01, 0.  , 0.63, 0.  , 0.36]],\n",
       "\n",
       "       [[0.  , 0.  , 0.  , 0.  , 0.  , 0.  , 0.  , 0.83, 0.  , 0.17]],\n",
       "\n",
       "       [[0.  , 0.  , 0.  , 0.  , 0.  , 0.21, 0.  , 0.14, 0.  , 0.65]],\n",
       "\n",
       "       [[0.02, 0.  , 0.  , 0.  , 0.01, 0.39, 0.17, 0.03, 0.  , 0.39]],\n",
       "\n",
       "       [[0.  , 0.  , 0.  , 0.  , 0.  , 0.02, 0.  , 0.05, 0.  , 0.93]],\n",
       "\n",
       "       [[0.  , 0.  , 0.  , 0.  , 0.  , 0.  , 0.  , 0.  , 0.  , 1.  ]],\n",
       "\n",
       "       [[0.  , 0.  , 0.  , 0.  , 0.  , 0.  , 0.  , 0.07, 0.  , 0.93]],\n",
       "\n",
       "       [[0.  , 0.  , 0.  , 0.  , 0.  , 0.05, 0.  , 0.18, 0.  , 0.78]],\n",
       "\n",
       "       [[0.  , 0.  , 0.  , 0.  , 0.  , 0.03, 0.  , 0.55, 0.  , 0.42]],\n",
       "\n",
       "       [[0.  , 0.  , 0.  , 0.  , 0.  , 0.04, 0.  , 0.24, 0.  , 0.72]],\n",
       "\n",
       "       [[0.  , 0.  , 0.  , 0.  , 0.  , 0.03, 0.  , 0.12, 0.  , 0.86]],\n",
       "\n",
       "       [[0.  , 0.  , 0.  , 0.  , 0.  , 0.14, 0.  , 0.1 , 0.  , 0.76]],\n",
       "\n",
       "       [[0.  , 0.  , 0.  , 0.  , 0.  , 0.27, 0.  , 0.52, 0.  , 0.21]],\n",
       "\n",
       "       [[0.  , 0.  , 0.  , 0.  , 0.  , 0.  , 0.  , 0.02, 0.  , 0.98]],\n",
       "\n",
       "       [[0.  , 0.  , 0.  , 0.  , 0.  , 0.  , 0.  , 0.  , 0.  , 1.  ]],\n",
       "\n",
       "       [[0.  , 0.  , 0.  , 0.  , 0.  , 0.67, 0.  , 0.  , 0.  , 0.33]],\n",
       "\n",
       "       [[0.  , 0.  , 0.  , 0.  , 0.  , 0.47, 0.  , 0.42, 0.  , 0.11]],\n",
       "\n",
       "       [[0.  , 0.  , 0.  , 0.  , 0.  , 0.03, 0.  , 0.2 , 0.  , 0.77]],\n",
       "\n",
       "       [[0.  , 0.  , 0.  , 0.  , 0.  , 0.01, 0.  , 0.8 , 0.  , 0.19]],\n",
       "\n",
       "       [[0.  , 0.  , 0.  , 0.  , 0.  , 0.  , 0.  , 0.01, 0.  , 0.99]],\n",
       "\n",
       "       [[0.  , 0.  , 0.  , 0.  , 0.  , 0.01, 0.  , 0.18, 0.  , 0.81]],\n",
       "\n",
       "       [[0.  , 0.  , 0.  , 0.  , 0.  , 0.  , 0.  , 0.21, 0.  , 0.79]],\n",
       "\n",
       "       [[0.  , 0.  , 0.  , 0.  , 0.  , 0.39, 0.  , 0.01, 0.  , 0.6 ]],\n",
       "\n",
       "       [[0.  , 0.  , 0.  , 0.  , 0.  , 0.02, 0.  , 0.19, 0.  , 0.79]],\n",
       "\n",
       "       [[0.  , 0.  , 0.  , 0.  , 0.  , 0.  , 0.  , 0.05, 0.  , 0.95]],\n",
       "\n",
       "       [[0.  , 0.  , 0.  , 0.  , 0.  , 0.37, 0.  , 0.44, 0.  , 0.19]],\n",
       "\n",
       "       [[0.  , 0.  , 0.  , 0.  , 0.  , 0.  , 0.  , 0.05, 0.  , 0.94]],\n",
       "\n",
       "       [[0.  , 0.  , 0.  , 0.  , 0.  , 0.  , 0.  , 0.12, 0.  , 0.87]],\n",
       "\n",
       "       [[0.  , 0.  , 0.  , 0.  , 0.  , 0.  , 0.  , 0.04, 0.  , 0.96]],\n",
       "\n",
       "       [[0.  , 0.  , 0.  , 0.  , 0.  , 0.06, 0.  , 0.07, 0.  , 0.88]],\n",
       "\n",
       "       [[0.  , 0.  , 0.  , 0.  , 0.  , 0.  , 0.  , 0.07, 0.  , 0.93]],\n",
       "\n",
       "       [[0.  , 0.  , 0.  , 0.  , 0.  , 0.  , 0.  , 0.44, 0.  , 0.56]],\n",
       "\n",
       "       [[0.  , 0.  , 0.  , 0.  , 0.  , 0.01, 0.  , 0.08, 0.  , 0.91]],\n",
       "\n",
       "       [[0.  , 0.  , 0.  , 0.  , 0.  , 0.18, 0.  , 0.13, 0.  , 0.68]],\n",
       "\n",
       "       [[0.  , 0.  , 0.  , 0.  , 0.  , 0.04, 0.  , 0.56, 0.  , 0.4 ]],\n",
       "\n",
       "       [[0.  , 0.  , 0.  , 0.  , 0.  , 0.  , 0.  , 0.01, 0.  , 0.99]],\n",
       "\n",
       "       [[0.  , 0.  , 0.  , 0.  , 0.  , 0.1 , 0.  , 0.02, 0.  , 0.88]],\n",
       "\n",
       "       [[0.  , 0.  , 0.  , 0.  , 0.  , 0.02, 0.  , 0.  , 0.  , 0.98]],\n",
       "\n",
       "       [[0.  , 0.  , 0.  , 0.  , 0.  , 0.  , 0.  , 0.05, 0.  , 0.95]],\n",
       "\n",
       "       [[0.  , 0.  , 0.  , 0.  , 0.  , 0.  , 0.  , 0.25, 0.  , 0.74]],\n",
       "\n",
       "       [[0.  , 0.  , 0.  , 0.  , 0.  , 0.16, 0.  , 0.39, 0.  , 0.45]],\n",
       "\n",
       "       [[0.  , 0.  , 0.  , 0.  , 0.  , 0.01, 0.  , 0.28, 0.  , 0.71]],\n",
       "\n",
       "       [[0.  , 0.  , 0.  , 0.  , 0.  , 0.25, 0.  , 0.23, 0.  , 0.51]],\n",
       "\n",
       "       [[0.  , 0.  , 0.  , 0.  , 0.  , 0.1 , 0.  , 0.06, 0.  , 0.85]],\n",
       "\n",
       "       [[0.  , 0.  , 0.  , 0.  , 0.  , 0.  , 0.  , 0.07, 0.  , 0.92]],\n",
       "\n",
       "       [[0.  , 0.  , 0.  , 0.  , 0.  , 0.  , 0.  , 0.02, 0.  , 0.97]],\n",
       "\n",
       "       [[0.  , 0.  , 0.  , 0.  , 0.  , 0.  , 0.  , 0.09, 0.  , 0.91]],\n",
       "\n",
       "       [[0.  , 0.  , 0.  , 0.  , 0.  , 0.17, 0.  , 0.41, 0.  , 0.42]],\n",
       "\n",
       "       [[0.  , 0.  , 0.  , 0.  , 0.  , 0.27, 0.  , 0.4 , 0.  , 0.33]],\n",
       "\n",
       "       [[0.  , 0.  , 0.  , 0.  , 0.  , 0.42, 0.  , 0.4 , 0.  , 0.18]],\n",
       "\n",
       "       [[0.  , 0.  , 0.  , 0.  , 0.  , 0.  , 0.  , 0.03, 0.  , 0.97]],\n",
       "\n",
       "       [[0.  , 0.  , 0.  , 0.  , 0.  , 0.19, 0.  , 0.05, 0.  , 0.76]],\n",
       "\n",
       "       [[0.  , 0.  , 0.  , 0.  , 0.  , 0.04, 0.  , 0.4 , 0.  , 0.56]],\n",
       "\n",
       "       [[0.  , 0.  , 0.  , 0.  , 0.  , 0.  , 0.  , 0.  , 0.  , 1.  ]],\n",
       "\n",
       "       [[0.  , 0.  , 0.  , 0.  , 0.  , 0.  , 0.  , 0.09, 0.  , 0.91]],\n",
       "\n",
       "       [[0.  , 0.  , 0.  , 0.  , 0.  , 0.07, 0.  , 0.23, 0.  , 0.71]],\n",
       "\n",
       "       [[0.  , 0.  , 0.  , 0.  , 0.  , 0.01, 0.  , 0.18, 0.  , 0.82]],\n",
       "\n",
       "       [[0.  , 0.  , 0.  , 0.  , 0.  , 0.07, 0.  , 0.08, 0.  , 0.85]],\n",
       "\n",
       "       [[0.  , 0.  , 0.  , 0.  , 0.  , 0.05, 0.  , 0.03, 0.  , 0.92]],\n",
       "\n",
       "       [[0.  , 0.  , 0.  , 0.  , 0.  , 0.  , 0.  , 0.05, 0.  , 0.94]],\n",
       "\n",
       "       [[0.  , 0.  , 0.  , 0.  , 0.  , 0.01, 0.  , 0.58, 0.  , 0.41]],\n",
       "\n",
       "       [[0.  , 0.  , 0.  , 0.  , 0.  , 0.01, 0.  , 0.3 , 0.  , 0.69]],\n",
       "\n",
       "       [[0.  , 0.  , 0.  , 0.  , 0.  , 0.04, 0.  , 0.03, 0.  , 0.93]],\n",
       "\n",
       "       [[0.  , 0.  , 0.  , 0.  , 0.  , 0.  , 0.  , 0.12, 0.  , 0.87]],\n",
       "\n",
       "       [[0.  , 0.  , 0.  , 0.  , 0.  , 0.01, 0.  , 0.01, 0.  , 0.99]],\n",
       "\n",
       "       [[0.  , 0.  , 0.  , 0.  , 0.  , 0.  , 0.  , 0.  , 0.  , 1.  ]],\n",
       "\n",
       "       [[0.  , 0.  , 0.  , 0.  , 0.  , 0.  , 0.  , 0.07, 0.  , 0.93]],\n",
       "\n",
       "       [[0.  , 0.  , 0.  , 0.  , 0.  , 0.01, 0.  , 0.2 , 0.  , 0.79]],\n",
       "\n",
       "       [[0.  , 0.  , 0.  , 0.  , 0.  , 0.04, 0.  , 0.48, 0.  , 0.48]],\n",
       "\n",
       "       [[0.  , 0.  , 0.  , 0.  , 0.  , 0.87, 0.  , 0.05, 0.  , 0.08]],\n",
       "\n",
       "       [[0.  , 0.  , 0.  , 0.  , 0.  , 0.05, 0.  , 0.01, 0.  , 0.94]],\n",
       "\n",
       "       [[0.  , 0.  , 0.  , 0.  , 0.  , 0.  , 0.  , 0.05, 0.  , 0.95]],\n",
       "\n",
       "       [[0.  , 0.  , 0.  , 0.  , 0.  , 0.  , 0.  , 0.01, 0.  , 0.99]],\n",
       "\n",
       "       [[0.  , 0.  , 0.  , 0.  , 0.  , 0.05, 0.  , 0.06, 0.  , 0.89]],\n",
       "\n",
       "       [[0.  , 0.  , 0.  , 0.  , 0.  , 0.06, 0.  , 0.12, 0.  , 0.82]],\n",
       "\n",
       "       [[0.  , 0.  , 0.  , 0.  , 0.  , 0.19, 0.  , 0.5 , 0.  , 0.31]],\n",
       "\n",
       "       [[0.  , 0.  , 0.  , 0.  , 0.  , 0.13, 0.  , 0.26, 0.  , 0.61]],\n",
       "\n",
       "       [[0.  , 0.  , 0.  , 0.  , 0.  , 0.01, 0.  , 0.15, 0.  , 0.83]],\n",
       "\n",
       "       [[0.  , 0.  , 0.  , 0.  , 0.  , 0.01, 0.  , 0.01, 0.  , 0.98]],\n",
       "\n",
       "       [[0.  , 0.  , 0.  , 0.  , 0.  , 0.  , 0.  , 0.38, 0.  , 0.61]],\n",
       "\n",
       "       [[0.  , 0.  , 0.  , 0.  , 0.  , 0.01, 0.  , 0.05, 0.  , 0.95]],\n",
       "\n",
       "       [[0.  , 0.  , 0.  , 0.  , 0.  , 0.1 , 0.  , 0.07, 0.  , 0.83]],\n",
       "\n",
       "       [[0.  , 0.  , 0.  , 0.  , 0.  , 0.04, 0.  , 0.11, 0.  , 0.85]]],\n",
       "      dtype=float32)"
      ]
     },
     "execution_count": 27,
     "metadata": {},
     "output_type": "execute_result"
    }
   ],
   "source": [
    "np.round(y_probas[:, :1], 2)"
   ]
  },
  {
   "cell_type": "code",
   "execution_count": 28,
   "metadata": {
    "ExecuteTime": {
     "end_time": "2021-07-20T09:28:31.263437Z",
     "start_time": "2021-07-20T09:28:31.251245Z"
    }
   },
   "outputs": [
    {
     "data": {
      "text/plain": [
       "array([[0.  , 0.  , 0.  , 0.  , 0.  , 0.08, 0.  , 0.2 , 0.  , 0.72]],\n",
       "      dtype=float32)"
      ]
     },
     "execution_count": 28,
     "metadata": {},
     "output_type": "execute_result"
    }
   ],
   "source": [
    "np.round(y_proba[:1], 2)"
   ]
  },
  {
   "cell_type": "code",
   "execution_count": 29,
   "metadata": {
    "ExecuteTime": {
     "end_time": "2021-07-20T09:28:37.788218Z",
     "start_time": "2021-07-20T09:28:37.740218Z"
    }
   },
   "outputs": [
    {
     "data": {
      "text/plain": [
       "array([[0.  , 0.  , 0.  , 0.  , 0.  , 0.14, 0.02, 0.21, 0.  , 0.26]],\n",
       "      dtype=float32)"
      ]
     },
     "execution_count": 29,
     "metadata": {},
     "output_type": "execute_result"
    }
   ],
   "source": [
    "y_std = y_probas.std(axis=0)\n",
    "np.round(y_std[:1], 2)"
   ]
  },
  {
   "cell_type": "code",
   "execution_count": 30,
   "metadata": {
    "ExecuteTime": {
     "end_time": "2021-07-20T09:29:27.067607Z",
     "start_time": "2021-07-20T09:29:27.044535Z"
    }
   },
   "outputs": [],
   "source": [
    "y_pred = np.argmax(y_proba, axis=1)"
   ]
  },
  {
   "cell_type": "code",
   "execution_count": 31,
   "metadata": {
    "ExecuteTime": {
     "end_time": "2021-07-20T09:29:46.715626Z",
     "start_time": "2021-07-20T09:29:46.686603Z"
    }
   },
   "outputs": [
    {
     "data": {
      "text/plain": [
       "0.8651"
      ]
     },
     "execution_count": 31,
     "metadata": {},
     "output_type": "execute_result"
    }
   ],
   "source": [
    "accuracy = np.sum(y_pred == y_test) / len(y_test)\n",
    "accuracy"
   ]
  },
  {
   "cell_type": "code",
   "execution_count": 32,
   "metadata": {
    "ExecuteTime": {
     "end_time": "2021-07-20T09:35:36.336166Z",
     "start_time": "2021-07-20T09:35:36.313149Z"
    }
   },
   "outputs": [],
   "source": [
    "class MCDropout(keras.layers.Dropout):\n",
    "    def call(self, inputs):\n",
    "        return super().call(inputs, training=True)\n",
    "\n",
    "class MCAlphaDropout(keras.layers.AlphaDropout):\n",
    "    def call(self, inputs):\n",
    "        return super().call(inputs, training=True)"
   ]
  },
  {
   "cell_type": "code",
   "execution_count": 36,
   "metadata": {
    "ExecuteTime": {
     "end_time": "2021-07-20T09:47:32.565715Z",
     "start_time": "2021-07-20T09:47:32.483486Z"
    }
   },
   "outputs": [
    {
     "name": "stdout",
     "output_type": "stream",
     "text": [
      "Model: \"sequential_10\"\n",
      "_________________________________________________________________\n",
      "Layer (type)                 Output Shape              Param #   \n",
      "=================================================================\n",
      "flatten_8 (Flatten)          (None, 784)               0         \n",
      "_________________________________________________________________\n",
      "mc_alpha_dropout_3 (MCAlphaD (None, 784)               0         \n",
      "_________________________________________________________________\n",
      "dense_26 (Dense)             (None, 300)               235500    \n",
      "_________________________________________________________________\n",
      "mc_alpha_dropout_4 (MCAlphaD (None, 300)               0         \n",
      "_________________________________________________________________\n",
      "dense_27 (Dense)             (None, 100)               30100     \n",
      "_________________________________________________________________\n",
      "mc_alpha_dropout_5 (MCAlphaD (None, 100)               0         \n",
      "_________________________________________________________________\n",
      "dense_28 (Dense)             (None, 10)                1010      \n",
      "=================================================================\n",
      "Total params: 266,610\n",
      "Trainable params: 266,610\n",
      "Non-trainable params: 0\n",
      "_________________________________________________________________\n"
     ]
    }
   ],
   "source": [
    "tf.random.set_seed(42)\n",
    "np.random.seed(42)\n",
    "\n",
    "mc_model = keras.models.Sequential([\n",
    "    MCAlphaDropout(layer.rate) if isinstance(layer, keras.layers.AlphaDropout) else layer\n",
    "    for layer in model.layers\n",
    "])\n",
    "\n",
    "mc_model.summary()\n",
    "\n",
    "optimizer = keras.optimizers.SGD(lr=0.01, momentum=0.9, nesterov=True)\n",
    "mc_model.compile(loss=\"sparse_categorical_crossentropy\", optimizer=optimizer, metrics=[\"accuracy\"])"
   ]
  },
  {
   "cell_type": "code",
   "execution_count": 34,
   "metadata": {
    "ExecuteTime": {
     "end_time": "2021-07-20T09:47:06.007890Z",
     "start_time": "2021-07-20T09:47:05.994887Z"
    }
   },
   "outputs": [],
   "source": [
    "mc_model.set_weights(model.get_weights())"
   ]
  },
  {
   "cell_type": "code",
   "execution_count": 35,
   "metadata": {
    "ExecuteTime": {
     "end_time": "2021-07-20T09:47:12.683619Z",
     "start_time": "2021-07-20T09:47:09.172674Z"
    }
   },
   "outputs": [
    {
     "data": {
      "text/plain": [
       "array([[0.  , 0.  , 0.  , 0.  , 0.  , 0.1 , 0.  , 0.21, 0.  , 0.69]],\n",
       "      dtype=float32)"
      ]
     },
     "execution_count": 35,
     "metadata": {},
     "output_type": "execute_result"
    }
   ],
   "source": [
    "np.round(np.mean([mc_model.predict(X_test_scaled[:1]) for sample in range(100)], axis=0), 2)"
   ]
  },
  {
   "cell_type": "markdown",
   "metadata": {},
   "source": [
    "### 맥스 노름 규제"
   ]
  },
  {
   "cell_type": "code",
   "execution_count": null,
   "metadata": {},
   "outputs": [],
   "source": [
    "layer = keras.layers.Dense(100, activation=\"selu\", kernel_initializer=\"lecun_normal\",\n",
    "                           kernel_constraint=keras.constraints.max_norm(1.))"
   ]
  }
 ],
 "metadata": {
  "kernelspec": {
   "display_name": "Python 3",
   "language": "python",
   "name": "python3"
  },
  "language_info": {
   "codemirror_mode": {
    "name": "ipython",
    "version": 3
   },
   "file_extension": ".py",
   "mimetype": "text/x-python",
   "name": "python",
   "nbconvert_exporter": "python",
   "pygments_lexer": "ipython3",
   "version": "3.8.5"
  },
  "toc": {
   "base_numbering": 1,
   "nav_menu": {},
   "number_sections": true,
   "sideBar": true,
   "skip_h1_title": false,
   "title_cell": "Table of Contents",
   "title_sidebar": "Contents",
   "toc_cell": false,
   "toc_position": {},
   "toc_section_display": true,
   "toc_window_display": true
  }
 },
 "nbformat": 4,
 "nbformat_minor": 4
}
